{
 "cells": [
  {
   "cell_type": "code",
   "execution_count": 1,
   "metadata": {},
   "outputs": [
    {
     "name": "stderr",
     "output_type": "stream",
     "text": [
      "/usr/local/lib/python3.7/site-packages/tqdm/auto.py:22: TqdmWarning: IProgress not found. Please update jupyter and ipywidgets. See https://ipywidgets.readthedocs.io/en/stable/user_install.html\n",
      "  from .autonotebook import tqdm as notebook_tqdm\n"
     ]
    }
   ],
   "source": [
    "%reload_ext autoreload\n",
    "%autoreload 2\n",
    "os.chdir(\"..\")\n",
    "import toml\n",
    "from core.dl_framework.utils import read_config"
   ]
  },
  {
   "cell_type": "code",
   "execution_count": 2,
   "metadata": {},
   "outputs": [
    {
     "name": "stdout",
     "output_type": "stream",
     "text": [
      "/content/Template_Project\n"
     ]
    }
   ],
   "source": [
    "%%bash \n",
    "pwd"
   ]
  },
  {
   "cell_type": "code",
   "execution_count": 3,
   "metadata": {},
   "outputs": [],
   "source": [
    "config_file = toml.load(\"configs/default_train_config.toml\")\n",
    "setup_config = read_config(config_file)"
   ]
  },
  {
   "cell_type": "code",
   "execution_count": 5,
   "metadata": {},
   "outputs": [
    {
     "name": "stderr",
     "output_type": "stream",
     "text": [
      "100%|██████████| 750/750 [00:02<00:00, 306.86it/s]\n",
      "100%|██████████| 187/187 [00:00<00:00, 1174.83it/s]\n"
     ]
    },
    {
     "name": "stdout",
     "output_type": "stream",
     "text": [
      "epoch: 1/1000\t[valid_acc: 0.8961\tvalid_loss: 0.7173\ttrain_loss: 1.3432]\n",
      "new best: valid_loss 0.7172743719529341\n"
     ]
    },
    {
     "name": "stderr",
     "output_type": "stream",
     "text": [
      "100%|██████████| 750/750 [00:02<00:00, 309.22it/s]\n",
      "100%|██████████| 187/187 [00:00<00:00, 1239.45it/s]\n"
     ]
    },
    {
     "name": "stdout",
     "output_type": "stream",
     "text": [
      "epoch: 2/1000\t[valid_acc: 0.9350\tvalid_loss: 0.3938\ttrain_loss: 0.5241]\n",
      "new best: valid_loss 0.3937845144042357\n"
     ]
    },
    {
     "name": "stderr",
     "output_type": "stream",
     "text": [
      "100%|██████████| 750/750 [00:02<00:00, 297.28it/s]\n",
      "100%|██████████| 187/187 [00:00<00:00, 1175.46it/s]\n"
     ]
    },
    {
     "name": "stdout",
     "output_type": "stream",
     "text": [
      "epoch: 3/1000\t[valid_acc: 0.9506\tvalid_loss: 0.2743\ttrain_loss: 0.3286]\n",
      "new best: valid_loss 0.27425490072704256\n"
     ]
    },
    {
     "name": "stderr",
     "output_type": "stream",
     "text": [
      "100%|██████████| 750/750 [00:02<00:00, 297.14it/s]\n",
      "100%|██████████| 187/187 [00:00<00:00, 1144.06it/s]\n"
     ]
    },
    {
     "name": "stdout",
     "output_type": "stream",
     "text": [
      "epoch: 4/1000\t[valid_acc: 0.9594\tvalid_loss: 0.2114\ttrain_loss: 0.2424]\n",
      "new best: valid_loss 0.21138266991963361\n"
     ]
    },
    {
     "name": "stderr",
     "output_type": "stream",
     "text": [
      "100%|██████████| 750/750 [00:02<00:00, 307.74it/s]\n",
      "100%|██████████| 187/187 [00:00<00:00, 954.84it/s] \n"
     ]
    },
    {
     "name": "stdout",
     "output_type": "stream",
     "text": [
      "epoch: 5/1000\t[valid_acc: 0.9652\tvalid_loss: 0.1722\ttrain_loss: 0.1926]\n",
      "new best: valid_loss 0.17219875886398842\n"
     ]
    },
    {
     "name": "stderr",
     "output_type": "stream",
     "text": [
      "100%|██████████| 750/750 [00:02<00:00, 296.58it/s]\n",
      "100%|██████████| 187/187 [00:00<00:00, 1117.44it/s]\n"
     ]
    },
    {
     "name": "stdout",
     "output_type": "stream",
     "text": [
      "epoch: 6/1000\t[valid_acc: 0.9697\tvalid_loss: 0.1455\ttrain_loss: 0.1598]\n",
      "new best: valid_loss 0.14547882083663966\n"
     ]
    },
    {
     "name": "stderr",
     "output_type": "stream",
     "text": [
      "100%|██████████| 750/750 [00:02<00:00, 311.14it/s]\n",
      "100%|██████████| 187/187 [00:00<00:00, 1168.82it/s]\n"
     ]
    },
    {
     "name": "stdout",
     "output_type": "stream",
     "text": [
      "epoch: 7/1000\t[valid_acc: 0.9727\tvalid_loss: 0.1263\ttrain_loss: 0.1365]\n",
      "new best: valid_loss 0.1262924068951033\n"
     ]
    },
    {
     "name": "stderr",
     "output_type": "stream",
     "text": [
      "100%|██████████| 750/750 [00:02<00:00, 302.18it/s]\n",
      "100%|██████████| 187/187 [00:00<00:00, 1219.55it/s]\n"
     ]
    },
    {
     "name": "stdout",
     "output_type": "stream",
     "text": [
      "epoch: 8/1000\t[valid_acc: 0.9750\tvalid_loss: 0.1120\ttrain_loss: 0.1190]\n",
      "new best: valid_loss 0.11202076996831015\n"
     ]
    },
    {
     "name": "stderr",
     "output_type": "stream",
     "text": [
      "100%|██████████| 750/750 [00:02<00:00, 306.42it/s]\n",
      "100%|██████████| 187/187 [00:00<00:00, 1206.65it/s]\n"
     ]
    },
    {
     "name": "stdout",
     "output_type": "stream",
     "text": [
      "epoch: 9/1000\t[valid_acc: 0.9771\tvalid_loss: 0.1010\ttrain_loss: 0.1056]\n",
      "new best: valid_loss 0.10101483248293719\n"
     ]
    },
    {
     "name": "stderr",
     "output_type": "stream",
     "text": [
      "100%|██████████| 750/750 [00:02<00:00, 297.94it/s]\n",
      "100%|██████████| 187/187 [00:00<00:00, 1159.48it/s]\n"
     ]
    },
    {
     "name": "stdout",
     "output_type": "stream",
     "text": [
      "epoch: 10/1000\t[valid_acc: 0.9784\tvalid_loss: 0.0923\ttrain_loss: 0.0948]\n",
      "new best: valid_loss 0.09229008589477782\n"
     ]
    },
    {
     "name": "stderr",
     "output_type": "stream",
     "text": [
      "100%|██████████| 750/750 [00:02<00:00, 299.75it/s]\n",
      "100%|██████████| 187/187 [00:00<00:00, 1153.71it/s]\n"
     ]
    },
    {
     "name": "stdout",
     "output_type": "stream",
     "text": [
      "epoch: 11/1000\t[valid_acc: 0.9804\tvalid_loss: 0.0853\ttrain_loss: 0.0861]\n",
      "new best: valid_loss 0.08527095290647949\n"
     ]
    },
    {
     "name": "stderr",
     "output_type": "stream",
     "text": [
      "100%|██████████| 750/750 [00:02<00:00, 307.12it/s]\n",
      "100%|██████████| 187/187 [00:00<00:00, 1205.43it/s]\n"
     ]
    },
    {
     "name": "stdout",
     "output_type": "stream",
     "text": [
      "epoch: 12/1000\t[valid_acc: 0.9815\tvalid_loss: 0.0795\ttrain_loss: 0.0789]\n",
      "new best: valid_loss 0.07950358477764748\n"
     ]
    },
    {
     "name": "stderr",
     "output_type": "stream",
     "text": [
      "100%|██████████| 750/750 [00:02<00:00, 304.01it/s]\n",
      "100%|██████████| 187/187 [00:00<00:00, 1121.67it/s]\n"
     ]
    },
    {
     "name": "stdout",
     "output_type": "stream",
     "text": [
      "epoch: 13/1000\t[valid_acc: 0.9826\tvalid_loss: 0.0746\ttrain_loss: 0.0728]\n",
      "new best: valid_loss 0.07464826796801492\n"
     ]
    },
    {
     "name": "stderr",
     "output_type": "stream",
     "text": [
      "100%|██████████| 750/750 [00:02<00:00, 293.13it/s]\n",
      "100%|██████████| 187/187 [00:00<00:00, 1124.08it/s]\n"
     ]
    },
    {
     "name": "stdout",
     "output_type": "stream",
     "text": [
      "epoch: 14/1000\t[valid_acc: 0.9834\tvalid_loss: 0.0706\ttrain_loss: 0.0676]\n",
      "new best: valid_loss 0.07056471902657957\n"
     ]
    },
    {
     "name": "stderr",
     "output_type": "stream",
     "text": [
      "100%|██████████| 750/750 [00:02<00:00, 305.59it/s]\n",
      "100%|██████████| 187/187 [00:00<00:00, 1174.80it/s]\n"
     ]
    },
    {
     "name": "stdout",
     "output_type": "stream",
     "text": [
      "epoch: 15/1000\t[valid_acc: 0.9845\tvalid_loss: 0.0670\ttrain_loss: 0.0630]\n",
      "new best: valid_loss 0.06704296533735518\n"
     ]
    },
    {
     "name": "stderr",
     "output_type": "stream",
     "text": [
      "100%|██████████| 750/750 [00:02<00:00, 304.11it/s]\n",
      "100%|██████████| 187/187 [00:00<00:00, 1181.42it/s]\n"
     ]
    },
    {
     "name": "stdout",
     "output_type": "stream",
     "text": [
      "epoch: 16/1000\t[valid_acc: 0.9854\tvalid_loss: 0.0640\ttrain_loss: 0.0590]\n",
      "new best: valid_loss 0.06399643821841017\n"
     ]
    },
    {
     "name": "stderr",
     "output_type": "stream",
     "text": [
      "100%|██████████| 750/750 [00:02<00:00, 305.09it/s]\n",
      "100%|██████████| 187/187 [00:00<00:00, 1129.97it/s]\n"
     ]
    },
    {
     "name": "stdout",
     "output_type": "stream",
     "text": [
      "epoch: 17/1000\t[valid_acc: 0.9854\tvalid_loss: 0.0613\ttrain_loss: 0.0554]\n",
      "new best: valid_loss 0.06133588095927701\n"
     ]
    },
    {
     "name": "stderr",
     "output_type": "stream",
     "text": [
      "100%|██████████| 750/750 [00:02<00:00, 297.43it/s]\n",
      "100%|██████████| 187/187 [00:00<00:00, 1149.25it/s]\n"
     ]
    },
    {
     "name": "stdout",
     "output_type": "stream",
     "text": [
      "epoch: 18/1000\t[valid_acc: 0.9859\tvalid_loss: 0.0590\ttrain_loss: 0.0523]\n",
      "new best: valid_loss 0.058975749151073995\n"
     ]
    },
    {
     "name": "stderr",
     "output_type": "stream",
     "text": [
      "100%|██████████| 750/750 [00:02<00:00, 309.21it/s]\n",
      "100%|██████████| 187/187 [00:00<00:00, 1192.36it/s]\n"
     ]
    },
    {
     "name": "stdout",
     "output_type": "stream",
     "text": [
      "epoch: 19/1000\t[valid_acc: 0.9863\tvalid_loss: 0.0569\ttrain_loss: 0.0494]\n",
      "new best: valid_loss 0.056897969809385704\n"
     ]
    },
    {
     "name": "stderr",
     "output_type": "stream",
     "text": [
      "100%|██████████| 750/750 [00:02<00:00, 309.39it/s]\n",
      "100%|██████████| 187/187 [00:00<00:00, 1110.31it/s]\n"
     ]
    },
    {
     "name": "stdout",
     "output_type": "stream",
     "text": [
      "epoch: 20/1000\t[valid_acc: 0.9865\tvalid_loss: 0.0550\ttrain_loss: 0.0468]\n",
      "new best: valid_loss 0.05502961484097781\n"
     ]
    },
    {
     "name": "stderr",
     "output_type": "stream",
     "text": [
      "100%|██████████| 750/750 [00:02<00:00, 299.86it/s]\n",
      "100%|██████████| 187/187 [00:00<00:00, 1205.06it/s]\n"
     ]
    },
    {
     "name": "stdout",
     "output_type": "stream",
     "text": [
      "epoch: 21/1000\t[valid_acc: 0.9865\tvalid_loss: 0.0533\ttrain_loss: 0.0444]\n",
      "new best: valid_loss 0.05331008478919452\n"
     ]
    },
    {
     "name": "stderr",
     "output_type": "stream",
     "text": [
      "100%|██████████| 750/750 [00:02<00:00, 309.91it/s]\n",
      "100%|██████████| 187/187 [00:00<00:00, 1160.62it/s]\n"
     ]
    },
    {
     "name": "stdout",
     "output_type": "stream",
     "text": [
      "epoch: 22/1000\t[valid_acc: 0.9871\tvalid_loss: 0.0518\ttrain_loss: 0.0422]\n",
      "new best: valid_loss 0.05178486074963435\n"
     ]
    },
    {
     "name": "stderr",
     "output_type": "stream",
     "text": [
      "100%|██████████| 750/750 [00:02<00:00, 294.60it/s]\n",
      "100%|██████████| 187/187 [00:00<00:00, 1258.61it/s]\n"
     ]
    },
    {
     "name": "stdout",
     "output_type": "stream",
     "text": [
      "epoch: 23/1000\t[valid_acc: 0.9871\tvalid_loss: 0.0504\ttrain_loss: 0.0402]\n",
      "new best: valid_loss 0.050383236264202366\n"
     ]
    },
    {
     "name": "stderr",
     "output_type": "stream",
     "text": [
      "100%|██████████| 750/750 [00:02<00:00, 302.52it/s]\n",
      "100%|██████████| 187/187 [00:00<00:00, 1234.68it/s]\n"
     ]
    },
    {
     "name": "stdout",
     "output_type": "stream",
     "text": [
      "epoch: 24/1000\t[valid_acc: 0.9876\tvalid_loss: 0.0491\ttrain_loss: 0.0383]\n",
      "new best: valid_loss 0.049115381415256044\n"
     ]
    },
    {
     "name": "stderr",
     "output_type": "stream",
     "text": [
      "100%|██████████| 750/750 [00:02<00:00, 309.38it/s]\n",
      "100%|██████████| 187/187 [00:00<00:00, 1238.95it/s]\n"
     ]
    },
    {
     "name": "stdout",
     "output_type": "stream",
     "text": [
      "epoch: 25/1000\t[valid_acc: 0.9876\tvalid_loss: 0.0479\ttrain_loss: 0.0366]\n",
      "new best: valid_loss 0.047932944631572556\n"
     ]
    },
    {
     "name": "stderr",
     "output_type": "stream",
     "text": [
      "100%|██████████| 750/750 [00:02<00:00, 299.01it/s]\n",
      "100%|██████████| 187/187 [00:00<00:00, 1164.08it/s]\n"
     ]
    },
    {
     "name": "stdout",
     "output_type": "stream",
     "text": [
      "epoch: 26/1000\t[valid_acc: 0.9879\tvalid_loss: 0.0468\ttrain_loss: 0.0350]\n",
      "new best: valid_loss 0.04684061072592469\n"
     ]
    },
    {
     "name": "stderr",
     "output_type": "stream",
     "text": [
      "100%|██████████| 750/750 [00:02<00:00, 298.97it/s]\n",
      "100%|██████████| 187/187 [00:00<00:00, 1155.06it/s]\n"
     ]
    },
    {
     "name": "stdout",
     "output_type": "stream",
     "text": [
      "epoch: 27/1000\t[valid_acc: 0.9880\tvalid_loss: 0.0458\ttrain_loss: 0.0335]\n",
      "new best: valid_loss 0.045836119050966864\n"
     ]
    },
    {
     "name": "stderr",
     "output_type": "stream",
     "text": [
      "100%|██████████| 750/750 [00:02<00:00, 309.89it/s]\n",
      "100%|██████████| 187/187 [00:00<00:00, 1209.67it/s]\n"
     ]
    },
    {
     "name": "stdout",
     "output_type": "stream",
     "text": [
      "epoch: 28/1000\t[valid_acc: 0.9880\tvalid_loss: 0.0449\ttrain_loss: 0.0320]\n",
      "new best: valid_loss 0.04490409815001655\n"
     ]
    },
    {
     "name": "stderr",
     "output_type": "stream",
     "text": [
      "100%|██████████| 750/750 [00:02<00:00, 310.40it/s]\n",
      "100%|██████████| 187/187 [00:00<00:00, 948.07it/s] \n"
     ]
    },
    {
     "name": "stdout",
     "output_type": "stream",
     "text": [
      "epoch: 29/1000\t[valid_acc: 0.9882\tvalid_loss: 0.0440\ttrain_loss: 0.0307]\n",
      "new best: valid_loss 0.04402383482880532\n"
     ]
    },
    {
     "name": "stderr",
     "output_type": "stream",
     "text": [
      "100%|██████████| 750/750 [00:02<00:00, 299.95it/s]\n",
      "100%|██████████| 187/187 [00:00<00:00, 1243.59it/s]\n"
     ]
    },
    {
     "name": "stdout",
     "output_type": "stream",
     "text": [
      "epoch: 30/1000\t[valid_acc: 0.9883\tvalid_loss: 0.0432\ttrain_loss: 0.0294]\n",
      "new best: valid_loss 0.043196961360878965\n"
     ]
    },
    {
     "name": "stderr",
     "output_type": "stream",
     "text": [
      "100%|██████████| 750/750 [00:02<00:00, 298.02it/s]\n",
      "100%|██████████| 187/187 [00:00<00:00, 1194.42it/s]\n"
     ]
    },
    {
     "name": "stdout",
     "output_type": "stream",
     "text": [
      "epoch: 31/1000\t[valid_acc: 0.9881\tvalid_loss: 0.0424\ttrain_loss: 0.0282]\n",
      "new best: valid_loss 0.0424252360421706\n"
     ]
    },
    {
     "name": "stderr",
     "output_type": "stream",
     "text": [
      "100%|██████████| 750/750 [00:02<00:00, 308.52it/s]\n",
      "100%|██████████| 187/187 [00:00<00:00, 1240.80it/s]\n"
     ]
    },
    {
     "name": "stdout",
     "output_type": "stream",
     "text": [
      "epoch: 32/1000\t[valid_acc: 0.9881\tvalid_loss: 0.0417\ttrain_loss: 0.0271]\n",
      "new best: valid_loss 0.041727719386481746\n"
     ]
    },
    {
     "name": "stderr",
     "output_type": "stream",
     "text": [
      "100%|██████████| 750/750 [00:02<00:00, 308.52it/s]\n",
      "100%|██████████| 187/187 [00:00<00:00, 1212.02it/s]\n"
     ]
    },
    {
     "name": "stdout",
     "output_type": "stream",
     "text": [
      "epoch: 33/1000\t[valid_acc: 0.9881\tvalid_loss: 0.0411\ttrain_loss: 0.0260]\n",
      "new best: valid_loss 0.041069230328707455\n"
     ]
    },
    {
     "name": "stderr",
     "output_type": "stream",
     "text": [
      "100%|██████████| 750/750 [00:02<00:00, 301.60it/s]\n",
      "100%|██████████| 187/187 [00:00<00:00, 1146.09it/s]\n"
     ]
    },
    {
     "name": "stdout",
     "output_type": "stream",
     "text": [
      "epoch: 34/1000\t[valid_acc: 0.9881\tvalid_loss: 0.0405\ttrain_loss: 0.0250]\n",
      "new best: valid_loss 0.04046707424175811\n"
     ]
    },
    {
     "name": "stderr",
     "output_type": "stream",
     "text": [
      "100%|██████████| 750/750 [00:02<00:00, 302.56it/s]\n",
      "100%|██████████| 187/187 [00:00<00:00, 1199.73it/s]\n"
     ]
    },
    {
     "name": "stdout",
     "output_type": "stream",
     "text": [
      "epoch: 35/1000\t[valid_acc: 0.9881\tvalid_loss: 0.0399\ttrain_loss: 0.0240]\n",
      "new best: valid_loss 0.03987836332513607\n"
     ]
    },
    {
     "name": "stderr",
     "output_type": "stream",
     "text": [
      "100%|██████████| 750/750 [00:02<00:00, 300.25it/s]\n",
      "100%|██████████| 187/187 [00:00<00:00, 1213.27it/s]\n"
     ]
    },
    {
     "name": "stdout",
     "output_type": "stream",
     "text": [
      "epoch: 36/1000\t[valid_acc: 0.9882\tvalid_loss: 0.0393\ttrain_loss: 0.0230]\n",
      "new best: valid_loss 0.0393458602683529\n"
     ]
    },
    {
     "name": "stderr",
     "output_type": "stream",
     "text": [
      "100%|██████████| 750/750 [00:02<00:00, 310.01it/s]\n",
      "100%|██████████| 187/187 [00:00<00:00, 1207.98it/s]\n"
     ]
    },
    {
     "name": "stdout",
     "output_type": "stream",
     "text": [
      "epoch: 37/1000\t[valid_acc: 0.9885\tvalid_loss: 0.0388\ttrain_loss: 0.0221]\n",
      "new best: valid_loss 0.03883190096460562\n"
     ]
    },
    {
     "name": "stderr",
     "output_type": "stream",
     "text": [
      "100%|██████████| 750/750 [00:02<00:00, 310.51it/s]\n",
      "100%|██████████| 187/187 [00:00<00:00, 1118.64it/s]\n"
     ]
    },
    {
     "name": "stdout",
     "output_type": "stream",
     "text": [
      "epoch: 38/1000\t[valid_acc: 0.9885\tvalid_loss: 0.0384\ttrain_loss: 0.0213]\n",
      "new best: valid_loss 0.03836012630534164\n"
     ]
    },
    {
     "name": "stderr",
     "output_type": "stream",
     "text": [
      "100%|██████████| 750/750 [00:02<00:00, 303.49it/s]\n",
      "100%|██████████| 187/187 [00:00<00:00, 1174.45it/s]\n"
     ]
    },
    {
     "name": "stdout",
     "output_type": "stream",
     "text": [
      "epoch: 39/1000\t[valid_acc: 0.9887\tvalid_loss: 0.0379\ttrain_loss: 0.0204]\n",
      "new best: valid_loss 0.03791678881641218\n"
     ]
    },
    {
     "name": "stderr",
     "output_type": "stream",
     "text": [
      "100%|██████████| 750/750 [00:02<00:00, 305.65it/s]\n",
      "100%|██████████| 187/187 [00:00<00:00, 1222.62it/s]\n"
     ]
    },
    {
     "name": "stdout",
     "output_type": "stream",
     "text": [
      "epoch: 40/1000\t[valid_acc: 0.9886\tvalid_loss: 0.0375\ttrain_loss: 0.0196]\n",
      "new best: valid_loss 0.03750436850835913\n"
     ]
    },
    {
     "name": "stderr",
     "output_type": "stream",
     "text": [
      "100%|██████████| 750/750 [00:02<00:00, 300.27it/s]\n",
      "100%|██████████| 187/187 [00:00<00:00, 1153.47it/s]\n"
     ]
    },
    {
     "name": "stdout",
     "output_type": "stream",
     "text": [
      "epoch: 41/1000\t[valid_acc: 0.9887\tvalid_loss: 0.0371\ttrain_loss: 0.0189]\n",
      "new best: valid_loss 0.03711177694504174\n"
     ]
    },
    {
     "name": "stderr",
     "output_type": "stream",
     "text": [
      "100%|██████████| 750/750 [00:02<00:00, 297.74it/s]\n",
      "100%|██████████| 187/187 [00:00<00:00, 1214.47it/s]\n"
     ]
    },
    {
     "name": "stdout",
     "output_type": "stream",
     "text": [
      "epoch: 42/1000\t[valid_acc: 0.9888\tvalid_loss: 0.0367\ttrain_loss: 0.0182]\n",
      "new best: valid_loss 0.036741948705838925\n"
     ]
    },
    {
     "name": "stderr",
     "output_type": "stream",
     "text": [
      "100%|██████████| 750/750 [00:02<00:00, 307.01it/s]\n",
      "100%|██████████| 187/187 [00:00<00:00, 1049.87it/s]\n"
     ]
    },
    {
     "name": "stdout",
     "output_type": "stream",
     "text": [
      "epoch: 43/1000\t[valid_acc: 0.9891\tvalid_loss: 0.0364\ttrain_loss: 0.0175]\n",
      "new best: valid_loss 0.036386844717006\n"
     ]
    },
    {
     "name": "stderr",
     "output_type": "stream",
     "text": [
      "100%|██████████| 750/750 [00:02<00:00, 307.41it/s]\n",
      "100%|██████████| 187/187 [00:00<00:00, 1201.84it/s]\n"
     ]
    },
    {
     "name": "stdout",
     "output_type": "stream",
     "text": [
      "epoch: 44/1000\t[valid_acc: 0.9893\tvalid_loss: 0.0360\ttrain_loss: 0.0168]\n",
      "new best: valid_loss 0.0360417596928596\n"
     ]
    },
    {
     "name": "stderr",
     "output_type": "stream",
     "text": [
      "100%|██████████| 750/750 [00:02<00:00, 302.77it/s]\n",
      "100%|██████████| 187/187 [00:00<00:00, 1165.62it/s]\n"
     ]
    },
    {
     "name": "stdout",
     "output_type": "stream",
     "text": [
      "epoch: 45/1000\t[valid_acc: 0.9895\tvalid_loss: 0.0357\ttrain_loss: 0.0161]\n",
      "new best: valid_loss 0.03573196280105189\n"
     ]
    },
    {
     "name": "stderr",
     "output_type": "stream",
     "text": [
      "100%|██████████| 750/750 [00:02<00:00, 309.68it/s]\n",
      "100%|██████████| 187/187 [00:00<00:00, 1190.89it/s]\n"
     ]
    },
    {
     "name": "stdout",
     "output_type": "stream",
     "text": [
      "epoch: 46/1000\t[valid_acc: 0.9896\tvalid_loss: 0.0354\ttrain_loss: 0.0155]\n",
      "new best: valid_loss 0.03543778162581577\n"
     ]
    },
    {
     "name": "stderr",
     "output_type": "stream",
     "text": [
      "100%|██████████| 750/750 [00:02<00:00, 298.81it/s]\n",
      "100%|██████████| 187/187 [00:00<00:00, 1202.48it/s]\n"
     ]
    },
    {
     "name": "stdout",
     "output_type": "stream",
     "text": [
      "epoch: 47/1000\t[valid_acc: 0.9896\tvalid_loss: 0.0351\ttrain_loss: 0.0149]\n",
      "new best: valid_loss 0.03514046326247268\n"
     ]
    },
    {
     "name": "stderr",
     "output_type": "stream",
     "text": [
      "100%|██████████| 750/750 [00:02<00:00, 311.65it/s]\n",
      "100%|██████████| 187/187 [00:00<00:00, 1210.91it/s]\n"
     ]
    },
    {
     "name": "stdout",
     "output_type": "stream",
     "text": [
      "epoch: 48/1000\t[valid_acc: 0.9896\tvalid_loss: 0.0349\ttrain_loss: 0.0143]\n",
      "new best: valid_loss 0.0348600132097017\n"
     ]
    },
    {
     "name": "stderr",
     "output_type": "stream",
     "text": [
      "100%|██████████| 750/750 [00:02<00:00, 301.84it/s]\n",
      "100%|██████████| 187/187 [00:00<00:00, 1197.26it/s]\n"
     ]
    },
    {
     "name": "stdout",
     "output_type": "stream",
     "text": [
      "epoch: 49/1000\t[valid_acc: 0.9897\tvalid_loss: 0.0346\ttrain_loss: 0.0138]\n",
      "new best: valid_loss 0.03463549844554581\n"
     ]
    },
    {
     "name": "stderr",
     "output_type": "stream",
     "text": [
      "100%|██████████| 750/750 [00:02<00:00, 297.95it/s]\n",
      "100%|██████████| 187/187 [00:00<00:00, 1131.74it/s]\n"
     ]
    },
    {
     "name": "stdout",
     "output_type": "stream",
     "text": [
      "epoch: 50/1000\t[valid_acc: 0.9899\tvalid_loss: 0.0344\ttrain_loss: 0.0132]\n",
      "new best: valid_loss 0.034364485593990766\n"
     ]
    },
    {
     "name": "stderr",
     "output_type": "stream",
     "text": [
      "100%|██████████| 750/750 [00:02<00:00, 304.70it/s]\n",
      "100%|██████████| 187/187 [00:00<00:00, 1174.80it/s]\n"
     ]
    },
    {
     "name": "stdout",
     "output_type": "stream",
     "text": [
      "epoch: 51/1000\t[valid_acc: 0.9901\tvalid_loss: 0.0341\ttrain_loss: 0.0127]\n",
      "new best: valid_loss 0.03414323864029073\n"
     ]
    },
    {
     "name": "stderr",
     "output_type": "stream",
     "text": [
      "100%|██████████| 750/750 [00:02<00:00, 302.61it/s]\n",
      "100%|██████████| 187/187 [00:00<00:00, 1243.80it/s]\n"
     ]
    },
    {
     "name": "stdout",
     "output_type": "stream",
     "text": [
      "epoch: 52/1000\t[valid_acc: 0.9901\tvalid_loss: 0.0339\ttrain_loss: 0.0122]\n",
      "new best: valid_loss 0.03393491671637278\n"
     ]
    },
    {
     "name": "stderr",
     "output_type": "stream",
     "text": [
      "100%|██████████| 750/750 [00:02<00:00, 295.58it/s]\n",
      "100%|██████████| 187/187 [00:00<00:00, 1225.25it/s]\n"
     ]
    },
    {
     "name": "stdout",
     "output_type": "stream",
     "text": [
      "epoch: 53/1000\t[valid_acc: 0.9901\tvalid_loss: 0.0337\ttrain_loss: 0.0117]\n",
      "new best: valid_loss 0.033728407932455365\n"
     ]
    },
    {
     "name": "stderr",
     "output_type": "stream",
     "text": [
      "100%|██████████| 750/750 [00:02<00:00, 309.64it/s]\n",
      "100%|██████████| 187/187 [00:00<00:00, 1117.00it/s]\n"
     ]
    },
    {
     "name": "stdout",
     "output_type": "stream",
     "text": [
      "epoch: 54/1000\t[valid_acc: 0.9901\tvalid_loss: 0.0335\ttrain_loss: 0.0112]\n",
      "new best: valid_loss 0.033531890123743906\n"
     ]
    },
    {
     "name": "stderr",
     "output_type": "stream",
     "text": [
      "100%|██████████| 750/750 [00:02<00:00, 298.75it/s]\n",
      "100%|██████████| 187/187 [00:00<00:00, 1121.25it/s]\n"
     ]
    },
    {
     "name": "stdout",
     "output_type": "stream",
     "text": [
      "epoch: 55/1000\t[valid_acc: 0.9902\tvalid_loss: 0.0334\ttrain_loss: 0.0108]\n",
      "new best: valid_loss 0.033351514718176566\n"
     ]
    },
    {
     "name": "stderr",
     "output_type": "stream",
     "text": [
      "100%|██████████| 750/750 [00:02<00:00, 301.17it/s]\n",
      "100%|██████████| 187/187 [00:00<00:00, 1163.39it/s]\n"
     ]
    },
    {
     "name": "stdout",
     "output_type": "stream",
     "text": [
      "epoch: 56/1000\t[valid_acc: 0.9902\tvalid_loss: 0.0332\ttrain_loss: 0.0104]\n",
      "new best: valid_loss 0.03317090127129048\n"
     ]
    },
    {
     "name": "stderr",
     "output_type": "stream",
     "text": [
      "100%|██████████| 750/750 [00:02<00:00, 309.25it/s]\n",
      "100%|██████████| 187/187 [00:00<00:00, 1115.95it/s]\n"
     ]
    },
    {
     "name": "stdout",
     "output_type": "stream",
     "text": [
      "epoch: 57/1000\t[valid_acc: 0.9901\tvalid_loss: 0.0330\ttrain_loss: 0.0099]\n",
      "new best: valid_loss 0.032981115348828846\n"
     ]
    },
    {
     "name": "stderr",
     "output_type": "stream",
     "text": [
      "100%|██████████| 750/750 [00:02<00:00, 298.68it/s]\n",
      "100%|██████████| 187/187 [00:00<00:00, 1167.00it/s]\n"
     ]
    },
    {
     "name": "stdout",
     "output_type": "stream",
     "text": [
      "epoch: 58/1000\t[valid_acc: 0.9901\tvalid_loss: 0.0328\ttrain_loss: 0.0095]\n",
      "new best: valid_loss 0.032816504167186164\n"
     ]
    },
    {
     "name": "stderr",
     "output_type": "stream",
     "text": [
      "100%|██████████| 750/750 [00:02<00:00, 299.43it/s]\n",
      "100%|██████████| 187/187 [00:00<00:00, 1180.97it/s]\n"
     ]
    },
    {
     "name": "stdout",
     "output_type": "stream",
     "text": [
      "epoch: 59/1000\t[valid_acc: 0.9904\tvalid_loss: 0.0327\ttrain_loss: 0.0091]\n",
      "new best: valid_loss 0.03266797424605326\n"
     ]
    },
    {
     "name": "stderr",
     "output_type": "stream",
     "text": [
      "100%|██████████| 750/750 [00:02<00:00, 312.88it/s]\n",
      "100%|██████████| 187/187 [00:00<00:00, 1247.33it/s]\n"
     ]
    },
    {
     "name": "stdout",
     "output_type": "stream",
     "text": [
      "epoch: 60/1000\t[valid_acc: 0.9904\tvalid_loss: 0.0325\ttrain_loss: 0.0088]\n",
      "new best: valid_loss 0.03252170179730261\n"
     ]
    },
    {
     "name": "stderr",
     "output_type": "stream",
     "text": [
      "100%|██████████| 750/750 [00:02<00:00, 304.05it/s]\n",
      "100%|██████████| 187/187 [00:00<00:00, 1230.32it/s]\n"
     ]
    },
    {
     "name": "stdout",
     "output_type": "stream",
     "text": [
      "epoch: 61/1000\t[valid_acc: 0.9906\tvalid_loss: 0.0324\ttrain_loss: 0.0084]\n",
      "new best: valid_loss 0.03237605747644775\n"
     ]
    },
    {
     "name": "stderr",
     "output_type": "stream",
     "text": [
      "100%|██████████| 750/750 [00:02<00:00, 300.52it/s]\n",
      "100%|██████████| 187/187 [00:00<00:00, 1224.07it/s]\n"
     ]
    },
    {
     "name": "stdout",
     "output_type": "stream",
     "text": [
      "epoch: 62/1000\t[valid_acc: 0.9906\tvalid_loss: 0.0323\ttrain_loss: 0.0080]\n",
      "new best: valid_loss 0.03225820441699193\n"
     ]
    },
    {
     "name": "stderr",
     "output_type": "stream",
     "text": [
      "100%|██████████| 750/750 [00:02<00:00, 309.89it/s]\n",
      "100%|██████████| 187/187 [00:00<00:00, 1228.72it/s]\n"
     ]
    },
    {
     "name": "stdout",
     "output_type": "stream",
     "text": [
      "epoch: 63/1000\t[valid_acc: 0.9906\tvalid_loss: 0.0321\ttrain_loss: 0.0077]\n",
      "new best: valid_loss 0.03210847149385179\n"
     ]
    },
    {
     "name": "stderr",
     "output_type": "stream",
     "text": [
      "100%|██████████| 750/750 [00:02<00:00, 302.71it/s]\n",
      "100%|██████████| 187/187 [00:00<00:00, 1117.08it/s]\n"
     ]
    },
    {
     "name": "stdout",
     "output_type": "stream",
     "text": [
      "epoch: 64/1000\t[valid_acc: 0.9906\tvalid_loss: 0.0320\ttrain_loss: 0.0074]\n",
      "new best: valid_loss 0.032015548734166184\n"
     ]
    },
    {
     "name": "stderr",
     "output_type": "stream",
     "text": [
      "100%|██████████| 750/750 [00:02<00:00, 300.59it/s]\n",
      "100%|██████████| 187/187 [00:00<00:00, 777.30it/s]\n"
     ]
    },
    {
     "name": "stdout",
     "output_type": "stream",
     "text": [
      "epoch: 65/1000\t[valid_acc: 0.9907\tvalid_loss: 0.0319\ttrain_loss: 0.0070]\n",
      "new best: valid_loss 0.031900959245656384\n"
     ]
    },
    {
     "name": "stderr",
     "output_type": "stream",
     "text": [
      "100%|██████████| 750/750 [00:02<00:00, 292.49it/s]\n",
      "100%|██████████| 187/187 [00:00<00:00, 1180.23it/s]\n"
     ]
    },
    {
     "name": "stdout",
     "output_type": "stream",
     "text": [
      "epoch: 66/1000\t[valid_acc: 0.9906\tvalid_loss: 0.0318\ttrain_loss: 0.0067]\n",
      "new best: valid_loss 0.031794726031516146\n"
     ]
    },
    {
     "name": "stderr",
     "output_type": "stream",
     "text": [
      "100%|██████████| 750/750 [00:02<00:00, 300.20it/s]\n",
      "100%|██████████| 187/187 [00:00<00:00, 1231.59it/s]\n"
     ]
    },
    {
     "name": "stdout",
     "output_type": "stream",
     "text": [
      "epoch: 67/1000\t[valid_acc: 0.9907\tvalid_loss: 0.0317\ttrain_loss: 0.0064]\n",
      "new best: valid_loss 0.031704833105400725\n"
     ]
    },
    {
     "name": "stderr",
     "output_type": "stream",
     "text": [
      "100%|██████████| 750/750 [00:02<00:00, 297.01it/s]\n",
      "100%|██████████| 187/187 [00:00<00:00, 1172.99it/s]\n"
     ]
    },
    {
     "name": "stdout",
     "output_type": "stream",
     "text": [
      "epoch: 68/1000\t[valid_acc: 0.9906\tvalid_loss: 0.0316\ttrain_loss: 0.0062]\n",
      "new best: valid_loss 0.03159983872490771\n"
     ]
    },
    {
     "name": "stderr",
     "output_type": "stream",
     "text": [
      "100%|██████████| 750/750 [00:02<00:00, 308.43it/s]\n",
      "100%|██████████| 187/187 [00:00<00:00, 1147.36it/s]\n"
     ]
    },
    {
     "name": "stdout",
     "output_type": "stream",
     "text": [
      "epoch: 69/1000\t[valid_acc: 0.9907\tvalid_loss: 0.0315\ttrain_loss: 0.0059]\n",
      "new best: valid_loss 0.0315077689405964\n"
     ]
    },
    {
     "name": "stderr",
     "output_type": "stream",
     "text": [
      "100%|██████████| 750/750 [00:02<00:00, 301.59it/s]\n",
      "100%|██████████| 187/187 [00:00<00:00, 1191.75it/s]\n"
     ]
    },
    {
     "name": "stdout",
     "output_type": "stream",
     "text": [
      "epoch: 70/1000\t[valid_acc: 0.9907\tvalid_loss: 0.0314\ttrain_loss: 0.0056]\n",
      "new best: valid_loss 0.03142438351206561\n"
     ]
    },
    {
     "name": "stderr",
     "output_type": "stream",
     "text": [
      "100%|██████████| 750/750 [00:02<00:00, 302.92it/s]\n",
      "100%|██████████| 187/187 [00:00<00:00, 1205.42it/s]\n"
     ]
    },
    {
     "name": "stdout",
     "output_type": "stream",
     "text": [
      "epoch: 71/1000\t[valid_acc: 0.9907\tvalid_loss: 0.0313\ttrain_loss: 0.0054]\n",
      "new best: valid_loss 0.031344809598989165\n"
     ]
    },
    {
     "name": "stderr",
     "output_type": "stream",
     "text": [
      "100%|██████████| 750/750 [00:02<00:00, 307.00it/s]\n",
      "100%|██████████| 187/187 [00:00<00:00, 1215.92it/s]\n"
     ]
    },
    {
     "name": "stdout",
     "output_type": "stream",
     "text": [
      "epoch: 72/1000\t[valid_acc: 0.9907\tvalid_loss: 0.0313\ttrain_loss: 0.0051]\n",
      "new best: valid_loss 0.031273653585386564\n"
     ]
    },
    {
     "name": "stderr",
     "output_type": "stream",
     "text": [
      "100%|██████████| 750/750 [00:02<00:00, 298.41it/s]\n",
      "100%|██████████| 187/187 [00:00<00:00, 1190.01it/s]\n"
     ]
    },
    {
     "name": "stdout",
     "output_type": "stream",
     "text": [
      "epoch: 73/1000\t[valid_acc: 0.9908\tvalid_loss: 0.0312\ttrain_loss: 0.0049]\n",
      "new best: valid_loss 0.031187724299046565\n"
     ]
    },
    {
     "name": "stderr",
     "output_type": "stream",
     "text": [
      "100%|██████████| 750/750 [00:02<00:00, 302.33it/s]\n",
      "100%|██████████| 187/187 [00:00<00:00, 1231.27it/s]\n"
     ]
    },
    {
     "name": "stdout",
     "output_type": "stream",
     "text": [
      "epoch: 74/1000\t[valid_acc: 0.9908\tvalid_loss: 0.0311\ttrain_loss: 0.0047]\n",
      "new best: valid_loss 0.03112348175344909\n"
     ]
    },
    {
     "name": "stderr",
     "output_type": "stream",
     "text": [
      "100%|██████████| 750/750 [00:02<00:00, 310.20it/s]\n",
      "100%|██████████| 187/187 [00:00<00:00, 1164.23it/s]\n"
     ]
    },
    {
     "name": "stdout",
     "output_type": "stream",
     "text": [
      "epoch: 75/1000\t[valid_acc: 0.9907\tvalid_loss: 0.0311\ttrain_loss: 0.0044]\n",
      "new best: valid_loss 0.031050285182826043\n"
     ]
    },
    {
     "name": "stderr",
     "output_type": "stream",
     "text": [
      "100%|██████████| 750/750 [00:02<00:00, 298.09it/s]\n",
      "100%|██████████| 187/187 [00:00<00:00, 1124.40it/s]\n"
     ]
    },
    {
     "name": "stdout",
     "output_type": "stream",
     "text": [
      "epoch: 76/1000\t[valid_acc: 0.9909\tvalid_loss: 0.0310\ttrain_loss: 0.0042]\n",
      "new best: valid_loss 0.03103155505991003\n"
     ]
    },
    {
     "name": "stderr",
     "output_type": "stream",
     "text": [
      "100%|██████████| 750/750 [00:02<00:00, 296.44it/s]\n",
      "100%|██████████| 187/187 [00:00<00:00, 1180.18it/s]\n"
     ]
    },
    {
     "name": "stdout",
     "output_type": "stream",
     "text": [
      "epoch: 77/1000\t[valid_acc: 0.9908\tvalid_loss: 0.0310\ttrain_loss: 0.0040]\n",
      "new best: valid_loss 0.030996786998236242\n"
     ]
    },
    {
     "name": "stderr",
     "output_type": "stream",
     "text": [
      "100%|██████████| 750/750 [00:02<00:00, 308.64it/s]\n",
      "100%|██████████| 187/187 [00:00<00:00, 1106.88it/s]\n"
     ]
    },
    {
     "name": "stdout",
     "output_type": "stream",
     "text": [
      "epoch: 78/1000\t[valid_acc: 0.9907\tvalid_loss: 0.0309\ttrain_loss: 0.0038]\n",
      "new best: valid_loss 0.030949386034066224\n"
     ]
    },
    {
     "name": "stderr",
     "output_type": "stream",
     "text": [
      "100%|██████████| 750/750 [00:02<00:00, 298.19it/s]\n",
      "100%|██████████| 187/187 [00:00<00:00, 1227.03it/s]\n"
     ]
    },
    {
     "name": "stdout",
     "output_type": "stream",
     "text": [
      "epoch: 79/1000\t[valid_acc: 0.9907\tvalid_loss: 0.0309\ttrain_loss: 0.0037]\n",
      "new best: valid_loss 0.030934644682472322\n"
     ]
    },
    {
     "name": "stderr",
     "output_type": "stream",
     "text": [
      "100%|██████████| 750/750 [00:02<00:00, 300.69it/s]\n",
      "100%|██████████| 187/187 [00:00<00:00, 1210.42it/s]\n"
     ]
    },
    {
     "name": "stdout",
     "output_type": "stream",
     "text": [
      "epoch: 80/1000\t[valid_acc: 0.9908\tvalid_loss: 0.0309\ttrain_loss: 0.0035]\n",
      "new best: valid_loss 0.03091659930109465\n"
     ]
    },
    {
     "name": "stderr",
     "output_type": "stream",
     "text": [
      "100%|██████████| 750/750 [00:02<00:00, 301.08it/s]\n",
      "100%|██████████| 187/187 [00:00<00:00, 1109.45it/s]\n"
     ]
    },
    {
     "name": "stdout",
     "output_type": "stream",
     "text": [
      "epoch: 81/1000\t[valid_acc: 0.9907\tvalid_loss: 0.0309\ttrain_loss: 0.0033]\n",
      "new best: valid_loss 0.030883944979034624\n"
     ]
    },
    {
     "name": "stderr",
     "output_type": "stream",
     "text": [
      "100%|██████████| 750/750 [00:02<00:00, 302.59it/s]\n",
      "100%|██████████| 187/187 [00:00<00:00, 1228.57it/s]"
     ]
    },
    {
     "name": "stdout",
     "output_type": "stream",
     "text": [
      "epoch: 82/1000\t[valid_acc: 0.9906\tvalid_loss: 0.0309\ttrain_loss: 0.0031]\n",
      "not best----------------------- 1\n",
      "1 1\n"
     ]
    },
    {
     "name": "stderr",
     "output_type": "stream",
     "text": [
      "\n"
     ]
    }
   ],
   "source": [
    "from core.dl_framework.learner import Learner\n",
    "from core.dl_framework.callbacks import Recorder, Monitor\n",
    "from core.dl_framework.data import get_dataset, Dataset, DataLoader, split_data\n",
    "from torchvision import transforms\n",
    "bs = setup_config[\"h_batch_size\"]\n",
    "x_train, y_train, x_test, y_test = get_dataset(setup_config[\"s_source\"], setup_config[\"s_set\"], setup_config[\"p_tmp_data_path\"], CNN=True)\n",
    "\n",
    "train_ds, test_ds =  Dataset(x_train, y_train), Dataset(x_test, y_test)\n",
    "train_dl, test_dl = DataLoader(train_ds, bs), DataLoader(test_ds, bs)\n",
    "learn = Learner(train_ds, setup_config)\n",
    "learn.fit(1000)\n"
   ]
  },
  {
   "cell_type": "code",
   "execution_count": 21,
   "metadata": {},
   "outputs": [
    {
     "name": "stdout",
     "output_type": "stream",
     "text": [
      "hi\n"
     ]
    }
   ],
   "source": [
    "learn.cbh.EarlyStopping.test_func()\n",
    "# learn.cbh.Monitor._print_console()\n"
   ]
  },
  {
   "cell_type": "code",
   "execution_count": 169,
   "metadata": {},
   "outputs": [],
   "source": [
    "sample = next(iter(test_dl))\n",
    "imgs, targets = sample"
   ]
  },
  {
   "cell_type": "code",
   "execution_count": 170,
   "metadata": {},
   "outputs": [
    {
     "name": "stdout",
     "output_type": "stream",
     "text": [
      "tensor(64, device='cuda:0')\n"
     ]
    }
   ],
   "source": [
    "_, pred = torch.max(learn.learn.model(imgs.unsqueeze(1).to(\"cuda\")).data, 1)\n",
    "print(sum(pred == targets.to(\"cuda\")))\n"
   ]
  },
  {
   "cell_type": "code",
   "execution_count": 6,
   "metadata": {},
   "outputs": [
    {
     "data": {
      "text/html": [
       "<html>\n",
       "<head><meta charset=\"utf-8\" /></head>\n",
       "<body>\n",
       "    <div>            <script src=\"https://cdnjs.cloudflare.com/ajax/libs/mathjax/2.7.5/MathJax.js?config=TeX-AMS-MML_SVG\"></script><script type=\"text/javascript\">if (window.MathJax) {MathJax.Hub.Config({SVG: {font: \"STIX-Web\"}});}</script>                <script type=\"text/javascript\">window.PlotlyConfig = {MathJaxConfig: 'local'};</script>\n",
       "        <script src=\"https://cdn.plot.ly/plotly-2.11.1.min.js\"></script>                <div id=\"97e62589-ac05-497c-b3f6-30992348307b\" class=\"plotly-graph-div\" style=\"height:525px; width:100%;\"></div>            <script type=\"text/javascript\">                                    window.PLOTLYENV=window.PLOTLYENV || {};                                    if (document.getElementById(\"97e62589-ac05-497c-b3f6-30992348307b\")) {                    Plotly.newPlot(                        \"97e62589-ac05-497c-b3f6-30992348307b\",                        [{\"name\":\"valid_acc\",\"x\":[1,2,3,4,5,6,7,8,9,10,11,12,13,14,15,16,17,18,19,20,21,22,23,24,25,26,27,28,29,30,31,32,33,34,35,36,37,38,39,40,41,42,43,44,45,46,47,48,49,50,51,52,53,54,55,56,57,58,59,60,61,62,63,64,65,66,67,68,69,70,71,72,73,74,75,76,77,78,79,80,81,82],\"y\":[0.8960561497326203,0.9349933155080213,0.9506183155080213,0.9593917112299465,0.9652406417112299,0.9696691176470589,0.9726771390374331,0.9750167112299465,0.977105614973262,0.9784425133689839,0.9803643048128342,0.9815340909090909,0.982620320855615,0.9833723262032086,0.9845421122994652,0.9853776737967914,0.9853776737967914,0.9858790106951871,0.9862967914438503,0.9865474598930482,0.9865474598930482,0.9871323529411765,0.9871323529411765,0.9876336898395722,0.9876336898395722,0.9878843582887701,0.9879679144385026,0.9879679144385026,0.9882185828877005,0.9883021390374331,0.9881350267379679,0.9880514705882353,0.9881350267379679,0.9881350267379679,0.9881350267379679,0.9882185828877005,0.9884692513368984,0.9884692513368984,0.9887199197860963,0.988552807486631,0.9887199197860963,0.9888034759358288,0.9890541443850267,0.9893048128342246,0.9894719251336899,0.9895554812834224,0.9895554812834224,0.9896390374331551,0.9897225935828877,0.9898897058823529,0.9900568181818182,0.9900568181818182,0.9901403743315508,0.9901403743315508,0.9902239304812834,0.9902239304812834,0.9901403743315508,0.9901403743315508,0.9903910427807486,0.9903910427807486,0.9905581550802139,0.9905581550802139,0.9905581550802139,0.9906417112299465,0.9907252673796791,0.9906417112299465,0.9907252673796791,0.9906417112299465,0.9907252673796791,0.9907252673796791,0.9907252673796791,0.9907252673796791,0.9908088235294118,0.9908088235294118,0.9907252673796791,0.9908923796791443,0.9908088235294118,0.9907252673796791,0.9907252673796791,0.9908088235294118,0.9907252673796791,0.9906417112299465],\"type\":\"scatter\",\"xaxis\":\"x\",\"yaxis\":\"y\"},{\"name\":\"valid_loss\",\"x\":[1,2,3,4,5,6,7,8,9,10,11,12,13,14,15,16,17,18,19,20,21,22,23,24,25,26,27,28,29,30,31,32,33,34,35,36,37,38,39,40,41,42,43,44,45,46,47,48,49,50,51,52,53,54,55,56,57,58,59,60,61,62,63,64,65,66,67,68,69,70,71,72,73,74,75,76,77,78,79,80,81,82],\"y\":[0.7172743719529341,0.3937845144042357,0.27425490072704256,0.21138266991963361,0.17219875886398842,0.14547882083663966,0.1262924068951033,0.11202076996831015,0.10101483248293719,0.09229008589477782,0.08527095290647949,0.07950358477764748,0.07464826796801492,0.07056471902657957,0.06704296533735518,0.06399643821841017,0.06133588095927701,0.058975749151073995,0.056897969809385704,0.05502961484097781,0.05331008478919452,0.05178486074963435,0.050383236264202366,0.049115381415256044,0.047932944631572556,0.04684061072592469,0.045836119050966864,0.04490409815001655,0.04402383482880532,0.043196961360878965,0.0424252360421706,0.041727719386481746,0.041069230328707455,0.04046707424175811,0.03987836332513607,0.0393458602683529,0.03883190096460562,0.03836012630534164,0.03791678881641218,0.03750436850835913,0.03711177694504174,0.036741948705838925,0.036386844717006,0.0360417596928596,0.03573196280105189,0.03543778162581577,0.03514046326247268,0.0348600132097017,0.03463549844554581,0.034364485593990766,0.03414323864029073,0.03393491671637278,0.033728407932455365,0.033531890123743906,0.033351514718176566,0.03317090127129048,0.032981115348828846,0.032816504167186164,0.03266797424605326,0.03252170179730261,0.03237605747644775,0.03225820441699193,0.03210847149385179,0.032015548734166184,0.031900959245656384,0.031794726031516146,0.031704833105400725,0.03159983872490771,0.0315077689405964,0.03142438351206561,0.031344809598989165,0.031273653585386564,0.031187724299046565,0.03112348175344909,0.031050285182826043,0.03103155505991003,0.030996786998236242,0.030949386034066224,0.030934644682472322,0.03091659930109465,0.030883944979034624,0.030890587427345836],\"type\":\"scatter\",\"xaxis\":\"x2\",\"yaxis\":\"y2\"},{\"name\":\"train_loss\",\"x\":[1,2,3,4,5,6,7,8,9,10,11,12,13,14,15,16,17,18,19,20,21,22,23,24,25,26,27,28,29,30,31,32,33,34,35,36,37,38,39,40,41,42,43,44,45,46,47,48,49,50,51,52,53,54,55,56,57,58,59,60,61,62,63,64,65,66,67,68,69,70,71,72,73,74,75,76,77,78,79,80,81,82],\"y\":[1.34316002480189,0.5240956885417303,0.3286109706958135,0.24240285220742225,0.19264462769031523,0.1598469042479992,0.13646395924687385,0.11902066901326179,0.10555085531373819,0.09484668139368296,0.08614508644243081,0.07891991075128317,0.0728075006591777,0.06756377285346389,0.06300633021940788,0.05899975301449498,0.055443713600436845,0.05226730567589402,0.0494039754755795,0.04680126385701199,0.044421767437830564,0.042232454666867855,0.040213800962393485,0.038348383139818906,0.03661210110969842,0.034991666541124386,0.03347087979130447,0.03204375271685422,0.03069171214538316,0.02941979563422501,0.028216264959114293,0.027074418135297797,0.025987030245674152,0.024954819578056533,0.023970667007379234,0.023026227163150906,0.022128672261722385,0.021266116020890572,0.020437112147609394,0.01964478913663576,0.018887437392647068,0.018158736985487242,0.017455486250420413,0.016781279685751844,0.01613192352404197,0.015507621693735322,0.014904102846669653,0.014323813289559137,0.01376567732092614,0.013224362442735582,0.012703272224403917,0.012199413053070506,0.011715646733840306,0.01124362933433925,0.010792618614699072,0.01035510626101556,0.009931740063475445,0.009525294330436737,0.009130950480078658,0.008751061621820554,0.008383680225117133,0.008028675200883299,0.007687355321754391,0.0073571919355696685,0.007041476166108623,0.006734242853902591,0.006438196554663591,0.006157295852084644,0.005881463153171353,0.005618786049812721,0.005365303967846557,0.005121448601790083,0.004885867043437126,0.004661168547502408,0.004441836505274598,0.004235559481778182,0.004033318896312267,0.003840664047631435,0.003656294644034157,0.0034781121300378193,0.0033077301167456124,0.0031439397816623873],\"type\":\"scatter\",\"xaxis\":\"x2\",\"yaxis\":\"y2\"}],                        {\"template\":{\"data\":{\"histogram2dcontour\":[{\"type\":\"histogram2dcontour\",\"colorbar\":{\"outlinewidth\":0,\"ticks\":\"\"},\"colorscale\":[[0.0,\"#0d0887\"],[0.1111111111111111,\"#46039f\"],[0.2222222222222222,\"#7201a8\"],[0.3333333333333333,\"#9c179e\"],[0.4444444444444444,\"#bd3786\"],[0.5555555555555556,\"#d8576b\"],[0.6666666666666666,\"#ed7953\"],[0.7777777777777778,\"#fb9f3a\"],[0.8888888888888888,\"#fdca26\"],[1.0,\"#f0f921\"]]}],\"choropleth\":[{\"type\":\"choropleth\",\"colorbar\":{\"outlinewidth\":0,\"ticks\":\"\"}}],\"histogram2d\":[{\"type\":\"histogram2d\",\"colorbar\":{\"outlinewidth\":0,\"ticks\":\"\"},\"colorscale\":[[0.0,\"#0d0887\"],[0.1111111111111111,\"#46039f\"],[0.2222222222222222,\"#7201a8\"],[0.3333333333333333,\"#9c179e\"],[0.4444444444444444,\"#bd3786\"],[0.5555555555555556,\"#d8576b\"],[0.6666666666666666,\"#ed7953\"],[0.7777777777777778,\"#fb9f3a\"],[0.8888888888888888,\"#fdca26\"],[1.0,\"#f0f921\"]]}],\"heatmap\":[{\"type\":\"heatmap\",\"colorbar\":{\"outlinewidth\":0,\"ticks\":\"\"},\"colorscale\":[[0.0,\"#0d0887\"],[0.1111111111111111,\"#46039f\"],[0.2222222222222222,\"#7201a8\"],[0.3333333333333333,\"#9c179e\"],[0.4444444444444444,\"#bd3786\"],[0.5555555555555556,\"#d8576b\"],[0.6666666666666666,\"#ed7953\"],[0.7777777777777778,\"#fb9f3a\"],[0.8888888888888888,\"#fdca26\"],[1.0,\"#f0f921\"]]}],\"heatmapgl\":[{\"type\":\"heatmapgl\",\"colorbar\":{\"outlinewidth\":0,\"ticks\":\"\"},\"colorscale\":[[0.0,\"#0d0887\"],[0.1111111111111111,\"#46039f\"],[0.2222222222222222,\"#7201a8\"],[0.3333333333333333,\"#9c179e\"],[0.4444444444444444,\"#bd3786\"],[0.5555555555555556,\"#d8576b\"],[0.6666666666666666,\"#ed7953\"],[0.7777777777777778,\"#fb9f3a\"],[0.8888888888888888,\"#fdca26\"],[1.0,\"#f0f921\"]]}],\"contourcarpet\":[{\"type\":\"contourcarpet\",\"colorbar\":{\"outlinewidth\":0,\"ticks\":\"\"}}],\"contour\":[{\"type\":\"contour\",\"colorbar\":{\"outlinewidth\":0,\"ticks\":\"\"},\"colorscale\":[[0.0,\"#0d0887\"],[0.1111111111111111,\"#46039f\"],[0.2222222222222222,\"#7201a8\"],[0.3333333333333333,\"#9c179e\"],[0.4444444444444444,\"#bd3786\"],[0.5555555555555556,\"#d8576b\"],[0.6666666666666666,\"#ed7953\"],[0.7777777777777778,\"#fb9f3a\"],[0.8888888888888888,\"#fdca26\"],[1.0,\"#f0f921\"]]}],\"surface\":[{\"type\":\"surface\",\"colorbar\":{\"outlinewidth\":0,\"ticks\":\"\"},\"colorscale\":[[0.0,\"#0d0887\"],[0.1111111111111111,\"#46039f\"],[0.2222222222222222,\"#7201a8\"],[0.3333333333333333,\"#9c179e\"],[0.4444444444444444,\"#bd3786\"],[0.5555555555555556,\"#d8576b\"],[0.6666666666666666,\"#ed7953\"],[0.7777777777777778,\"#fb9f3a\"],[0.8888888888888888,\"#fdca26\"],[1.0,\"#f0f921\"]]}],\"mesh3d\":[{\"type\":\"mesh3d\",\"colorbar\":{\"outlinewidth\":0,\"ticks\":\"\"}}],\"scatter\":[{\"fillpattern\":{\"fillmode\":\"overlay\",\"size\":10,\"solidity\":0.2},\"type\":\"scatter\"}],\"parcoords\":[{\"type\":\"parcoords\",\"line\":{\"colorbar\":{\"outlinewidth\":0,\"ticks\":\"\"}}}],\"scatterpolargl\":[{\"type\":\"scatterpolargl\",\"marker\":{\"colorbar\":{\"outlinewidth\":0,\"ticks\":\"\"}}}],\"bar\":[{\"error_x\":{\"color\":\"#2a3f5f\"},\"error_y\":{\"color\":\"#2a3f5f\"},\"marker\":{\"line\":{\"color\":\"#E5ECF6\",\"width\":0.5},\"pattern\":{\"fillmode\":\"overlay\",\"size\":10,\"solidity\":0.2}},\"type\":\"bar\"}],\"scattergeo\":[{\"type\":\"scattergeo\",\"marker\":{\"colorbar\":{\"outlinewidth\":0,\"ticks\":\"\"}}}],\"scatterpolar\":[{\"type\":\"scatterpolar\",\"marker\":{\"colorbar\":{\"outlinewidth\":0,\"ticks\":\"\"}}}],\"histogram\":[{\"marker\":{\"pattern\":{\"fillmode\":\"overlay\",\"size\":10,\"solidity\":0.2}},\"type\":\"histogram\"}],\"scattergl\":[{\"type\":\"scattergl\",\"marker\":{\"colorbar\":{\"outlinewidth\":0,\"ticks\":\"\"}}}],\"scatter3d\":[{\"type\":\"scatter3d\",\"line\":{\"colorbar\":{\"outlinewidth\":0,\"ticks\":\"\"}},\"marker\":{\"colorbar\":{\"outlinewidth\":0,\"ticks\":\"\"}}}],\"scattermapbox\":[{\"type\":\"scattermapbox\",\"marker\":{\"colorbar\":{\"outlinewidth\":0,\"ticks\":\"\"}}}],\"scatterternary\":[{\"type\":\"scatterternary\",\"marker\":{\"colorbar\":{\"outlinewidth\":0,\"ticks\":\"\"}}}],\"scattercarpet\":[{\"type\":\"scattercarpet\",\"marker\":{\"colorbar\":{\"outlinewidth\":0,\"ticks\":\"\"}}}],\"carpet\":[{\"aaxis\":{\"endlinecolor\":\"#2a3f5f\",\"gridcolor\":\"white\",\"linecolor\":\"white\",\"minorgridcolor\":\"white\",\"startlinecolor\":\"#2a3f5f\"},\"baxis\":{\"endlinecolor\":\"#2a3f5f\",\"gridcolor\":\"white\",\"linecolor\":\"white\",\"minorgridcolor\":\"white\",\"startlinecolor\":\"#2a3f5f\"},\"type\":\"carpet\"}],\"table\":[{\"cells\":{\"fill\":{\"color\":\"#EBF0F8\"},\"line\":{\"color\":\"white\"}},\"header\":{\"fill\":{\"color\":\"#C8D4E3\"},\"line\":{\"color\":\"white\"}},\"type\":\"table\"}],\"barpolar\":[{\"marker\":{\"line\":{\"color\":\"#E5ECF6\",\"width\":0.5},\"pattern\":{\"fillmode\":\"overlay\",\"size\":10,\"solidity\":0.2}},\"type\":\"barpolar\"}],\"pie\":[{\"automargin\":true,\"type\":\"pie\"}]},\"layout\":{\"autotypenumbers\":\"strict\",\"colorway\":[\"#636efa\",\"#EF553B\",\"#00cc96\",\"#ab63fa\",\"#FFA15A\",\"#19d3f3\",\"#FF6692\",\"#B6E880\",\"#FF97FF\",\"#FECB52\"],\"font\":{\"color\":\"#2a3f5f\"},\"hovermode\":\"closest\",\"hoverlabel\":{\"align\":\"left\"},\"paper_bgcolor\":\"white\",\"plot_bgcolor\":\"#E5ECF6\",\"polar\":{\"bgcolor\":\"#E5ECF6\",\"angularaxis\":{\"gridcolor\":\"white\",\"linecolor\":\"white\",\"ticks\":\"\"},\"radialaxis\":{\"gridcolor\":\"white\",\"linecolor\":\"white\",\"ticks\":\"\"}},\"ternary\":{\"bgcolor\":\"#E5ECF6\",\"aaxis\":{\"gridcolor\":\"white\",\"linecolor\":\"white\",\"ticks\":\"\"},\"baxis\":{\"gridcolor\":\"white\",\"linecolor\":\"white\",\"ticks\":\"\"},\"caxis\":{\"gridcolor\":\"white\",\"linecolor\":\"white\",\"ticks\":\"\"}},\"coloraxis\":{\"colorbar\":{\"outlinewidth\":0,\"ticks\":\"\"}},\"colorscale\":{\"sequential\":[[0.0,\"#0d0887\"],[0.1111111111111111,\"#46039f\"],[0.2222222222222222,\"#7201a8\"],[0.3333333333333333,\"#9c179e\"],[0.4444444444444444,\"#bd3786\"],[0.5555555555555556,\"#d8576b\"],[0.6666666666666666,\"#ed7953\"],[0.7777777777777778,\"#fb9f3a\"],[0.8888888888888888,\"#fdca26\"],[1.0,\"#f0f921\"]],\"sequentialminus\":[[0.0,\"#0d0887\"],[0.1111111111111111,\"#46039f\"],[0.2222222222222222,\"#7201a8\"],[0.3333333333333333,\"#9c179e\"],[0.4444444444444444,\"#bd3786\"],[0.5555555555555556,\"#d8576b\"],[0.6666666666666666,\"#ed7953\"],[0.7777777777777778,\"#fb9f3a\"],[0.8888888888888888,\"#fdca26\"],[1.0,\"#f0f921\"]],\"diverging\":[[0,\"#8e0152\"],[0.1,\"#c51b7d\"],[0.2,\"#de77ae\"],[0.3,\"#f1b6da\"],[0.4,\"#fde0ef\"],[0.5,\"#f7f7f7\"],[0.6,\"#e6f5d0\"],[0.7,\"#b8e186\"],[0.8,\"#7fbc41\"],[0.9,\"#4d9221\"],[1,\"#276419\"]]},\"xaxis\":{\"gridcolor\":\"white\",\"linecolor\":\"white\",\"ticks\":\"\",\"title\":{\"standoff\":15},\"zerolinecolor\":\"white\",\"automargin\":true,\"zerolinewidth\":2},\"yaxis\":{\"gridcolor\":\"white\",\"linecolor\":\"white\",\"ticks\":\"\",\"title\":{\"standoff\":15},\"zerolinecolor\":\"white\",\"automargin\":true,\"zerolinewidth\":2},\"scene\":{\"xaxis\":{\"backgroundcolor\":\"#E5ECF6\",\"gridcolor\":\"white\",\"linecolor\":\"white\",\"showbackground\":true,\"ticks\":\"\",\"zerolinecolor\":\"white\",\"gridwidth\":2},\"yaxis\":{\"backgroundcolor\":\"#E5ECF6\",\"gridcolor\":\"white\",\"linecolor\":\"white\",\"showbackground\":true,\"ticks\":\"\",\"zerolinecolor\":\"white\",\"gridwidth\":2},\"zaxis\":{\"backgroundcolor\":\"#E5ECF6\",\"gridcolor\":\"white\",\"linecolor\":\"white\",\"showbackground\":true,\"ticks\":\"\",\"zerolinecolor\":\"white\",\"gridwidth\":2}},\"shapedefaults\":{\"line\":{\"color\":\"#2a3f5f\"}},\"annotationdefaults\":{\"arrowcolor\":\"#2a3f5f\",\"arrowhead\":0,\"arrowwidth\":1},\"geo\":{\"bgcolor\":\"white\",\"landcolor\":\"#E5ECF6\",\"subunitcolor\":\"white\",\"showland\":true,\"showlakes\":true,\"lakecolor\":\"white\"},\"title\":{\"x\":0.05},\"mapbox\":{\"style\":\"light\"}}},\"xaxis\":{\"anchor\":\"y\",\"domain\":[0.0,0.45]},\"yaxis\":{\"anchor\":\"x\",\"domain\":[0.0,1.0]},\"xaxis2\":{\"anchor\":\"y2\",\"domain\":[0.55,1.0]},\"yaxis2\":{\"anchor\":\"x2\",\"domain\":[0.0,1.0]},\"annotations\":[{\"font\":{\"size\":16},\"showarrow\":false,\"text\":\"acc\",\"x\":0.225,\"xanchor\":\"center\",\"xref\":\"paper\",\"y\":1.0,\"yanchor\":\"bottom\",\"yref\":\"paper\"},{\"font\":{\"size\":16},\"showarrow\":false,\"text\":\"loss\",\"x\":0.775,\"xanchor\":\"center\",\"xref\":\"paper\",\"y\":1.0,\"yanchor\":\"bottom\",\"yref\":\"paper\"}]},                        {\"responsive\": true}                    ).then(function(){\n",
       "                            \n",
       "var gd = document.getElementById('97e62589-ac05-497c-b3f6-30992348307b');\n",
       "var x = new MutationObserver(function (mutations, observer) {{\n",
       "        var display = window.getComputedStyle(gd).display;\n",
       "        if (!display || display === 'none') {{\n",
       "            console.log([gd, 'removed!']);\n",
       "            Plotly.purge(gd);\n",
       "            observer.disconnect();\n",
       "        }}\n",
       "}});\n",
       "\n",
       "// Listen for the removal of the full notebook cells\n",
       "var notebookContainer = gd.closest('#notebook-container');\n",
       "if (notebookContainer) {{\n",
       "    x.observe(notebookContainer, {childList: true});\n",
       "}}\n",
       "\n",
       "// Listen for the clearing of the current output cell\n",
       "var outputEl = gd.closest('.output');\n",
       "if (outputEl) {{\n",
       "    x.observe(outputEl, {childList: true});\n",
       "}}\n",
       "\n",
       "                        })                };                            </script>        </div>\n",
       "</body>\n",
       "</html>"
      ]
     },
     "metadata": {},
     "output_type": "display_data"
    }
   ],
   "source": [
    "from core.dl_framework.utils import plot_history\n",
    "plot_history(learn.history)"
   ]
  },
  {
   "cell_type": "code",
   "execution_count": 7,
   "metadata": {},
   "outputs": [
    {
     "data": {
      "text/html": [
       "        <script type=\"text/javascript\">\n",
       "        window.PlotlyConfig = {MathJaxConfig: 'local'};\n",
       "        if (window.MathJax) {MathJax.Hub.Config({SVG: {font: \"STIX-Web\"}});}\n",
       "        if (typeof require !== 'undefined') {\n",
       "        require.undef(\"plotly\");\n",
       "        requirejs.config({\n",
       "            paths: {\n",
       "                'plotly': ['https://cdn.plot.ly/plotly-2.11.1.min']\n",
       "            }\n",
       "        });\n",
       "        require(['plotly'], function(Plotly) {\n",
       "            window._Plotly = Plotly;\n",
       "        });\n",
       "        }\n",
       "        </script>\n",
       "        "
      ]
     },
     "metadata": {},
     "output_type": "display_data"
    },
    {
     "data": {
      "text/html": [
       "<div>                            <div id=\"d91d2287-6e8d-4043-ac2e-341b4e69ad45\" class=\"plotly-graph-div\" style=\"height:525px; width:100%;\"></div>            <script type=\"text/javascript\">                require([\"plotly\"], function(Plotly) {                    window.PLOTLYENV=window.PLOTLYENV || {};                                    if (document.getElementById(\"d91d2287-6e8d-4043-ac2e-341b4e69ad45\")) {                    Plotly.newPlot(                        \"d91d2287-6e8d-4043-ac2e-341b4e69ad45\",                        [{\"name\":\"valid_acc\",\"x\":[1,2,3,4,5,6,7,8,9,10,11,12,13,14,15,16,17,18,19,20,21,22,23,24,25,26,27,28,29,30,31,32,33,34,35,36,37,38,39,40,41,42,43,44,45,46,47,48,49,50,51,52,53,54,55,56,57,58,59,60,61,62,63,64,65,66,67,68,69,70,71,72,73,74,75,76,77,78,79,80,81,82],\"y\":[0.8960561497326203,0.9349933155080213,0.9506183155080213,0.9593917112299465,0.9652406417112299,0.9696691176470589,0.9726771390374331,0.9750167112299465,0.977105614973262,0.9784425133689839,0.9803643048128342,0.9815340909090909,0.982620320855615,0.9833723262032086,0.9845421122994652,0.9853776737967914,0.9853776737967914,0.9858790106951871,0.9862967914438503,0.9865474598930482,0.9865474598930482,0.9871323529411765,0.9871323529411765,0.9876336898395722,0.9876336898395722,0.9878843582887701,0.9879679144385026,0.9879679144385026,0.9882185828877005,0.9883021390374331,0.9881350267379679,0.9880514705882353,0.9881350267379679,0.9881350267379679,0.9881350267379679,0.9882185828877005,0.9884692513368984,0.9884692513368984,0.9887199197860963,0.988552807486631,0.9887199197860963,0.9888034759358288,0.9890541443850267,0.9893048128342246,0.9894719251336899,0.9895554812834224,0.9895554812834224,0.9896390374331551,0.9897225935828877,0.9898897058823529,0.9900568181818182,0.9900568181818182,0.9901403743315508,0.9901403743315508,0.9902239304812834,0.9902239304812834,0.9901403743315508,0.9901403743315508,0.9903910427807486,0.9903910427807486,0.9905581550802139,0.9905581550802139,0.9905581550802139,0.9906417112299465,0.9907252673796791,0.9906417112299465,0.9907252673796791,0.9906417112299465,0.9907252673796791,0.9907252673796791,0.9907252673796791,0.9907252673796791,0.9908088235294118,0.9908088235294118,0.9907252673796791,0.9908923796791443,0.9908088235294118,0.9907252673796791,0.9907252673796791,0.9908088235294118,0.9907252673796791,0.9906417112299465],\"type\":\"scatter\",\"xaxis\":\"x\",\"yaxis\":\"y\"},{\"name\":\"valid_loss\",\"x\":[1,2,3,4,5,6,7,8,9,10,11,12,13,14,15,16,17,18,19,20,21,22,23,24,25,26,27,28,29,30,31,32,33,34,35,36,37,38,39,40,41,42,43,44,45,46,47,48,49,50,51,52,53,54,55,56,57,58,59,60,61,62,63,64,65,66,67,68,69,70,71,72,73,74,75,76,77,78,79,80,81,82],\"y\":[0.7172743719529341,0.3937845144042357,0.27425490072704256,0.21138266991963361,0.17219875886398842,0.14547882083663966,0.1262924068951033,0.11202076996831015,0.10101483248293719,0.09229008589477782,0.08527095290647949,0.07950358477764748,0.07464826796801492,0.07056471902657957,0.06704296533735518,0.06399643821841017,0.06133588095927701,0.058975749151073995,0.056897969809385704,0.05502961484097781,0.05331008478919452,0.05178486074963435,0.050383236264202366,0.049115381415256044,0.047932944631572556,0.04684061072592469,0.045836119050966864,0.04490409815001655,0.04402383482880532,0.043196961360878965,0.0424252360421706,0.041727719386481746,0.041069230328707455,0.04046707424175811,0.03987836332513607,0.0393458602683529,0.03883190096460562,0.03836012630534164,0.03791678881641218,0.03750436850835913,0.03711177694504174,0.036741948705838925,0.036386844717006,0.0360417596928596,0.03573196280105189,0.03543778162581577,0.03514046326247268,0.0348600132097017,0.03463549844554581,0.034364485593990766,0.03414323864029073,0.03393491671637278,0.033728407932455365,0.033531890123743906,0.033351514718176566,0.03317090127129048,0.032981115348828846,0.032816504167186164,0.03266797424605326,0.03252170179730261,0.03237605747644775,0.03225820441699193,0.03210847149385179,0.032015548734166184,0.031900959245656384,0.031794726031516146,0.031704833105400725,0.03159983872490771,0.0315077689405964,0.03142438351206561,0.031344809598989165,0.031273653585386564,0.031187724299046565,0.03112348175344909,0.031050285182826043,0.03103155505991003,0.030996786998236242,0.030949386034066224,0.030934644682472322,0.03091659930109465,0.030883944979034624,0.030890587427345836],\"type\":\"scatter\",\"xaxis\":\"x2\",\"yaxis\":\"y2\"},{\"name\":\"train_loss\",\"x\":[1,2,3,4,5,6,7,8,9,10,11,12,13,14,15,16,17,18,19,20,21,22,23,24,25,26,27,28,29,30,31,32,33,34,35,36,37,38,39,40,41,42,43,44,45,46,47,48,49,50,51,52,53,54,55,56,57,58,59,60,61,62,63,64,65,66,67,68,69,70,71,72,73,74,75,76,77,78,79,80,81,82],\"y\":[1.34316002480189,0.5240956885417303,0.3286109706958135,0.24240285220742225,0.19264462769031523,0.1598469042479992,0.13646395924687385,0.11902066901326179,0.10555085531373819,0.09484668139368296,0.08614508644243081,0.07891991075128317,0.0728075006591777,0.06756377285346389,0.06300633021940788,0.05899975301449498,0.055443713600436845,0.05226730567589402,0.0494039754755795,0.04680126385701199,0.044421767437830564,0.042232454666867855,0.040213800962393485,0.038348383139818906,0.03661210110969842,0.034991666541124386,0.03347087979130447,0.03204375271685422,0.03069171214538316,0.02941979563422501,0.028216264959114293,0.027074418135297797,0.025987030245674152,0.024954819578056533,0.023970667007379234,0.023026227163150906,0.022128672261722385,0.021266116020890572,0.020437112147609394,0.01964478913663576,0.018887437392647068,0.018158736985487242,0.017455486250420413,0.016781279685751844,0.01613192352404197,0.015507621693735322,0.014904102846669653,0.014323813289559137,0.01376567732092614,0.013224362442735582,0.012703272224403917,0.012199413053070506,0.011715646733840306,0.01124362933433925,0.010792618614699072,0.01035510626101556,0.009931740063475445,0.009525294330436737,0.009130950480078658,0.008751061621820554,0.008383680225117133,0.008028675200883299,0.007687355321754391,0.0073571919355696685,0.007041476166108623,0.006734242853902591,0.006438196554663591,0.006157295852084644,0.005881463153171353,0.005618786049812721,0.005365303967846557,0.005121448601790083,0.004885867043437126,0.004661168547502408,0.004441836505274598,0.004235559481778182,0.004033318896312267,0.003840664047631435,0.003656294644034157,0.0034781121300378193,0.0033077301167456124,0.0031439397816623873],\"type\":\"scatter\",\"xaxis\":\"x2\",\"yaxis\":\"y2\"}],                        {\"template\":{\"data\":{\"histogram2dcontour\":[{\"type\":\"histogram2dcontour\",\"colorbar\":{\"outlinewidth\":0,\"ticks\":\"\"},\"colorscale\":[[0.0,\"#0d0887\"],[0.1111111111111111,\"#46039f\"],[0.2222222222222222,\"#7201a8\"],[0.3333333333333333,\"#9c179e\"],[0.4444444444444444,\"#bd3786\"],[0.5555555555555556,\"#d8576b\"],[0.6666666666666666,\"#ed7953\"],[0.7777777777777778,\"#fb9f3a\"],[0.8888888888888888,\"#fdca26\"],[1.0,\"#f0f921\"]]}],\"choropleth\":[{\"type\":\"choropleth\",\"colorbar\":{\"outlinewidth\":0,\"ticks\":\"\"}}],\"histogram2d\":[{\"type\":\"histogram2d\",\"colorbar\":{\"outlinewidth\":0,\"ticks\":\"\"},\"colorscale\":[[0.0,\"#0d0887\"],[0.1111111111111111,\"#46039f\"],[0.2222222222222222,\"#7201a8\"],[0.3333333333333333,\"#9c179e\"],[0.4444444444444444,\"#bd3786\"],[0.5555555555555556,\"#d8576b\"],[0.6666666666666666,\"#ed7953\"],[0.7777777777777778,\"#fb9f3a\"],[0.8888888888888888,\"#fdca26\"],[1.0,\"#f0f921\"]]}],\"heatmap\":[{\"type\":\"heatmap\",\"colorbar\":{\"outlinewidth\":0,\"ticks\":\"\"},\"colorscale\":[[0.0,\"#0d0887\"],[0.1111111111111111,\"#46039f\"],[0.2222222222222222,\"#7201a8\"],[0.3333333333333333,\"#9c179e\"],[0.4444444444444444,\"#bd3786\"],[0.5555555555555556,\"#d8576b\"],[0.6666666666666666,\"#ed7953\"],[0.7777777777777778,\"#fb9f3a\"],[0.8888888888888888,\"#fdca26\"],[1.0,\"#f0f921\"]]}],\"heatmapgl\":[{\"type\":\"heatmapgl\",\"colorbar\":{\"outlinewidth\":0,\"ticks\":\"\"},\"colorscale\":[[0.0,\"#0d0887\"],[0.1111111111111111,\"#46039f\"],[0.2222222222222222,\"#7201a8\"],[0.3333333333333333,\"#9c179e\"],[0.4444444444444444,\"#bd3786\"],[0.5555555555555556,\"#d8576b\"],[0.6666666666666666,\"#ed7953\"],[0.7777777777777778,\"#fb9f3a\"],[0.8888888888888888,\"#fdca26\"],[1.0,\"#f0f921\"]]}],\"contourcarpet\":[{\"type\":\"contourcarpet\",\"colorbar\":{\"outlinewidth\":0,\"ticks\":\"\"}}],\"contour\":[{\"type\":\"contour\",\"colorbar\":{\"outlinewidth\":0,\"ticks\":\"\"},\"colorscale\":[[0.0,\"#0d0887\"],[0.1111111111111111,\"#46039f\"],[0.2222222222222222,\"#7201a8\"],[0.3333333333333333,\"#9c179e\"],[0.4444444444444444,\"#bd3786\"],[0.5555555555555556,\"#d8576b\"],[0.6666666666666666,\"#ed7953\"],[0.7777777777777778,\"#fb9f3a\"],[0.8888888888888888,\"#fdca26\"],[1.0,\"#f0f921\"]]}],\"surface\":[{\"type\":\"surface\",\"colorbar\":{\"outlinewidth\":0,\"ticks\":\"\"},\"colorscale\":[[0.0,\"#0d0887\"],[0.1111111111111111,\"#46039f\"],[0.2222222222222222,\"#7201a8\"],[0.3333333333333333,\"#9c179e\"],[0.4444444444444444,\"#bd3786\"],[0.5555555555555556,\"#d8576b\"],[0.6666666666666666,\"#ed7953\"],[0.7777777777777778,\"#fb9f3a\"],[0.8888888888888888,\"#fdca26\"],[1.0,\"#f0f921\"]]}],\"mesh3d\":[{\"type\":\"mesh3d\",\"colorbar\":{\"outlinewidth\":0,\"ticks\":\"\"}}],\"scatter\":[{\"fillpattern\":{\"fillmode\":\"overlay\",\"size\":10,\"solidity\":0.2},\"type\":\"scatter\"}],\"parcoords\":[{\"type\":\"parcoords\",\"line\":{\"colorbar\":{\"outlinewidth\":0,\"ticks\":\"\"}}}],\"scatterpolargl\":[{\"type\":\"scatterpolargl\",\"marker\":{\"colorbar\":{\"outlinewidth\":0,\"ticks\":\"\"}}}],\"bar\":[{\"error_x\":{\"color\":\"#2a3f5f\"},\"error_y\":{\"color\":\"#2a3f5f\"},\"marker\":{\"line\":{\"color\":\"#E5ECF6\",\"width\":0.5},\"pattern\":{\"fillmode\":\"overlay\",\"size\":10,\"solidity\":0.2}},\"type\":\"bar\"}],\"scattergeo\":[{\"type\":\"scattergeo\",\"marker\":{\"colorbar\":{\"outlinewidth\":0,\"ticks\":\"\"}}}],\"scatterpolar\":[{\"type\":\"scatterpolar\",\"marker\":{\"colorbar\":{\"outlinewidth\":0,\"ticks\":\"\"}}}],\"histogram\":[{\"marker\":{\"pattern\":{\"fillmode\":\"overlay\",\"size\":10,\"solidity\":0.2}},\"type\":\"histogram\"}],\"scattergl\":[{\"type\":\"scattergl\",\"marker\":{\"colorbar\":{\"outlinewidth\":0,\"ticks\":\"\"}}}],\"scatter3d\":[{\"type\":\"scatter3d\",\"line\":{\"colorbar\":{\"outlinewidth\":0,\"ticks\":\"\"}},\"marker\":{\"colorbar\":{\"outlinewidth\":0,\"ticks\":\"\"}}}],\"scattermapbox\":[{\"type\":\"scattermapbox\",\"marker\":{\"colorbar\":{\"outlinewidth\":0,\"ticks\":\"\"}}}],\"scatterternary\":[{\"type\":\"scatterternary\",\"marker\":{\"colorbar\":{\"outlinewidth\":0,\"ticks\":\"\"}}}],\"scattercarpet\":[{\"type\":\"scattercarpet\",\"marker\":{\"colorbar\":{\"outlinewidth\":0,\"ticks\":\"\"}}}],\"carpet\":[{\"aaxis\":{\"endlinecolor\":\"#2a3f5f\",\"gridcolor\":\"white\",\"linecolor\":\"white\",\"minorgridcolor\":\"white\",\"startlinecolor\":\"#2a3f5f\"},\"baxis\":{\"endlinecolor\":\"#2a3f5f\",\"gridcolor\":\"white\",\"linecolor\":\"white\",\"minorgridcolor\":\"white\",\"startlinecolor\":\"#2a3f5f\"},\"type\":\"carpet\"}],\"table\":[{\"cells\":{\"fill\":{\"color\":\"#EBF0F8\"},\"line\":{\"color\":\"white\"}},\"header\":{\"fill\":{\"color\":\"#C8D4E3\"},\"line\":{\"color\":\"white\"}},\"type\":\"table\"}],\"barpolar\":[{\"marker\":{\"line\":{\"color\":\"#E5ECF6\",\"width\":0.5},\"pattern\":{\"fillmode\":\"overlay\",\"size\":10,\"solidity\":0.2}},\"type\":\"barpolar\"}],\"pie\":[{\"automargin\":true,\"type\":\"pie\"}]},\"layout\":{\"autotypenumbers\":\"strict\",\"colorway\":[\"#636efa\",\"#EF553B\",\"#00cc96\",\"#ab63fa\",\"#FFA15A\",\"#19d3f3\",\"#FF6692\",\"#B6E880\",\"#FF97FF\",\"#FECB52\"],\"font\":{\"color\":\"#2a3f5f\"},\"hovermode\":\"closest\",\"hoverlabel\":{\"align\":\"left\"},\"paper_bgcolor\":\"white\",\"plot_bgcolor\":\"#E5ECF6\",\"polar\":{\"bgcolor\":\"#E5ECF6\",\"angularaxis\":{\"gridcolor\":\"white\",\"linecolor\":\"white\",\"ticks\":\"\"},\"radialaxis\":{\"gridcolor\":\"white\",\"linecolor\":\"white\",\"ticks\":\"\"}},\"ternary\":{\"bgcolor\":\"#E5ECF6\",\"aaxis\":{\"gridcolor\":\"white\",\"linecolor\":\"white\",\"ticks\":\"\"},\"baxis\":{\"gridcolor\":\"white\",\"linecolor\":\"white\",\"ticks\":\"\"},\"caxis\":{\"gridcolor\":\"white\",\"linecolor\":\"white\",\"ticks\":\"\"}},\"coloraxis\":{\"colorbar\":{\"outlinewidth\":0,\"ticks\":\"\"}},\"colorscale\":{\"sequential\":[[0.0,\"#0d0887\"],[0.1111111111111111,\"#46039f\"],[0.2222222222222222,\"#7201a8\"],[0.3333333333333333,\"#9c179e\"],[0.4444444444444444,\"#bd3786\"],[0.5555555555555556,\"#d8576b\"],[0.6666666666666666,\"#ed7953\"],[0.7777777777777778,\"#fb9f3a\"],[0.8888888888888888,\"#fdca26\"],[1.0,\"#f0f921\"]],\"sequentialminus\":[[0.0,\"#0d0887\"],[0.1111111111111111,\"#46039f\"],[0.2222222222222222,\"#7201a8\"],[0.3333333333333333,\"#9c179e\"],[0.4444444444444444,\"#bd3786\"],[0.5555555555555556,\"#d8576b\"],[0.6666666666666666,\"#ed7953\"],[0.7777777777777778,\"#fb9f3a\"],[0.8888888888888888,\"#fdca26\"],[1.0,\"#f0f921\"]],\"diverging\":[[0,\"#8e0152\"],[0.1,\"#c51b7d\"],[0.2,\"#de77ae\"],[0.3,\"#f1b6da\"],[0.4,\"#fde0ef\"],[0.5,\"#f7f7f7\"],[0.6,\"#e6f5d0\"],[0.7,\"#b8e186\"],[0.8,\"#7fbc41\"],[0.9,\"#4d9221\"],[1,\"#276419\"]]},\"xaxis\":{\"gridcolor\":\"white\",\"linecolor\":\"white\",\"ticks\":\"\",\"title\":{\"standoff\":15},\"zerolinecolor\":\"white\",\"automargin\":true,\"zerolinewidth\":2},\"yaxis\":{\"gridcolor\":\"white\",\"linecolor\":\"white\",\"ticks\":\"\",\"title\":{\"standoff\":15},\"zerolinecolor\":\"white\",\"automargin\":true,\"zerolinewidth\":2},\"scene\":{\"xaxis\":{\"backgroundcolor\":\"#E5ECF6\",\"gridcolor\":\"white\",\"linecolor\":\"white\",\"showbackground\":true,\"ticks\":\"\",\"zerolinecolor\":\"white\",\"gridwidth\":2},\"yaxis\":{\"backgroundcolor\":\"#E5ECF6\",\"gridcolor\":\"white\",\"linecolor\":\"white\",\"showbackground\":true,\"ticks\":\"\",\"zerolinecolor\":\"white\",\"gridwidth\":2},\"zaxis\":{\"backgroundcolor\":\"#E5ECF6\",\"gridcolor\":\"white\",\"linecolor\":\"white\",\"showbackground\":true,\"ticks\":\"\",\"zerolinecolor\":\"white\",\"gridwidth\":2}},\"shapedefaults\":{\"line\":{\"color\":\"#2a3f5f\"}},\"annotationdefaults\":{\"arrowcolor\":\"#2a3f5f\",\"arrowhead\":0,\"arrowwidth\":1},\"geo\":{\"bgcolor\":\"white\",\"landcolor\":\"#E5ECF6\",\"subunitcolor\":\"white\",\"showland\":true,\"showlakes\":true,\"lakecolor\":\"white\"},\"title\":{\"x\":0.05},\"mapbox\":{\"style\":\"light\"}}},\"xaxis\":{\"anchor\":\"y\",\"domain\":[0.0,0.45]},\"yaxis\":{\"anchor\":\"x\",\"domain\":[0.0,1.0]},\"xaxis2\":{\"anchor\":\"y2\",\"domain\":[0.55,1.0]},\"yaxis2\":{\"anchor\":\"x2\",\"domain\":[0.0,1.0]},\"annotations\":[{\"font\":{\"size\":16},\"showarrow\":false,\"text\":\"acc\",\"x\":0.225,\"xanchor\":\"center\",\"xref\":\"paper\",\"y\":1.0,\"yanchor\":\"bottom\",\"yref\":\"paper\"},{\"font\":{\"size\":16},\"showarrow\":false,\"text\":\"loss\",\"x\":0.775,\"xanchor\":\"center\",\"xref\":\"paper\",\"y\":1.0,\"yanchor\":\"bottom\",\"yref\":\"paper\"}]},                        {\"responsive\": true}                    ).then(function(){\n",
       "                            \n",
       "var gd = document.getElementById('d91d2287-6e8d-4043-ac2e-341b4e69ad45');\n",
       "var x = new MutationObserver(function (mutations, observer) {{\n",
       "        var display = window.getComputedStyle(gd).display;\n",
       "        if (!display || display === 'none') {{\n",
       "            console.log([gd, 'removed!']);\n",
       "            Plotly.purge(gd);\n",
       "            observer.disconnect();\n",
       "        }}\n",
       "}});\n",
       "\n",
       "// Listen for the removal of the full notebook cells\n",
       "var notebookContainer = gd.closest('#notebook-container');\n",
       "if (notebookContainer) {{\n",
       "    x.observe(notebookContainer, {childList: true});\n",
       "}}\n",
       "\n",
       "// Listen for the clearing of the current output cell\n",
       "var outputEl = gd.closest('.output');\n",
       "if (outputEl) {{\n",
       "    x.observe(outputEl, {childList: true});\n",
       "}}\n",
       "\n",
       "                        })                };                });            </script>        </div>"
      ]
     },
     "metadata": {},
     "output_type": "display_data"
    }
   ],
   "source": [
    "# !pip install plotly\n",
    "import plotly.io as pio\n",
    "pio.renderers.default = \"notebook_connected\"\n",
    "import pandas as pd\n",
    "import plotly.express as px\n",
    "from plotly.subplots import make_subplots\n",
    "import plotly.graph_objects as go\n",
    "# def print_history(history):\n",
    "history = learn.history\n",
    "\n",
    "implemented_metric = [\"acc\", \"loss\"]\n",
    "plot_dict = {}\n",
    "for met in implemented_metric:\n",
    "    plot_dict[met] = [s for s in history if met in s]\n",
    "\n",
    "fig = make_subplots(rows=1, cols=len(plot_dict), subplot_titles=list(plot_dict.keys()))\n",
    "\n",
    "for idx, (met, mets) in enumerate(plot_dict.items()):\n",
    "    for key in mets:\n",
    "        fig.add_trace(go.Scatter(x=history.index, y=history[key].values, name=key), row=1, col=idx+1 )\n",
    "    # break\n",
    "# learn.history.keys()[0]\n",
    "# fig.update_layout(title_text=\"test\")\n",
    "fig.show()"
   ]
  },
  {
   "cell_type": "code",
   "execution_count": 17,
   "metadata": {},
   "outputs": [
    {
     "data": {
      "text/plain": [
       "['acc', 'loss']"
      ]
     },
     "execution_count": 17,
     "metadata": {},
     "output_type": "execute_result"
    }
   ],
   "source": [
    "list(plot_dict.keys())"
   ]
  },
  {
   "cell_type": "code",
   "execution_count": null,
   "metadata": {},
   "outputs": [],
   "source": []
  },
  {
   "cell_type": "code",
   "execution_count": 22,
   "metadata": {},
   "outputs": [
    {
     "data": {
      "text/plain": [
       "__main__.test_class"
      ]
     },
     "execution_count": 22,
     "metadata": {},
     "output_type": "execute_result"
    }
   ],
   "source": [
    "globals()[\"test_class\"]\n"
   ]
  },
  {
   "cell_type": "code",
   "execution_count": 29,
   "metadata": {},
   "outputs": [
    {
     "name": "stdout",
     "output_type": "stream",
     "text": [
      "1.57 µs ± 284 ns per loop (mean ± std. dev. of 7 runs, 100000 loops each)\n"
     ]
    }
   ],
   "source": [
    "%%timeit\n",
    "test_num.max()"
   ]
  },
  {
   "cell_type": "code",
   "execution_count": 41,
   "metadata": {},
   "outputs": [
    {
     "name": "stdout",
     "output_type": "stream",
     "text": [
      "281 ns ± 10.7 ns per loop (mean ± std. dev. of 7 runs, 1000000 loops each)\n"
     ]
    }
   ],
   "source": [
    "%%timeit\n",
    "max(test_dict[\"test\"])\n"
   ]
  },
  {
   "cell_type": "code",
   "execution_count": 47,
   "metadata": {},
   "outputs": [
    {
     "data": {
      "text/plain": [
       "<function __main__.test_class.attr(self)>"
      ]
     },
     "execution_count": 47,
     "metadata": {},
     "output_type": "execute_result"
    }
   ],
   "source": [
    "import types\n",
    "class test_class():\n",
    "    def __init__(self, a):\n",
    "        self.attr = a\n",
    "    \n",
    "    def attr(self):\n",
    "        pass\n",
    "\n",
    "test = test_class(1)\n",
    "\n",
    "getattr(test_class, \"attr\")"
   ]
  },
  {
   "cell_type": "code",
   "execution_count": 35,
   "metadata": {},
   "outputs": [
    {
     "name": "stdout",
     "output_type": "stream",
     "text": [
      "2.09 µs ± 52.2 ns per loop (mean ± std. dev. of 7 runs, 100000 loops each)\n"
     ]
    }
   ],
   "source": [
    "%%timeit\n",
    "test1.sum()"
   ]
  },
  {
   "cell_type": "code",
   "execution_count": 32,
   "metadata": {},
   "outputs": [],
   "source": [
    "import numpy as np"
   ]
  },
  {
   "cell_type": "code",
   "execution_count": 16,
   "metadata": {},
   "outputs": [
    {
     "data": {
      "text/plain": [
       "{'a': 1, 's': 123}"
      ]
     },
     "execution_count": 16,
     "metadata": {},
     "output_type": "execute_result"
    }
   ],
   "source": [
    "class test1:\n",
    "    def __init__(self, a):\n",
    "        self.a = a\n",
    "    def test_func(self):\n",
    "        return self.a\n",
    "a = test1(1)\n",
    "setattr(a, \"s\", 123)\n",
    "vars(a)"
   ]
  },
  {
   "cell_type": "code",
   "execution_count": 17,
   "metadata": {},
   "outputs": [
    {
     "ename": "NameError",
     "evalue": "name 'Monitor_Cb' is not defined",
     "output_type": "error",
     "traceback": [
      "\u001b[0;31m---------------------------------------------------------------------------\u001b[0m",
      "\u001b[0;31mNameError\u001b[0m                                 Traceback (most recent call last)",
      "\u001b[0;32m/tmp/ipykernel_8033/1156614540.py\u001b[0m in \u001b[0;36m<module>\u001b[0;34m\u001b[0m\n\u001b[0;32m----> 1\u001b[0;31m \u001b[0mmonitor\u001b[0m \u001b[0;34m=\u001b[0m \u001b[0mMonitor_Cb\u001b[0m\u001b[0;34m(\u001b[0m\u001b[0;34m[\u001b[0m\u001b[0;34m\"val_acc\"\u001b[0m\u001b[0;34m]\u001b[0m\u001b[0;34m)\u001b[0m\u001b[0;34m\u001b[0m\u001b[0m\n\u001b[0m\u001b[1;32m      2\u001b[0m \u001b[0mearly\u001b[0m \u001b[0;34m=\u001b[0m \u001b[0mEarlyStopping_Cb\u001b[0m\u001b[0;34m(\u001b[0m\u001b[0mmonitor\u001b[0m\u001b[0;34m=\u001b[0m\u001b[0;34m\"val_loss\"\u001b[0m\u001b[0;34m)\u001b[0m\u001b[0;34m\u001b[0m\u001b[0m\n\u001b[1;32m      3\u001b[0m \u001b[0mrecorder\u001b[0m \u001b[0;34m=\u001b[0m \u001b[0mRecorder_Cb\u001b[0m\u001b[0;34m(\u001b[0m\u001b[0;34m\"hi\"\u001b[0m\u001b[0;34m)\u001b[0m\u001b[0;34m\u001b[0m\u001b[0m\n\u001b[1;32m      4\u001b[0m \u001b[0mcbh\u001b[0m \u001b[0;34m=\u001b[0m \u001b[0mCallbackHandler\u001b[0m\u001b[0;34m(\u001b[0m\u001b[0;34m[\u001b[0m\u001b[0mmonitor\u001b[0m\u001b[0;34m,\u001b[0m \u001b[0mearly\u001b[0m\u001b[0;34m,\u001b[0m \u001b[0mrecorder\u001b[0m\u001b[0;34m]\u001b[0m\u001b[0;34m)\u001b[0m\u001b[0;34m\u001b[0m\u001b[0m\n\u001b[1;32m      5\u001b[0m \u001b[0mcbh\u001b[0m\u001b[0;34m.\u001b[0m\u001b[0mMonitor_Cb\u001b[0m\u001b[0;34m.\u001b[0m\u001b[0mlearn\u001b[0m\u001b[0;34m\u001b[0m\u001b[0m\n",
      "\u001b[0;31mNameError\u001b[0m: name 'Monitor_Cb' is not defined"
     ]
    }
   ],
   "source": [
    "monitor = Monitor_Cb([\"val_acc\"])\n",
    "early = EarlyStopping_Cb(monitor=\"val_loss\")\n",
    "recorder = Recorder_Cb(\"hi\")\n",
    "cbh = CallbackHandler([monitor, early, recorder])\n",
    "cbh.Monitor_Cb.learn\n"
   ]
  },
  {
   "cell_type": "code",
   "execution_count": 9,
   "metadata": {},
   "outputs": [
    {
     "name": "stdout",
     "output_type": "stream",
     "text": [
      "a\n"
     ]
    }
   ],
   "source": [
    "a = [\"a\"]\n",
    "for i in a[:4]:\n",
    "    print(i)"
   ]
  }
 ],
 "metadata": {
  "interpreter": {
   "hash": "fd69f43f58546b570e94fd7eba7b65e6bcc7a5bbc4eab0408017d18902915d69"
  },
  "kernelspec": {
   "display_name": "Python 3.7.13 64-bit",
   "language": "python",
   "name": "python3"
  },
  "language_info": {
   "codemirror_mode": {
    "name": "ipython",
    "version": 3
   },
   "file_extension": ".py",
   "mimetype": "text/x-python",
   "name": "python",
   "nbconvert_exporter": "python",
   "pygments_lexer": "ipython3",
   "version": "3.7.0"
  },
  "orig_nbformat": 4
 },
 "nbformat": 4,
 "nbformat_minor": 2
}
