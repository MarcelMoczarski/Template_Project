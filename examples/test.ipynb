{
 "cells": [
  {
   "cell_type": "code",
   "execution_count": 1,
   "metadata": {},
   "outputs": [
    {
     "name": "stderr",
     "output_type": "stream",
     "text": [
      "/usr/local/lib/python3.7/site-packages/tqdm/auto.py:22: TqdmWarning: IProgress not found. Please update jupyter and ipywidgets. See https://ipywidgets.readthedocs.io/en/stable/user_install.html\n",
      "  from .autonotebook import tqdm as notebook_tqdm\n"
     ]
    }
   ],
   "source": [
    "%reload_ext autoreload\n",
    "%autoreload 2\n",
    "os.chdir(\"..\")\n",
    "import toml\n",
    "from core.dl_framework.utils import read_config"
   ]
  },
  {
   "cell_type": "code",
   "execution_count": 2,
   "metadata": {},
   "outputs": [
    {
     "name": "stdout",
     "output_type": "stream",
     "text": [
      "/content/Template_Project\n"
     ]
    }
   ],
   "source": [
    "%%bash \n",
    "pwd"
   ]
  },
  {
   "cell_type": "code",
   "execution_count": 26,
   "metadata": {},
   "outputs": [],
   "source": [
    "config_file = toml.load(\"configs/default_train_config.toml\")\n",
    "setup_config = read_config(config_file)"
   ]
  },
  {
   "cell_type": "code",
   "execution_count": 27,
   "metadata": {},
   "outputs": [
    {
     "name": "stderr",
     "output_type": "stream",
     "text": [
      "100%|██████████| 750/750 [00:02<00:00, 310.21it/s]\n",
      "100%|██████████| 187/187 [00:00<00:00, 1198.27it/s]\n"
     ]
    },
    {
     "name": "stdout",
     "output_type": "stream",
     "text": [
      "epoch: 1/1000\t[valid_acc: 0.8979\tvalid_loss: 0.6916\ttrain_loss: 1.2671]\n"
     ]
    },
    {
     "name": "stderr",
     "output_type": "stream",
     "text": [
      "100%|██████████| 750/750 [00:02<00:00, 301.69it/s]\n",
      "100%|██████████| 187/187 [00:00<00:00, 1191.65it/s]\n"
     ]
    },
    {
     "name": "stdout",
     "output_type": "stream",
     "text": [
      "epoch: 2/1000\t[valid_acc: 0.9367\tvalid_loss: 0.3832\ttrain_loss: 0.5088]\n",
      "new best: valid_loss 0.38323616073093314\n",
      "0\n"
     ]
    },
    {
     "name": "stderr",
     "output_type": "stream",
     "text": [
      "100%|██████████| 750/750 [00:02<00:00, 301.46it/s]\n",
      "100%|██████████| 187/187 [00:00<00:00, 1201.81it/s]\n"
     ]
    },
    {
     "name": "stdout",
     "output_type": "stream",
     "text": [
      "epoch: 3/1000\t[valid_acc: 0.9499\tvalid_loss: 0.2691\ttrain_loss: 0.3183]\n",
      "new best: valid_loss 0.2691462047916045\n",
      "0\n"
     ]
    },
    {
     "name": "stderr",
     "output_type": "stream",
     "text": [
      "100%|██████████| 750/750 [00:02<00:00, 308.91it/s]\n",
      "100%|██████████| 187/187 [00:00<00:00, 881.40it/s] \n"
     ]
    },
    {
     "name": "stdout",
     "output_type": "stream",
     "text": [
      "epoch: 4/1000\t[valid_acc: 0.9571\tvalid_loss: 0.2088\ttrain_loss: 0.2337]\n",
      "new best: valid_loss 0.20875871117739753\n",
      "0\n"
     ]
    },
    {
     "name": "stderr",
     "output_type": "stream",
     "text": [
      "100%|██████████| 750/750 [00:02<00:00, 309.79it/s]\n",
      "100%|██████████| 187/187 [00:00<00:00, 1122.66it/s]\n"
     ]
    },
    {
     "name": "stdout",
     "output_type": "stream",
     "text": [
      "epoch: 5/1000\t[valid_acc: 0.9620\tvalid_loss: 0.1712\ttrain_loss: 0.1846]\n",
      "new best: valid_loss 0.17121374379982923\n",
      "0\n"
     ]
    },
    {
     "name": "stderr",
     "output_type": "stream",
     "text": [
      "100%|██████████| 750/750 [00:02<00:00, 305.78it/s]\n",
      "100%|██████████| 187/187 [00:00<00:00, 1239.09it/s]\n"
     ]
    },
    {
     "name": "stdout",
     "output_type": "stream",
     "text": [
      "epoch: 6/1000\t[valid_acc: 0.9661\tvalid_loss: 0.1455\ttrain_loss: 0.1523]\n",
      "new best: valid_loss 0.14554141463841347\n",
      "0\n"
     ]
    },
    {
     "name": "stderr",
     "output_type": "stream",
     "text": [
      "100%|██████████| 750/750 [00:02<00:00, 304.89it/s]\n",
      "100%|██████████| 187/187 [00:00<00:00, 1104.44it/s]\n"
     ]
    },
    {
     "name": "stdout",
     "output_type": "stream",
     "text": [
      "epoch: 7/1000\t[valid_acc: 0.9702\tvalid_loss: 0.1270\ttrain_loss: 0.1295]\n",
      "new best: valid_loss 0.12701543374734128\n",
      "0\n"
     ]
    },
    {
     "name": "stderr",
     "output_type": "stream",
     "text": [
      "100%|██████████| 750/750 [00:02<00:00, 304.58it/s]\n",
      "100%|██████████| 187/187 [00:00<00:00, 1227.49it/s]\n"
     ]
    },
    {
     "name": "stdout",
     "output_type": "stream",
     "text": [
      "epoch: 8/1000\t[valid_acc: 0.9733\tvalid_loss: 0.1131\ttrain_loss: 0.1125]\n",
      "new best: valid_loss 0.11313629287847861\n",
      "0\n"
     ]
    },
    {
     "name": "stderr",
     "output_type": "stream",
     "text": [
      "100%|██████████| 750/750 [00:02<00:00, 308.35it/s]\n",
      "100%|██████████| 187/187 [00:00<00:00, 1009.78it/s]\n"
     ]
    },
    {
     "name": "stdout",
     "output_type": "stream",
     "text": [
      "epoch: 9/1000\t[valid_acc: 0.9756\tvalid_loss: 0.1024\ttrain_loss: 0.0995]\n",
      "new best: valid_loss 0.10236395907433912\n",
      "0\n"
     ]
    },
    {
     "name": "stderr",
     "output_type": "stream",
     "text": [
      "100%|██████████| 750/750 [00:02<00:00, 308.20it/s]\n",
      "100%|██████████| 187/187 [00:00<00:00, 1196.98it/s]\n"
     ]
    },
    {
     "name": "stdout",
     "output_type": "stream",
     "text": [
      "epoch: 10/1000\t[valid_acc: 0.9768\tvalid_loss: 0.0938\ttrain_loss: 0.0892]\n",
      "new best: valid_loss 0.09382735316288025\n",
      "0\n"
     ]
    },
    {
     "name": "stderr",
     "output_type": "stream",
     "text": [
      "100%|██████████| 750/750 [00:02<00:00, 302.12it/s]\n",
      "100%|██████████| 187/187 [00:00<00:00, 1135.95it/s]\n"
     ]
    },
    {
     "name": "stdout",
     "output_type": "stream",
     "text": [
      "epoch: 11/1000\t[valid_acc: 0.9779\tvalid_loss: 0.0869\ttrain_loss: 0.0808]\n",
      "new best: valid_loss 0.08686238345017726\n",
      "0\n"
     ]
    },
    {
     "name": "stderr",
     "output_type": "stream",
     "text": [
      "100%|██████████| 750/750 [00:02<00:00, 301.61it/s]\n",
      "100%|██████████| 187/187 [00:00<00:00, 1194.40it/s]\n"
     ]
    },
    {
     "name": "stdout",
     "output_type": "stream",
     "text": [
      "epoch: 12/1000\t[valid_acc: 0.9788\tvalid_loss: 0.0811\ttrain_loss: 0.0739]\n",
      "new best: valid_loss 0.08113650049277168\n",
      "0\n"
     ]
    },
    {
     "name": "stderr",
     "output_type": "stream",
     "text": [
      "100%|██████████| 750/750 [00:02<00:00, 304.27it/s]\n",
      "100%|██████████| 187/187 [00:00<00:00, 1176.90it/s]\n"
     ]
    },
    {
     "name": "stdout",
     "output_type": "stream",
     "text": [
      "epoch: 13/1000\t[valid_acc: 0.9794\tvalid_loss: 0.0763\ttrain_loss: 0.0681]\n",
      "new best: valid_loss 0.07632969538955127\n",
      "0\n"
     ]
    },
    {
     "name": "stderr",
     "output_type": "stream",
     "text": [
      "100%|██████████| 750/750 [00:02<00:00, 305.94it/s]\n",
      "100%|██████████| 187/187 [00:00<00:00, 913.12it/s]\n"
     ]
    },
    {
     "name": "stdout",
     "output_type": "stream",
     "text": [
      "epoch: 14/1000\t[valid_acc: 0.9804\tvalid_loss: 0.0722\ttrain_loss: 0.0631]\n",
      "new best: valid_loss 0.07222381640564311\n",
      "0\n"
     ]
    },
    {
     "name": "stderr",
     "output_type": "stream",
     "text": [
      "100%|██████████| 750/750 [00:02<00:00, 311.10it/s]\n",
      "100%|██████████| 187/187 [00:00<00:00, 1201.90it/s]\n"
     ]
    },
    {
     "name": "stdout",
     "output_type": "stream",
     "text": [
      "epoch: 15/1000\t[valid_acc: 0.9813\tvalid_loss: 0.0687\ttrain_loss: 0.0588]\n",
      "new best: valid_loss 0.06867399700185195\n",
      "0\n"
     ]
    },
    {
     "name": "stderr",
     "output_type": "stream",
     "text": [
      "100%|██████████| 750/750 [00:02<00:00, 299.74it/s]\n",
      "100%|██████████| 187/187 [00:00<00:00, 1203.53it/s]\n"
     ]
    },
    {
     "name": "stdout",
     "output_type": "stream",
     "text": [
      "epoch: 16/1000\t[valid_acc: 0.9820\tvalid_loss: 0.0656\ttrain_loss: 0.0550]\n",
      "new best: valid_loss 0.06556643656191023\n",
      "0\n"
     ]
    },
    {
     "name": "stderr",
     "output_type": "stream",
     "text": [
      "100%|██████████| 750/750 [00:02<00:00, 302.93it/s]\n",
      "100%|██████████| 187/187 [00:00<00:00, 1192.86it/s]\n"
     ]
    },
    {
     "name": "stdout",
     "output_type": "stream",
     "text": [
      "epoch: 17/1000\t[valid_acc: 0.9826\tvalid_loss: 0.0628\ttrain_loss: 0.0516]\n",
      "new best: valid_loss 0.06282994097327804\n",
      "0\n"
     ]
    },
    {
     "name": "stderr",
     "output_type": "stream",
     "text": [
      "100%|██████████| 750/750 [00:02<00:00, 300.77it/s]\n",
      "100%|██████████| 187/187 [00:00<00:00, 1199.59it/s]\n"
     ]
    },
    {
     "name": "stdout",
     "output_type": "stream",
     "text": [
      "epoch: 18/1000\t[valid_acc: 0.9830\tvalid_loss: 0.0604\ttrain_loss: 0.0486]\n",
      "new best: valid_loss 0.06042463049033587\n",
      "0\n"
     ]
    },
    {
     "name": "stderr",
     "output_type": "stream",
     "text": [
      "100%|██████████| 750/750 [00:02<00:00, 301.38it/s]\n",
      "100%|██████████| 187/187 [00:00<00:00, 1192.65it/s]\n"
     ]
    },
    {
     "name": "stdout",
     "output_type": "stream",
     "text": [
      "epoch: 19/1000\t[valid_acc: 0.9838\tvalid_loss: 0.0583\ttrain_loss: 0.0459]\n",
      "new best: valid_loss 0.05826295745424568\n",
      "0\n"
     ]
    },
    {
     "name": "stderr",
     "output_type": "stream",
     "text": [
      "100%|██████████| 750/750 [00:02<00:00, 308.89it/s]\n",
      "100%|██████████| 187/187 [00:00<00:00, 1208.57it/s]\n"
     ]
    },
    {
     "name": "stdout",
     "output_type": "stream",
     "text": [
      "epoch: 20/1000\t[valid_acc: 0.9846\tvalid_loss: 0.0563\ttrain_loss: 0.0434]\n",
      "new best: valid_loss 0.056333764037864414\n",
      "0\n"
     ]
    },
    {
     "name": "stderr",
     "output_type": "stream",
     "text": [
      "100%|██████████| 750/750 [00:02<00:00, 304.97it/s]\n",
      "100%|██████████| 187/187 [00:00<00:00, 1098.10it/s]\n"
     ]
    },
    {
     "name": "stdout",
     "output_type": "stream",
     "text": [
      "epoch: 21/1000\t[valid_acc: 0.9848\tvalid_loss: 0.0546\ttrain_loss: 0.0411]\n",
      "new best: valid_loss 0.05459917364094187\n",
      "0\n"
     ]
    },
    {
     "name": "stderr",
     "output_type": "stream",
     "text": [
      "100%|██████████| 750/750 [00:02<00:00, 305.21it/s]\n",
      "100%|██████████| 187/187 [00:00<00:00, 1221.22it/s]\n"
     ]
    },
    {
     "name": "stdout",
     "output_type": "stream",
     "text": [
      "epoch: 22/1000\t[valid_acc: 0.9852\tvalid_loss: 0.0530\ttrain_loss: 0.0390]\n",
      "new best: valid_loss 0.05300967001361165\n",
      "0\n"
     ]
    },
    {
     "name": "stderr",
     "output_type": "stream",
     "text": [
      "100%|██████████| 750/750 [00:02<00:00, 301.64it/s]\n",
      "100%|██████████| 187/187 [00:00<00:00, 1207.07it/s]\n"
     ]
    },
    {
     "name": "stdout",
     "output_type": "stream",
     "text": [
      "epoch: 23/1000\t[valid_acc: 0.9858\tvalid_loss: 0.0516\ttrain_loss: 0.0371]\n",
      "new best: valid_loss 0.051566325372114856\n",
      "0\n"
     ]
    },
    {
     "name": "stderr",
     "output_type": "stream",
     "text": [
      "100%|██████████| 750/750 [00:02<00:00, 313.55it/s]\n",
      "100%|██████████| 187/187 [00:00<00:00, 1160.50it/s]\n"
     ]
    },
    {
     "name": "stdout",
     "output_type": "stream",
     "text": [
      "epoch: 24/1000\t[valid_acc: 0.9864\tvalid_loss: 0.0502\ttrain_loss: 0.0353]\n",
      "new best: valid_loss 0.05022986051452192\n",
      "0\n"
     ]
    },
    {
     "name": "stderr",
     "output_type": "stream",
     "text": [
      "100%|██████████| 750/750 [00:02<00:00, 301.99it/s]\n",
      "100%|██████████| 187/187 [00:00<00:00, 1219.50it/s]\n"
     ]
    },
    {
     "name": "stdout",
     "output_type": "stream",
     "text": [
      "epoch: 25/1000\t[valid_acc: 0.9870\tvalid_loss: 0.0490\ttrain_loss: 0.0336]\n",
      "new best: valid_loss 0.04899950415384084\n",
      "0\n"
     ]
    },
    {
     "name": "stderr",
     "output_type": "stream",
     "text": [
      "100%|██████████| 750/750 [00:02<00:00, 299.68it/s]\n",
      "100%|██████████| 187/187 [00:00<00:00, 1171.68it/s]\n"
     ]
    },
    {
     "name": "stdout",
     "output_type": "stream",
     "text": [
      "epoch: 26/1000\t[valid_acc: 0.9873\tvalid_loss: 0.0479\ttrain_loss: 0.0321]\n",
      "new best: valid_loss 0.0478858855443404\n",
      "0\n"
     ]
    },
    {
     "name": "stderr",
     "output_type": "stream",
     "text": [
      "100%|██████████| 750/750 [00:02<00:00, 300.27it/s]\n",
      "100%|██████████| 187/187 [00:00<00:00, 1182.65it/s]\n"
     ]
    },
    {
     "name": "stdout",
     "output_type": "stream",
     "text": [
      "epoch: 27/1000\t[valid_acc: 0.9875\tvalid_loss: 0.0468\ttrain_loss: 0.0306]\n",
      "new best: valid_loss 0.046847536679317445\n",
      "0\n"
     ]
    },
    {
     "name": "stderr",
     "output_type": "stream",
     "text": [
      "100%|██████████| 750/750 [00:02<00:00, 309.00it/s]\n",
      "100%|██████████| 187/187 [00:00<00:00, 1187.68it/s]\n"
     ]
    },
    {
     "name": "stdout",
     "output_type": "stream",
     "text": [
      "epoch: 28/1000\t[valid_acc: 0.9878\tvalid_loss: 0.0459\ttrain_loss: 0.0292]\n",
      "new best: valid_loss 0.04585934613637108\n",
      "0\n"
     ]
    },
    {
     "name": "stderr",
     "output_type": "stream",
     "text": [
      "100%|██████████| 750/750 [00:02<00:00, 301.11it/s]\n",
      "100%|██████████| 187/187 [00:00<00:00, 1142.81it/s]\n"
     ]
    },
    {
     "name": "stdout",
     "output_type": "stream",
     "text": [
      "epoch: 29/1000\t[valid_acc: 0.9881\tvalid_loss: 0.0450\ttrain_loss: 0.0279]\n",
      "new best: valid_loss 0.04496861296770646\n",
      "0\n"
     ]
    },
    {
     "name": "stderr",
     "output_type": "stream",
     "text": [
      "100%|██████████| 750/750 [00:02<00:00, 307.76it/s]\n",
      "100%|██████████| 187/187 [00:00<00:00, 1131.08it/s]\n"
     ]
    },
    {
     "name": "stdout",
     "output_type": "stream",
     "text": [
      "epoch: 30/1000\t[valid_acc: 0.9885\tvalid_loss: 0.0441\ttrain_loss: 0.0267]\n",
      "new best: valid_loss 0.044131105397155576\n",
      "0\n"
     ]
    },
    {
     "name": "stderr",
     "output_type": "stream",
     "text": [
      "100%|██████████| 750/750 [00:02<00:00, 303.23it/s]\n",
      "100%|██████████| 187/187 [00:00<00:00, 1203.56it/s]\n"
     ]
    },
    {
     "name": "stdout",
     "output_type": "stream",
     "text": [
      "epoch: 31/1000\t[valid_acc: 0.9888\tvalid_loss: 0.0434\ttrain_loss: 0.0256]\n",
      "new best: valid_loss 0.04335318038359603\n",
      "0\n"
     ]
    },
    {
     "name": "stderr",
     "output_type": "stream",
     "text": [
      "100%|██████████| 750/750 [00:02<00:00, 316.11it/s]\n",
      "100%|██████████| 187/187 [00:00<00:00, 1151.95it/s]\n"
     ]
    },
    {
     "name": "stdout",
     "output_type": "stream",
     "text": [
      "epoch: 32/1000\t[valid_acc: 0.9888\tvalid_loss: 0.0426\ttrain_loss: 0.0245]\n",
      "new best: valid_loss 0.04264150953597643\n",
      "0\n"
     ]
    },
    {
     "name": "stderr",
     "output_type": "stream",
     "text": [
      "100%|██████████| 750/750 [00:02<00:00, 305.74it/s]\n",
      "100%|██████████| 187/187 [00:00<00:00, 1173.92it/s]\n"
     ]
    },
    {
     "name": "stdout",
     "output_type": "stream",
     "text": [
      "epoch: 33/1000\t[valid_acc: 0.9888\tvalid_loss: 0.0420\ttrain_loss: 0.0234]\n",
      "new best: valid_loss 0.04198548192018892\n",
      "0\n"
     ]
    },
    {
     "name": "stderr",
     "output_type": "stream",
     "text": [
      "100%|██████████| 750/750 [00:02<00:00, 306.37it/s]\n",
      "100%|██████████| 187/187 [00:00<00:00, 1211.16it/s]\n"
     ]
    },
    {
     "name": "stdout",
     "output_type": "stream",
     "text": [
      "epoch: 34/1000\t[valid_acc: 0.9889\tvalid_loss: 0.0414\ttrain_loss: 0.0224]\n",
      "new best: valid_loss 0.04137783924884656\n",
      "0\n"
     ]
    },
    {
     "name": "stderr",
     "output_type": "stream",
     "text": [
      "100%|██████████| 750/750 [00:02<00:00, 301.84it/s]\n",
      "100%|██████████| 187/187 [00:00<00:00, 1201.33it/s]\n"
     ]
    },
    {
     "name": "stdout",
     "output_type": "stream",
     "text": [
      "epoch: 35/1000\t[valid_acc: 0.9890\tvalid_loss: 0.0408\ttrain_loss: 0.0215]\n",
      "new best: valid_loss 0.04081030105823342\n",
      "0\n"
     ]
    },
    {
     "name": "stderr",
     "output_type": "stream",
     "text": [
      "100%|██████████| 750/750 [00:02<00:00, 311.11it/s]\n",
      "100%|██████████| 187/187 [00:00<00:00, 1063.30it/s]\n"
     ]
    },
    {
     "name": "stdout",
     "output_type": "stream",
     "text": [
      "epoch: 36/1000\t[valid_acc: 0.9891\tvalid_loss: 0.0403\ttrain_loss: 0.0206]\n",
      "new best: valid_loss 0.04026595899526448\n",
      "0\n"
     ]
    },
    {
     "name": "stderr",
     "output_type": "stream",
     "text": [
      "100%|██████████| 750/750 [00:02<00:00, 309.67it/s]\n",
      "100%|██████████| 187/187 [00:00<00:00, 1228.28it/s]\n"
     ]
    },
    {
     "name": "stdout",
     "output_type": "stream",
     "text": [
      "epoch: 37/1000\t[valid_acc: 0.9891\tvalid_loss: 0.0398\ttrain_loss: 0.0197]\n",
      "new best: valid_loss 0.039765408113200396\n",
      "0\n"
     ]
    },
    {
     "name": "stderr",
     "output_type": "stream",
     "text": [
      "100%|██████████| 750/750 [00:02<00:00, 305.50it/s]\n",
      "100%|██████████| 187/187 [00:00<00:00, 1124.81it/s]\n"
     ]
    },
    {
     "name": "stdout",
     "output_type": "stream",
     "text": [
      "epoch: 38/1000\t[valid_acc: 0.9891\tvalid_loss: 0.0393\ttrain_loss: 0.0189]\n",
      "new best: valid_loss 0.039274385565005364\n",
      "0\n"
     ]
    },
    {
     "name": "stderr",
     "output_type": "stream",
     "text": [
      "100%|██████████| 750/750 [00:02<00:00, 305.95it/s]\n",
      "100%|██████████| 187/187 [00:00<00:00, 1119.73it/s]\n"
     ]
    },
    {
     "name": "stdout",
     "output_type": "stream",
     "text": [
      "epoch: 39/1000\t[valid_acc: 0.9892\tvalid_loss: 0.0388\ttrain_loss: 0.0181]\n",
      "new best: valid_loss 0.03883137538491245\n",
      "0\n"
     ]
    },
    {
     "name": "stderr",
     "output_type": "stream",
     "text": [
      "100%|██████████| 750/750 [00:02<00:00, 304.30it/s]\n",
      "100%|██████████| 187/187 [00:00<00:00, 1198.12it/s]\n"
     ]
    },
    {
     "name": "stdout",
     "output_type": "stream",
     "text": [
      "epoch: 40/1000\t[valid_acc: 0.9894\tvalid_loss: 0.0384\ttrain_loss: 0.0174]\n",
      "new best: valid_loss 0.038419193970437915\n",
      "0\n"
     ]
    },
    {
     "name": "stderr",
     "output_type": "stream",
     "text": [
      "100%|██████████| 750/750 [00:02<00:00, 307.53it/s]\n",
      "100%|██████████| 187/187 [00:00<00:00, 888.49it/s]\n"
     ]
    },
    {
     "name": "stdout",
     "output_type": "stream",
     "text": [
      "epoch: 41/1000\t[valid_acc: 0.9895\tvalid_loss: 0.0380\ttrain_loss: 0.0167]\n",
      "new best: valid_loss 0.0380189231283126\n",
      "0\n"
     ]
    },
    {
     "name": "stderr",
     "output_type": "stream",
     "text": [
      "100%|██████████| 750/750 [00:02<00:00, 308.57it/s]\n",
      "100%|██████████| 187/187 [00:00<00:00, 1144.74it/s]\n"
     ]
    },
    {
     "name": "stdout",
     "output_type": "stream",
     "text": [
      "epoch: 42/1000\t[valid_acc: 0.9896\tvalid_loss: 0.0377\ttrain_loss: 0.0160]\n",
      "new best: valid_loss 0.03765099176783414\n",
      "0\n"
     ]
    },
    {
     "name": "stderr",
     "output_type": "stream",
     "text": [
      "100%|██████████| 750/750 [00:02<00:00, 304.10it/s]\n",
      "100%|██████████| 187/187 [00:00<00:00, 1190.75it/s]\n"
     ]
    },
    {
     "name": "stdout",
     "output_type": "stream",
     "text": [
      "epoch: 43/1000\t[valid_acc: 0.9896\tvalid_loss: 0.0373\ttrain_loss: 0.0153]\n",
      "new best: valid_loss 0.0372936109100832\n",
      "0\n"
     ]
    },
    {
     "name": "stderr",
     "output_type": "stream",
     "text": [
      "100%|██████████| 750/750 [00:02<00:00, 305.94it/s]\n",
      "100%|██████████| 187/187 [00:00<00:00, 1217.47it/s]\n"
     ]
    },
    {
     "name": "stdout",
     "output_type": "stream",
     "text": [
      "epoch: 44/1000\t[valid_acc: 0.9896\tvalid_loss: 0.0370\ttrain_loss: 0.0147]\n",
      "new best: valid_loss 0.036963977914472874\n",
      "0\n"
     ]
    },
    {
     "name": "stderr",
     "output_type": "stream",
     "text": [
      "100%|██████████| 750/750 [00:02<00:00, 301.87it/s]\n",
      "100%|██████████| 187/187 [00:00<00:00, 1178.84it/s]\n"
     ]
    },
    {
     "name": "stdout",
     "output_type": "stream",
     "text": [
      "epoch: 45/1000\t[valid_acc: 0.9896\tvalid_loss: 0.0367\ttrain_loss: 0.0141]\n",
      "new best: valid_loss 0.03665235985996809\n",
      "0\n"
     ]
    },
    {
     "name": "stderr",
     "output_type": "stream",
     "text": [
      "100%|██████████| 750/750 [00:02<00:00, 310.30it/s]\n",
      "100%|██████████| 187/187 [00:00<00:00, 933.30it/s]\n"
     ]
    },
    {
     "name": "stdout",
     "output_type": "stream",
     "text": [
      "epoch: 46/1000\t[valid_acc: 0.9895\tvalid_loss: 0.0364\ttrain_loss: 0.0135]\n",
      "new best: valid_loss 0.03636729707044953\n",
      "0\n"
     ]
    },
    {
     "name": "stderr",
     "output_type": "stream",
     "text": [
      "100%|██████████| 750/750 [00:02<00:00, 306.73it/s]\n",
      "100%|██████████| 187/187 [00:00<00:00, 1198.61it/s]\n"
     ]
    },
    {
     "name": "stdout",
     "output_type": "stream",
     "text": [
      "epoch: 47/1000\t[valid_acc: 0.9895\tvalid_loss: 0.0361\ttrain_loss: 0.0129]\n",
      "new best: valid_loss 0.036090197415155845\n",
      "0\n"
     ]
    },
    {
     "name": "stderr",
     "output_type": "stream",
     "text": [
      "100%|██████████| 750/750 [00:02<00:00, 305.37it/s]\n",
      "100%|██████████| 187/187 [00:00<00:00, 1104.89it/s]\n"
     ]
    },
    {
     "name": "stdout",
     "output_type": "stream",
     "text": [
      "epoch: 48/1000\t[valid_acc: 0.9896\tvalid_loss: 0.0358\ttrain_loss: 0.0124]\n",
      "new best: valid_loss 0.0358093204462333\n",
      "0\n"
     ]
    },
    {
     "name": "stderr",
     "output_type": "stream",
     "text": [
      "100%|██████████| 750/750 [00:02<00:00, 302.00it/s]\n",
      "100%|██████████| 187/187 [00:00<00:00, 1209.45it/s]\n"
     ]
    },
    {
     "name": "stdout",
     "output_type": "stream",
     "text": [
      "epoch: 49/1000\t[valid_acc: 0.9896\tvalid_loss: 0.0356\ttrain_loss: 0.0119]\n",
      "new best: valid_loss 0.03557087738131656\n",
      "0\n"
     ]
    },
    {
     "name": "stderr",
     "output_type": "stream",
     "text": [
      "100%|██████████| 750/750 [00:02<00:00, 302.99it/s]\n",
      "100%|██████████| 187/187 [00:00<00:00, 1200.82it/s]\n"
     ]
    },
    {
     "name": "stdout",
     "output_type": "stream",
     "text": [
      "epoch: 50/1000\t[valid_acc: 0.9895\tvalid_loss: 0.0353\ttrain_loss: 0.0114]\n",
      "new best: valid_loss 0.03534460264845766\n",
      "0\n"
     ]
    },
    {
     "name": "stderr",
     "output_type": "stream",
     "text": [
      "100%|██████████| 750/750 [00:02<00:00, 310.14it/s]\n",
      "100%|██████████| 187/187 [00:00<00:00, 1214.41it/s]\n"
     ]
    },
    {
     "name": "stdout",
     "output_type": "stream",
     "text": [
      "epoch: 51/1000\t[valid_acc: 0.9894\tvalid_loss: 0.0351\ttrain_loss: 0.0109]\n",
      "new best: valid_loss 0.03512305784895817\n",
      "0\n"
     ]
    },
    {
     "name": "stderr",
     "output_type": "stream",
     "text": [
      "100%|██████████| 750/750 [00:02<00:00, 300.37it/s]\n",
      "100%|██████████| 187/187 [00:00<00:00, 1195.99it/s]\n"
     ]
    },
    {
     "name": "stdout",
     "output_type": "stream",
     "text": [
      "epoch: 52/1000\t[valid_acc: 0.9896\tvalid_loss: 0.0349\ttrain_loss: 0.0104]\n",
      "new best: valid_loss 0.03490808195021143\n",
      "0\n"
     ]
    },
    {
     "name": "stderr",
     "output_type": "stream",
     "text": [
      "100%|██████████| 750/750 [00:02<00:00, 304.99it/s]\n",
      "100%|██████████| 187/187 [00:00<00:00, 1226.70it/s]\n"
     ]
    },
    {
     "name": "stdout",
     "output_type": "stream",
     "text": [
      "epoch: 53/1000\t[valid_acc: 0.9896\tvalid_loss: 0.0347\ttrain_loss: 0.0100]\n",
      "new best: valid_loss 0.034694675429609606\n",
      "0\n"
     ]
    },
    {
     "name": "stderr",
     "output_type": "stream",
     "text": [
      "100%|██████████| 750/750 [00:02<00:00, 302.49it/s]\n",
      "100%|██████████| 187/187 [00:00<00:00, 1207.96it/s]\n"
     ]
    },
    {
     "name": "stdout",
     "output_type": "stream",
     "text": [
      "epoch: 54/1000\t[valid_acc: 0.9896\tvalid_loss: 0.0345\ttrain_loss: 0.0095]\n",
      "new best: valid_loss 0.034502714190054386\n",
      "0\n"
     ]
    },
    {
     "name": "stderr",
     "output_type": "stream",
     "text": [
      "100%|██████████| 750/750 [00:02<00:00, 313.40it/s]\n",
      "100%|██████████| 187/187 [00:00<00:00, 1175.18it/s]\n"
     ]
    },
    {
     "name": "stdout",
     "output_type": "stream",
     "text": [
      "epoch: 55/1000\t[valid_acc: 0.9896\tvalid_loss: 0.0343\ttrain_loss: 0.0091]\n",
      "new best: valid_loss 0.03432621965857153\n",
      "0\n"
     ]
    },
    {
     "name": "stderr",
     "output_type": "stream",
     "text": [
      "100%|██████████| 750/750 [00:02<00:00, 302.13it/s]\n",
      "100%|██████████| 187/187 [00:00<00:00, 1160.74it/s]\n"
     ]
    },
    {
     "name": "stdout",
     "output_type": "stream",
     "text": [
      "epoch: 56/1000\t[valid_acc: 0.9896\tvalid_loss: 0.0341\ttrain_loss: 0.0087]\n",
      "new best: valid_loss 0.03414367370800499\n",
      "0\n"
     ]
    },
    {
     "name": "stderr",
     "output_type": "stream",
     "text": [
      "100%|██████████| 750/750 [00:02<00:00, 302.01it/s]\n",
      "100%|██████████| 187/187 [00:00<00:00, 1118.72it/s]\n"
     ]
    },
    {
     "name": "stdout",
     "output_type": "stream",
     "text": [
      "epoch: 57/1000\t[valid_acc: 0.9896\tvalid_loss: 0.0340\ttrain_loss: 0.0083]\n",
      "new best: valid_loss 0.0339762816164533\n",
      "0\n"
     ]
    },
    {
     "name": "stderr",
     "output_type": "stream",
     "text": [
      "100%|██████████| 750/750 [00:02<00:00, 302.48it/s]\n",
      "100%|██████████| 187/187 [00:00<00:00, 1200.34it/s]\n"
     ]
    },
    {
     "name": "stdout",
     "output_type": "stream",
     "text": [
      "epoch: 58/1000\t[valid_acc: 0.9896\tvalid_loss: 0.0338\ttrain_loss: 0.0080]\n",
      "new best: valid_loss 0.03382938462595909\n",
      "0\n"
     ]
    },
    {
     "name": "stderr",
     "output_type": "stream",
     "text": [
      "100%|██████████| 750/750 [00:02<00:00, 296.97it/s]\n",
      "100%|██████████| 187/187 [00:00<00:00, 1212.17it/s]\n"
     ]
    },
    {
     "name": "stdout",
     "output_type": "stream",
     "text": [
      "epoch: 59/1000\t[valid_acc: 0.9897\tvalid_loss: 0.0337\ttrain_loss: 0.0076]\n",
      "new best: valid_loss 0.03367392741327976\n",
      "0\n"
     ]
    },
    {
     "name": "stderr",
     "output_type": "stream",
     "text": [
      "100%|██████████| 750/750 [00:02<00:00, 300.97it/s]\n",
      "100%|██████████| 187/187 [00:00<00:00, 1150.71it/s]\n"
     ]
    },
    {
     "name": "stdout",
     "output_type": "stream",
     "text": [
      "epoch: 60/1000\t[valid_acc: 0.9897\tvalid_loss: 0.0335\ttrain_loss: 0.0073]\n",
      "new best: valid_loss 0.033539935002691125\n",
      "0\n"
     ]
    },
    {
     "name": "stderr",
     "output_type": "stream",
     "text": [
      "100%|██████████| 750/750 [00:02<00:00, 298.57it/s]\n",
      "100%|██████████| 187/187 [00:00<00:00, 1184.16it/s]\n"
     ]
    },
    {
     "name": "stdout",
     "output_type": "stream",
     "text": [
      "epoch: 61/1000\t[valid_acc: 0.9897\tvalid_loss: 0.0334\ttrain_loss: 0.0069]\n",
      "new best: valid_loss 0.033422699219293216\n",
      "0\n"
     ]
    },
    {
     "name": "stderr",
     "output_type": "stream",
     "text": [
      "100%|██████████| 750/750 [00:02<00:00, 298.69it/s]\n",
      "100%|██████████| 187/187 [00:00<00:00, 1141.08it/s]\n"
     ]
    },
    {
     "name": "stdout",
     "output_type": "stream",
     "text": [
      "epoch: 62/1000\t[valid_acc: 0.9899\tvalid_loss: 0.0333\ttrain_loss: 0.0066]\n",
      "new best: valid_loss 0.03328494549689087\n",
      "0\n"
     ]
    },
    {
     "name": "stderr",
     "output_type": "stream",
     "text": [
      "100%|██████████| 750/750 [00:02<00:00, 302.78it/s]\n",
      "100%|██████████| 187/187 [00:00<00:00, 1183.69it/s]\n"
     ]
    },
    {
     "name": "stdout",
     "output_type": "stream",
     "text": [
      "epoch: 63/1000\t[valid_acc: 0.9899\tvalid_loss: 0.0332\ttrain_loss: 0.0063]\n",
      "new best: valid_loss 0.03318560176297405\n",
      "0\n"
     ]
    },
    {
     "name": "stderr",
     "output_type": "stream",
     "text": [
      "100%|██████████| 750/750 [00:02<00:00, 301.42it/s]\n",
      "100%|██████████| 187/187 [00:00<00:00, 1167.58it/s]\n"
     ]
    },
    {
     "name": "stdout",
     "output_type": "stream",
     "text": [
      "epoch: 64/1000\t[valid_acc: 0.9899\tvalid_loss: 0.0331\ttrain_loss: 0.0060]\n",
      "new best: valid_loss 0.03307652827613753\n",
      "0\n"
     ]
    },
    {
     "name": "stderr",
     "output_type": "stream",
     "text": [
      "100%|██████████| 750/750 [00:02<00:00, 312.79it/s]\n",
      "100%|██████████| 187/187 [00:00<00:00, 1173.93it/s]\n"
     ]
    },
    {
     "name": "stdout",
     "output_type": "stream",
     "text": [
      "epoch: 65/1000\t[valid_acc: 0.9900\tvalid_loss: 0.0330\ttrain_loss: 0.0057]\n",
      "new best: valid_loss 0.03299775562264065\n",
      "0\n"
     ]
    },
    {
     "name": "stderr",
     "output_type": "stream",
     "text": [
      "100%|██████████| 750/750 [00:02<00:00, 302.93it/s]\n",
      "100%|██████████| 187/187 [00:00<00:00, 1170.90it/s]\n"
     ]
    },
    {
     "name": "stdout",
     "output_type": "stream",
     "text": [
      "epoch: 66/1000\t[valid_acc: 0.9900\tvalid_loss: 0.0329\ttrain_loss: 0.0055]\n",
      "new best: valid_loss 0.03289842654958387\n",
      "0\n"
     ]
    },
    {
     "name": "stderr",
     "output_type": "stream",
     "text": [
      "100%|██████████| 750/750 [00:02<00:00, 305.57it/s]\n",
      "100%|██████████| 187/187 [00:00<00:00, 1148.39it/s]\n"
     ]
    },
    {
     "name": "stdout",
     "output_type": "stream",
     "text": [
      "epoch: 67/1000\t[valid_acc: 0.9901\tvalid_loss: 0.0328\ttrain_loss: 0.0052]\n",
      "new best: valid_loss 0.03282291934181772\n",
      "0\n"
     ]
    },
    {
     "name": "stderr",
     "output_type": "stream",
     "text": [
      "100%|██████████| 750/750 [00:02<00:00, 303.85it/s]\n",
      "100%|██████████| 187/187 [00:00<00:00, 1220.60it/s]\n"
     ]
    },
    {
     "name": "stdout",
     "output_type": "stream",
     "text": [
      "epoch: 68/1000\t[valid_acc: 0.9901\tvalid_loss: 0.0328\ttrain_loss: 0.0050]\n",
      "new best: valid_loss 0.03275481363438458\n",
      "0\n"
     ]
    },
    {
     "name": "stderr",
     "output_type": "stream",
     "text": [
      "100%|██████████| 750/750 [00:02<00:00, 303.72it/s]\n",
      "100%|██████████| 187/187 [00:00<00:00, 1171.39it/s]\n"
     ]
    },
    {
     "name": "stdout",
     "output_type": "stream",
     "text": [
      "epoch: 69/1000\t[valid_acc: 0.9901\tvalid_loss: 0.0327\ttrain_loss: 0.0047]\n",
      "new best: valid_loss 0.03265752327157792\n",
      "0\n"
     ]
    },
    {
     "name": "stderr",
     "output_type": "stream",
     "text": [
      "100%|██████████| 750/750 [00:02<00:00, 311.12it/s]\n",
      "100%|██████████| 187/187 [00:00<00:00, 915.66it/s]\n"
     ]
    },
    {
     "name": "stdout",
     "output_type": "stream",
     "text": [
      "epoch: 70/1000\t[valid_acc: 0.9901\tvalid_loss: 0.0326\ttrain_loss: 0.0045]\n",
      "new best: valid_loss 0.03259613233360706\n",
      "0\n"
     ]
    },
    {
     "name": "stderr",
     "output_type": "stream",
     "text": [
      "100%|██████████| 750/750 [00:02<00:00, 308.65it/s]\n",
      "100%|██████████| 187/187 [00:00<00:00, 1083.63it/s]\n"
     ]
    },
    {
     "name": "stdout",
     "output_type": "stream",
     "text": [
      "epoch: 71/1000\t[valid_acc: 0.9903\tvalid_loss: 0.0325\ttrain_loss: 0.0043]\n",
      "new best: valid_loss 0.03253584296285688\n",
      "0\n"
     ]
    },
    {
     "name": "stderr",
     "output_type": "stream",
     "text": [
      "100%|██████████| 750/750 [00:02<00:00, 304.51it/s]\n",
      "100%|██████████| 187/187 [00:00<00:00, 1166.64it/s]\n"
     ]
    },
    {
     "name": "stdout",
     "output_type": "stream",
     "text": [
      "epoch: 72/1000\t[valid_acc: 0.9903\tvalid_loss: 0.0325\ttrain_loss: 0.0041]\n",
      "new best: valid_loss 0.03248536693434017\n",
      "0\n"
     ]
    },
    {
     "name": "stderr",
     "output_type": "stream",
     "text": [
      "100%|██████████| 750/750 [00:02<00:00, 301.24it/s]\n",
      "100%|██████████| 187/187 [00:00<00:00, 1244.55it/s]\n"
     ]
    },
    {
     "name": "stdout",
     "output_type": "stream",
     "text": [
      "epoch: 73/1000\t[valid_acc: 0.9904\tvalid_loss: 0.0325\ttrain_loss: 0.0039]\n",
      "new best: valid_loss 0.032459320008996276\n",
      "0\n"
     ]
    },
    {
     "name": "stderr",
     "output_type": "stream",
     "text": [
      "100%|██████████| 750/750 [00:02<00:00, 304.66it/s]\n",
      "100%|██████████| 187/187 [00:00<00:00, 1215.75it/s]\n"
     ]
    },
    {
     "name": "stdout",
     "output_type": "stream",
     "text": [
      "epoch: 74/1000\t[valid_acc: 0.9904\tvalid_loss: 0.0324\ttrain_loss: 0.0037]\n",
      "new best: valid_loss 0.03240770219238774\n",
      "0\n"
     ]
    },
    {
     "name": "stderr",
     "output_type": "stream",
     "text": [
      "100%|██████████| 750/750 [00:02<00:00, 311.47it/s]\n",
      "100%|██████████| 187/187 [00:00<00:00, 1064.57it/s]\n"
     ]
    },
    {
     "name": "stdout",
     "output_type": "stream",
     "text": [
      "epoch: 75/1000\t[valid_acc: 0.9905\tvalid_loss: 0.0324\ttrain_loss: 0.0035]\n",
      "new best: valid_loss 0.03238659789928927\n",
      "0\n"
     ]
    },
    {
     "name": "stderr",
     "output_type": "stream",
     "text": [
      "100%|██████████| 750/750 [00:02<00:00, 306.48it/s]\n",
      "100%|██████████| 187/187 [00:00<00:00, 1206.28it/s]\n"
     ]
    },
    {
     "name": "stdout",
     "output_type": "stream",
     "text": [
      "epoch: 76/1000\t[valid_acc: 0.9905\tvalid_loss: 0.0324\ttrain_loss: 0.0033]\n",
      "new best: valid_loss 0.0323565882284513\n",
      "0\n"
     ]
    },
    {
     "name": "stderr",
     "output_type": "stream",
     "text": [
      "100%|██████████| 750/750 [00:02<00:00, 301.63it/s]\n",
      "100%|██████████| 187/187 [00:00<00:00, 1166.41it/s]\n"
     ]
    },
    {
     "name": "stdout",
     "output_type": "stream",
     "text": [
      "epoch: 77/1000\t[valid_acc: 0.9904\tvalid_loss: 0.0323\ttrain_loss: 0.0031]\n",
      "new best: valid_loss 0.03233353538783566\n",
      "0\n"
     ]
    },
    {
     "name": "stderr",
     "output_type": "stream",
     "text": [
      "100%|██████████| 750/750 [00:02<00:00, 305.47it/s]\n",
      "100%|██████████| 187/187 [00:00<00:00, 1137.33it/s]\n"
     ]
    },
    {
     "name": "stdout",
     "output_type": "stream",
     "text": [
      "epoch: 78/1000\t[valid_acc: 0.9904\tvalid_loss: 0.0323\ttrain_loss: 0.0030]\n",
      "1\n"
     ]
    },
    {
     "name": "stderr",
     "output_type": "stream",
     "text": [
      "100%|██████████| 750/750 [00:02<00:00, 302.33it/s]\n",
      "100%|██████████| 187/187 [00:00<00:00, 1189.35it/s]\n"
     ]
    },
    {
     "name": "stdout",
     "output_type": "stream",
     "text": [
      "epoch: 79/1000\t[valid_acc: 0.9903\tvalid_loss: 0.0323\ttrain_loss: 0.0028]\n",
      "new best: valid_loss 0.032324266520218005\n",
      "0\n"
     ]
    },
    {
     "name": "stderr",
     "output_type": "stream",
     "text": [
      "100%|██████████| 750/750 [00:02<00:00, 308.17it/s]\n",
      "100%|██████████| 187/187 [00:00<00:00, 1151.31it/s]\n"
     ]
    },
    {
     "name": "stdout",
     "output_type": "stream",
     "text": [
      "epoch: 80/1000\t[valid_acc: 0.9902\tvalid_loss: 0.0323\ttrain_loss: 0.0027]\n",
      "1\n"
     ]
    },
    {
     "name": "stderr",
     "output_type": "stream",
     "text": [
      "100%|██████████| 750/750 [00:02<00:00, 302.24it/s]\n",
      "100%|██████████| 187/187 [00:00<00:00, 1189.87it/s]\n"
     ]
    },
    {
     "name": "stdout",
     "output_type": "stream",
     "text": [
      "epoch: 81/1000\t[valid_acc: 0.9902\tvalid_loss: 0.0323\ttrain_loss: 0.0025]\n",
      "2\n"
     ]
    },
    {
     "name": "stderr",
     "output_type": "stream",
     "text": [
      "100%|██████████| 750/750 [00:02<00:00, 305.42it/s]\n",
      "100%|██████████| 187/187 [00:00<00:00, 1118.71it/s]\n"
     ]
    },
    {
     "name": "stdout",
     "output_type": "stream",
     "text": [
      "epoch: 82/1000\t[valid_acc: 0.9903\tvalid_loss: 0.0323\ttrain_loss: 0.0024]\n",
      "3\n"
     ]
    },
    {
     "name": "stderr",
     "output_type": "stream",
     "text": [
      "100%|██████████| 750/750 [00:02<00:00, 302.14it/s]\n",
      "100%|██████████| 187/187 [00:00<00:00, 1211.79it/s]\n"
     ]
    },
    {
     "name": "stdout",
     "output_type": "stream",
     "text": [
      "epoch: 83/1000\t[valid_acc: 0.9904\tvalid_loss: 0.0324\ttrain_loss: 0.0022]\n",
      "4\n"
     ]
    },
    {
     "name": "stderr",
     "output_type": "stream",
     "text": [
      "100%|██████████| 750/750 [00:02<00:00, 302.48it/s]\n",
      "100%|██████████| 187/187 [00:00<00:00, 1219.29it/s]\n"
     ]
    },
    {
     "name": "stdout",
     "output_type": "stream",
     "text": [
      "epoch: 84/1000\t[valid_acc: 0.9905\tvalid_loss: 0.0324\ttrain_loss: 0.0021]\n",
      "5\n"
     ]
    },
    {
     "name": "stderr",
     "output_type": "stream",
     "text": [
      "100%|██████████| 750/750 [00:02<00:00, 303.78it/s]\n",
      "100%|██████████| 187/187 [00:00<00:00, 1175.03it/s]\n"
     ]
    },
    {
     "name": "stdout",
     "output_type": "stream",
     "text": [
      "epoch: 85/1000\t[valid_acc: 0.9905\tvalid_loss: 0.0324\ttrain_loss: 0.0020]\n",
      "6\n"
     ]
    },
    {
     "name": "stderr",
     "output_type": "stream",
     "text": [
      "100%|██████████| 750/750 [00:02<00:00, 310.99it/s]\n",
      "100%|██████████| 187/187 [00:00<00:00, 1250.98it/s]\n"
     ]
    },
    {
     "name": "stdout",
     "output_type": "stream",
     "text": [
      "epoch: 86/1000\t[valid_acc: 0.9905\tvalid_loss: 0.0325\ttrain_loss: 0.0019]\n",
      "7\n"
     ]
    },
    {
     "name": "stderr",
     "output_type": "stream",
     "text": [
      "100%|██████████| 750/750 [00:02<00:00, 303.41it/s]\n",
      "100%|██████████| 187/187 [00:00<00:00, 1068.93it/s]\n"
     ]
    },
    {
     "name": "stdout",
     "output_type": "stream",
     "text": [
      "epoch: 87/1000\t[valid_acc: 0.9906\tvalid_loss: 0.0325\ttrain_loss: 0.0018]\n",
      "8\n"
     ]
    },
    {
     "name": "stderr",
     "output_type": "stream",
     "text": [
      "100%|██████████| 750/750 [00:02<00:00, 301.11it/s]\n",
      "100%|██████████| 187/187 [00:00<00:00, 1198.40it/s]\n"
     ]
    },
    {
     "name": "stdout",
     "output_type": "stream",
     "text": [
      "epoch: 88/1000\t[valid_acc: 0.9906\tvalid_loss: 0.0325\ttrain_loss: 0.0017]\n",
      "9\n"
     ]
    },
    {
     "name": "stderr",
     "output_type": "stream",
     "text": [
      "100%|██████████| 750/750 [00:02<00:00, 296.94it/s]\n",
      "100%|██████████| 187/187 [00:00<00:00, 1196.03it/s]"
     ]
    },
    {
     "name": "stdout",
     "output_type": "stream",
     "text": [
      "epoch: 89/1000\t[valid_acc: 0.9906\tvalid_loss: 0.0325\ttrain_loss: 0.0016]\n",
      "10\n",
      "10 10 0.0\n"
     ]
    },
    {
     "name": "stderr",
     "output_type": "stream",
     "text": [
      "\n"
     ]
    }
   ],
   "source": [
    "from core.dl_framework.learner import Learner\n",
    "from core.dl_framework.callbacks import Recorder, Monitor\n",
    "from core.dl_framework.data import get_dataset, Dataset, DataLoader, split_data\n",
    "from torchvision import transforms\n",
    "bs = setup_config[\"h_batch_size\"]\n",
    "x_train, y_train, x_test, y_test = get_dataset(setup_config[\"s_source\"], setup_config[\"s_set\"], setup_config[\"p_tmp_data_path\"], CNN=True)\n",
    "\n",
    "train_ds, test_ds =  Dataset(x_train, y_train), Dataset(x_test, y_test)\n",
    "train_dl, test_dl = DataLoader(train_ds, bs), DataLoader(test_ds, bs)\n",
    "learn = Learner(train_ds, setup_config)\n",
    "learn.fit(1000)\n"
   ]
  },
  {
   "cell_type": "code",
   "execution_count": 24,
   "metadata": {},
   "outputs": [
    {
     "ename": "TypeError",
     "evalue": "'dict_items' object is not subscriptable",
     "output_type": "error",
     "traceback": [
      "\u001b[0;31m---------------------------------------------------------------------------\u001b[0m",
      "\u001b[0;31mTypeError\u001b[0m                                 Traceback (most recent call last)",
      "\u001b[0;32m/tmp/ipykernel_14760/2694672752.py\u001b[0m in \u001b[0;36m<module>\u001b[0;34m\u001b[0m\n\u001b[0;32m----> 1\u001b[0;31m \u001b[0;32mfor\u001b[0m \u001b[0mkey\u001b[0m\u001b[0;34m,\u001b[0m \u001b[0mval\u001b[0m \u001b[0;32min\u001b[0m \u001b[0mlearn\u001b[0m\u001b[0;34m.\u001b[0m\u001b[0mlearn\u001b[0m\u001b[0;34m.\u001b[0m\u001b[0mhistory_raw\u001b[0m\u001b[0;34m.\u001b[0m\u001b[0mitems\u001b[0m\u001b[0;34m(\u001b[0m\u001b[0;34m)\u001b[0m\u001b[0;34m[\u001b[0m\u001b[0;36m1\u001b[0m\u001b[0;34m:\u001b[0m\u001b[0;34m]\u001b[0m\u001b[0;34m:\u001b[0m\u001b[0;34m\u001b[0m\u001b[0m\n\u001b[0m\u001b[1;32m      2\u001b[0m     \u001b[0mprint\u001b[0m\u001b[0;34m(\u001b[0m\u001b[0mkey\u001b[0m\u001b[0;34m)\u001b[0m\u001b[0;34m\u001b[0m\u001b[0m\n",
      "\u001b[0;31mTypeError\u001b[0m: 'dict_items' object is not subscriptable"
     ]
    }
   ],
   "source": [
    "for key, val in learn.learn.history_raw.items()[1:]:\n",
    "    print(key)"
   ]
  },
  {
   "cell_type": "code",
   "execution_count": 169,
   "metadata": {},
   "outputs": [],
   "source": [
    "sample = next(iter(test_dl))\n",
    "imgs, targets = sample"
   ]
  },
  {
   "cell_type": "code",
   "execution_count": 170,
   "metadata": {},
   "outputs": [
    {
     "name": "stdout",
     "output_type": "stream",
     "text": [
      "tensor(64, device='cuda:0')\n"
     ]
    }
   ],
   "source": [
    "_, pred = torch.max(learn.learn.model(imgs.unsqueeze(1).to(\"cuda\")).data, 1)\n",
    "print(sum(pred == targets.to(\"cuda\")))\n"
   ]
  },
  {
   "cell_type": "code",
   "execution_count": 32,
   "metadata": {},
   "outputs": [
    {
     "data": {
      "text/plain": [
       "78"
      ]
     },
     "execution_count": 32,
     "metadata": {},
     "output_type": "execute_result"
    }
   ],
   "source": [
    "learn.history[\"valid_loss\"].argmin()"
   ]
  },
  {
   "cell_type": "code",
   "execution_count": 28,
   "metadata": {},
   "outputs": [
    {
     "data": {
      "text/html": [
       "        <script type=\"text/javascript\">\n",
       "        window.PlotlyConfig = {MathJaxConfig: 'local'};\n",
       "        if (window.MathJax) {MathJax.Hub.Config({SVG: {font: \"STIX-Web\"}});}\n",
       "        if (typeof require !== 'undefined') {\n",
       "        require.undef(\"plotly\");\n",
       "        requirejs.config({\n",
       "            paths: {\n",
       "                'plotly': ['https://cdn.plot.ly/plotly-2.11.1.min']\n",
       "            }\n",
       "        });\n",
       "        require(['plotly'], function(Plotly) {\n",
       "            window._Plotly = Plotly;\n",
       "        });\n",
       "        }\n",
       "        </script>\n",
       "        "
      ]
     },
     "metadata": {},
     "output_type": "display_data"
    },
    {
     "data": {
      "text/html": [
       "<div>                            <div id=\"b8d6e7db-20fb-4f54-a1f4-b687f52e9fde\" class=\"plotly-graph-div\" style=\"height:525px; width:100%;\"></div>            <script type=\"text/javascript\">                require([\"plotly\"], function(Plotly) {                    window.PLOTLYENV=window.PLOTLYENV || {};                                    if (document.getElementById(\"b8d6e7db-20fb-4f54-a1f4-b687f52e9fde\")) {                    Plotly.newPlot(                        \"b8d6e7db-20fb-4f54-a1f4-b687f52e9fde\",                        [{\"name\":\"valid_acc\",\"x\":[1,2,3,4,5,6,7,8,9,10,11,12,13,14,15,16,17,18,19,20,21,22,23,24,25,26,27,28,29,30,31,32,33,34,35,36,37,38,39,40,41,42,43,44,45,46,47,48,49,50,51,52,53,54,55,56,57,58,59,60,61,62,63,64,65,66,67,68,69,70,71,72,73,74,75,76,77,78,79,80,81,82,83,84,85,86,87,88,89],\"y\":[0.897894385026738,0.9366644385026738,0.9499498663101604,0.9571356951871658,0.9619819518716578,0.9660762032085561,0.9701704545454546,0.9732620320855615,0.9756016042780749,0.9767713903743316,0.9778576203208557,0.9787767379679144,0.9794451871657754,0.9803643048128342,0.9812834224598931,0.9820354278074866,0.982620320855615,0.9830381016042781,0.9837901069518716,0.9846256684491979,0.984792780748663,0.9852105614973262,0.9857954545454546,0.9863803475935828,0.9870487967914439,0.9872994652406417,0.9874665775401069,0.9878008021390374,0.9881350267379679,0.9884692513368984,0.9888034759358288,0.9888034759358288,0.9888034759358288,0.9888870320855615,0.9889705882352942,0.9890541443850267,0.9891377005347594,0.9891377005347594,0.989221256684492,0.9893883689839572,0.9894719251336899,0.9895554812834224,0.9896390374331551,0.9896390374331551,0.9895554812834224,0.9894719251336899,0.9894719251336899,0.9895554812834224,0.9895554812834224,0.9894719251336899,0.9893883689839572,0.9895554812834224,0.9895554812834224,0.9896390374331551,0.9896390374331551,0.9896390374331551,0.9896390374331551,0.9896390374331551,0.9897225935828877,0.9897225935828877,0.9897225935828877,0.9898897058823529,0.9898897058823529,0.9898897058823529,0.9899732620320856,0.9899732620320856,0.9900568181818182,0.9900568181818182,0.9900568181818182,0.9901403743315508,0.9903074866310161,0.9903074866310161,0.9903910427807486,0.9903910427807486,0.9904745989304813,0.9904745989304813,0.9903910427807486,0.9903910427807486,0.9903074866310161,0.9902239304812834,0.9902239304812834,0.9903074866310161,0.9903910427807486,0.9904745989304813,0.9904745989304813,0.9904745989304813,0.9905581550802139,0.9905581550802139,0.9906417112299465],\"type\":\"scatter\",\"xaxis\":\"x\",\"yaxis\":\"y\"},{\"name\":\"valid_loss\",\"x\":[1,2,3,4,5,6,7,8,9,10,11,12,13,14,15,16,17,18,19,20,21,22,23,24,25,26,27,28,29,30,31,32,33,34,35,36,37,38,39,40,41,42,43,44,45,46,47,48,49,50,51,52,53,54,55,56,57,58,59,60,61,62,63,64,65,66,67,68,69,70,71,72,73,74,75,76,77,78,79,80,81,82,83,84,85,86,87,88,89],\"y\":[0.691617420650421,0.38323616073093314,0.2691462047916045,0.20875871117739753,0.17121374379982923,0.14554141463841347,0.12701543374734128,0.11313629287847861,0.10236395907433912,0.09382735316288025,0.08686238345017726,0.08113650049277168,0.07632969538955127,0.07222381640564311,0.06867399700185195,0.06556643656191023,0.06282994097327804,0.06042463049033587,0.05826295745424568,0.056333764037864414,0.05459917364094187,0.05300967001361165,0.051566325372114856,0.05022986051452192,0.04899950415384084,0.0478858855443404,0.046847536679317445,0.04585934613637108,0.04496861296770646,0.044131105397155576,0.04335318038359603,0.04264150953597643,0.04198548192018892,0.04137783924884656,0.04081030105823342,0.04026595899526448,0.039765408113200396,0.039274385565005364,0.03883137538491245,0.038419193970437915,0.0380189231283126,0.03765099176783414,0.0372936109100832,0.036963977914472874,0.03665235985996809,0.03636729707044953,0.036090197415155845,0.0358093204462333,0.03557087738131656,0.03534460264845766,0.03512305784895817,0.03490808195021143,0.034694675429609606,0.034502714190054386,0.03432621965857153,0.03414367370800499,0.0339762816164533,0.03382938462595909,0.03367392741327976,0.033539935002691125,0.033422699219293216,0.03328494549689087,0.03318560176297405,0.03307652827613753,0.03299775562264065,0.03289842654958387,0.03282291934181772,0.03275481363438458,0.03265752327157792,0.03259613233360706,0.03253584296285688,0.03248536693434017,0.032459320008996276,0.03240770219238774,0.03238659789928927,0.0323565882284513,0.03233353538783566,0.032336999150179825,0.032324266520218005,0.032330062108694574,0.03234273056611095,0.03233457926628404,0.03236683842151446,0.03238052566162868,0.03240529915120547,0.03245406157824579,0.03247743518649536,0.032505598622075416,0.03253856680108817],\"type\":\"scatter\",\"xaxis\":\"x2\",\"yaxis\":\"y2\"},{\"name\":\"train_loss\",\"x\":[1,2,3,4,5,6,7,8,9,10,11,12,13,14,15,16,17,18,19,20,21,22,23,24,25,26,27,28,29,30,31,32,33,34,35,36,37,38,39,40,41,42,43,44,45,46,47,48,49,50,51,52,53,54,55,56,57,58,59,60,61,62,63,64,65,66,67,68,69,70,71,72,73,74,75,76,77,78,79,80,81,82,83,84,85,86,87,88,89],\"y\":[1.2670732378959655,0.5087632365226745,0.318311703423659,0.23366555560628574,0.18456618662675223,0.1523047401458025,0.12946094780166945,0.11252468307813009,0.09949215219169855,0.08917919597774744,0.0808261338075002,0.07390589811652899,0.06807940804585814,0.06309761907160281,0.05877565874531865,0.054971980277448894,0.05159116884072622,0.04857768050953746,0.04586900266197821,0.043393435412396986,0.041121691927313804,0.03903217564088603,0.03710050542280078,0.035308177581677834,0.03363462620725234,0.03207566309720278,0.030609490330951908,0.029235180692126352,0.027939471784358225,0.026716244974484046,0.02556068472036471,0.024463855899870397,0.023421020295470954,0.02243128220643848,0.021489696321077646,0.020588457368935147,0.019729487588318686,0.01891146342456341,0.018127247616648676,0.017377468754692624,0.016661692458670586,0.015970734803626936,0.015308678191310416,0.014674500811689844,0.01406617771104599,0.013479730868867288,0.012917690955257664,0.012377372085427244,0.011854221540503205,0.011352940204708527,0.010868232884909958,0.010406472264789045,0.009955767242082705,0.00952652712360335,0.00911246632412076,0.008712558104579026,0.008327118000481278,0.007955715164154147,0.007598595002200455,0.007258165382624914,0.006930169984465465,0.0066136303711682555,0.006309049736242741,0.0060152145814305795,0.005733757705932173,0.005464839322725311,0.005205312749875399,0.0049557338610757146,0.004718504377213928,0.004487900172593072,0.004268213704577647,0.004058191013988108,0.003854189368430525,0.0036603154516778886,0.0034743371150107124,0.0032963596793318477,0.003126523343458151,0.00296284173403789,0.0028068112555580836,0.0026564653451011206,0.0025140104653546586,0.0023737679268621527,0.0022431876685198708,0.00211717783632533,0.0019949166571022942,0.0018807790621940513,0.001770778598380275,0.001666575475857826,0.0015703806064363258],\"type\":\"scatter\",\"xaxis\":\"x2\",\"yaxis\":\"y2\"}],                        {\"template\":{\"data\":{\"histogram2dcontour\":[{\"type\":\"histogram2dcontour\",\"colorbar\":{\"outlinewidth\":0,\"ticks\":\"\"},\"colorscale\":[[0.0,\"#0d0887\"],[0.1111111111111111,\"#46039f\"],[0.2222222222222222,\"#7201a8\"],[0.3333333333333333,\"#9c179e\"],[0.4444444444444444,\"#bd3786\"],[0.5555555555555556,\"#d8576b\"],[0.6666666666666666,\"#ed7953\"],[0.7777777777777778,\"#fb9f3a\"],[0.8888888888888888,\"#fdca26\"],[1.0,\"#f0f921\"]]}],\"choropleth\":[{\"type\":\"choropleth\",\"colorbar\":{\"outlinewidth\":0,\"ticks\":\"\"}}],\"histogram2d\":[{\"type\":\"histogram2d\",\"colorbar\":{\"outlinewidth\":0,\"ticks\":\"\"},\"colorscale\":[[0.0,\"#0d0887\"],[0.1111111111111111,\"#46039f\"],[0.2222222222222222,\"#7201a8\"],[0.3333333333333333,\"#9c179e\"],[0.4444444444444444,\"#bd3786\"],[0.5555555555555556,\"#d8576b\"],[0.6666666666666666,\"#ed7953\"],[0.7777777777777778,\"#fb9f3a\"],[0.8888888888888888,\"#fdca26\"],[1.0,\"#f0f921\"]]}],\"heatmap\":[{\"type\":\"heatmap\",\"colorbar\":{\"outlinewidth\":0,\"ticks\":\"\"},\"colorscale\":[[0.0,\"#0d0887\"],[0.1111111111111111,\"#46039f\"],[0.2222222222222222,\"#7201a8\"],[0.3333333333333333,\"#9c179e\"],[0.4444444444444444,\"#bd3786\"],[0.5555555555555556,\"#d8576b\"],[0.6666666666666666,\"#ed7953\"],[0.7777777777777778,\"#fb9f3a\"],[0.8888888888888888,\"#fdca26\"],[1.0,\"#f0f921\"]]}],\"heatmapgl\":[{\"type\":\"heatmapgl\",\"colorbar\":{\"outlinewidth\":0,\"ticks\":\"\"},\"colorscale\":[[0.0,\"#0d0887\"],[0.1111111111111111,\"#46039f\"],[0.2222222222222222,\"#7201a8\"],[0.3333333333333333,\"#9c179e\"],[0.4444444444444444,\"#bd3786\"],[0.5555555555555556,\"#d8576b\"],[0.6666666666666666,\"#ed7953\"],[0.7777777777777778,\"#fb9f3a\"],[0.8888888888888888,\"#fdca26\"],[1.0,\"#f0f921\"]]}],\"contourcarpet\":[{\"type\":\"contourcarpet\",\"colorbar\":{\"outlinewidth\":0,\"ticks\":\"\"}}],\"contour\":[{\"type\":\"contour\",\"colorbar\":{\"outlinewidth\":0,\"ticks\":\"\"},\"colorscale\":[[0.0,\"#0d0887\"],[0.1111111111111111,\"#46039f\"],[0.2222222222222222,\"#7201a8\"],[0.3333333333333333,\"#9c179e\"],[0.4444444444444444,\"#bd3786\"],[0.5555555555555556,\"#d8576b\"],[0.6666666666666666,\"#ed7953\"],[0.7777777777777778,\"#fb9f3a\"],[0.8888888888888888,\"#fdca26\"],[1.0,\"#f0f921\"]]}],\"surface\":[{\"type\":\"surface\",\"colorbar\":{\"outlinewidth\":0,\"ticks\":\"\"},\"colorscale\":[[0.0,\"#0d0887\"],[0.1111111111111111,\"#46039f\"],[0.2222222222222222,\"#7201a8\"],[0.3333333333333333,\"#9c179e\"],[0.4444444444444444,\"#bd3786\"],[0.5555555555555556,\"#d8576b\"],[0.6666666666666666,\"#ed7953\"],[0.7777777777777778,\"#fb9f3a\"],[0.8888888888888888,\"#fdca26\"],[1.0,\"#f0f921\"]]}],\"mesh3d\":[{\"type\":\"mesh3d\",\"colorbar\":{\"outlinewidth\":0,\"ticks\":\"\"}}],\"scatter\":[{\"fillpattern\":{\"fillmode\":\"overlay\",\"size\":10,\"solidity\":0.2},\"type\":\"scatter\"}],\"parcoords\":[{\"type\":\"parcoords\",\"line\":{\"colorbar\":{\"outlinewidth\":0,\"ticks\":\"\"}}}],\"scatterpolargl\":[{\"type\":\"scatterpolargl\",\"marker\":{\"colorbar\":{\"outlinewidth\":0,\"ticks\":\"\"}}}],\"bar\":[{\"error_x\":{\"color\":\"#2a3f5f\"},\"error_y\":{\"color\":\"#2a3f5f\"},\"marker\":{\"line\":{\"color\":\"#E5ECF6\",\"width\":0.5},\"pattern\":{\"fillmode\":\"overlay\",\"size\":10,\"solidity\":0.2}},\"type\":\"bar\"}],\"scattergeo\":[{\"type\":\"scattergeo\",\"marker\":{\"colorbar\":{\"outlinewidth\":0,\"ticks\":\"\"}}}],\"scatterpolar\":[{\"type\":\"scatterpolar\",\"marker\":{\"colorbar\":{\"outlinewidth\":0,\"ticks\":\"\"}}}],\"histogram\":[{\"marker\":{\"pattern\":{\"fillmode\":\"overlay\",\"size\":10,\"solidity\":0.2}},\"type\":\"histogram\"}],\"scattergl\":[{\"type\":\"scattergl\",\"marker\":{\"colorbar\":{\"outlinewidth\":0,\"ticks\":\"\"}}}],\"scatter3d\":[{\"type\":\"scatter3d\",\"line\":{\"colorbar\":{\"outlinewidth\":0,\"ticks\":\"\"}},\"marker\":{\"colorbar\":{\"outlinewidth\":0,\"ticks\":\"\"}}}],\"scattermapbox\":[{\"type\":\"scattermapbox\",\"marker\":{\"colorbar\":{\"outlinewidth\":0,\"ticks\":\"\"}}}],\"scatterternary\":[{\"type\":\"scatterternary\",\"marker\":{\"colorbar\":{\"outlinewidth\":0,\"ticks\":\"\"}}}],\"scattercarpet\":[{\"type\":\"scattercarpet\",\"marker\":{\"colorbar\":{\"outlinewidth\":0,\"ticks\":\"\"}}}],\"carpet\":[{\"aaxis\":{\"endlinecolor\":\"#2a3f5f\",\"gridcolor\":\"white\",\"linecolor\":\"white\",\"minorgridcolor\":\"white\",\"startlinecolor\":\"#2a3f5f\"},\"baxis\":{\"endlinecolor\":\"#2a3f5f\",\"gridcolor\":\"white\",\"linecolor\":\"white\",\"minorgridcolor\":\"white\",\"startlinecolor\":\"#2a3f5f\"},\"type\":\"carpet\"}],\"table\":[{\"cells\":{\"fill\":{\"color\":\"#EBF0F8\"},\"line\":{\"color\":\"white\"}},\"header\":{\"fill\":{\"color\":\"#C8D4E3\"},\"line\":{\"color\":\"white\"}},\"type\":\"table\"}],\"barpolar\":[{\"marker\":{\"line\":{\"color\":\"#E5ECF6\",\"width\":0.5},\"pattern\":{\"fillmode\":\"overlay\",\"size\":10,\"solidity\":0.2}},\"type\":\"barpolar\"}],\"pie\":[{\"automargin\":true,\"type\":\"pie\"}]},\"layout\":{\"autotypenumbers\":\"strict\",\"colorway\":[\"#636efa\",\"#EF553B\",\"#00cc96\",\"#ab63fa\",\"#FFA15A\",\"#19d3f3\",\"#FF6692\",\"#B6E880\",\"#FF97FF\",\"#FECB52\"],\"font\":{\"color\":\"#2a3f5f\"},\"hovermode\":\"closest\",\"hoverlabel\":{\"align\":\"left\"},\"paper_bgcolor\":\"white\",\"plot_bgcolor\":\"#E5ECF6\",\"polar\":{\"bgcolor\":\"#E5ECF6\",\"angularaxis\":{\"gridcolor\":\"white\",\"linecolor\":\"white\",\"ticks\":\"\"},\"radialaxis\":{\"gridcolor\":\"white\",\"linecolor\":\"white\",\"ticks\":\"\"}},\"ternary\":{\"bgcolor\":\"#E5ECF6\",\"aaxis\":{\"gridcolor\":\"white\",\"linecolor\":\"white\",\"ticks\":\"\"},\"baxis\":{\"gridcolor\":\"white\",\"linecolor\":\"white\",\"ticks\":\"\"},\"caxis\":{\"gridcolor\":\"white\",\"linecolor\":\"white\",\"ticks\":\"\"}},\"coloraxis\":{\"colorbar\":{\"outlinewidth\":0,\"ticks\":\"\"}},\"colorscale\":{\"sequential\":[[0.0,\"#0d0887\"],[0.1111111111111111,\"#46039f\"],[0.2222222222222222,\"#7201a8\"],[0.3333333333333333,\"#9c179e\"],[0.4444444444444444,\"#bd3786\"],[0.5555555555555556,\"#d8576b\"],[0.6666666666666666,\"#ed7953\"],[0.7777777777777778,\"#fb9f3a\"],[0.8888888888888888,\"#fdca26\"],[1.0,\"#f0f921\"]],\"sequentialminus\":[[0.0,\"#0d0887\"],[0.1111111111111111,\"#46039f\"],[0.2222222222222222,\"#7201a8\"],[0.3333333333333333,\"#9c179e\"],[0.4444444444444444,\"#bd3786\"],[0.5555555555555556,\"#d8576b\"],[0.6666666666666666,\"#ed7953\"],[0.7777777777777778,\"#fb9f3a\"],[0.8888888888888888,\"#fdca26\"],[1.0,\"#f0f921\"]],\"diverging\":[[0,\"#8e0152\"],[0.1,\"#c51b7d\"],[0.2,\"#de77ae\"],[0.3,\"#f1b6da\"],[0.4,\"#fde0ef\"],[0.5,\"#f7f7f7\"],[0.6,\"#e6f5d0\"],[0.7,\"#b8e186\"],[0.8,\"#7fbc41\"],[0.9,\"#4d9221\"],[1,\"#276419\"]]},\"xaxis\":{\"gridcolor\":\"white\",\"linecolor\":\"white\",\"ticks\":\"\",\"title\":{\"standoff\":15},\"zerolinecolor\":\"white\",\"automargin\":true,\"zerolinewidth\":2},\"yaxis\":{\"gridcolor\":\"white\",\"linecolor\":\"white\",\"ticks\":\"\",\"title\":{\"standoff\":15},\"zerolinecolor\":\"white\",\"automargin\":true,\"zerolinewidth\":2},\"scene\":{\"xaxis\":{\"backgroundcolor\":\"#E5ECF6\",\"gridcolor\":\"white\",\"linecolor\":\"white\",\"showbackground\":true,\"ticks\":\"\",\"zerolinecolor\":\"white\",\"gridwidth\":2},\"yaxis\":{\"backgroundcolor\":\"#E5ECF6\",\"gridcolor\":\"white\",\"linecolor\":\"white\",\"showbackground\":true,\"ticks\":\"\",\"zerolinecolor\":\"white\",\"gridwidth\":2},\"zaxis\":{\"backgroundcolor\":\"#E5ECF6\",\"gridcolor\":\"white\",\"linecolor\":\"white\",\"showbackground\":true,\"ticks\":\"\",\"zerolinecolor\":\"white\",\"gridwidth\":2}},\"shapedefaults\":{\"line\":{\"color\":\"#2a3f5f\"}},\"annotationdefaults\":{\"arrowcolor\":\"#2a3f5f\",\"arrowhead\":0,\"arrowwidth\":1},\"geo\":{\"bgcolor\":\"white\",\"landcolor\":\"#E5ECF6\",\"subunitcolor\":\"white\",\"showland\":true,\"showlakes\":true,\"lakecolor\":\"white\"},\"title\":{\"x\":0.05},\"mapbox\":{\"style\":\"light\"}}},\"xaxis\":{\"anchor\":\"y\",\"domain\":[0.0,0.45]},\"yaxis\":{\"anchor\":\"x\",\"domain\":[0.0,1.0]},\"xaxis2\":{\"anchor\":\"y2\",\"domain\":[0.55,1.0]},\"yaxis2\":{\"anchor\":\"x2\",\"domain\":[0.0,1.0]},\"annotations\":[{\"font\":{\"size\":16},\"showarrow\":false,\"text\":\"acc\",\"x\":0.225,\"xanchor\":\"center\",\"xref\":\"paper\",\"y\":1.0,\"yanchor\":\"bottom\",\"yref\":\"paper\"},{\"font\":{\"size\":16},\"showarrow\":false,\"text\":\"loss\",\"x\":0.775,\"xanchor\":\"center\",\"xref\":\"paper\",\"y\":1.0,\"yanchor\":\"bottom\",\"yref\":\"paper\"}]},                        {\"responsive\": true}                    ).then(function(){\n",
       "                            \n",
       "var gd = document.getElementById('b8d6e7db-20fb-4f54-a1f4-b687f52e9fde');\n",
       "var x = new MutationObserver(function (mutations, observer) {{\n",
       "        var display = window.getComputedStyle(gd).display;\n",
       "        if (!display || display === 'none') {{\n",
       "            console.log([gd, 'removed!']);\n",
       "            Plotly.purge(gd);\n",
       "            observer.disconnect();\n",
       "        }}\n",
       "}});\n",
       "\n",
       "// Listen for the removal of the full notebook cells\n",
       "var notebookContainer = gd.closest('#notebook-container');\n",
       "if (notebookContainer) {{\n",
       "    x.observe(notebookContainer, {childList: true});\n",
       "}}\n",
       "\n",
       "// Listen for the clearing of the current output cell\n",
       "var outputEl = gd.closest('.output');\n",
       "if (outputEl) {{\n",
       "    x.observe(outputEl, {childList: true});\n",
       "}}\n",
       "\n",
       "                        })                };                });            </script>        </div>"
      ]
     },
     "metadata": {},
     "output_type": "display_data"
    }
   ],
   "source": [
    "# !pip install plotly\n",
    "import plotly.io as pio\n",
    "pio.renderers.default = \"notebook_connected\"\n",
    "import pandas as pd\n",
    "import plotly.express as px\n",
    "from plotly.subplots import make_subplots\n",
    "import plotly.graph_objects as go\n",
    "# def print_history(history):\n",
    "history = learn.history\n",
    "\n",
    "implemented_metric = [\"acc\", \"loss\"]\n",
    "plot_dict = {}\n",
    "for met in implemented_metric:\n",
    "    plot_dict[met] = [s for s in history if met in s]\n",
    "\n",
    "fig = make_subplots(rows=1, cols=len(plot_dict), subplot_titles=list(plot_dict.keys()))\n",
    "\n",
    "for idx, (met, mets) in enumerate(plot_dict.items()):\n",
    "    for key in mets:\n",
    "        fig.add_trace(go.Scatter(x=history.index, y=history[key].values, name=key), row=1, col=idx+1 )\n",
    "    # break\n",
    "# learn.history.keys()[0]\n",
    "# fig.update_layout(title_text=\"test\")\n",
    "fig.show()"
   ]
  },
  {
   "cell_type": "code",
   "execution_count": 17,
   "metadata": {},
   "outputs": [
    {
     "data": {
      "text/plain": [
       "['acc', 'loss']"
      ]
     },
     "execution_count": 17,
     "metadata": {},
     "output_type": "execute_result"
    }
   ],
   "source": [
    "list(plot_dict.keys())"
   ]
  },
  {
   "cell_type": "code",
   "execution_count": null,
   "metadata": {},
   "outputs": [],
   "source": []
  },
  {
   "cell_type": "code",
   "execution_count": 22,
   "metadata": {},
   "outputs": [
    {
     "data": {
      "text/plain": [
       "__main__.test_class"
      ]
     },
     "execution_count": 22,
     "metadata": {},
     "output_type": "execute_result"
    }
   ],
   "source": [
    "globals()[\"test_class\"]\n"
   ]
  },
  {
   "cell_type": "code",
   "execution_count": 29,
   "metadata": {},
   "outputs": [
    {
     "name": "stdout",
     "output_type": "stream",
     "text": [
      "1.57 µs ± 284 ns per loop (mean ± std. dev. of 7 runs, 100000 loops each)\n"
     ]
    }
   ],
   "source": [
    "%%timeit\n",
    "test_num.max()"
   ]
  },
  {
   "cell_type": "code",
   "execution_count": 41,
   "metadata": {},
   "outputs": [
    {
     "name": "stdout",
     "output_type": "stream",
     "text": [
      "281 ns ± 10.7 ns per loop (mean ± std. dev. of 7 runs, 1000000 loops each)\n"
     ]
    }
   ],
   "source": [
    "%%timeit\n",
    "max(test_dict[\"test\"])\n"
   ]
  },
  {
   "cell_type": "code",
   "execution_count": 47,
   "metadata": {},
   "outputs": [
    {
     "data": {
      "text/plain": [
       "<function __main__.test_class.attr(self)>"
      ]
     },
     "execution_count": 47,
     "metadata": {},
     "output_type": "execute_result"
    }
   ],
   "source": [
    "import types\n",
    "class test_class():\n",
    "    def __init__(self, a):\n",
    "        self.attr = a\n",
    "    \n",
    "    def attr(self):\n",
    "        pass\n",
    "\n",
    "test = test_class(1)\n",
    "\n",
    "getattr(test_class, \"attr\")"
   ]
  },
  {
   "cell_type": "code",
   "execution_count": 35,
   "metadata": {},
   "outputs": [
    {
     "name": "stdout",
     "output_type": "stream",
     "text": [
      "2.09 µs ± 52.2 ns per loop (mean ± std. dev. of 7 runs, 100000 loops each)\n"
     ]
    }
   ],
   "source": [
    "%%timeit\n",
    "test1.sum()"
   ]
  },
  {
   "cell_type": "code",
   "execution_count": 32,
   "metadata": {},
   "outputs": [],
   "source": [
    "import numpy as np"
   ]
  },
  {
   "cell_type": "code",
   "execution_count": 16,
   "metadata": {},
   "outputs": [
    {
     "data": {
      "text/plain": [
       "{'a': 1, 's': 123}"
      ]
     },
     "execution_count": 16,
     "metadata": {},
     "output_type": "execute_result"
    }
   ],
   "source": [
    "class test1:\n",
    "    def __init__(self, a):\n",
    "        self.a = a\n",
    "    def test_func(self):\n",
    "        return self.a\n",
    "a = test1(1)\n",
    "setattr(a, \"s\", 123)\n",
    "vars(a)"
   ]
  },
  {
   "cell_type": "code",
   "execution_count": 17,
   "metadata": {},
   "outputs": [
    {
     "ename": "NameError",
     "evalue": "name 'Monitor_Cb' is not defined",
     "output_type": "error",
     "traceback": [
      "\u001b[0;31m---------------------------------------------------------------------------\u001b[0m",
      "\u001b[0;31mNameError\u001b[0m                                 Traceback (most recent call last)",
      "\u001b[0;32m/tmp/ipykernel_8033/1156614540.py\u001b[0m in \u001b[0;36m<module>\u001b[0;34m\u001b[0m\n\u001b[0;32m----> 1\u001b[0;31m \u001b[0mmonitor\u001b[0m \u001b[0;34m=\u001b[0m \u001b[0mMonitor_Cb\u001b[0m\u001b[0;34m(\u001b[0m\u001b[0;34m[\u001b[0m\u001b[0;34m\"val_acc\"\u001b[0m\u001b[0;34m]\u001b[0m\u001b[0;34m)\u001b[0m\u001b[0;34m\u001b[0m\u001b[0m\n\u001b[0m\u001b[1;32m      2\u001b[0m \u001b[0mearly\u001b[0m \u001b[0;34m=\u001b[0m \u001b[0mEarlyStopping_Cb\u001b[0m\u001b[0;34m(\u001b[0m\u001b[0mmonitor\u001b[0m\u001b[0;34m=\u001b[0m\u001b[0;34m\"val_loss\"\u001b[0m\u001b[0;34m)\u001b[0m\u001b[0;34m\u001b[0m\u001b[0m\n\u001b[1;32m      3\u001b[0m \u001b[0mrecorder\u001b[0m \u001b[0;34m=\u001b[0m \u001b[0mRecorder_Cb\u001b[0m\u001b[0;34m(\u001b[0m\u001b[0;34m\"hi\"\u001b[0m\u001b[0;34m)\u001b[0m\u001b[0;34m\u001b[0m\u001b[0m\n\u001b[1;32m      4\u001b[0m \u001b[0mcbh\u001b[0m \u001b[0;34m=\u001b[0m \u001b[0mCallbackHandler\u001b[0m\u001b[0;34m(\u001b[0m\u001b[0;34m[\u001b[0m\u001b[0mmonitor\u001b[0m\u001b[0;34m,\u001b[0m \u001b[0mearly\u001b[0m\u001b[0;34m,\u001b[0m \u001b[0mrecorder\u001b[0m\u001b[0;34m]\u001b[0m\u001b[0;34m)\u001b[0m\u001b[0;34m\u001b[0m\u001b[0m\n\u001b[1;32m      5\u001b[0m \u001b[0mcbh\u001b[0m\u001b[0;34m.\u001b[0m\u001b[0mMonitor_Cb\u001b[0m\u001b[0;34m.\u001b[0m\u001b[0mlearn\u001b[0m\u001b[0;34m\u001b[0m\u001b[0m\n",
      "\u001b[0;31mNameError\u001b[0m: name 'Monitor_Cb' is not defined"
     ]
    }
   ],
   "source": [
    "monitor = Monitor_Cb([\"val_acc\"])\n",
    "early = EarlyStopping_Cb(monitor=\"val_loss\")\n",
    "recorder = Recorder_Cb(\"hi\")\n",
    "cbh = CallbackHandler([monitor, early, recorder])\n",
    "cbh.Monitor_Cb.learn\n"
   ]
  },
  {
   "cell_type": "code",
   "execution_count": 9,
   "metadata": {},
   "outputs": [
    {
     "name": "stdout",
     "output_type": "stream",
     "text": [
      "a\n"
     ]
    }
   ],
   "source": [
    "a = [\"a\"]\n",
    "for i in a[:4]:\n",
    "    print(i)"
   ]
  }
 ],
 "metadata": {
  "interpreter": {
   "hash": "fd69f43f58546b570e94fd7eba7b65e6bcc7a5bbc4eab0408017d18902915d69"
  },
  "kernelspec": {
   "display_name": "Python 3.7.13 64-bit",
   "language": "python",
   "name": "python3"
  },
  "language_info": {
   "codemirror_mode": {
    "name": "ipython",
    "version": 3
   },
   "file_extension": ".py",
   "mimetype": "text/x-python",
   "name": "python",
   "nbconvert_exporter": "python",
   "pygments_lexer": "ipython3",
   "version": "3.7.0"
  },
  "orig_nbformat": 4
 },
 "nbformat": 4,
 "nbformat_minor": 2
}
