{
 "cells": [
  {
   "cell_type": "code",
   "execution_count": 3,
   "metadata": {},
   "outputs": [],
   "source": [
    "%reload_ext autoreload\n",
    "%autoreload 2\n",
    "os.chdir(\"..\")\n",
    "# from core.dl_training.scripts.training import main"
   ]
  },
  {
   "cell_type": "code",
   "execution_count": 4,
   "metadata": {},
   "outputs": [
    {
     "name": "stdout",
     "output_type": "stream",
     "text": [
      "/content/Template_Project\n"
     ]
    }
   ],
   "source": [
    "%%bash \n",
    "pwd"
   ]
  },
  {
   "cell_type": "code",
   "execution_count": 27,
   "metadata": {},
   "outputs": [
    {
     "data": {
      "text/plain": [
       "{'m_gpu': False,\n",
       " 'p_tmp_data_path': './tmp_files',\n",
       " 'g_num_epochs': 100,\n",
       " 'g_num_classes': 10,\n",
       " 'g_valid_split': 0.2,\n",
       " 's_source': 'torchvision',\n",
       " 's_set': 'MNIST',\n",
       " 'h_batch_size': 64,\n",
       " 'h_lr': 1e-05,\n",
       " 'c_m_monitor': ['valid_acc', 'valid_loss', 'loss'],\n",
       " 'c_e_monitor': 'valid_loss',\n",
       " 'c_e_patience': 1000}"
      ]
     },
     "execution_count": 27,
     "metadata": {},
     "output_type": "execute_result"
    }
   ],
   "source": [
    "import toml\n",
    "config_file = toml.load(\"configs/default_train_config.toml\")\n",
    "from core.dl_framework.utils import read_config\n",
    "setup_config = read_config(config_file)\n",
    "setup_config"
   ]
  },
  {
   "cell_type": "code",
   "execution_count": 28,
   "metadata": {},
   "outputs": [],
   "source": [
    "from core.dl_framework import callbacks\n",
    "callbacks.Monitor_Cb\n",
    "def get_callbacks(setup_config):\n",
    "    implemented_cbs = {\"c_m\": callbacks.Monitor_Cb, \"c_e\": callbacks.EarlyStopping_Cb}\n",
    "    [c for c in setup_config if c[:2]==\"c_\"]\n",
    "\n",
    "\n",
    "get_callbacks(setup_config)"
   ]
  },
  {
   "cell_type": "code",
   "execution_count": 65,
   "metadata": {},
   "outputs": [
    {
     "name": "stdout",
     "output_type": "stream",
     "text": [
      "['m', 'monitor']\n",
      "['m', 'print2console']\n",
      "['e', 'monitor']\n",
      "['e', 'patience']\n"
     ]
    }
   ],
   "source": [
    "import toml\n",
    "config_file = toml.load(\"configs/default_train_config.toml\")\n",
    "from core.dl_framework.utils import read_config\n",
    "from core.dl_framework.callbacks import Monitor_Cb\n",
    "setup_config = read_config(config_file)\n",
    "\n",
    "test = [c for c in setup_config if c[:2]==\"c_\"]\n",
    "for i in test:\n",
    "    l = i.split(\"_\")[1:]\n",
    "    print(l)\n",
    "\n",
    "arg = {\"monitor\": [\"valid_acc\"], \"print2console\": True}\n",
    "# Monitor_Cb(arg)\n",
    "\n",
    "\n"
   ]
  }
 ],
 "metadata": {
  "interpreter": {
   "hash": "fd69f43f58546b570e94fd7eba7b65e6bcc7a5bbc4eab0408017d18902915d69"
  },
  "kernelspec": {
   "display_name": "Python 3.7.13 64-bit",
   "language": "python",
   "name": "python3"
  },
  "language_info": {
   "codemirror_mode": {
    "name": "ipython",
    "version": 3
   },
   "file_extension": ".py",
   "mimetype": "text/x-python",
   "name": "python",
   "nbconvert_exporter": "python",
   "pygments_lexer": "ipython3",
   "version": "3.7.0"
  },
  "orig_nbformat": 4
 },
 "nbformat": 4,
 "nbformat_minor": 2
}
