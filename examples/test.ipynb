{
 "cells": [
  {
   "cell_type": "code",
   "execution_count": 1,
   "metadata": {},
   "outputs": [
    {
     "name": "stderr",
     "output_type": "stream",
     "text": [
      "/usr/local/lib/python3.7/site-packages/tqdm/auto.py:22: TqdmWarning: IProgress not found. Please update jupyter and ipywidgets. See https://ipywidgets.readthedocs.io/en/stable/user_install.html\n",
      "  from .autonotebook import tqdm as notebook_tqdm\n"
     ]
    }
   ],
   "source": [
    "%reload_ext autoreload\n",
    "%autoreload 2\n",
    "os.chdir(\"..\")\n",
    "import toml\n",
    "from core.dl_framework.utils import read_config"
   ]
  },
  {
   "cell_type": "code",
   "execution_count": 2,
   "metadata": {},
   "outputs": [
    {
     "name": "stdout",
     "output_type": "stream",
     "text": [
      "/content/Template_Project\n"
     ]
    }
   ],
   "source": [
    "%%bash \n",
    "pwd"
   ]
  },
  {
   "cell_type": "code",
   "execution_count": 7,
   "metadata": {},
   "outputs": [],
   "source": [
    "config_file = toml.load(\"configs/default_train_config.toml\")\n",
    "setup_config = read_config(config_file)\n",
    "from core.dl_framework.utils import get_specific_history"
   ]
  },
  {
   "cell_type": "code",
   "execution_count": 4,
   "metadata": {},
   "outputs": [
    {
     "name": "stderr",
     "output_type": "stream",
     "text": [
      "100%|██████████| 750/750 [00:02<00:00, 292.80it/s]\n",
      "100%|██████████| 187/187 [00:00<00:00, 1183.21it/s]\n"
     ]
    },
    {
     "name": "stdout",
     "output_type": "stream",
     "text": [
      "epoch: 1/2\t[valid_acc: 0.8877\tvalid_loss: 0.7560\ttrain_loss: 1.3755]\n",
      "new best: valid_loss 0.7559569819088288\n",
      "new checkpoint\n"
     ]
    },
    {
     "name": "stderr",
     "output_type": "stream",
     "text": [
      "100%|██████████| 750/750 [00:02<00:00, 297.72it/s]\n",
      "100%|██████████| 187/187 [00:00<00:00, 1196.09it/s]"
     ]
    },
    {
     "name": "stdout",
     "output_type": "stream",
     "text": [
      "epoch: 2/2\t[valid_acc: 0.9320\tvalid_loss: 0.4039\ttrain_loss: 0.5547]\n",
      "new best: valid_loss 0.4039432266179253\n",
      "new checkpoint\n"
     ]
    },
    {
     "name": "stderr",
     "output_type": "stream",
     "text": [
      "\n"
     ]
    }
   ],
   "source": [
    "from core.dl_framework.learner import Learner\n",
    "from core.dl_framework.callbacks import Recorder, Monitor, EarlyStopping, Checkpoints\n",
    "from core.dl_framework.data import get_dataset, Dataset, DataLoader, split_data\n",
    "from torchvision import transforms\n",
    "bs = setup_config[\"h_batch_size\"]\n",
    "x_train, y_train, x_test, y_test = get_dataset(setup_config[\"s_source\"], setup_config[\"s_set\"], setup_config[\"p_tmp_data_path\"], CNN=True)\n",
    "\n",
    "train_ds, test_ds =  Dataset(x_train, y_train), Dataset(x_test, y_test)\n",
    "train_dl, test_dl = DataLoader(train_ds, bs), DataLoader(test_ds, bs)\n",
    "learn = Learner(train_ds, setup_config)\n",
    "learn.fit(2)\n"
   ]
  },
  {
   "cell_type": "code",
   "execution_count": 5,
   "metadata": {},
   "outputs": [],
   "source": [
    "from pathlib import Path\n",
    "from datetime import datetime\n",
    "ckp_path = \"/content/gdrive/MyDrive/Marcel_Moczarski/Data_Science/Google_Services/Local_Drive_Storage/Conda_Envs/Template_Project/checkpoints\""
   ]
  },
  {
   "cell_type": "code",
   "execution_count": 169,
   "metadata": {},
   "outputs": [],
   "source": [
    "sample = next(iter(test_dl))\n",
    "imgs, targets = sample"
   ]
  },
  {
   "cell_type": "code",
   "execution_count": 35,
   "metadata": {},
   "outputs": [
    {
     "data": {
      "text/html": [
       "<div>\n",
       "<style scoped>\n",
       "    .dataframe tbody tr th:only-of-type {\n",
       "        vertical-align: middle;\n",
       "    }\n",
       "\n",
       "    .dataframe tbody tr th {\n",
       "        vertical-align: top;\n",
       "    }\n",
       "\n",
       "    .dataframe thead th {\n",
       "        text-align: right;\n",
       "    }\n",
       "</style>\n",
       "<table border=\"1\" class=\"dataframe\">\n",
       "  <thead>\n",
       "    <tr style=\"text-align: right;\">\n",
       "      <th></th>\n",
       "      <th>valid_acc</th>\n",
       "      <th>valid_loss</th>\n",
       "      <th>train_loss</th>\n",
       "    </tr>\n",
       "    <tr>\n",
       "      <th>epochs</th>\n",
       "      <th></th>\n",
       "      <th></th>\n",
       "      <th></th>\n",
       "    </tr>\n",
       "  </thead>\n",
       "  <tbody>\n",
       "    <tr>\n",
       "      <th>1</th>\n",
       "      <td>0.893048</td>\n",
       "      <td>0.730150</td>\n",
       "      <td>1.326258</td>\n",
       "    </tr>\n",
       "    <tr>\n",
       "      <th>2</th>\n",
       "      <td>0.937834</td>\n",
       "      <td>0.391741</td>\n",
       "      <td>0.530456</td>\n",
       "    </tr>\n",
       "    <tr>\n",
       "      <th>3</th>\n",
       "      <td>0.954462</td>\n",
       "      <td>0.263368</td>\n",
       "      <td>0.322132</td>\n",
       "    </tr>\n",
       "    <tr>\n",
       "      <th>4</th>\n",
       "      <td>0.963904</td>\n",
       "      <td>0.198679</td>\n",
       "      <td>0.230142</td>\n",
       "    </tr>\n",
       "    <tr>\n",
       "      <th>5</th>\n",
       "      <td>0.968416</td>\n",
       "      <td>0.160132</td>\n",
       "      <td>0.179356</td>\n",
       "    </tr>\n",
       "    <tr>\n",
       "      <th>...</th>\n",
       "      <td>...</td>\n",
       "      <td>...</td>\n",
       "      <td>...</td>\n",
       "    </tr>\n",
       "    <tr>\n",
       "      <th>115</th>\n",
       "      <td>0.990892</td>\n",
       "      <td>0.027759</td>\n",
       "      <td>0.000347</td>\n",
       "    </tr>\n",
       "    <tr>\n",
       "      <th>116</th>\n",
       "      <td>0.990892</td>\n",
       "      <td>0.027821</td>\n",
       "      <td>0.000324</td>\n",
       "    </tr>\n",
       "    <tr>\n",
       "      <th>117</th>\n",
       "      <td>0.990892</td>\n",
       "      <td>0.027911</td>\n",
       "      <td>0.000302</td>\n",
       "    </tr>\n",
       "    <tr>\n",
       "      <th>118</th>\n",
       "      <td>0.990892</td>\n",
       "      <td>0.027990</td>\n",
       "      <td>0.000281</td>\n",
       "    </tr>\n",
       "    <tr>\n",
       "      <th>119</th>\n",
       "      <td>0.990976</td>\n",
       "      <td>0.028075</td>\n",
       "      <td>0.000262</td>\n",
       "    </tr>\n",
       "  </tbody>\n",
       "</table>\n",
       "<p>119 rows × 3 columns</p>\n",
       "</div>"
      ],
      "text/plain": [
       "        valid_acc  valid_loss  train_loss\n",
       "epochs                                   \n",
       "1        0.893048    0.730150    1.326258\n",
       "2        0.937834    0.391741    0.530456\n",
       "3        0.954462    0.263368    0.322132\n",
       "4        0.963904    0.198679    0.230142\n",
       "5        0.968416    0.160132    0.179356\n",
       "...           ...         ...         ...\n",
       "115      0.990892    0.027759    0.000347\n",
       "116      0.990892    0.027821    0.000324\n",
       "117      0.990892    0.027911    0.000302\n",
       "118      0.990892    0.027990    0.000281\n",
       "119      0.990976    0.028075    0.000262\n",
       "\n",
       "[119 rows x 3 columns]"
      ]
     },
     "execution_count": 35,
     "metadata": {},
     "output_type": "execute_result"
    }
   ],
   "source": [
    "best_hist, _ = get_specific_history(Path(setup_config[\"c_c_ckp_path\"]), \"valid_loss\", \"parquet\", \"best\")\n",
    "best_hist"
   ]
  },
  {
   "cell_type": "code",
   "execution_count": 36,
   "metadata": {},
   "outputs": [
    {
     "data": {
      "text/html": [
       "        <script type=\"text/javascript\">\n",
       "        window.PlotlyConfig = {MathJaxConfig: 'local'};\n",
       "        if (window.MathJax) {MathJax.Hub.Config({SVG: {font: \"STIX-Web\"}});}\n",
       "        if (typeof require !== 'undefined') {\n",
       "        require.undef(\"plotly\");\n",
       "        requirejs.config({\n",
       "            paths: {\n",
       "                'plotly': ['https://cdn.plot.ly/plotly-2.11.1.min']\n",
       "            }\n",
       "        });\n",
       "        require(['plotly'], function(Plotly) {\n",
       "            window._Plotly = Plotly;\n",
       "        });\n",
       "        }\n",
       "        </script>\n",
       "        "
      ]
     },
     "metadata": {},
     "output_type": "display_data"
    },
    {
     "data": {
      "text/html": [
       "<div>                            <div id=\"3d209965-36e5-4602-96a8-55c60cb080a3\" class=\"plotly-graph-div\" style=\"height:525px; width:100%;\"></div>            <script type=\"text/javascript\">                require([\"plotly\"], function(Plotly) {                    window.PLOTLYENV=window.PLOTLYENV || {};                                    if (document.getElementById(\"3d209965-36e5-4602-96a8-55c60cb080a3\")) {                    Plotly.newPlot(                        \"3d209965-36e5-4602-96a8-55c60cb080a3\",                        [{\"line\":{\"color\":\"rgb(0,0,200)\"},\"name\":\"valid_acc\",\"x\":[1,2,3,4,5,6,7,8,9,10,11,12,13,14,15,16,17,18,19,20,21,22,23,24,25,26,27,28,29,30,31,32,33,34,35,36,37,38,39,40,41,42,43,44,45,46,47,48,49,50,51,52,53,54,55,56,57,58,59,60,61,62,63,64,65,66,67,68,69,70,71,72,73,74,75,76,77,78,79,80,81,82,83,84,85,86,87,88,89,90,91,92,93,94,95,96,97,98,99,100,101,102,103,104,105,106,107,108,109,110,111,112,113,114,115,116,117,118,119],\"y\":[0.893048128342246,0.9378342245989305,0.9544618983957219,0.963903743315508,0.9684157754010695,0.9718415775401069,0.9749331550802139,0.976019385026738,0.9778576203208557,0.9792780748663101,0.9806985294117647,0.9817012032085561,0.9828709893048129,0.9832052139037433,0.9837065508021391,0.9840407754010695,0.984375,0.9847092245989305,0.9850434491978609,0.9853776737967914,0.986129679144385,0.9862967914438503,0.9864639037433155,0.9865474598930482,0.986798128342246,0.9869652406417112,0.9872994652406417,0.9874665775401069,0.9880514705882353,0.9883021390374331,0.9882185828877005,0.9881350267379679,0.9883021390374331,0.9884692513368984,0.9884692513368984,0.9886363636363636,0.9886363636363636,0.9889705882352942,0.9891377005347594,0.9891377005347594,0.9893048128342246,0.9896390374331551,0.9896390374331551,0.9898061497326203,0.9898061497326203,0.9898897058823529,0.9900568181818182,0.9899732620320856,0.9899732620320856,0.9898897058823529,0.9898061497326203,0.9898897058823529,0.9898897058823529,0.9898897058823529,0.9898897058823529,0.9898897058823529,0.9899732620320856,0.9900568181818182,0.9902239304812834,0.9903074866310161,0.9903910427807486,0.9904745989304813,0.9904745989304813,0.9904745989304813,0.9905581550802139,0.9905581550802139,0.9906417112299465,0.9907252673796791,0.9905581550802139,0.9906417112299465,0.9908088235294118,0.9908088235294118,0.9907252673796791,0.9908923796791443,0.9908088235294118,0.9908923796791443,0.9908923796791443,0.9908923796791443,0.9908923796791443,0.9907252673796791,0.9908088235294118,0.9907252673796791,0.9908088235294118,0.9908088235294118,0.9908923796791443,0.9908923796791443,0.9908088235294118,0.990975935828877,0.9908923796791443,0.9908923796791443,0.9908923796791443,0.990975935828877,0.990975935828877,0.990975935828877,0.990975935828877,0.9908923796791443,0.9908923796791443,0.9908923796791443,0.9908923796791443,0.990975935828877,0.990975935828877,0.9908923796791443,0.990975935828877,0.9908923796791443,0.9908923796791443,0.9908923796791443,0.9910594919786097,0.990975935828877,0.9908923796791443,0.9908923796791443,0.990975935828877,0.9908923796791443,0.9908923796791443,0.9908923796791443,0.9908923796791443,0.9908923796791443,0.9908923796791443,0.9908923796791443,0.990975935828877],\"type\":\"scatter\",\"xaxis\":\"x\",\"yaxis\":\"y\"},{\"line\":{\"color\":\"rgb(0,0,200)\",\"dash\":\"dash\",\"width\":1},\"name\":\"best val\",\"x\":[106],\"y\":[0.9910594919786097],\"type\":\"scatter\",\"xaxis\":\"x\",\"yaxis\":\"y\"},{\"line\":{\"color\":\"rgb(0,152,255)\"},\"name\":\"valid_loss\",\"x\":[1,2,3,4,5,6,7,8,9,10,11,12,13,14,15,16,17,18,19,20,21,22,23,24,25,26,27,28,29,30,31,32,33,34,35,36,37,38,39,40,41,42,43,44,45,46,47,48,49,50,51,52,53,54,55,56,57,58,59,60,61,62,63,64,65,66,67,68,69,70,71,72,73,74,75,76,77,78,79,80,81,82,83,84,85,86,87,88,89,90,91,92,93,94,95,96,97,98,99,100,101,102,103,104,105,106,107,108,109,110,111,112,113,114,115,116,117,118,119],\"y\":[0.7301496366128565,0.39174083951004046,0.2633679447008327,0.1986787029128661,0.160131755180378,0.1346512008757196,0.11661657862325403,0.10328885299317977,0.09306974207016236,0.08499710533748017,0.07850562595827057,0.07315769833437899,0.06871076803256006,0.06493718889268006,0.06166166750425323,0.05884490517232029,0.056389995850622654,0.05422897547244388,0.05226325579386025,0.05052385882867928,0.048960015762916066,0.04753673708634103,0.046249635009603066,0.045074379270806667,0.04396564442475132,0.04295865804415176,0.04204823164378896,0.04118554813060212,0.0403804399327121,0.03962533745571054,0.03892332078630035,0.038286385874707195,0.037686811359151,0.03712941132819549,0.03660298988377466,0.03610961962202414,0.0356256582582479,0.03520573604911725,0.03476271251301197,0.03435171872158261,0.03393245645659294,0.03358364588317068,0.03322931392526722,0.032887311236444804,0.03257261732478631,0.03226233337741883,0.03196811909229559,0.03169730141382904,0.031420862751659305,0.031180598938658356,0.030915845859731065,0.030652838373770887,0.030438359601443067,0.030225890210486033,0.02998737234965883,0.029806781788655423,0.02959414415078905,0.029409762414017902,0.029219116089257965,0.02904648490045917,0.028885473171622558,0.02869090354343986,0.02853797054862016,0.028377284385502976,0.028253783145047884,0.02812682364365076,0.028013001085896504,0.027881990215818293,0.027768771213611317,0.027688043058805047,0.027552568399780653,0.02747476216838919,0.02739039606963817,0.02727871134137625,0.02720834725389486,0.02716022708364837,0.02706942108290439,0.027016627673560226,0.02698821630571685,0.026926690532967826,0.026893549024769887,0.026867029461934963,0.02677875006867742,0.02681110318243394,0.026728056430509115,0.026732082164785353,0.026677749770099575,0.026657818483075444,0.026630935726381023,0.026655964298736564,0.026668859033921317,0.026649357413594178,0.02666960573393508,0.026669019856708085,0.026701346483333086,0.026710098442642695,0.02674800161935917,0.026768882118631154,0.02681567129709529,0.026855018837464585,0.02690979825336807,0.026895340730110556,0.02699514330871513,0.027029427183735345,0.027086058682276502,0.027160075253867395,0.02722254579018037,0.027270837013365672,0.027316851282967278,0.027398473439821575,0.027475315090586348,0.027518129110772706,0.027603039514302354,0.027674805088529618,0.02775900464356792,0.027821165010632504,0.027910936446970933,0.02798972113171118,0.028074985171526914],\"type\":\"scatter\",\"xaxis\":\"x2\",\"yaxis\":\"y2\"},{\"line\":{\"color\":\"rgb(0,152,255)\",\"dash\":\"dash\",\"width\":1},\"name\":\"best val\",\"x\":[88],\"y\":[0.026630935726381023],\"type\":\"scatter\",\"xaxis\":\"x2\",\"yaxis\":\"y2\"},{\"line\":{\"color\":\"rgb(151,255,0)\"},\"name\":\"train_loss\",\"x\":[1,2,3,4,5,6,7,8,9,10,11,12,13,14,15,16,17,18,19,20,21,22,23,24,25,26,27,28,29,30,31,32,33,34,35,36,37,38,39,40,41,42,43,44,45,46,47,48,49,50,51,52,53,54,55,56,57,58,59,60,61,62,63,64,65,66,67,68,69,70,71,72,73,74,75,76,77,78,79,80,81,82,83,84,85,86,87,88,89,90,91,92,93,94,95,96,97,98,99,100,101,102,103,104,105,106,107,108,109,110,111,112,113,114,115,116,117,118,119],\"y\":[1.3262582380771637,0.5304559794664383,0.3221316546797752,0.23014216602842014,0.17935618530710537,0.1471111067533493,0.124798776080211,0.10850353397925695,0.09609979352355004,0.08634438168505827,0.07846209197243055,0.07195135856668154,0.06648473308732113,0.061811777016768855,0.05775474662830432,0.05419135158012311,0.05102263040840626,0.0481996663796405,0.04563681853314241,0.04331074114702642,0.0411736928448081,0.0392049926618735,0.0373799298144877,0.035683054874961574,0.034103266609211765,0.03262336444792648,0.031233714341496428,0.029923296260026593,0.02868137810472399,0.027503068628100057,0.026385702737607063,0.025322877740177014,0.024306950552699467,0.02333927078451961,0.022413979546166956,0.021530433647024134,0.020684493406054875,0.019873232528567313,0.019094730173548062,0.018344824308219054,0.01762215286648522,0.0169286857037805,0.016263033998198808,0.015620573416662713,0.015002486071859797,0.01440343946761762,0.013830899341808011,0.013278015541378408,0.012742148649723579,0.012225373242981731,0.011727536232831577,0.011245877894728135,0.010782639016242077,0.010332356211263686,0.009900281319006657,0.009482475773741802,0.009080594120236735,0.008692625199444592,0.008313763551491623,0.00795116711081937,0.007598601489638289,0.0072622802814779185,0.006935768929853415,0.006624201646229873,0.0063205844876356426,0.006033084851922468,0.005754029454352955,0.005485000526493726,0.005228946654203658,0.00497936163272243,0.004743107736886789,0.0045163006990527116,0.004294279722147621,0.004084507594932802,0.003882236521458253,0.003688487962858441,0.0035022960799590995,0.0033243608738994226,0.0031532802814617754,0.0029894539046799763,0.0028321085742209107,0.002682279849521971,0.002538247198370906,0.0024001233666785995,0.002268413188091169,0.0021428999533721557,0.0020250895067777793,0.001912372264836449,0.0018049309478374198,0.0017034703225945122,0.0016070596951758488,0.0015155867978270787,0.0014278591309460657,0.0013456644232598288,0.0012673813642759342,0.0011929012917680666,0.0011223869140085298,0.0010556783704960254,0.0009921160826343112,0.0009320256622935024,0.0008755839060274108,0.000822049573873907,0.000771030638187464,0.0007232123654345438,0.0006780489869318748,0.000635746367435786,0.0005952301300906886,0.000557419373037798,0.0005216003405439551,0.00048798732486223645,0.00045642914060590556,0.0004264578879471325,0.00039825020076871925,0.00037186971235011394,0.00034699048903470003,0.00032366586616990387,0.0003018586499626205,0.00028132691885184616,0.0002619681041420942],\"type\":\"scatter\",\"xaxis\":\"x2\",\"yaxis\":\"y2\"},{\"line\":{\"color\":\"rgb(151,255,0)\",\"dash\":\"dash\",\"width\":1},\"name\":\"best val\",\"x\":[118],\"y\":[0.0002619681041420942],\"type\":\"scatter\",\"xaxis\":\"x2\",\"yaxis\":\"y2\"}],                        {\"template\":{\"data\":{\"histogram2dcontour\":[{\"type\":\"histogram2dcontour\",\"colorbar\":{\"outlinewidth\":0,\"ticks\":\"\"},\"colorscale\":[[0.0,\"#0d0887\"],[0.1111111111111111,\"#46039f\"],[0.2222222222222222,\"#7201a8\"],[0.3333333333333333,\"#9c179e\"],[0.4444444444444444,\"#bd3786\"],[0.5555555555555556,\"#d8576b\"],[0.6666666666666666,\"#ed7953\"],[0.7777777777777778,\"#fb9f3a\"],[0.8888888888888888,\"#fdca26\"],[1.0,\"#f0f921\"]]}],\"choropleth\":[{\"type\":\"choropleth\",\"colorbar\":{\"outlinewidth\":0,\"ticks\":\"\"}}],\"histogram2d\":[{\"type\":\"histogram2d\",\"colorbar\":{\"outlinewidth\":0,\"ticks\":\"\"},\"colorscale\":[[0.0,\"#0d0887\"],[0.1111111111111111,\"#46039f\"],[0.2222222222222222,\"#7201a8\"],[0.3333333333333333,\"#9c179e\"],[0.4444444444444444,\"#bd3786\"],[0.5555555555555556,\"#d8576b\"],[0.6666666666666666,\"#ed7953\"],[0.7777777777777778,\"#fb9f3a\"],[0.8888888888888888,\"#fdca26\"],[1.0,\"#f0f921\"]]}],\"heatmap\":[{\"type\":\"heatmap\",\"colorbar\":{\"outlinewidth\":0,\"ticks\":\"\"},\"colorscale\":[[0.0,\"#0d0887\"],[0.1111111111111111,\"#46039f\"],[0.2222222222222222,\"#7201a8\"],[0.3333333333333333,\"#9c179e\"],[0.4444444444444444,\"#bd3786\"],[0.5555555555555556,\"#d8576b\"],[0.6666666666666666,\"#ed7953\"],[0.7777777777777778,\"#fb9f3a\"],[0.8888888888888888,\"#fdca26\"],[1.0,\"#f0f921\"]]}],\"heatmapgl\":[{\"type\":\"heatmapgl\",\"colorbar\":{\"outlinewidth\":0,\"ticks\":\"\"},\"colorscale\":[[0.0,\"#0d0887\"],[0.1111111111111111,\"#46039f\"],[0.2222222222222222,\"#7201a8\"],[0.3333333333333333,\"#9c179e\"],[0.4444444444444444,\"#bd3786\"],[0.5555555555555556,\"#d8576b\"],[0.6666666666666666,\"#ed7953\"],[0.7777777777777778,\"#fb9f3a\"],[0.8888888888888888,\"#fdca26\"],[1.0,\"#f0f921\"]]}],\"contourcarpet\":[{\"type\":\"contourcarpet\",\"colorbar\":{\"outlinewidth\":0,\"ticks\":\"\"}}],\"contour\":[{\"type\":\"contour\",\"colorbar\":{\"outlinewidth\":0,\"ticks\":\"\"},\"colorscale\":[[0.0,\"#0d0887\"],[0.1111111111111111,\"#46039f\"],[0.2222222222222222,\"#7201a8\"],[0.3333333333333333,\"#9c179e\"],[0.4444444444444444,\"#bd3786\"],[0.5555555555555556,\"#d8576b\"],[0.6666666666666666,\"#ed7953\"],[0.7777777777777778,\"#fb9f3a\"],[0.8888888888888888,\"#fdca26\"],[1.0,\"#f0f921\"]]}],\"surface\":[{\"type\":\"surface\",\"colorbar\":{\"outlinewidth\":0,\"ticks\":\"\"},\"colorscale\":[[0.0,\"#0d0887\"],[0.1111111111111111,\"#46039f\"],[0.2222222222222222,\"#7201a8\"],[0.3333333333333333,\"#9c179e\"],[0.4444444444444444,\"#bd3786\"],[0.5555555555555556,\"#d8576b\"],[0.6666666666666666,\"#ed7953\"],[0.7777777777777778,\"#fb9f3a\"],[0.8888888888888888,\"#fdca26\"],[1.0,\"#f0f921\"]]}],\"mesh3d\":[{\"type\":\"mesh3d\",\"colorbar\":{\"outlinewidth\":0,\"ticks\":\"\"}}],\"scatter\":[{\"fillpattern\":{\"fillmode\":\"overlay\",\"size\":10,\"solidity\":0.2},\"type\":\"scatter\"}],\"parcoords\":[{\"type\":\"parcoords\",\"line\":{\"colorbar\":{\"outlinewidth\":0,\"ticks\":\"\"}}}],\"scatterpolargl\":[{\"type\":\"scatterpolargl\",\"marker\":{\"colorbar\":{\"outlinewidth\":0,\"ticks\":\"\"}}}],\"bar\":[{\"error_x\":{\"color\":\"#2a3f5f\"},\"error_y\":{\"color\":\"#2a3f5f\"},\"marker\":{\"line\":{\"color\":\"#E5ECF6\",\"width\":0.5},\"pattern\":{\"fillmode\":\"overlay\",\"size\":10,\"solidity\":0.2}},\"type\":\"bar\"}],\"scattergeo\":[{\"type\":\"scattergeo\",\"marker\":{\"colorbar\":{\"outlinewidth\":0,\"ticks\":\"\"}}}],\"scatterpolar\":[{\"type\":\"scatterpolar\",\"marker\":{\"colorbar\":{\"outlinewidth\":0,\"ticks\":\"\"}}}],\"histogram\":[{\"marker\":{\"pattern\":{\"fillmode\":\"overlay\",\"size\":10,\"solidity\":0.2}},\"type\":\"histogram\"}],\"scattergl\":[{\"type\":\"scattergl\",\"marker\":{\"colorbar\":{\"outlinewidth\":0,\"ticks\":\"\"}}}],\"scatter3d\":[{\"type\":\"scatter3d\",\"line\":{\"colorbar\":{\"outlinewidth\":0,\"ticks\":\"\"}},\"marker\":{\"colorbar\":{\"outlinewidth\":0,\"ticks\":\"\"}}}],\"scattermapbox\":[{\"type\":\"scattermapbox\",\"marker\":{\"colorbar\":{\"outlinewidth\":0,\"ticks\":\"\"}}}],\"scatterternary\":[{\"type\":\"scatterternary\",\"marker\":{\"colorbar\":{\"outlinewidth\":0,\"ticks\":\"\"}}}],\"scattercarpet\":[{\"type\":\"scattercarpet\",\"marker\":{\"colorbar\":{\"outlinewidth\":0,\"ticks\":\"\"}}}],\"carpet\":[{\"aaxis\":{\"endlinecolor\":\"#2a3f5f\",\"gridcolor\":\"white\",\"linecolor\":\"white\",\"minorgridcolor\":\"white\",\"startlinecolor\":\"#2a3f5f\"},\"baxis\":{\"endlinecolor\":\"#2a3f5f\",\"gridcolor\":\"white\",\"linecolor\":\"white\",\"minorgridcolor\":\"white\",\"startlinecolor\":\"#2a3f5f\"},\"type\":\"carpet\"}],\"table\":[{\"cells\":{\"fill\":{\"color\":\"#EBF0F8\"},\"line\":{\"color\":\"white\"}},\"header\":{\"fill\":{\"color\":\"#C8D4E3\"},\"line\":{\"color\":\"white\"}},\"type\":\"table\"}],\"barpolar\":[{\"marker\":{\"line\":{\"color\":\"#E5ECF6\",\"width\":0.5},\"pattern\":{\"fillmode\":\"overlay\",\"size\":10,\"solidity\":0.2}},\"type\":\"barpolar\"}],\"pie\":[{\"automargin\":true,\"type\":\"pie\"}]},\"layout\":{\"autotypenumbers\":\"strict\",\"colorway\":[\"#636efa\",\"#EF553B\",\"#00cc96\",\"#ab63fa\",\"#FFA15A\",\"#19d3f3\",\"#FF6692\",\"#B6E880\",\"#FF97FF\",\"#FECB52\"],\"font\":{\"color\":\"#2a3f5f\"},\"hovermode\":\"closest\",\"hoverlabel\":{\"align\":\"left\"},\"paper_bgcolor\":\"white\",\"plot_bgcolor\":\"#E5ECF6\",\"polar\":{\"bgcolor\":\"#E5ECF6\",\"angularaxis\":{\"gridcolor\":\"white\",\"linecolor\":\"white\",\"ticks\":\"\"},\"radialaxis\":{\"gridcolor\":\"white\",\"linecolor\":\"white\",\"ticks\":\"\"}},\"ternary\":{\"bgcolor\":\"#E5ECF6\",\"aaxis\":{\"gridcolor\":\"white\",\"linecolor\":\"white\",\"ticks\":\"\"},\"baxis\":{\"gridcolor\":\"white\",\"linecolor\":\"white\",\"ticks\":\"\"},\"caxis\":{\"gridcolor\":\"white\",\"linecolor\":\"white\",\"ticks\":\"\"}},\"coloraxis\":{\"colorbar\":{\"outlinewidth\":0,\"ticks\":\"\"}},\"colorscale\":{\"sequential\":[[0.0,\"#0d0887\"],[0.1111111111111111,\"#46039f\"],[0.2222222222222222,\"#7201a8\"],[0.3333333333333333,\"#9c179e\"],[0.4444444444444444,\"#bd3786\"],[0.5555555555555556,\"#d8576b\"],[0.6666666666666666,\"#ed7953\"],[0.7777777777777778,\"#fb9f3a\"],[0.8888888888888888,\"#fdca26\"],[1.0,\"#f0f921\"]],\"sequentialminus\":[[0.0,\"#0d0887\"],[0.1111111111111111,\"#46039f\"],[0.2222222222222222,\"#7201a8\"],[0.3333333333333333,\"#9c179e\"],[0.4444444444444444,\"#bd3786\"],[0.5555555555555556,\"#d8576b\"],[0.6666666666666666,\"#ed7953\"],[0.7777777777777778,\"#fb9f3a\"],[0.8888888888888888,\"#fdca26\"],[1.0,\"#f0f921\"]],\"diverging\":[[0,\"#8e0152\"],[0.1,\"#c51b7d\"],[0.2,\"#de77ae\"],[0.3,\"#f1b6da\"],[0.4,\"#fde0ef\"],[0.5,\"#f7f7f7\"],[0.6,\"#e6f5d0\"],[0.7,\"#b8e186\"],[0.8,\"#7fbc41\"],[0.9,\"#4d9221\"],[1,\"#276419\"]]},\"xaxis\":{\"gridcolor\":\"white\",\"linecolor\":\"white\",\"ticks\":\"\",\"title\":{\"standoff\":15},\"zerolinecolor\":\"white\",\"automargin\":true,\"zerolinewidth\":2},\"yaxis\":{\"gridcolor\":\"white\",\"linecolor\":\"white\",\"ticks\":\"\",\"title\":{\"standoff\":15},\"zerolinecolor\":\"white\",\"automargin\":true,\"zerolinewidth\":2},\"scene\":{\"xaxis\":{\"backgroundcolor\":\"#E5ECF6\",\"gridcolor\":\"white\",\"linecolor\":\"white\",\"showbackground\":true,\"ticks\":\"\",\"zerolinecolor\":\"white\",\"gridwidth\":2},\"yaxis\":{\"backgroundcolor\":\"#E5ECF6\",\"gridcolor\":\"white\",\"linecolor\":\"white\",\"showbackground\":true,\"ticks\":\"\",\"zerolinecolor\":\"white\",\"gridwidth\":2},\"zaxis\":{\"backgroundcolor\":\"#E5ECF6\",\"gridcolor\":\"white\",\"linecolor\":\"white\",\"showbackground\":true,\"ticks\":\"\",\"zerolinecolor\":\"white\",\"gridwidth\":2}},\"shapedefaults\":{\"line\":{\"color\":\"#2a3f5f\"}},\"annotationdefaults\":{\"arrowcolor\":\"#2a3f5f\",\"arrowhead\":0,\"arrowwidth\":1},\"geo\":{\"bgcolor\":\"white\",\"landcolor\":\"#E5ECF6\",\"subunitcolor\":\"white\",\"showland\":true,\"showlakes\":true,\"lakecolor\":\"white\"},\"title\":{\"x\":0.05},\"mapbox\":{\"style\":\"light\"}}},\"xaxis\":{\"anchor\":\"y\",\"domain\":[0.0,0.45]},\"yaxis\":{\"anchor\":\"x\",\"domain\":[0.0,1.0]},\"xaxis2\":{\"anchor\":\"y2\",\"domain\":[0.55,1.0]},\"yaxis2\":{\"anchor\":\"x2\",\"domain\":[0.0,1.0]},\"annotations\":[{\"font\":{\"size\":16},\"showarrow\":false,\"text\":\"acc\",\"x\":0.225,\"xanchor\":\"center\",\"xref\":\"paper\",\"y\":1.0,\"yanchor\":\"bottom\",\"yref\":\"paper\"},{\"font\":{\"size\":16},\"showarrow\":false,\"text\":\"loss\",\"x\":0.775,\"xanchor\":\"center\",\"xref\":\"paper\",\"y\":1.0,\"yanchor\":\"bottom\",\"yref\":\"paper\"}],\"shapes\":[{\"line\":{\"color\":\"rgb(0,0,200)\",\"dash\":\"dash\",\"width\":1},\"type\":\"line\",\"x0\":106,\"x1\":106,\"xref\":\"x\",\"y0\":0,\"y1\":1,\"yref\":\"y domain\"},{\"line\":{\"color\":\"rgb(0,152,255)\",\"dash\":\"dash\",\"width\":1},\"type\":\"line\",\"x0\":88,\"x1\":88,\"xref\":\"x2\",\"y0\":0,\"y1\":1,\"yref\":\"y2 domain\"},{\"line\":{\"color\":\"rgb(151,255,0)\",\"dash\":\"dash\",\"width\":1},\"type\":\"line\",\"x0\":118,\"x1\":118,\"xref\":\"x2\",\"y0\":0,\"y1\":1,\"yref\":\"y2 domain\"}]},                        {\"responsive\": true}                    ).then(function(){\n",
       "                            \n",
       "var gd = document.getElementById('3d209965-36e5-4602-96a8-55c60cb080a3');\n",
       "var x = new MutationObserver(function (mutations, observer) {{\n",
       "        var display = window.getComputedStyle(gd).display;\n",
       "        if (!display || display === 'none') {{\n",
       "            console.log([gd, 'removed!']);\n",
       "            Plotly.purge(gd);\n",
       "            observer.disconnect();\n",
       "        }}\n",
       "}});\n",
       "\n",
       "// Listen for the removal of the full notebook cells\n",
       "var notebookContainer = gd.closest('#notebook-container');\n",
       "if (notebookContainer) {{\n",
       "    x.observe(notebookContainer, {childList: true});\n",
       "}}\n",
       "\n",
       "// Listen for the clearing of the current output cell\n",
       "var outputEl = gd.closest('.output');\n",
       "if (outputEl) {{\n",
       "    x.observe(outputEl, {childList: true});\n",
       "}}\n",
       "\n",
       "                        })                };                });            </script>        </div>"
      ]
     },
     "metadata": {},
     "output_type": "display_data"
    }
   ],
   "source": [
    "# !pip install plotly\n",
    "import plotly.io as pio\n",
    "import itertools\n",
    "pio.renderers.default = \"notebook_connected\"\n",
    "import pandas as pd\n",
    "import plotly.express as px\n",
    "from plotly.subplots import make_subplots\n",
    "import plotly.graph_objects as go\n",
    "col_pal = px.colors.sequential.Rainbow\n",
    "col_pal_iter = itertools.cycle(col_pal) \n",
    "# def print_history(history):\n",
    "history = best_hist\n",
    "def plot_history(history):\n",
    "    implemented_metric = [\"acc\", \"loss\"]\n",
    "    plot_dict = {}\n",
    "    for met in implemented_metric:\n",
    "        plot_dict[met] = [s for s in history if met in s]\n",
    "\n",
    "    fig = make_subplots(rows=1, cols=len(plot_dict), subplot_titles=list(plot_dict.keys()))\n",
    "\n",
    "    for idx, (met, mets) in enumerate(plot_dict.items()):\n",
    "        for key in mets:\n",
    "            new_color = next(col_pal_iter)\n",
    "            new_color = next(col_pal_iter)\n",
    "            fig.add_trace(go.Scatter(x=history.index, y=history[key].values, name=key, line=dict(color=new_color)), row=1, col=idx+1)\n",
    "            dmin, dmax = history[key].min(), history[key].max()\n",
    "            if met == \"acc\":\n",
    "                epoch = history[key].argmax()\n",
    "                fig.add_trace(go.Scatter(x=[epoch], y=[dmax], name=\"best val\", line=dict(color=new_color, width=1, dash=\"dash\")), row=1, col=idx+1)\n",
    "                fig.add_vline(x=epoch, line_width=1, line_color=new_color, line_dash=\"dash\", row=1, col=idx+1)\n",
    "            if met == \"loss\":\n",
    "                epoch = history[key].argmin()\n",
    "                fig.add_trace(go.Scatter(x=[epoch], y=[dmin], name=\"best val\", line=dict(color=new_color, width=1, dash=\"dash\")), row=1, col=idx+1)\n",
    "                fig.add_vline(x=epoch, line_width=1, line_color=new_color, line_dash=\"dash\", row=1, col=idx+1)\n",
    "    # learn.history.keys()[0]\n",
    "    # fig.update_layout(title_text=\"test\")\n",
    "    fig.show()\n",
    "plot_history(history)"
   ]
  }
 ],
 "metadata": {
  "interpreter": {
   "hash": "fd69f43f58546b570e94fd7eba7b65e6bcc7a5bbc4eab0408017d18902915d69"
  },
  "kernelspec": {
   "display_name": "Python 3.7.13 64-bit",
   "language": "python",
   "name": "python3"
  },
  "language_info": {
   "codemirror_mode": {
    "name": "ipython",
    "version": 3
   },
   "file_extension": ".py",
   "mimetype": "text/x-python",
   "name": "python",
   "nbconvert_exporter": "python",
   "pygments_lexer": "ipython3",
   "version": "3.7.0"
  },
  "orig_nbformat": 4
 },
 "nbformat": 4,
 "nbformat_minor": 2
}
