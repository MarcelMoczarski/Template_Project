{
 "cells": [
  {
   "cell_type": "code",
   "execution_count": 2,
   "metadata": {},
   "outputs": [],
   "source": [
    "%reload_ext autoreload\n",
    "%autoreload 2\n",
    "os.chdir(\"..\")\n",
    "# from core.dl_training.scripts.training import main"
   ]
  },
  {
   "cell_type": "code",
   "execution_count": 3,
   "metadata": {},
   "outputs": [
    {
     "name": "stdout",
     "output_type": "stream",
     "text": [
      "/content/Template_Project\n"
     ]
    }
   ],
   "source": [
    "%%bash \n",
    "pwd"
   ]
  },
  {
   "cell_type": "code",
   "execution_count": 61,
   "metadata": {},
   "outputs": [],
   "source": [
    "import toml\n",
    "config_file = toml.load(\"configs/default_train_config.toml\")\n",
    "# from core.dl_framework.utils import read_config\n",
    "# setup_config = read_config(config_file)"
   ]
  },
  {
   "cell_type": "code",
   "execution_count": 71,
   "metadata": {},
   "outputs": [
    {
     "name": "stdout",
     "output_type": "stream",
     "text": [
      "Training configuration\n",
      "gpu False\n",
      "tmp_data_path ./tmp_files\n",
      "num_epochs 100\n",
      "num_classes 10\n",
      "valid_split 0.2\n",
      "source torchvision\n",
      "set MNIST\n",
      "batch_size 64\n",
      "lr 1e-05\n",
      "monitor {'monitor': ['valid_acc', 'valid_loss', 'loss']}\n",
      "monitor ['valid_acc', 'valid_loss', 'loss']\n"
     ]
    }
   ],
   "source": [
    "# config_file = toml.load(\"configs/default_train_config.toml\")\n",
    "# config_file\n",
    "# test = {}\n",
    "# for key, value in config_file.items():\n",
    "#     if key == \"title\":\n",
    "#         continue\n",
    "#     else:\n",
    "#         for subkey, subval in value.items():\n",
    "#             test[subkey] = subval\n",
    "#     break\n",
    "\n",
    "config_file = toml.load(\"configs/default_train_config.toml\")\n",
    "    \n",
    "\n",
    "\n",
    "def rec_dict_length(data):\n",
    "    i = 0\n",
    "    if type(data) == dict:\n",
    "        for key, value in data.items():\n",
    "            if type(value) == dict:\n",
    "                print(key,value)\n",
    "                return rec_dict_length(value)\n",
    "            else:\n",
    "                print(key, value)\n",
    "    else: \n",
    "        print(data)\n",
    "            \n",
    "for key, value in config_file.items():\n",
    "    rec_dict_length(value) \n"
   ]
  },
  {
   "cell_type": "code",
   "execution_count": 72,
   "metadata": {},
   "outputs": [
    {
     "data": {
      "text/plain": [
       "{'title': 'Training configuration',\n",
       " 'mode': {'gpu': False},\n",
       " 'paths': {'tmp_data_path': './tmp_files'},\n",
       " 'general': {'num_epochs': 100, 'num_classes': 10, 'valid_split': 0.2},\n",
       " 'source': {'source': 'torchvision', 'set': 'MNIST'},\n",
       " 'hyperparams': {'batch_size': 64, 'lr': 1e-05},\n",
       " 'callbacks': {'monitor': {'monitor': ['valid_acc', 'valid_loss', 'loss']},\n",
       "  'earlystopping': {'monitor': 'valid_loss', 'patience': 1000}}}"
      ]
     },
     "execution_count": 72,
     "metadata": {},
     "output_type": "execute_result"
    }
   ],
   "source": [
    "config_file"
   ]
  },
  {
   "cell_type": "code",
   "execution_count": 14,
   "metadata": {},
   "outputs": [],
   "source": [
    "from core.dl_training.scripts.training import main"
   ]
  },
  {
   "cell_type": "code",
   "execution_count": null,
   "metadata": {},
   "outputs": [],
   "source": [
    "main(\"/configs/default_train_config.toml\")"
   ]
  }
 ],
 "metadata": {
  "interpreter": {
   "hash": "fd69f43f58546b570e94fd7eba7b65e6bcc7a5bbc4eab0408017d18902915d69"
  },
  "kernelspec": {
   "display_name": "Python 3.7.13 64-bit",
   "language": "python",
   "name": "python3"
  },
  "language_info": {
   "codemirror_mode": {
    "name": "ipython",
    "version": 3
   },
   "file_extension": ".py",
   "mimetype": "text/x-python",
   "name": "python",
   "nbconvert_exporter": "python",
   "pygments_lexer": "ipython3",
   "version": "3.7.0"
  },
  "orig_nbformat": 4
 },
 "nbformat": 4,
 "nbformat_minor": 2
}
