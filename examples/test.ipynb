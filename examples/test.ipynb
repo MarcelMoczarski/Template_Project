{
 "cells": [
  {
   "cell_type": "code",
   "execution_count": 1,
   "metadata": {},
   "outputs": [
    {
     "name": "stderr",
     "output_type": "stream",
     "text": [
      "/usr/local/lib/python3.7/site-packages/tqdm/auto.py:22: TqdmWarning: IProgress not found. Please update jupyter and ipywidgets. See https://ipywidgets.readthedocs.io/en/stable/user_install.html\n",
      "  from .autonotebook import tqdm as notebook_tqdm\n"
     ]
    }
   ],
   "source": [
    "%reload_ext autoreload\n",
    "%autoreload 2\n",
    "os.chdir(\"..\")\n",
    "import toml\n",
    "from core.dl_framework.utils import read_config"
   ]
  },
  {
   "cell_type": "code",
   "execution_count": 2,
   "metadata": {},
   "outputs": [
    {
     "name": "stdout",
     "output_type": "stream",
     "text": [
      "/content/Template_Project\n"
     ]
    }
   ],
   "source": [
    "%%bash \n",
    "pwd"
   ]
  },
  {
   "cell_type": "code",
   "execution_count": 3,
   "metadata": {},
   "outputs": [],
   "source": [
    "config_file = toml.load(\"configs/default_train_config.toml\")\n",
    "setup_config = read_config(config_file)"
   ]
  },
  {
   "cell_type": "code",
   "execution_count": 5,
   "metadata": {},
   "outputs": [
    {
     "name": "stderr",
     "output_type": "stream",
     "text": [
      "100%|██████████| 750/750 [00:02<00:00, 297.07it/s]\n",
      "100%|██████████| 187/187 [00:00<00:00, 1171.62it/s]\n"
     ]
    },
    {
     "name": "stdout",
     "output_type": "stream",
     "text": [
      "epoch: 1/2\t[valid_acc: 0.8958\tvalid_loss: 0.6926\ttrain_loss: 1.2775]\n",
      "new best: valid_loss 0.6926330876222906\n",
      "new checkpoint\n"
     ]
    },
    {
     "name": "stderr",
     "output_type": "stream",
     "text": [
      "100%|██████████| 750/750 [00:02<00:00, 288.10it/s]\n",
      "100%|██████████| 187/187 [00:00<00:00, 1180.10it/s]"
     ]
    },
    {
     "name": "stdout",
     "output_type": "stream",
     "text": [
      "epoch: 2/2\t[valid_acc: 0.9357\tvalid_loss: 0.3742\ttrain_loss: 0.4922]\n",
      "new best: valid_loss 0.3742092729092919\n",
      "new checkpoint\n"
     ]
    },
    {
     "name": "stderr",
     "output_type": "stream",
     "text": [
      "\n"
     ]
    }
   ],
   "source": [
    "from core.dl_framework.learner import Learner\n",
    "from core.dl_framework.callbacks import Recorder, Monitor, EarlyStopping, Checkpoints\n",
    "from core.dl_framework.data import get_dataset, Dataset, DataLoader, split_data\n",
    "from torchvision import transforms\n",
    "bs = setup_config[\"h_batch_size\"]\n",
    "x_train, y_train, x_test, y_test = get_dataset(setup_config[\"s_source\"], setup_config[\"s_set\"], setup_config[\"p_tmp_data_path\"], CNN=True)\n",
    "\n",
    "train_ds, test_ds =  Dataset(x_train, y_train), Dataset(x_test, y_test)\n",
    "train_dl, test_dl = DataLoader(train_ds, bs), DataLoader(test_ds, bs)\n",
    "learn = Learner(train_ds, setup_config)\n",
    "learn.fit(2)\n"
   ]
  },
  {
   "cell_type": "code",
   "execution_count": 4,
   "metadata": {},
   "outputs": [],
   "source": [
    "from pathlib import Path\n",
    "from datetime import datetime\n",
    "ckp_path = \"/content/gdrive/MyDrive/Marcel_Moczarski/Data_Science/Google_Services/Local_Drive_Storage/Conda_Envs/Template_Project/checkpoints\""
   ]
  },
  {
   "cell_type": "code",
   "execution_count": 169,
   "metadata": {},
   "outputs": [],
   "source": [
    "sample = next(iter(test_dl))\n",
    "imgs, targets = sample"
   ]
  },
  {
   "cell_type": "code",
   "execution_count": 90,
   "metadata": {},
   "outputs": [
    {
     "data": {
      "text/html": [
       "<div>\n",
       "<style scoped>\n",
       "    .dataframe tbody tr th:only-of-type {\n",
       "        vertical-align: middle;\n",
       "    }\n",
       "\n",
       "    .dataframe tbody tr th {\n",
       "        vertical-align: top;\n",
       "    }\n",
       "\n",
       "    .dataframe thead th {\n",
       "        text-align: right;\n",
       "    }\n",
       "</style>\n",
       "<table border=\"1\" class=\"dataframe\">\n",
       "  <thead>\n",
       "    <tr style=\"text-align: right;\">\n",
       "      <th></th>\n",
       "      <th>valid_acc</th>\n",
       "      <th>valid_loss</th>\n",
       "      <th>train_loss</th>\n",
       "    </tr>\n",
       "    <tr>\n",
       "      <th>epochs</th>\n",
       "      <th></th>\n",
       "      <th></th>\n",
       "      <th></th>\n",
       "    </tr>\n",
       "  </thead>\n",
       "  <tbody>\n",
       "    <tr>\n",
       "      <th>1</th>\n",
       "      <td>0.892463</td>\n",
       "      <td>0.694473</td>\n",
       "      <td>1.296461</td>\n",
       "    </tr>\n",
       "    <tr>\n",
       "      <th>2</th>\n",
       "      <td>0.935244</td>\n",
       "      <td>0.377675</td>\n",
       "      <td>0.496537</td>\n",
       "    </tr>\n",
       "    <tr>\n",
       "      <th>3</th>\n",
       "      <td>0.951454</td>\n",
       "      <td>0.260701</td>\n",
       "      <td>0.304477</td>\n",
       "    </tr>\n",
       "    <tr>\n",
       "      <th>4</th>\n",
       "      <td>0.958640</td>\n",
       "      <td>0.199920</td>\n",
       "      <td>0.221037</td>\n",
       "    </tr>\n",
       "    <tr>\n",
       "      <th>5</th>\n",
       "      <td>0.964238</td>\n",
       "      <td>0.162641</td>\n",
       "      <td>0.174001</td>\n",
       "    </tr>\n",
       "    <tr>\n",
       "      <th>...</th>\n",
       "      <td>...</td>\n",
       "      <td>...</td>\n",
       "      <td>...</td>\n",
       "    </tr>\n",
       "    <tr>\n",
       "      <th>97</th>\n",
       "      <td>0.991143</td>\n",
       "      <td>0.031304</td>\n",
       "      <td>0.001217</td>\n",
       "    </tr>\n",
       "    <tr>\n",
       "      <th>98</th>\n",
       "      <td>0.991143</td>\n",
       "      <td>0.031336</td>\n",
       "      <td>0.001146</td>\n",
       "    </tr>\n",
       "    <tr>\n",
       "      <th>99</th>\n",
       "      <td>0.991143</td>\n",
       "      <td>0.031410</td>\n",
       "      <td>0.001079</td>\n",
       "    </tr>\n",
       "    <tr>\n",
       "      <th>100</th>\n",
       "      <td>0.991059</td>\n",
       "      <td>0.031484</td>\n",
       "      <td>0.001016</td>\n",
       "    </tr>\n",
       "    <tr>\n",
       "      <th>101</th>\n",
       "      <td>0.991310</td>\n",
       "      <td>0.031547</td>\n",
       "      <td>0.000956</td>\n",
       "    </tr>\n",
       "  </tbody>\n",
       "</table>\n",
       "<p>101 rows × 3 columns</p>\n",
       "</div>"
      ],
      "text/plain": [
       "        valid_acc  valid_loss  train_loss\n",
       "epochs                                   \n",
       "1        0.892463    0.694473    1.296461\n",
       "2        0.935244    0.377675    0.496537\n",
       "3        0.951454    0.260701    0.304477\n",
       "4        0.958640    0.199920    0.221037\n",
       "5        0.964238    0.162641    0.174001\n",
       "...           ...         ...         ...\n",
       "97       0.991143    0.031304    0.001217\n",
       "98       0.991143    0.031336    0.001146\n",
       "99       0.991143    0.031410    0.001079\n",
       "100      0.991059    0.031484    0.001016\n",
       "101      0.991310    0.031547    0.000956\n",
       "\n",
       "[101 rows x 3 columns]"
      ]
     },
     "execution_count": 90,
     "metadata": {},
     "output_type": "execute_result"
    }
   ],
   "source": [
    "from pathlib import Path\n",
    "import os\n",
    "ckp_path = Path(setup_config[\"c_c_ckp_path\"])\n",
    "\n",
    "def get_history(ckp_path, monitor, fileformat=[\"csv\"]):\n",
    "    project_name = Path(os.getcwd()).name\n",
    "    for i, path in enumerate(ckp_path.parts):\n",
    "        length = len(ckp_path.parts)\n",
    "        if (path == project_name) and (i+1 != length):\n",
    "            project_path = ckp_path.parents[length-i-2]\n",
    "\n",
    "    files = [] \n",
    "    if type(fileformat) != list: \n",
    "        fileformat = [fileformat]\n",
    "    for fmt in fileformat:\n",
    "        for rel_path in ckp_path.rglob(\"*.\"+fmt):\n",
    "            # files.append(rel_path.relative_to(project_path))\n",
    "            files.append(rel_path)\n",
    "        metric_files = []\n",
    "        for metric in files:\n",
    "            if monitor in metric.name:\n",
    "                metric_files.append(metric)\n",
    "            \n",
    "    return metric_files\n",
    "\n",
    "def get_specific_history(ckp_path, monitor, fileformat=[\"csv\"], specific=\"best\"):\n",
    "    files = get_history(ckp_path, monitor, fileformat)\n",
    "\n",
    "    if specific == \"best\":\n",
    "        best_vals = []\n",
    "        for idx, hist in enumerate(files):\n",
    "            get_func = getattr(pd, \"read_\" + hist.suffix[1:])\n",
    "            tmp_df = get_func(hist)\n",
    "            best_vals.append(tmp_df[monitor].max())\n",
    "        best_idx = best_vals.index(max(best_vals))\n",
    "        # best_hist = \n",
    "        return getattr(pd, \"read_\" + files[best_idx].suffix[1:])(files[best_idx])\n",
    "\n",
    "best_hist = get_specific_history(ckp_path, \"valid_acc\", [\"parquet\", \"csv\"], \"best\")\n",
    "best_hist"
   ]
  },
  {
   "cell_type": "code",
   "execution_count": 45,
   "metadata": {},
   "outputs": [],
   "source": [
    "import pandas as pd\n",
    "import numpy as np\n",
    "\n",
    "arr_size = 1e2\n",
    "arr_cols = \"ABCD\"\n",
    "tmp_dict = {}\n",
    "\n",
    "fileformat = \"parquet\"\n",
    "arr = np.arange(arr_size)\n",
    "\n",
    "for letter in arr_cols:\n",
    "    tmp_dict[letter] = arr\n",
    "\n",
    "df = pd.DataFrame(tmp_dict)\n",
    "\n",
    "to_func = getattr(df, \"to_\"+fileformat)\n",
    "to_func(ckp_path / Path(f\"test.{fileformat}\"))\n"
   ]
  },
  {
   "cell_type": "code",
   "execution_count": 136,
   "metadata": {},
   "outputs": [],
   "source": [
    "# import plotly.io as pio\n",
    "# pio.reanderers.default = \"notebook_connected\"\n",
    "import itertools"
   ]
  },
  {
   "cell_type": "code",
   "execution_count": 177,
   "metadata": {},
   "outputs": [
    {
     "data": {
      "text/html": [
       "        <script type=\"text/javascript\">\n",
       "        window.PlotlyConfig = {MathJaxConfig: 'local'};\n",
       "        if (window.MathJax) {MathJax.Hub.Config({SVG: {font: \"STIX-Web\"}});}\n",
       "        if (typeof require !== 'undefined') {\n",
       "        require.undef(\"plotly\");\n",
       "        requirejs.config({\n",
       "            paths: {\n",
       "                'plotly': ['https://cdn.plot.ly/plotly-2.11.1.min']\n",
       "            }\n",
       "        });\n",
       "        require(['plotly'], function(Plotly) {\n",
       "            window._Plotly = Plotly;\n",
       "        });\n",
       "        }\n",
       "        </script>\n",
       "        "
      ]
     },
     "metadata": {},
     "output_type": "display_data"
    },
    {
     "data": {
      "text/html": [
       "<div>                            <div id=\"5b3b452b-c7d2-4777-821f-632949b6b15a\" class=\"plotly-graph-div\" style=\"height:525px; width:100%;\"></div>            <script type=\"text/javascript\">                require([\"plotly\"], function(Plotly) {                    window.PLOTLYENV=window.PLOTLYENV || {};                                    if (document.getElementById(\"5b3b452b-c7d2-4777-821f-632949b6b15a\")) {                    Plotly.newPlot(                        \"5b3b452b-c7d2-4777-821f-632949b6b15a\",                        [{\"line\":{\"color\":\"rgb(0,0,200)\"},\"name\":\"valid_acc\",\"x\":[1,2,3,4,5,6,7,8,9,10,11,12,13,14,15,16,17,18,19,20,21,22,23,24,25,26,27,28,29,30,31,32,33,34,35,36,37,38,39,40,41,42,43,44,45,46,47,48,49,50,51,52,53,54,55,56,57,58,59,60,61,62,63,64,65,66,67,68,69,70,71,72,73,74,75,76,77,78,79,80,81,82,83,84,85,86,87,88,89,90,91,92,93,94,95,96,97,98,99,100,101],\"y\":[0.8924632352941176,0.9352439839572193,0.9514538770053476,0.9586397058823529,0.9642379679144385,0.9688335561497327,0.9718415775401069,0.9740975935828877,0.9761864973262032,0.9778576203208557,0.979528743315508,0.9809491978609626,0.9816176470588235,0.9825367647058824,0.9832052139037433,0.9837901069518716,0.9841243315508021,0.9848763368983957,0.9852105614973262,0.9857954545454546,0.9864639037433155,0.986798128342246,0.9871323529411765,0.9875501336898396,0.9877172459893048,0.9878008021390374,0.9878008021390374,0.9880514705882353,0.9883856951871658,0.9887199197860963,0.9889705882352942,0.9889705882352942,0.9890541443850267,0.9893048128342246,0.9895554812834224,0.9896390374331551,0.9898061497326203,0.9896390374331551,0.9897225935828877,0.9897225935828877,0.9896390374331551,0.9896390374331551,0.9897225935828877,0.9897225935828877,0.9897225935828877,0.9897225935828877,0.9898897058823529,0.9898061497326203,0.9898061497326203,0.9898897058823529,0.9899732620320856,0.9899732620320856,0.9899732620320856,0.9899732620320856,0.9902239304812834,0.9903074866310161,0.9903910427807486,0.9903910427807486,0.9903074866310161,0.9903910427807486,0.9904745989304813,0.9903910427807486,0.9904745989304813,0.9906417112299465,0.9906417112299465,0.9906417112299465,0.9908088235294118,0.9908923796791443,0.9908923796791443,0.9908088235294118,0.9908088235294118,0.9908088235294118,0.9908923796791443,0.990975935828877,0.990975935828877,0.990975935828877,0.9912266042780749,0.9910594919786097,0.9912266042780749,0.9912266042780749,0.9913101604278075,0.9912266042780749,0.9912266042780749,0.9912266042780749,0.9911430481283422,0.9911430481283422,0.9911430481283422,0.9911430481283422,0.9911430481283422,0.9911430481283422,0.9911430481283422,0.9911430481283422,0.9911430481283422,0.9911430481283422,0.9912266042780749,0.9911430481283422,0.9911430481283422,0.9911430481283422,0.9911430481283422,0.9910594919786097,0.9913101604278075],\"type\":\"scatter\",\"xaxis\":\"x\",\"yaxis\":\"y\"},{\"line\":{\"color\":\"rgb(0,0,200)\",\"dash\":\"dash\",\"width\":1},\"x\":[80],\"y\":[0.9913101604278075],\"type\":\"scatter\",\"xaxis\":\"x\",\"yaxis\":\"y\"},{\"line\":{\"color\":\"rgb(0,152,255)\"},\"name\":\"valid_loss\",\"x\":[1,2,3,4,5,6,7,8,9,10,11,12,13,14,15,16,17,18,19,20,21,22,23,24,25,26,27,28,29,30,31,32,33,34,35,36,37,38,39,40,41,42,43,44,45,46,47,48,49,50,51,52,53,54,55,56,57,58,59,60,61,62,63,64,65,66,67,68,69,70,71,72,73,74,75,76,77,78,79,80,81,82,83,84,85,86,87,88,89,90,91,92,93,94,95,96,97,98,99,100,101],\"y\":[0.6944731881911742,0.37767502968324057,0.2607013556090268,0.19992015725947956,0.1626410269163509,0.1375019354496729,0.11947492280984945,0.10600339800597512,0.09565369984045385,0.0874630870785624,0.08085897427430765,0.07543670639076973,0.0708840594372966,0.06701849147000095,0.06371464841765039,0.060832674525439105,0.05832280562244316,0.05610574537858287,0.05413282949995389,0.05238866552531241,0.050813373367496355,0.04938806814046945,0.048103599821561004,0.046910375854707656,0.045832576105659974,0.044844866237219644,0.04391351276958849,0.0430892007002099,0.0423217673243128,0.04160653437203902,0.04093482431751442,0.040327410661879386,0.03974708852502592,0.03919952074040903,0.038674401782980976,0.038187835684275244,0.03774887917159912,0.03731567196966333,0.03692275268414162,0.036536514589732345,0.03619064333260976,0.035876280238433554,0.035556663681857566,0.03527905570497527,0.03501748330617214,0.034758936997283905,0.03452206979117252,0.0342879372830677,0.034072508729177525,0.03386124478214804,0.03365966447076217,0.03347025159995425,0.03329898323303457,0.03311338803150696,0.032943766850500024,0.03278690199168489,0.0326386716386134,0.03250704535325481,0.03238861930847945,0.0322488017877026,0.03213735736463279,0.0320309422739637,0.03193313272216701,0.03184255641103189,0.03175180861794883,0.03166651332758387,0.03158872756132119,0.031514154730008584,0.03144321654099015,0.03138639563152985,0.0313178598675329,0.0312758881896286,0.031206889967633322,0.0311526312859465,0.031098305754161833,0.031071545136283168,0.031030572296548535,0.030993077794107343,0.03098442932552867,0.03095558951926333,0.030933399539674947,0.030914498374792425,0.030908545817063007,0.030922351397865297,0.030923407107721117,0.030928694906571064,0.03095100373017258,0.030961758144296966,0.03100268910626537,0.031011807936866878,0.0310237038050894,0.031061949725866685,0.031088337392165242,0.03113324906501762,0.031199047069658554,0.031228697470051265,0.031303795522939847,0.03133647117476143,0.031410079734228095,0.031483949318946526,0.03154650704364322],\"type\":\"scatter\",\"xaxis\":\"x2\",\"yaxis\":\"y2\"},{\"line\":{\"color\":\"rgb(0,152,255)\",\"dash\":\"dash\",\"width\":1},\"x\":[82],\"y\":[0.030908545817063007],\"type\":\"scatter\",\"xaxis\":\"x2\",\"yaxis\":\"y2\"},{\"line\":{\"color\":\"rgb(151,255,0)\"},\"name\":\"train_loss\",\"x\":[1,2,3,4,5,6,7,8,9,10,11,12,13,14,15,16,17,18,19,20,21,22,23,24,25,26,27,28,29,30,31,32,33,34,35,36,37,38,39,40,41,42,43,44,45,46,47,48,49,50,51,52,53,54,55,56,57,58,59,60,61,62,63,64,65,66,67,68,69,70,71,72,73,74,75,76,77,78,79,80,81,82,83,84,85,86,87,88,89,90,91,92,93,94,95,96,97,98,99,100,101],\"y\":[1.2964613104661307,0.4965371656616529,0.304476521730423,0.22103674000501633,0.17400080035130183,0.14363613966604075,0.12236329612632592,0.10668304691712062,0.09468831126888592,0.08522829834620158,0.07756410323083401,0.07122386439641316,0.06587461132680376,0.06128803986683488,0.05731296572710077,0.05382613721862435,0.0507347039381663,0.0479597435866793,0.04545134067597489,0.043174263635029395,0.04107977124241491,0.039155891459435224,0.037370427321021756,0.035711896488443015,0.03416115204555293,0.03270284464582801,0.03133232852257788,0.030040531997568905,0.02881733573259165,0.02766028885357082,0.026561152939063807,0.02551946950300286,0.024524009875021874,0.023576563594552378,0.02267048517242074,0.02179891606234014,0.02096540163519482,0.02016346181432406,0.01939291760729005,0.018652652103609096,0.01793991673567022,0.017252991110862544,0.01659274270820121,0.01595439727821698,0.015336077509758373,0.014745162981096654,0.01416718664051344,0.013614251280358682,0.01307767921499908,0.012559198898418496,0.012055522332433611,0.011572047804792722,0.011103083531217028,0.0106508490635703,0.010211926076871653,0.009788715494330972,0.009380111070582644,0.00898240844385388,0.008602775882308681,0.008233596650728335,0.00787831354769878,0.007533210647680486,0.007201934240292758,0.0068831249260498835,0.006576579807403808,0.0062803800323745235,0.005993675115440662,0.005719499573189144,0.005455087982971842,0.005199193588923663,0.004955224354557383,0.004721424435925049,0.004493754377394604,0.004277252457259843,0.004069780095946044,0.003869365795709503,0.003678920181506934,0.0034953276946519812,0.0033198568624599528,0.003150993763236329,0.002990841595766445,0.0028370996634475886,0.0026891277081643543,0.0025484081829393592,0.002414101222840448,0.0022854510189499705,0.0021626095187772688,0.0020467506322117213,0.0019347725887782872,0.0018286580360339334,0.0017272596955687429,0.0016313605767791159,0.0015398481792750923,0.0014529632090125233,0.0013701698492125918,0.0012917321100054929,0.0012170165516533114,0.0011464914970371561,0.001079297858387387,0.0010158192514500115,0.0009555512512985539],\"type\":\"scatter\",\"xaxis\":\"x2\",\"yaxis\":\"y2\"},{\"line\":{\"color\":\"rgb(151,255,0)\",\"dash\":\"dash\",\"width\":1},\"x\":[100],\"y\":[0.0009555512512985539],\"type\":\"scatter\",\"xaxis\":\"x2\",\"yaxis\":\"y2\"}],                        {\"template\":{\"data\":{\"histogram2dcontour\":[{\"type\":\"histogram2dcontour\",\"colorbar\":{\"outlinewidth\":0,\"ticks\":\"\"},\"colorscale\":[[0.0,\"#0d0887\"],[0.1111111111111111,\"#46039f\"],[0.2222222222222222,\"#7201a8\"],[0.3333333333333333,\"#9c179e\"],[0.4444444444444444,\"#bd3786\"],[0.5555555555555556,\"#d8576b\"],[0.6666666666666666,\"#ed7953\"],[0.7777777777777778,\"#fb9f3a\"],[0.8888888888888888,\"#fdca26\"],[1.0,\"#f0f921\"]]}],\"choropleth\":[{\"type\":\"choropleth\",\"colorbar\":{\"outlinewidth\":0,\"ticks\":\"\"}}],\"histogram2d\":[{\"type\":\"histogram2d\",\"colorbar\":{\"outlinewidth\":0,\"ticks\":\"\"},\"colorscale\":[[0.0,\"#0d0887\"],[0.1111111111111111,\"#46039f\"],[0.2222222222222222,\"#7201a8\"],[0.3333333333333333,\"#9c179e\"],[0.4444444444444444,\"#bd3786\"],[0.5555555555555556,\"#d8576b\"],[0.6666666666666666,\"#ed7953\"],[0.7777777777777778,\"#fb9f3a\"],[0.8888888888888888,\"#fdca26\"],[1.0,\"#f0f921\"]]}],\"heatmap\":[{\"type\":\"heatmap\",\"colorbar\":{\"outlinewidth\":0,\"ticks\":\"\"},\"colorscale\":[[0.0,\"#0d0887\"],[0.1111111111111111,\"#46039f\"],[0.2222222222222222,\"#7201a8\"],[0.3333333333333333,\"#9c179e\"],[0.4444444444444444,\"#bd3786\"],[0.5555555555555556,\"#d8576b\"],[0.6666666666666666,\"#ed7953\"],[0.7777777777777778,\"#fb9f3a\"],[0.8888888888888888,\"#fdca26\"],[1.0,\"#f0f921\"]]}],\"heatmapgl\":[{\"type\":\"heatmapgl\",\"colorbar\":{\"outlinewidth\":0,\"ticks\":\"\"},\"colorscale\":[[0.0,\"#0d0887\"],[0.1111111111111111,\"#46039f\"],[0.2222222222222222,\"#7201a8\"],[0.3333333333333333,\"#9c179e\"],[0.4444444444444444,\"#bd3786\"],[0.5555555555555556,\"#d8576b\"],[0.6666666666666666,\"#ed7953\"],[0.7777777777777778,\"#fb9f3a\"],[0.8888888888888888,\"#fdca26\"],[1.0,\"#f0f921\"]]}],\"contourcarpet\":[{\"type\":\"contourcarpet\",\"colorbar\":{\"outlinewidth\":0,\"ticks\":\"\"}}],\"contour\":[{\"type\":\"contour\",\"colorbar\":{\"outlinewidth\":0,\"ticks\":\"\"},\"colorscale\":[[0.0,\"#0d0887\"],[0.1111111111111111,\"#46039f\"],[0.2222222222222222,\"#7201a8\"],[0.3333333333333333,\"#9c179e\"],[0.4444444444444444,\"#bd3786\"],[0.5555555555555556,\"#d8576b\"],[0.6666666666666666,\"#ed7953\"],[0.7777777777777778,\"#fb9f3a\"],[0.8888888888888888,\"#fdca26\"],[1.0,\"#f0f921\"]]}],\"surface\":[{\"type\":\"surface\",\"colorbar\":{\"outlinewidth\":0,\"ticks\":\"\"},\"colorscale\":[[0.0,\"#0d0887\"],[0.1111111111111111,\"#46039f\"],[0.2222222222222222,\"#7201a8\"],[0.3333333333333333,\"#9c179e\"],[0.4444444444444444,\"#bd3786\"],[0.5555555555555556,\"#d8576b\"],[0.6666666666666666,\"#ed7953\"],[0.7777777777777778,\"#fb9f3a\"],[0.8888888888888888,\"#fdca26\"],[1.0,\"#f0f921\"]]}],\"mesh3d\":[{\"type\":\"mesh3d\",\"colorbar\":{\"outlinewidth\":0,\"ticks\":\"\"}}],\"scatter\":[{\"fillpattern\":{\"fillmode\":\"overlay\",\"size\":10,\"solidity\":0.2},\"type\":\"scatter\"}],\"parcoords\":[{\"type\":\"parcoords\",\"line\":{\"colorbar\":{\"outlinewidth\":0,\"ticks\":\"\"}}}],\"scatterpolargl\":[{\"type\":\"scatterpolargl\",\"marker\":{\"colorbar\":{\"outlinewidth\":0,\"ticks\":\"\"}}}],\"bar\":[{\"error_x\":{\"color\":\"#2a3f5f\"},\"error_y\":{\"color\":\"#2a3f5f\"},\"marker\":{\"line\":{\"color\":\"#E5ECF6\",\"width\":0.5},\"pattern\":{\"fillmode\":\"overlay\",\"size\":10,\"solidity\":0.2}},\"type\":\"bar\"}],\"scattergeo\":[{\"type\":\"scattergeo\",\"marker\":{\"colorbar\":{\"outlinewidth\":0,\"ticks\":\"\"}}}],\"scatterpolar\":[{\"type\":\"scatterpolar\",\"marker\":{\"colorbar\":{\"outlinewidth\":0,\"ticks\":\"\"}}}],\"histogram\":[{\"marker\":{\"pattern\":{\"fillmode\":\"overlay\",\"size\":10,\"solidity\":0.2}},\"type\":\"histogram\"}],\"scattergl\":[{\"type\":\"scattergl\",\"marker\":{\"colorbar\":{\"outlinewidth\":0,\"ticks\":\"\"}}}],\"scatter3d\":[{\"type\":\"scatter3d\",\"line\":{\"colorbar\":{\"outlinewidth\":0,\"ticks\":\"\"}},\"marker\":{\"colorbar\":{\"outlinewidth\":0,\"ticks\":\"\"}}}],\"scattermapbox\":[{\"type\":\"scattermapbox\",\"marker\":{\"colorbar\":{\"outlinewidth\":0,\"ticks\":\"\"}}}],\"scatterternary\":[{\"type\":\"scatterternary\",\"marker\":{\"colorbar\":{\"outlinewidth\":0,\"ticks\":\"\"}}}],\"scattercarpet\":[{\"type\":\"scattercarpet\",\"marker\":{\"colorbar\":{\"outlinewidth\":0,\"ticks\":\"\"}}}],\"carpet\":[{\"aaxis\":{\"endlinecolor\":\"#2a3f5f\",\"gridcolor\":\"white\",\"linecolor\":\"white\",\"minorgridcolor\":\"white\",\"startlinecolor\":\"#2a3f5f\"},\"baxis\":{\"endlinecolor\":\"#2a3f5f\",\"gridcolor\":\"white\",\"linecolor\":\"white\",\"minorgridcolor\":\"white\",\"startlinecolor\":\"#2a3f5f\"},\"type\":\"carpet\"}],\"table\":[{\"cells\":{\"fill\":{\"color\":\"#EBF0F8\"},\"line\":{\"color\":\"white\"}},\"header\":{\"fill\":{\"color\":\"#C8D4E3\"},\"line\":{\"color\":\"white\"}},\"type\":\"table\"}],\"barpolar\":[{\"marker\":{\"line\":{\"color\":\"#E5ECF6\",\"width\":0.5},\"pattern\":{\"fillmode\":\"overlay\",\"size\":10,\"solidity\":0.2}},\"type\":\"barpolar\"}],\"pie\":[{\"automargin\":true,\"type\":\"pie\"}]},\"layout\":{\"autotypenumbers\":\"strict\",\"colorway\":[\"#636efa\",\"#EF553B\",\"#00cc96\",\"#ab63fa\",\"#FFA15A\",\"#19d3f3\",\"#FF6692\",\"#B6E880\",\"#FF97FF\",\"#FECB52\"],\"font\":{\"color\":\"#2a3f5f\"},\"hovermode\":\"closest\",\"hoverlabel\":{\"align\":\"left\"},\"paper_bgcolor\":\"white\",\"plot_bgcolor\":\"#E5ECF6\",\"polar\":{\"bgcolor\":\"#E5ECF6\",\"angularaxis\":{\"gridcolor\":\"white\",\"linecolor\":\"white\",\"ticks\":\"\"},\"radialaxis\":{\"gridcolor\":\"white\",\"linecolor\":\"white\",\"ticks\":\"\"}},\"ternary\":{\"bgcolor\":\"#E5ECF6\",\"aaxis\":{\"gridcolor\":\"white\",\"linecolor\":\"white\",\"ticks\":\"\"},\"baxis\":{\"gridcolor\":\"white\",\"linecolor\":\"white\",\"ticks\":\"\"},\"caxis\":{\"gridcolor\":\"white\",\"linecolor\":\"white\",\"ticks\":\"\"}},\"coloraxis\":{\"colorbar\":{\"outlinewidth\":0,\"ticks\":\"\"}},\"colorscale\":{\"sequential\":[[0.0,\"#0d0887\"],[0.1111111111111111,\"#46039f\"],[0.2222222222222222,\"#7201a8\"],[0.3333333333333333,\"#9c179e\"],[0.4444444444444444,\"#bd3786\"],[0.5555555555555556,\"#d8576b\"],[0.6666666666666666,\"#ed7953\"],[0.7777777777777778,\"#fb9f3a\"],[0.8888888888888888,\"#fdca26\"],[1.0,\"#f0f921\"]],\"sequentialminus\":[[0.0,\"#0d0887\"],[0.1111111111111111,\"#46039f\"],[0.2222222222222222,\"#7201a8\"],[0.3333333333333333,\"#9c179e\"],[0.4444444444444444,\"#bd3786\"],[0.5555555555555556,\"#d8576b\"],[0.6666666666666666,\"#ed7953\"],[0.7777777777777778,\"#fb9f3a\"],[0.8888888888888888,\"#fdca26\"],[1.0,\"#f0f921\"]],\"diverging\":[[0,\"#8e0152\"],[0.1,\"#c51b7d\"],[0.2,\"#de77ae\"],[0.3,\"#f1b6da\"],[0.4,\"#fde0ef\"],[0.5,\"#f7f7f7\"],[0.6,\"#e6f5d0\"],[0.7,\"#b8e186\"],[0.8,\"#7fbc41\"],[0.9,\"#4d9221\"],[1,\"#276419\"]]},\"xaxis\":{\"gridcolor\":\"white\",\"linecolor\":\"white\",\"ticks\":\"\",\"title\":{\"standoff\":15},\"zerolinecolor\":\"white\",\"automargin\":true,\"zerolinewidth\":2},\"yaxis\":{\"gridcolor\":\"white\",\"linecolor\":\"white\",\"ticks\":\"\",\"title\":{\"standoff\":15},\"zerolinecolor\":\"white\",\"automargin\":true,\"zerolinewidth\":2},\"scene\":{\"xaxis\":{\"backgroundcolor\":\"#E5ECF6\",\"gridcolor\":\"white\",\"linecolor\":\"white\",\"showbackground\":true,\"ticks\":\"\",\"zerolinecolor\":\"white\",\"gridwidth\":2},\"yaxis\":{\"backgroundcolor\":\"#E5ECF6\",\"gridcolor\":\"white\",\"linecolor\":\"white\",\"showbackground\":true,\"ticks\":\"\",\"zerolinecolor\":\"white\",\"gridwidth\":2},\"zaxis\":{\"backgroundcolor\":\"#E5ECF6\",\"gridcolor\":\"white\",\"linecolor\":\"white\",\"showbackground\":true,\"ticks\":\"\",\"zerolinecolor\":\"white\",\"gridwidth\":2}},\"shapedefaults\":{\"line\":{\"color\":\"#2a3f5f\"}},\"annotationdefaults\":{\"arrowcolor\":\"#2a3f5f\",\"arrowhead\":0,\"arrowwidth\":1},\"geo\":{\"bgcolor\":\"white\",\"landcolor\":\"#E5ECF6\",\"subunitcolor\":\"white\",\"showland\":true,\"showlakes\":true,\"lakecolor\":\"white\"},\"title\":{\"x\":0.05},\"mapbox\":{\"style\":\"light\"}}},\"xaxis\":{\"anchor\":\"y\",\"domain\":[0.0,0.45]},\"yaxis\":{\"anchor\":\"x\",\"domain\":[0.0,1.0]},\"xaxis2\":{\"anchor\":\"y2\",\"domain\":[0.55,1.0]},\"yaxis2\":{\"anchor\":\"x2\",\"domain\":[0.0,1.0]},\"annotations\":[{\"font\":{\"size\":16},\"showarrow\":false,\"text\":\"acc\",\"x\":0.225,\"xanchor\":\"center\",\"xref\":\"paper\",\"y\":1.0,\"yanchor\":\"bottom\",\"yref\":\"paper\"},{\"font\":{\"size\":16},\"showarrow\":false,\"text\":\"loss\",\"x\":0.775,\"xanchor\":\"center\",\"xref\":\"paper\",\"y\":1.0,\"yanchor\":\"bottom\",\"yref\":\"paper\"}],\"shapes\":[{\"line\":{\"color\":\"rgb(0,0,200)\",\"dash\":\"dash\",\"width\":1},\"type\":\"line\",\"x0\":80,\"x1\":80,\"xref\":\"x\",\"y0\":0,\"y1\":1,\"yref\":\"y domain\"},{\"line\":{\"color\":\"rgb(0,152,255)\",\"dash\":\"dash\",\"width\":1},\"type\":\"line\",\"x0\":82,\"x1\":82,\"xref\":\"x2\",\"y0\":0,\"y1\":1,\"yref\":\"y2 domain\"},{\"line\":{\"color\":\"rgb(151,255,0)\",\"dash\":\"dash\",\"width\":1},\"type\":\"line\",\"x0\":100,\"x1\":100,\"xref\":\"x2\",\"y0\":0,\"y1\":1,\"yref\":\"y2 domain\"}]},                        {\"responsive\": true}                    ).then(function(){\n",
       "                            \n",
       "var gd = document.getElementById('5b3b452b-c7d2-4777-821f-632949b6b15a');\n",
       "var x = new MutationObserver(function (mutations, observer) {{\n",
       "        var display = window.getComputedStyle(gd).display;\n",
       "        if (!display || display === 'none') {{\n",
       "            console.log([gd, 'removed!']);\n",
       "            Plotly.purge(gd);\n",
       "            observer.disconnect();\n",
       "        }}\n",
       "}});\n",
       "\n",
       "// Listen for the removal of the full notebook cells\n",
       "var notebookContainer = gd.closest('#notebook-container');\n",
       "if (notebookContainer) {{\n",
       "    x.observe(notebookContainer, {childList: true});\n",
       "}}\n",
       "\n",
       "// Listen for the clearing of the current output cell\n",
       "var outputEl = gd.closest('.output');\n",
       "if (outputEl) {{\n",
       "    x.observe(outputEl, {childList: true});\n",
       "}}\n",
       "\n",
       "                        })                };                });            </script>        </div>"
      ]
     },
     "metadata": {},
     "output_type": "display_data"
    }
   ],
   "source": [
    "# !pip install plotly\n",
    "import plotly.io as pio\n",
    "import itertools\n",
    "pio.renderers.default = \"notebook_connected\"\n",
    "import pandas as pd\n",
    "import plotly.express as px\n",
    "from plotly.subplots import make_subplots\n",
    "import plotly.graph_objects as go\n",
    "col_pal = px.colors.sequential.Rainbow\n",
    "col_pal_iter = itertools.cycle(col_pal) \n",
    "# def print_history(history):\n",
    "history = best_hist\n",
    "\n",
    "implemented_metric = [\"acc\", \"loss\"]\n",
    "plot_dict = {}\n",
    "for met in implemented_metric:\n",
    "    plot_dict[met] = [s for s in history if met in s]\n",
    "\n",
    "fig = make_subplots(rows=1, cols=len(plot_dict), subplot_titles=list(plot_dict.keys()))\n",
    "\n",
    "for idx, (met, mets) in enumerate(plot_dict.items()):\n",
    "    for key in mets:\n",
    "        new_color = next(col_pal_iter)\n",
    "        new_color = next(col_pal_iter)\n",
    "        fig.add_trace(go.Scatter(x=history.index, y=history[key].values, name=key, line=dict(color=new_color)), row=1, col=idx+1)\n",
    "        dmin, dmax = history[key].min(), history[key].max()\n",
    "        if met == \"acc\":\n",
    "            epoch = history[key].argmax()\n",
    "            fig.add_trace(go.Scatter(x=[epoch], y=[dmax], line=dict(color=new_color, width=1, dash=\"dash\")), row=1, col=idx+1)\n",
    "            fig.add_vline(x=epoch, line_width=1, line_color=new_color, line_dash=\"dash\", row=1, col=idx+1)\n",
    "        if met == \"loss\":\n",
    "            epoch = history[key].argmin()\n",
    "            fig.add_trace(go.Scatter(x=[epoch], y=[dmin], line=dict(color=new_color, width=1, dash=\"dash\")), row=1, col=idx+1)\n",
    "            fig.add_vline(x=epoch, line_width=1, line_color=new_color, line_dash=\"dash\", row=1, col=idx+1)\n",
    "    # break\n",
    "# learn.history.keys()[0]\n",
    "# fig.update_layout(title_text=\"test\")\n",
    "fig.show()"
   ]
  },
  {
   "cell_type": "code",
   "execution_count": 17,
   "metadata": {},
   "outputs": [
    {
     "data": {
      "text/plain": [
       "['acc', 'loss']"
      ]
     },
     "execution_count": 17,
     "metadata": {},
     "output_type": "execute_result"
    }
   ],
   "source": [
    "list(plot_dict.keys())"
   ]
  },
  {
   "cell_type": "code",
   "execution_count": null,
   "metadata": {},
   "outputs": [],
   "source": []
  },
  {
   "cell_type": "code",
   "execution_count": 22,
   "metadata": {},
   "outputs": [
    {
     "data": {
      "text/plain": [
       "__main__.test_class"
      ]
     },
     "execution_count": 22,
     "metadata": {},
     "output_type": "execute_result"
    }
   ],
   "source": [
    "globals()[\"test_class\"]\n"
   ]
  },
  {
   "cell_type": "code",
   "execution_count": 29,
   "metadata": {},
   "outputs": [
    {
     "name": "stdout",
     "output_type": "stream",
     "text": [
      "1.57 µs ± 284 ns per loop (mean ± std. dev. of 7 runs, 100000 loops each)\n"
     ]
    }
   ],
   "source": [
    "%%timeit\n",
    "test_num.max()"
   ]
  },
  {
   "cell_type": "code",
   "execution_count": 41,
   "metadata": {},
   "outputs": [
    {
     "name": "stdout",
     "output_type": "stream",
     "text": [
      "281 ns ± 10.7 ns per loop (mean ± std. dev. of 7 runs, 1000000 loops each)\n"
     ]
    }
   ],
   "source": [
    "%%timeit\n",
    "max(test_dict[\"test\"])\n"
   ]
  },
  {
   "cell_type": "code",
   "execution_count": 47,
   "metadata": {},
   "outputs": [
    {
     "data": {
      "text/plain": [
       "<function __main__.test_class.attr(self)>"
      ]
     },
     "execution_count": 47,
     "metadata": {},
     "output_type": "execute_result"
    }
   ],
   "source": [
    "import types\n",
    "class test_class():\n",
    "    def __init__(self, a):\n",
    "        self.attr = a\n",
    "    \n",
    "    def attr(self):\n",
    "        pass\n",
    "\n",
    "test = test_class(1)\n",
    "\n",
    "getattr(test_class, \"attr\")"
   ]
  },
  {
   "cell_type": "code",
   "execution_count": 35,
   "metadata": {},
   "outputs": [
    {
     "name": "stdout",
     "output_type": "stream",
     "text": [
      "2.09 µs ± 52.2 ns per loop (mean ± std. dev. of 7 runs, 100000 loops each)\n"
     ]
    }
   ],
   "source": [
    "%%timeit\n",
    "test1.sum()"
   ]
  },
  {
   "cell_type": "code",
   "execution_count": 32,
   "metadata": {},
   "outputs": [],
   "source": [
    "import numpy as np"
   ]
  },
  {
   "cell_type": "code",
   "execution_count": 16,
   "metadata": {},
   "outputs": [
    {
     "data": {
      "text/plain": [
       "{'a': 1, 's': 123}"
      ]
     },
     "execution_count": 16,
     "metadata": {},
     "output_type": "execute_result"
    }
   ],
   "source": [
    "class test1:\n",
    "    def __init__(self, a):\n",
    "        self.a = a\n",
    "    def test_func(self):\n",
    "        return self.a\n",
    "a = test1(1)\n",
    "setattr(a, \"s\", 123)\n",
    "vars(a)"
   ]
  },
  {
   "cell_type": "code",
   "execution_count": 17,
   "metadata": {},
   "outputs": [
    {
     "ename": "NameError",
     "evalue": "name 'Monitor_Cb' is not defined",
     "output_type": "error",
     "traceback": [
      "\u001b[0;31m---------------------------------------------------------------------------\u001b[0m",
      "\u001b[0;31mNameError\u001b[0m                                 Traceback (most recent call last)",
      "\u001b[0;32m/tmp/ipykernel_8033/1156614540.py\u001b[0m in \u001b[0;36m<module>\u001b[0;34m\u001b[0m\n\u001b[0;32m----> 1\u001b[0;31m \u001b[0mmonitor\u001b[0m \u001b[0;34m=\u001b[0m \u001b[0mMonitor_Cb\u001b[0m\u001b[0;34m(\u001b[0m\u001b[0;34m[\u001b[0m\u001b[0;34m\"val_acc\"\u001b[0m\u001b[0;34m]\u001b[0m\u001b[0;34m)\u001b[0m\u001b[0;34m\u001b[0m\u001b[0m\n\u001b[0m\u001b[1;32m      2\u001b[0m \u001b[0mearly\u001b[0m \u001b[0;34m=\u001b[0m \u001b[0mEarlyStopping_Cb\u001b[0m\u001b[0;34m(\u001b[0m\u001b[0mmonitor\u001b[0m\u001b[0;34m=\u001b[0m\u001b[0;34m\"val_loss\"\u001b[0m\u001b[0;34m)\u001b[0m\u001b[0;34m\u001b[0m\u001b[0m\n\u001b[1;32m      3\u001b[0m \u001b[0mrecorder\u001b[0m \u001b[0;34m=\u001b[0m \u001b[0mRecorder_Cb\u001b[0m\u001b[0;34m(\u001b[0m\u001b[0;34m\"hi\"\u001b[0m\u001b[0;34m)\u001b[0m\u001b[0;34m\u001b[0m\u001b[0m\n\u001b[1;32m      4\u001b[0m \u001b[0mcbh\u001b[0m \u001b[0;34m=\u001b[0m \u001b[0mCallbackHandler\u001b[0m\u001b[0;34m(\u001b[0m\u001b[0;34m[\u001b[0m\u001b[0mmonitor\u001b[0m\u001b[0;34m,\u001b[0m \u001b[0mearly\u001b[0m\u001b[0;34m,\u001b[0m \u001b[0mrecorder\u001b[0m\u001b[0;34m]\u001b[0m\u001b[0;34m)\u001b[0m\u001b[0;34m\u001b[0m\u001b[0m\n\u001b[1;32m      5\u001b[0m \u001b[0mcbh\u001b[0m\u001b[0;34m.\u001b[0m\u001b[0mMonitor_Cb\u001b[0m\u001b[0;34m.\u001b[0m\u001b[0mlearn\u001b[0m\u001b[0;34m\u001b[0m\u001b[0m\n",
      "\u001b[0;31mNameError\u001b[0m: name 'Monitor_Cb' is not defined"
     ]
    }
   ],
   "source": [
    "monitor = Monitor_Cb([\"val_acc\"])\n",
    "early = EarlyStopping_Cb(monitor=\"val_loss\")\n",
    "recorder = Recorder_Cb(\"hi\")\n",
    "cbh = CallbackHandler([monitor, early, recorder])\n",
    "cbh.Monitor_Cb.learn\n"
   ]
  },
  {
   "cell_type": "code",
   "execution_count": 9,
   "metadata": {},
   "outputs": [
    {
     "name": "stdout",
     "output_type": "stream",
     "text": [
      "a\n"
     ]
    }
   ],
   "source": [
    "a = [\"a\"]\n",
    "for i in a[:4]:\n",
    "    print(i)"
   ]
  }
 ],
 "metadata": {
  "interpreter": {
   "hash": "fd69f43f58546b570e94fd7eba7b65e6bcc7a5bbc4eab0408017d18902915d69"
  },
  "kernelspec": {
   "display_name": "Python 3.7.13 64-bit",
   "language": "python",
   "name": "python3"
  },
  "language_info": {
   "codemirror_mode": {
    "name": "ipython",
    "version": 3
   },
   "file_extension": ".py",
   "mimetype": "text/x-python",
   "name": "python",
   "nbconvert_exporter": "python",
   "pygments_lexer": "ipython3",
   "version": "3.7.0"
  },
  "orig_nbformat": 4
 },
 "nbformat": 4,
 "nbformat_minor": 2
}
