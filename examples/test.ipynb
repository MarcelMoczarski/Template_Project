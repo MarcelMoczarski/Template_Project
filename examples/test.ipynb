{
 "cells": [
  {
   "cell_type": "code",
   "execution_count": 1,
   "metadata": {},
   "outputs": [
    {
     "name": "stderr",
     "output_type": "stream",
     "text": [
      "/usr/local/lib/python3.7/site-packages/tqdm/auto.py:22: TqdmWarning: IProgress not found. Please update jupyter and ipywidgets. See https://ipywidgets.readthedocs.io/en/stable/user_install.html\n",
      "  from .autonotebook import tqdm as notebook_tqdm\n"
     ]
    }
   ],
   "source": [
    "%reload_ext autoreload\n",
    "%autoreload 2\n",
    "os.chdir(\"..\")\n",
    "import toml\n",
    "from core.dl_framework.utils import read_config"
   ]
  },
  {
   "cell_type": "code",
   "execution_count": 2,
   "metadata": {},
   "outputs": [
    {
     "name": "stdout",
     "output_type": "stream",
     "text": [
      "/content/Template_Project\n"
     ]
    }
   ],
   "source": [
    "%%bash \n",
    "pwd"
   ]
  },
  {
   "cell_type": "code",
   "execution_count": 74,
   "metadata": {},
   "outputs": [],
   "source": [
    "config_file = toml.load(\"configs/default_train_config.toml\")\n",
    "setup_config = read_config(config_file)"
   ]
  },
  {
   "cell_type": "code",
   "execution_count": 167,
   "metadata": {},
   "outputs": [
    {
     "name": "stderr",
     "output_type": "stream",
     "text": [
      "100%|██████████| 750/750 [00:02<00:00, 310.02it/s]\n",
      "100%|██████████| 187/187 [00:00<00:00, 1097.52it/s]\n"
     ]
    },
    {
     "name": "stdout",
     "output_type": "stream",
     "text": [
      "epoch: 1/1000\t[valid_acc: 0.8869\tvalid_loss: 0.7509\ttrain_loss: 1.3935]\n"
     ]
    },
    {
     "name": "stderr",
     "output_type": "stream",
     "text": [
      "100%|██████████| 750/750 [00:02<00:00, 302.59it/s]\n",
      "100%|██████████| 187/187 [00:00<00:00, 1102.04it/s]\n"
     ]
    },
    {
     "name": "stdout",
     "output_type": "stream",
     "text": [
      "epoch: 2/1000\t[valid_acc: 0.9318\tvalid_loss: 0.4013\ttrain_loss: 0.5445]\n"
     ]
    },
    {
     "name": "stderr",
     "output_type": "stream",
     "text": [
      "100%|██████████| 750/750 [00:02<00:00, 303.59it/s]\n",
      "100%|██████████| 187/187 [00:00<00:00, 1210.89it/s]\n"
     ]
    },
    {
     "name": "stdout",
     "output_type": "stream",
     "text": [
      "epoch: 3/1000\t[valid_acc: 0.9497\tvalid_loss: 0.2751\ttrain_loss: 0.3338]\n"
     ]
    },
    {
     "name": "stderr",
     "output_type": "stream",
     "text": [
      "100%|██████████| 750/750 [00:02<00:00, 303.50it/s]\n",
      "100%|██████████| 187/187 [00:00<00:00, 1144.87it/s]\n"
     ]
    },
    {
     "name": "stdout",
     "output_type": "stream",
     "text": [
      "epoch: 4/1000\t[valid_acc: 0.9592\tvalid_loss: 0.2101\ttrain_loss: 0.2425]\n"
     ]
    },
    {
     "name": "stderr",
     "output_type": "stream",
     "text": [
      "100%|██████████| 750/750 [00:02<00:00, 309.31it/s]\n",
      "100%|██████████| 187/187 [00:00<00:00, 1207.34it/s]\n"
     ]
    },
    {
     "name": "stdout",
     "output_type": "stream",
     "text": [
      "epoch: 5/1000\t[valid_acc: 0.9657\tvalid_loss: 0.1703\ttrain_loss: 0.1909]\n"
     ]
    },
    {
     "name": "stderr",
     "output_type": "stream",
     "text": [
      "100%|██████████| 750/750 [00:02<00:00, 298.95it/s]\n",
      "100%|██████████| 187/187 [00:00<00:00, 1204.61it/s]\n"
     ]
    },
    {
     "name": "stdout",
     "output_type": "stream",
     "text": [
      "epoch: 6/1000\t[valid_acc: 0.9708\tvalid_loss: 0.1438\ttrain_loss: 0.1576]\n"
     ]
    },
    {
     "name": "stderr",
     "output_type": "stream",
     "text": [
      "100%|██████████| 750/750 [00:02<00:00, 293.90it/s]\n",
      "100%|██████████| 187/187 [00:00<00:00, 1133.95it/s]\n"
     ]
    },
    {
     "name": "stdout",
     "output_type": "stream",
     "text": [
      "epoch: 7/1000\t[valid_acc: 0.9736\tvalid_loss: 0.1248\ttrain_loss: 0.1345]\n"
     ]
    },
    {
     "name": "stderr",
     "output_type": "stream",
     "text": [
      "100%|██████████| 750/750 [00:02<00:00, 305.76it/s]\n",
      "100%|██████████| 187/187 [00:00<00:00, 1130.35it/s]\n"
     ]
    },
    {
     "name": "stdout",
     "output_type": "stream",
     "text": [
      "epoch: 8/1000\t[valid_acc: 0.9759\tvalid_loss: 0.1107\ttrain_loss: 0.1174]\n"
     ]
    },
    {
     "name": "stderr",
     "output_type": "stream",
     "text": [
      "100%|██████████| 750/750 [00:02<00:00, 306.60it/s]\n",
      "100%|██████████| 187/187 [00:00<00:00, 1047.69it/s]\n"
     ]
    },
    {
     "name": "stdout",
     "output_type": "stream",
     "text": [
      "epoch: 9/1000\t[valid_acc: 0.9781\tvalid_loss: 0.0998\ttrain_loss: 0.1043]\n"
     ]
    },
    {
     "name": "stderr",
     "output_type": "stream",
     "text": [
      "100%|██████████| 750/750 [00:02<00:00, 294.80it/s]\n",
      "100%|██████████| 187/187 [00:00<00:00, 957.07it/s] \n"
     ]
    },
    {
     "name": "stdout",
     "output_type": "stream",
     "text": [
      "epoch: 10/1000\t[valid_acc: 0.9799\tvalid_loss: 0.0912\ttrain_loss: 0.0940]\n"
     ]
    },
    {
     "name": "stderr",
     "output_type": "stream",
     "text": [
      "100%|██████████| 750/750 [00:02<00:00, 307.52it/s]\n",
      "100%|██████████| 187/187 [00:00<00:00, 1226.85it/s]\n"
     ]
    },
    {
     "name": "stdout",
     "output_type": "stream",
     "text": [
      "epoch: 11/1000\t[valid_acc: 0.9807\tvalid_loss: 0.0843\ttrain_loss: 0.0856]\n"
     ]
    },
    {
     "name": "stderr",
     "output_type": "stream",
     "text": [
      "100%|██████████| 750/750 [00:02<00:00, 300.82it/s]\n",
      "100%|██████████| 187/187 [00:00<00:00, 1182.68it/s]\n"
     ]
    },
    {
     "name": "stdout",
     "output_type": "stream",
     "text": [
      "epoch: 12/1000\t[valid_acc: 0.9817\tvalid_loss: 0.0786\ttrain_loss: 0.0786]\n"
     ]
    },
    {
     "name": "stderr",
     "output_type": "stream",
     "text": [
      "100%|██████████| 750/750 [00:02<00:00, 307.30it/s]\n",
      "100%|██████████| 187/187 [00:00<00:00, 752.86it/s]\n"
     ]
    },
    {
     "name": "stdout",
     "output_type": "stream",
     "text": [
      "epoch: 13/1000\t[valid_acc: 0.9826\tvalid_loss: 0.0738\ttrain_loss: 0.0727]\n"
     ]
    },
    {
     "name": "stderr",
     "output_type": "stream",
     "text": [
      "100%|██████████| 750/750 [00:02<00:00, 299.69it/s]\n",
      "100%|██████████| 187/187 [00:00<00:00, 1178.25it/s]\n"
     ]
    },
    {
     "name": "stdout",
     "output_type": "stream",
     "text": [
      "epoch: 14/1000\t[valid_acc: 0.9836\tvalid_loss: 0.0698\ttrain_loss: 0.0677]\n"
     ]
    },
    {
     "name": "stderr",
     "output_type": "stream",
     "text": [
      "100%|██████████| 750/750 [00:02<00:00, 299.33it/s]\n",
      "100%|██████████| 187/187 [00:00<00:00, 1185.03it/s]\n"
     ]
    },
    {
     "name": "stdout",
     "output_type": "stream",
     "text": [
      "epoch: 15/1000\t[valid_acc: 0.9841\tvalid_loss: 0.0663\ttrain_loss: 0.0633]\n"
     ]
    },
    {
     "name": "stderr",
     "output_type": "stream",
     "text": [
      "100%|██████████| 750/750 [00:02<00:00, 304.36it/s]\n",
      "100%|██████████| 187/187 [00:00<00:00, 1147.86it/s]\n"
     ]
    },
    {
     "name": "stdout",
     "output_type": "stream",
     "text": [
      "epoch: 16/1000\t[valid_acc: 0.9847\tvalid_loss: 0.0633\ttrain_loss: 0.0595]\n"
     ]
    },
    {
     "name": "stderr",
     "output_type": "stream",
     "text": [
      "100%|██████████| 750/750 [00:02<00:00, 308.96it/s]\n",
      "100%|██████████| 187/187 [00:00<00:00, 1203.90it/s]\n"
     ]
    },
    {
     "name": "stdout",
     "output_type": "stream",
     "text": [
      "epoch: 17/1000\t[valid_acc: 0.9853\tvalid_loss: 0.0606\ttrain_loss: 0.0561]\n"
     ]
    },
    {
     "name": "stderr",
     "output_type": "stream",
     "text": [
      "100%|██████████| 750/750 [00:02<00:00, 291.00it/s]\n",
      "100%|██████████| 187/187 [00:00<00:00, 1171.07it/s]\n"
     ]
    },
    {
     "name": "stdout",
     "output_type": "stream",
     "text": [
      "epoch: 18/1000\t[valid_acc: 0.9858\tvalid_loss: 0.0583\ttrain_loss: 0.0530]\n"
     ]
    },
    {
     "name": "stderr",
     "output_type": "stream",
     "text": [
      "100%|██████████| 750/750 [00:02<00:00, 301.57it/s]\n",
      "100%|██████████| 187/187 [00:00<00:00, 1163.59it/s]\n"
     ]
    },
    {
     "name": "stdout",
     "output_type": "stream",
     "text": [
      "epoch: 19/1000\t[valid_acc: 0.9866\tvalid_loss: 0.0562\ttrain_loss: 0.0502]\n"
     ]
    },
    {
     "name": "stderr",
     "output_type": "stream",
     "text": [
      "100%|██████████| 750/750 [00:02<00:00, 304.91it/s]\n",
      "100%|██████████| 187/187 [00:00<00:00, 1152.28it/s]\n"
     ]
    },
    {
     "name": "stdout",
     "output_type": "stream",
     "text": [
      "epoch: 20/1000\t[valid_acc: 0.9868\tvalid_loss: 0.0543\ttrain_loss: 0.0477]\n"
     ]
    },
    {
     "name": "stderr",
     "output_type": "stream",
     "text": [
      "100%|██████████| 750/750 [00:02<00:00, 299.86it/s]\n",
      "100%|██████████| 187/187 [00:00<00:00, 1176.76it/s]\n"
     ]
    },
    {
     "name": "stdout",
     "output_type": "stream",
     "text": [
      "epoch: 21/1000\t[valid_acc: 0.9872\tvalid_loss: 0.0526\ttrain_loss: 0.0454]\n"
     ]
    },
    {
     "name": "stderr",
     "output_type": "stream",
     "text": [
      "100%|██████████| 750/750 [00:02<00:00, 299.40it/s]\n",
      "100%|██████████| 187/187 [00:00<00:00, 1188.94it/s]\n"
     ]
    },
    {
     "name": "stdout",
     "output_type": "stream",
     "text": [
      "epoch: 22/1000\t[valid_acc: 0.9876\tvalid_loss: 0.0510\ttrain_loss: 0.0432]\n"
     ]
    },
    {
     "name": "stderr",
     "output_type": "stream",
     "text": [
      "100%|██████████| 750/750 [00:02<00:00, 302.12it/s]\n",
      "100%|██████████| 187/187 [00:00<00:00, 1186.92it/s]\n"
     ]
    },
    {
     "name": "stdout",
     "output_type": "stream",
     "text": [
      "epoch: 23/1000\t[valid_acc: 0.9879\tvalid_loss: 0.0496\ttrain_loss: 0.0412]\n"
     ]
    },
    {
     "name": "stderr",
     "output_type": "stream",
     "text": [
      "100%|██████████| 750/750 [00:02<00:00, 299.00it/s]\n",
      "100%|██████████| 187/187 [00:00<00:00, 1174.18it/s]\n"
     ]
    },
    {
     "name": "stdout",
     "output_type": "stream",
     "text": [
      "epoch: 24/1000\t[valid_acc: 0.9879\tvalid_loss: 0.0483\ttrain_loss: 0.0394]\n"
     ]
    },
    {
     "name": "stderr",
     "output_type": "stream",
     "text": [
      "100%|██████████| 750/750 [00:02<00:00, 299.42it/s]\n",
      "100%|██████████| 187/187 [00:00<00:00, 1075.72it/s]\n"
     ]
    },
    {
     "name": "stdout",
     "output_type": "stream",
     "text": [
      "epoch: 25/1000\t[valid_acc: 0.9882\tvalid_loss: 0.0471\ttrain_loss: 0.0377]\n"
     ]
    },
    {
     "name": "stderr",
     "output_type": "stream",
     "text": [
      "100%|██████████| 750/750 [00:02<00:00, 305.22it/s]\n",
      "100%|██████████| 187/187 [00:00<00:00, 1180.91it/s]\n"
     ]
    },
    {
     "name": "stdout",
     "output_type": "stream",
     "text": [
      "epoch: 26/1000\t[valid_acc: 0.9882\tvalid_loss: 0.0460\ttrain_loss: 0.0361]\n"
     ]
    },
    {
     "name": "stderr",
     "output_type": "stream",
     "text": [
      "100%|██████████| 750/750 [00:02<00:00, 309.99it/s]\n",
      "100%|██████████| 187/187 [00:00<00:00, 1153.38it/s]\n"
     ]
    },
    {
     "name": "stdout",
     "output_type": "stream",
     "text": [
      "epoch: 27/1000\t[valid_acc: 0.9886\tvalid_loss: 0.0450\ttrain_loss: 0.0346]\n"
     ]
    },
    {
     "name": "stderr",
     "output_type": "stream",
     "text": [
      "100%|██████████| 750/750 [00:02<00:00, 297.87it/s]\n",
      "100%|██████████| 187/187 [00:00<00:00, 1074.06it/s]\n"
     ]
    },
    {
     "name": "stdout",
     "output_type": "stream",
     "text": [
      "epoch: 28/1000\t[valid_acc: 0.9888\tvalid_loss: 0.0441\ttrain_loss: 0.0331]\n"
     ]
    },
    {
     "name": "stderr",
     "output_type": "stream",
     "text": [
      "100%|██████████| 750/750 [00:02<00:00, 304.67it/s]\n",
      "100%|██████████| 187/187 [00:00<00:00, 1161.12it/s]\n"
     ]
    },
    {
     "name": "stdout",
     "output_type": "stream",
     "text": [
      "epoch: 29/1000\t[valid_acc: 0.9890\tvalid_loss: 0.0432\ttrain_loss: 0.0318]\n"
     ]
    },
    {
     "name": "stderr",
     "output_type": "stream",
     "text": [
      "100%|██████████| 750/750 [00:02<00:00, 312.93it/s]\n",
      "100%|██████████| 187/187 [00:00<00:00, 1211.60it/s]\n"
     ]
    },
    {
     "name": "stdout",
     "output_type": "stream",
     "text": [
      "epoch: 30/1000\t[valid_acc: 0.9891\tvalid_loss: 0.0424\ttrain_loss: 0.0305]\n"
     ]
    },
    {
     "name": "stderr",
     "output_type": "stream",
     "text": [
      "100%|██████████| 750/750 [00:02<00:00, 302.02it/s]\n",
      "100%|██████████| 187/187 [00:00<00:00, 1212.87it/s]\n"
     ]
    },
    {
     "name": "stdout",
     "output_type": "stream",
     "text": [
      "epoch: 31/1000\t[valid_acc: 0.9895\tvalid_loss: 0.0416\ttrain_loss: 0.0293]\n"
     ]
    },
    {
     "name": "stderr",
     "output_type": "stream",
     "text": [
      "100%|██████████| 750/750 [00:02<00:00, 292.18it/s]\n",
      "100%|██████████| 187/187 [00:00<00:00, 1169.71it/s]\n"
     ]
    },
    {
     "name": "stdout",
     "output_type": "stream",
     "text": [
      "epoch: 32/1000\t[valid_acc: 0.9897\tvalid_loss: 0.0409\ttrain_loss: 0.0281]\n"
     ]
    },
    {
     "name": "stderr",
     "output_type": "stream",
     "text": [
      "100%|██████████| 750/750 [00:02<00:00, 306.13it/s]\n",
      "100%|██████████| 187/187 [00:00<00:00, 1114.80it/s]\n"
     ]
    },
    {
     "name": "stdout",
     "output_type": "stream",
     "text": [
      "epoch: 33/1000\t[valid_acc: 0.9898\tvalid_loss: 0.0403\ttrain_loss: 0.0270]\n"
     ]
    },
    {
     "name": "stderr",
     "output_type": "stream",
     "text": [
      "100%|██████████| 750/750 [00:02<00:00, 291.61it/s]\n",
      "100%|██████████| 187/187 [00:00<00:00, 1184.43it/s]\n"
     ]
    },
    {
     "name": "stdout",
     "output_type": "stream",
     "text": [
      "epoch: 34/1000\t[valid_acc: 0.9900\tvalid_loss: 0.0396\ttrain_loss: 0.0260]\n"
     ]
    },
    {
     "name": "stderr",
     "output_type": "stream",
     "text": [
      "100%|██████████| 750/750 [00:02<00:00, 305.74it/s]\n",
      "100%|██████████| 187/187 [00:00<00:00, 1176.83it/s]\n"
     ]
    },
    {
     "name": "stdout",
     "output_type": "stream",
     "text": [
      "epoch: 35/1000\t[valid_acc: 0.9899\tvalid_loss: 0.0390\ttrain_loss: 0.0250]\n"
     ]
    },
    {
     "name": "stderr",
     "output_type": "stream",
     "text": [
      "100%|██████████| 750/750 [00:02<00:00, 295.04it/s]\n",
      "100%|██████████| 187/187 [00:00<00:00, 1200.67it/s]\n"
     ]
    },
    {
     "name": "stdout",
     "output_type": "stream",
     "text": [
      "epoch: 36/1000\t[valid_acc: 0.9900\tvalid_loss: 0.0385\ttrain_loss: 0.0240]\n"
     ]
    },
    {
     "name": "stderr",
     "output_type": "stream",
     "text": [
      "100%|██████████| 750/750 [00:02<00:00, 307.48it/s]\n",
      "100%|██████████| 187/187 [00:00<00:00, 1161.65it/s]\n"
     ]
    },
    {
     "name": "stdout",
     "output_type": "stream",
     "text": [
      "epoch: 37/1000\t[valid_acc: 0.9901\tvalid_loss: 0.0380\ttrain_loss: 0.0231]\n"
     ]
    },
    {
     "name": "stderr",
     "output_type": "stream",
     "text": [
      "100%|██████████| 750/750 [00:02<00:00, 308.34it/s]\n",
      "100%|██████████| 187/187 [00:00<00:00, 1133.49it/s]\n"
     ]
    },
    {
     "name": "stdout",
     "output_type": "stream",
     "text": [
      "epoch: 38/1000\t[valid_acc: 0.9901\tvalid_loss: 0.0375\ttrain_loss: 0.0222]\n"
     ]
    },
    {
     "name": "stderr",
     "output_type": "stream",
     "text": [
      "100%|██████████| 750/750 [00:02<00:00, 306.82it/s]\n",
      "100%|██████████| 187/187 [00:00<00:00, 1191.44it/s]\n"
     ]
    },
    {
     "name": "stdout",
     "output_type": "stream",
     "text": [
      "epoch: 39/1000\t[valid_acc: 0.9901\tvalid_loss: 0.0370\ttrain_loss: 0.0214]\n"
     ]
    },
    {
     "name": "stderr",
     "output_type": "stream",
     "text": [
      "100%|██████████| 750/750 [00:02<00:00, 297.94it/s]\n",
      "100%|██████████| 187/187 [00:00<00:00, 1175.61it/s]\n"
     ]
    },
    {
     "name": "stdout",
     "output_type": "stream",
     "text": [
      "epoch: 40/1000\t[valid_acc: 0.9902\tvalid_loss: 0.0366\ttrain_loss: 0.0206]\n"
     ]
    },
    {
     "name": "stderr",
     "output_type": "stream",
     "text": [
      "100%|██████████| 750/750 [00:02<00:00, 293.84it/s]\n",
      "100%|██████████| 187/187 [00:00<00:00, 1142.88it/s]\n"
     ]
    },
    {
     "name": "stdout",
     "output_type": "stream",
     "text": [
      "epoch: 41/1000\t[valid_acc: 0.9902\tvalid_loss: 0.0361\ttrain_loss: 0.0198]\n"
     ]
    },
    {
     "name": "stderr",
     "output_type": "stream",
     "text": [
      "100%|██████████| 750/750 [00:02<00:00, 313.66it/s]\n",
      "100%|██████████| 187/187 [00:00<00:00, 1211.99it/s]\n"
     ]
    },
    {
     "name": "stdout",
     "output_type": "stream",
     "text": [
      "epoch: 42/1000\t[valid_acc: 0.9903\tvalid_loss: 0.0357\ttrain_loss: 0.0190]\n"
     ]
    },
    {
     "name": "stderr",
     "output_type": "stream",
     "text": [
      "100%|██████████| 750/750 [00:02<00:00, 307.21it/s]\n",
      "100%|██████████| 187/187 [00:00<00:00, 1164.57it/s]\n"
     ]
    },
    {
     "name": "stdout",
     "output_type": "stream",
     "text": [
      "epoch: 43/1000\t[valid_acc: 0.9901\tvalid_loss: 0.0354\ttrain_loss: 0.0183]\n"
     ]
    },
    {
     "name": "stderr",
     "output_type": "stream",
     "text": [
      "100%|██████████| 750/750 [00:02<00:00, 298.77it/s]\n",
      "100%|██████████| 187/187 [00:00<00:00, 1080.08it/s]\n"
     ]
    },
    {
     "name": "stdout",
     "output_type": "stream",
     "text": [
      "epoch: 44/1000\t[valid_acc: 0.9901\tvalid_loss: 0.0350\ttrain_loss: 0.0176]\n"
     ]
    },
    {
     "name": "stderr",
     "output_type": "stream",
     "text": [
      "100%|██████████| 750/750 [00:02<00:00, 309.24it/s]\n",
      "100%|██████████| 187/187 [00:00<00:00, 1134.43it/s]\n"
     ]
    },
    {
     "name": "stdout",
     "output_type": "stream",
     "text": [
      "epoch: 45/1000\t[valid_acc: 0.9901\tvalid_loss: 0.0347\ttrain_loss: 0.0169]\n"
     ]
    },
    {
     "name": "stderr",
     "output_type": "stream",
     "text": [
      "100%|██████████| 750/750 [00:02<00:00, 302.04it/s]\n",
      "100%|██████████| 187/187 [00:00<00:00, 1105.55it/s]\n"
     ]
    },
    {
     "name": "stdout",
     "output_type": "stream",
     "text": [
      "epoch: 46/1000\t[valid_acc: 0.9903\tvalid_loss: 0.0343\ttrain_loss: 0.0163]\n"
     ]
    },
    {
     "name": "stderr",
     "output_type": "stream",
     "text": [
      "100%|██████████| 750/750 [00:02<00:00, 300.37it/s]\n",
      "100%|██████████| 187/187 [00:00<00:00, 1123.39it/s]\n"
     ]
    },
    {
     "name": "stdout",
     "output_type": "stream",
     "text": [
      "epoch: 47/1000\t[valid_acc: 0.9903\tvalid_loss: 0.0340\ttrain_loss: 0.0157]\n"
     ]
    },
    {
     "name": "stderr",
     "output_type": "stream",
     "text": [
      "100%|██████████| 750/750 [00:02<00:00, 297.64it/s]\n",
      "100%|██████████| 187/187 [00:00<00:00, 1172.23it/s]\n"
     ]
    },
    {
     "name": "stdout",
     "output_type": "stream",
     "text": [
      "epoch: 48/1000\t[valid_acc: 0.9904\tvalid_loss: 0.0337\ttrain_loss: 0.0150]\n"
     ]
    },
    {
     "name": "stderr",
     "output_type": "stream",
     "text": [
      "100%|██████████| 750/750 [00:02<00:00, 301.68it/s]\n",
      "100%|██████████| 187/187 [00:00<00:00, 1117.36it/s]\n"
     ]
    },
    {
     "name": "stdout",
     "output_type": "stream",
     "text": [
      "epoch: 49/1000\t[valid_acc: 0.9904\tvalid_loss: 0.0334\ttrain_loss: 0.0145]\n"
     ]
    },
    {
     "name": "stderr",
     "output_type": "stream",
     "text": [
      "100%|██████████| 750/750 [00:02<00:00, 296.41it/s]\n",
      "100%|██████████| 187/187 [00:00<00:00, 1196.09it/s]\n"
     ]
    },
    {
     "name": "stdout",
     "output_type": "stream",
     "text": [
      "epoch: 50/1000\t[valid_acc: 0.9904\tvalid_loss: 0.0332\ttrain_loss: 0.0139]\n"
     ]
    },
    {
     "name": "stderr",
     "output_type": "stream",
     "text": [
      "100%|██████████| 750/750 [00:02<00:00, 286.48it/s]\n",
      "100%|██████████| 187/187 [00:00<00:00, 1187.27it/s]\n"
     ]
    },
    {
     "name": "stdout",
     "output_type": "stream",
     "text": [
      "epoch: 51/1000\t[valid_acc: 0.9904\tvalid_loss: 0.0329\ttrain_loss: 0.0133]\n"
     ]
    },
    {
     "name": "stderr",
     "output_type": "stream",
     "text": [
      "100%|██████████| 750/750 [00:02<00:00, 309.38it/s]\n",
      "100%|██████████| 187/187 [00:00<00:00, 1187.11it/s]\n"
     ]
    },
    {
     "name": "stdout",
     "output_type": "stream",
     "text": [
      "epoch: 52/1000\t[valid_acc: 0.9905\tvalid_loss: 0.0327\ttrain_loss: 0.0128]\n"
     ]
    },
    {
     "name": "stderr",
     "output_type": "stream",
     "text": [
      "100%|██████████| 750/750 [00:02<00:00, 306.01it/s]\n",
      "100%|██████████| 187/187 [00:00<00:00, 1184.85it/s]\n"
     ]
    },
    {
     "name": "stdout",
     "output_type": "stream",
     "text": [
      "epoch: 53/1000\t[valid_acc: 0.9905\tvalid_loss: 0.0324\ttrain_loss: 0.0123]\n"
     ]
    },
    {
     "name": "stderr",
     "output_type": "stream",
     "text": [
      "100%|██████████| 750/750 [00:02<00:00, 300.19it/s]\n",
      "100%|██████████| 187/187 [00:00<00:00, 1137.81it/s]\n"
     ]
    },
    {
     "name": "stdout",
     "output_type": "stream",
     "text": [
      "epoch: 54/1000\t[valid_acc: 0.9905\tvalid_loss: 0.0322\ttrain_loss: 0.0118]\n"
     ]
    },
    {
     "name": "stderr",
     "output_type": "stream",
     "text": [
      "100%|██████████| 750/750 [00:02<00:00, 306.04it/s]\n",
      "100%|██████████| 187/187 [00:00<00:00, 866.55it/s]\n"
     ]
    },
    {
     "name": "stdout",
     "output_type": "stream",
     "text": [
      "epoch: 55/1000\t[valid_acc: 0.9904\tvalid_loss: 0.0320\ttrain_loss: 0.0113]\n"
     ]
    },
    {
     "name": "stderr",
     "output_type": "stream",
     "text": [
      "100%|██████████| 750/750 [00:02<00:00, 306.21it/s]\n",
      "100%|██████████| 187/187 [00:00<00:00, 1169.13it/s]\n"
     ]
    },
    {
     "name": "stdout",
     "output_type": "stream",
     "text": [
      "epoch: 56/1000\t[valid_acc: 0.9905\tvalid_loss: 0.0318\ttrain_loss: 0.0109]\n"
     ]
    },
    {
     "name": "stderr",
     "output_type": "stream",
     "text": [
      "100%|██████████| 750/750 [00:02<00:00, 291.86it/s]\n",
      "100%|██████████| 187/187 [00:00<00:00, 1110.62it/s]\n"
     ]
    },
    {
     "name": "stdout",
     "output_type": "stream",
     "text": [
      "epoch: 57/1000\t[valid_acc: 0.9905\tvalid_loss: 0.0316\ttrain_loss: 0.0104]\n"
     ]
    },
    {
     "name": "stderr",
     "output_type": "stream",
     "text": [
      "100%|██████████| 750/750 [00:02<00:00, 296.53it/s]\n",
      "100%|██████████| 187/187 [00:00<00:00, 982.49it/s]\n"
     ]
    },
    {
     "name": "stdout",
     "output_type": "stream",
     "text": [
      "epoch: 58/1000\t[valid_acc: 0.9906\tvalid_loss: 0.0314\ttrain_loss: 0.0100]\n"
     ]
    },
    {
     "name": "stderr",
     "output_type": "stream",
     "text": [
      "100%|██████████| 750/750 [00:02<00:00, 302.73it/s]\n",
      "100%|██████████| 187/187 [00:00<00:00, 1020.11it/s]\n"
     ]
    },
    {
     "name": "stdout",
     "output_type": "stream",
     "text": [
      "epoch: 59/1000\t[valid_acc: 0.9906\tvalid_loss: 0.0312\ttrain_loss: 0.0096]\n"
     ]
    },
    {
     "name": "stderr",
     "output_type": "stream",
     "text": [
      "100%|██████████| 750/750 [00:02<00:00, 291.61it/s]\n",
      "100%|██████████| 187/187 [00:00<00:00, 1178.96it/s]\n"
     ]
    },
    {
     "name": "stdout",
     "output_type": "stream",
     "text": [
      "epoch: 60/1000\t[valid_acc: 0.9906\tvalid_loss: 0.0310\ttrain_loss: 0.0092]\n"
     ]
    },
    {
     "name": "stderr",
     "output_type": "stream",
     "text": [
      "100%|██████████| 750/750 [00:02<00:00, 295.15it/s]\n",
      "100%|██████████| 187/187 [00:00<00:00, 1146.14it/s]\n"
     ]
    },
    {
     "name": "stdout",
     "output_type": "stream",
     "text": [
      "epoch: 61/1000\t[valid_acc: 0.9906\tvalid_loss: 0.0309\ttrain_loss: 0.0088]\n"
     ]
    },
    {
     "name": "stderr",
     "output_type": "stream",
     "text": [
      "100%|██████████| 750/750 [00:02<00:00, 303.70it/s]\n",
      "100%|██████████| 187/187 [00:00<00:00, 1157.54it/s]\n"
     ]
    },
    {
     "name": "stdout",
     "output_type": "stream",
     "text": [
      "epoch: 62/1000\t[valid_acc: 0.9906\tvalid_loss: 0.0307\ttrain_loss: 0.0084]\n"
     ]
    },
    {
     "name": "stderr",
     "output_type": "stream",
     "text": [
      "100%|██████████| 750/750 [00:02<00:00, 293.04it/s]\n",
      "100%|██████████| 187/187 [00:00<00:00, 1192.44it/s]\n"
     ]
    },
    {
     "name": "stdout",
     "output_type": "stream",
     "text": [
      "epoch: 63/1000\t[valid_acc: 0.9906\tvalid_loss: 0.0306\ttrain_loss: 0.0081]\n"
     ]
    },
    {
     "name": "stderr",
     "output_type": "stream",
     "text": [
      "100%|██████████| 750/750 [00:02<00:00, 294.65it/s]\n",
      "100%|██████████| 187/187 [00:00<00:00, 1133.62it/s]\n"
     ]
    },
    {
     "name": "stdout",
     "output_type": "stream",
     "text": [
      "epoch: 64/1000\t[valid_acc: 0.9907\tvalid_loss: 0.0305\ttrain_loss: 0.0077]\n"
     ]
    },
    {
     "name": "stderr",
     "output_type": "stream",
     "text": [
      "100%|██████████| 750/750 [00:02<00:00, 303.76it/s]\n",
      "100%|██████████| 187/187 [00:00<00:00, 874.52it/s]\n"
     ]
    },
    {
     "name": "stdout",
     "output_type": "stream",
     "text": [
      "epoch: 65/1000\t[valid_acc: 0.9908\tvalid_loss: 0.0303\ttrain_loss: 0.0074]\n"
     ]
    },
    {
     "name": "stderr",
     "output_type": "stream",
     "text": [
      "100%|██████████| 750/750 [00:02<00:00, 310.20it/s]\n",
      "100%|██████████| 187/187 [00:00<00:00, 1194.98it/s]\n"
     ]
    },
    {
     "name": "stdout",
     "output_type": "stream",
     "text": [
      "epoch: 66/1000\t[valid_acc: 0.9910\tvalid_loss: 0.0302\ttrain_loss: 0.0071]\n"
     ]
    },
    {
     "name": "stderr",
     "output_type": "stream",
     "text": [
      "100%|██████████| 750/750 [00:02<00:00, 300.95it/s]\n",
      "100%|██████████| 187/187 [00:00<00:00, 1205.21it/s]\n"
     ]
    },
    {
     "name": "stdout",
     "output_type": "stream",
     "text": [
      "epoch: 67/1000\t[valid_acc: 0.9910\tvalid_loss: 0.0301\ttrain_loss: 0.0067]\n"
     ]
    },
    {
     "name": "stderr",
     "output_type": "stream",
     "text": [
      "100%|██████████| 750/750 [00:02<00:00, 305.20it/s]\n",
      "100%|██████████| 187/187 [00:00<00:00, 1191.11it/s]\n"
     ]
    },
    {
     "name": "stdout",
     "output_type": "stream",
     "text": [
      "epoch: 68/1000\t[valid_acc: 0.9910\tvalid_loss: 0.0300\ttrain_loss: 0.0064]\n"
     ]
    },
    {
     "name": "stderr",
     "output_type": "stream",
     "text": [
      "100%|██████████| 750/750 [00:02<00:00, 301.99it/s]\n",
      "100%|██████████| 187/187 [00:00<00:00, 1048.80it/s]\n"
     ]
    },
    {
     "name": "stdout",
     "output_type": "stream",
     "text": [
      "epoch: 69/1000\t[valid_acc: 0.9911\tvalid_loss: 0.0299\ttrain_loss: 0.0062]\n"
     ]
    },
    {
     "name": "stderr",
     "output_type": "stream",
     "text": [
      "100%|██████████| 750/750 [00:02<00:00, 302.18it/s]\n",
      "100%|██████████| 187/187 [00:00<00:00, 1226.32it/s]\n"
     ]
    },
    {
     "name": "stdout",
     "output_type": "stream",
     "text": [
      "epoch: 70/1000\t[valid_acc: 0.9910\tvalid_loss: 0.0298\ttrain_loss: 0.0059]\n"
     ]
    },
    {
     "name": "stderr",
     "output_type": "stream",
     "text": [
      "100%|██████████| 750/750 [00:02<00:00, 298.53it/s]\n",
      "100%|██████████| 187/187 [00:00<00:00, 1198.61it/s]\n"
     ]
    },
    {
     "name": "stdout",
     "output_type": "stream",
     "text": [
      "epoch: 71/1000\t[valid_acc: 0.9910\tvalid_loss: 0.0296\ttrain_loss: 0.0056]\n"
     ]
    },
    {
     "name": "stderr",
     "output_type": "stream",
     "text": [
      "100%|██████████| 750/750 [00:02<00:00, 298.10it/s]\n",
      "100%|██████████| 187/187 [00:00<00:00, 1171.20it/s]\n"
     ]
    },
    {
     "name": "stdout",
     "output_type": "stream",
     "text": [
      "epoch: 72/1000\t[valid_acc: 0.9910\tvalid_loss: 0.0296\ttrain_loss: 0.0054]\n"
     ]
    },
    {
     "name": "stderr",
     "output_type": "stream",
     "text": [
      "100%|██████████| 750/750 [00:02<00:00, 306.01it/s]\n",
      "100%|██████████| 187/187 [00:00<00:00, 1059.88it/s]\n"
     ]
    },
    {
     "name": "stdout",
     "output_type": "stream",
     "text": [
      "epoch: 73/1000\t[valid_acc: 0.9911\tvalid_loss: 0.0295\ttrain_loss: 0.0051]\n"
     ]
    },
    {
     "name": "stderr",
     "output_type": "stream",
     "text": [
      "100%|██████████| 750/750 [00:02<00:00, 291.71it/s]\n",
      "100%|██████████| 187/187 [00:00<00:00, 1154.52it/s]\n"
     ]
    },
    {
     "name": "stdout",
     "output_type": "stream",
     "text": [
      "epoch: 74/1000\t[valid_acc: 0.9911\tvalid_loss: 0.0294\ttrain_loss: 0.0049]\n"
     ]
    },
    {
     "name": "stderr",
     "output_type": "stream",
     "text": [
      "100%|██████████| 750/750 [00:02<00:00, 298.93it/s]\n",
      "100%|██████████| 187/187 [00:00<00:00, 1150.51it/s]\n"
     ]
    },
    {
     "name": "stdout",
     "output_type": "stream",
     "text": [
      "epoch: 75/1000\t[valid_acc: 0.9911\tvalid_loss: 0.0293\ttrain_loss: 0.0046]\n"
     ]
    },
    {
     "name": "stderr",
     "output_type": "stream",
     "text": [
      "100%|██████████| 750/750 [00:02<00:00, 306.27it/s]\n",
      "100%|██████████| 187/187 [00:00<00:00, 1039.91it/s]\n"
     ]
    },
    {
     "name": "stdout",
     "output_type": "stream",
     "text": [
      "epoch: 76/1000\t[valid_acc: 0.9911\tvalid_loss: 0.0292\ttrain_loss: 0.0044]\n"
     ]
    },
    {
     "name": "stderr",
     "output_type": "stream",
     "text": [
      "100%|██████████| 750/750 [00:02<00:00, 302.22it/s]\n",
      "100%|██████████| 187/187 [00:00<00:00, 1163.06it/s]\n"
     ]
    },
    {
     "name": "stdout",
     "output_type": "stream",
     "text": [
      "epoch: 77/1000\t[valid_acc: 0.9911\tvalid_loss: 0.0291\ttrain_loss: 0.0042]\n"
     ]
    },
    {
     "name": "stderr",
     "output_type": "stream",
     "text": [
      "100%|██████████| 750/750 [00:02<00:00, 285.79it/s]\n",
      "100%|██████████| 187/187 [00:00<00:00, 1155.85it/s]\n"
     ]
    },
    {
     "name": "stdout",
     "output_type": "stream",
     "text": [
      "epoch: 78/1000\t[valid_acc: 0.9911\tvalid_loss: 0.0291\ttrain_loss: 0.0040]\n"
     ]
    },
    {
     "name": "stderr",
     "output_type": "stream",
     "text": [
      "100%|██████████| 750/750 [00:02<00:00, 294.82it/s]\n",
      "100%|██████████| 187/187 [00:00<00:00, 1110.60it/s]\n"
     ]
    },
    {
     "name": "stdout",
     "output_type": "stream",
     "text": [
      "epoch: 79/1000\t[valid_acc: 0.9911\tvalid_loss: 0.0290\ttrain_loss: 0.0038]\n"
     ]
    },
    {
     "name": "stderr",
     "output_type": "stream",
     "text": [
      "100%|██████████| 750/750 [00:02<00:00, 299.68it/s]\n",
      "100%|██████████| 187/187 [00:00<00:00, 888.94it/s]\n"
     ]
    },
    {
     "name": "stdout",
     "output_type": "stream",
     "text": [
      "epoch: 80/1000\t[valid_acc: 0.9912\tvalid_loss: 0.0289\ttrain_loss: 0.0036]\n"
     ]
    },
    {
     "name": "stderr",
     "output_type": "stream",
     "text": [
      "100%|██████████| 750/750 [00:02<00:00, 307.10it/s]\n",
      "100%|██████████| 187/187 [00:00<00:00, 1099.24it/s]\n"
     ]
    },
    {
     "name": "stdout",
     "output_type": "stream",
     "text": [
      "epoch: 81/1000\t[valid_acc: 0.9912\tvalid_loss: 0.0289\ttrain_loss: 0.0034]\n"
     ]
    },
    {
     "name": "stderr",
     "output_type": "stream",
     "text": [
      "100%|██████████| 750/750 [00:02<00:00, 291.33it/s]\n",
      "100%|██████████| 187/187 [00:00<00:00, 1006.53it/s]\n"
     ]
    },
    {
     "name": "stdout",
     "output_type": "stream",
     "text": [
      "epoch: 82/1000\t[valid_acc: 0.9912\tvalid_loss: 0.0288\ttrain_loss: 0.0033]\n"
     ]
    },
    {
     "name": "stderr",
     "output_type": "stream",
     "text": [
      "100%|██████████| 750/750 [00:02<00:00, 306.78it/s]\n",
      "100%|██████████| 187/187 [00:00<00:00, 840.16it/s]\n"
     ]
    },
    {
     "name": "stdout",
     "output_type": "stream",
     "text": [
      "epoch: 83/1000\t[valid_acc: 0.9913\tvalid_loss: 0.0288\ttrain_loss: 0.0031]\n"
     ]
    },
    {
     "name": "stderr",
     "output_type": "stream",
     "text": [
      "100%|██████████| 750/750 [00:02<00:00, 304.79it/s]\n",
      "100%|██████████| 187/187 [00:00<00:00, 1224.77it/s]\n"
     ]
    },
    {
     "name": "stdout",
     "output_type": "stream",
     "text": [
      "epoch: 84/1000\t[valid_acc: 0.9913\tvalid_loss: 0.0287\ttrain_loss: 0.0029]\n"
     ]
    },
    {
     "name": "stderr",
     "output_type": "stream",
     "text": [
      "100%|██████████| 750/750 [00:02<00:00, 300.20it/s]\n",
      "100%|██████████| 187/187 [00:00<00:00, 1147.24it/s]\n"
     ]
    },
    {
     "name": "stdout",
     "output_type": "stream",
     "text": [
      "epoch: 85/1000\t[valid_acc: 0.9915\tvalid_loss: 0.0287\ttrain_loss: 0.0028]\n"
     ]
    },
    {
     "name": "stderr",
     "output_type": "stream",
     "text": [
      "100%|██████████| 750/750 [00:02<00:00, 307.73it/s]\n",
      "100%|██████████| 187/187 [00:00<00:00, 1207.80it/s]\n"
     ]
    },
    {
     "name": "stdout",
     "output_type": "stream",
     "text": [
      "epoch: 86/1000\t[valid_acc: 0.9915\tvalid_loss: 0.0287\ttrain_loss: 0.0026]\n"
     ]
    },
    {
     "name": "stderr",
     "output_type": "stream",
     "text": [
      "100%|██████████| 750/750 [00:02<00:00, 303.94it/s]\n",
      "100%|██████████| 187/187 [00:00<00:00, 1089.56it/s]\n"
     ]
    },
    {
     "name": "stdout",
     "output_type": "stream",
     "text": [
      "epoch: 87/1000\t[valid_acc: 0.9915\tvalid_loss: 0.0287\ttrain_loss: 0.0025]\n"
     ]
    },
    {
     "name": "stderr",
     "output_type": "stream",
     "text": [
      "100%|██████████| 750/750 [00:02<00:00, 305.85it/s]\n",
      "100%|██████████| 187/187 [00:00<00:00, 1185.37it/s]\n"
     ]
    },
    {
     "name": "stdout",
     "output_type": "stream",
     "text": [
      "epoch: 88/1000\t[valid_acc: 0.9916\tvalid_loss: 0.0286\ttrain_loss: 0.0024]\n"
     ]
    },
    {
     "name": "stderr",
     "output_type": "stream",
     "text": [
      "100%|██████████| 750/750 [00:02<00:00, 297.93it/s]\n",
      "100%|██████████| 187/187 [00:00<00:00, 1196.52it/s]\n"
     ]
    },
    {
     "name": "stdout",
     "output_type": "stream",
     "text": [
      "epoch: 89/1000\t[valid_acc: 0.9916\tvalid_loss: 0.0286\ttrain_loss: 0.0023]\n"
     ]
    },
    {
     "name": "stderr",
     "output_type": "stream",
     "text": [
      "100%|██████████| 750/750 [00:02<00:00, 303.61it/s]\n",
      "100%|██████████| 187/187 [00:00<00:00, 1171.16it/s]\n"
     ]
    },
    {
     "name": "stdout",
     "output_type": "stream",
     "text": [
      "epoch: 90/1000\t[valid_acc: 0.9918\tvalid_loss: 0.0286\ttrain_loss: 0.0021]\n"
     ]
    },
    {
     "name": "stderr",
     "output_type": "stream",
     "text": [
      "100%|██████████| 750/750 [00:02<00:00, 309.35it/s]\n",
      "100%|██████████| 187/187 [00:00<00:00, 1208.61it/s]\n"
     ]
    },
    {
     "name": "stdout",
     "output_type": "stream",
     "text": [
      "epoch: 91/1000\t[valid_acc: 0.9918\tvalid_loss: 0.0286\ttrain_loss: 0.0020]\n"
     ]
    },
    {
     "name": "stderr",
     "output_type": "stream",
     "text": [
      "100%|██████████| 750/750 [00:02<00:00, 288.48it/s]\n",
      "100%|██████████| 187/187 [00:00<00:00, 1184.48it/s]\n"
     ]
    },
    {
     "name": "stdout",
     "output_type": "stream",
     "text": [
      "epoch: 92/1000\t[valid_acc: 0.9918\tvalid_loss: 0.0286\ttrain_loss: 0.0019]\n"
     ]
    },
    {
     "name": "stderr",
     "output_type": "stream",
     "text": [
      "100%|██████████| 750/750 [00:02<00:00, 296.98it/s]\n",
      "100%|██████████| 187/187 [00:00<00:00, 1158.66it/s]\n"
     ]
    },
    {
     "name": "stdout",
     "output_type": "stream",
     "text": [
      "epoch: 93/1000\t[valid_acc: 0.9918\tvalid_loss: 0.0286\ttrain_loss: 0.0018]\n"
     ]
    },
    {
     "name": "stderr",
     "output_type": "stream",
     "text": [
      "100%|██████████| 750/750 [00:02<00:00, 303.92it/s]\n",
      "100%|██████████| 187/187 [00:00<00:00, 1149.10it/s]\n"
     ]
    },
    {
     "name": "stdout",
     "output_type": "stream",
     "text": [
      "epoch: 94/1000\t[valid_acc: 0.9918\tvalid_loss: 0.0286\ttrain_loss: 0.0017]\n"
     ]
    },
    {
     "name": "stderr",
     "output_type": "stream",
     "text": [
      "100%|██████████| 750/750 [00:02<00:00, 296.00it/s]\n",
      "100%|██████████| 187/187 [00:00<00:00, 1212.77it/s]\n"
     ]
    },
    {
     "name": "stdout",
     "output_type": "stream",
     "text": [
      "epoch: 95/1000\t[valid_acc: 0.9919\tvalid_loss: 0.0285\ttrain_loss: 0.0016]\n"
     ]
    },
    {
     "name": "stderr",
     "output_type": "stream",
     "text": [
      "100%|██████████| 750/750 [00:02<00:00, 290.07it/s]\n",
      "100%|██████████| 187/187 [00:00<00:00, 1199.22it/s]\n"
     ]
    },
    {
     "name": "stdout",
     "output_type": "stream",
     "text": [
      "epoch: 96/1000\t[valid_acc: 0.9919\tvalid_loss: 0.0286\ttrain_loss: 0.0015]\n"
     ]
    },
    {
     "name": "stderr",
     "output_type": "stream",
     "text": [
      "100%|██████████| 750/750 [00:02<00:00, 307.63it/s]\n",
      "100%|██████████| 187/187 [00:00<00:00, 1053.19it/s]\n"
     ]
    },
    {
     "name": "stdout",
     "output_type": "stream",
     "text": [
      "epoch: 97/1000\t[valid_acc: 0.9919\tvalid_loss: 0.0286\ttrain_loss: 0.0014]\n"
     ]
    },
    {
     "name": "stderr",
     "output_type": "stream",
     "text": [
      "100%|██████████| 750/750 [00:02<00:00, 296.98it/s]\n",
      "100%|██████████| 187/187 [00:00<00:00, 1222.59it/s]\n"
     ]
    },
    {
     "name": "stdout",
     "output_type": "stream",
     "text": [
      "epoch: 98/1000\t[valid_acc: 0.9920\tvalid_loss: 0.0286\ttrain_loss: 0.0014]\n"
     ]
    },
    {
     "name": "stderr",
     "output_type": "stream",
     "text": [
      "100%|██████████| 750/750 [00:02<00:00, 296.84it/s]\n",
      "100%|██████████| 187/187 [00:00<00:00, 1173.73it/s]\n"
     ]
    },
    {
     "name": "stdout",
     "output_type": "stream",
     "text": [
      "epoch: 99/1000\t[valid_acc: 0.9920\tvalid_loss: 0.0286\ttrain_loss: 0.0013]\n"
     ]
    },
    {
     "name": "stderr",
     "output_type": "stream",
     "text": [
      "100%|██████████| 750/750 [00:02<00:00, 309.08it/s]\n",
      "100%|██████████| 187/187 [00:00<00:00, 891.38it/s]\n"
     ]
    },
    {
     "name": "stdout",
     "output_type": "stream",
     "text": [
      "epoch: 100/1000\t[valid_acc: 0.9920\tvalid_loss: 0.0286\ttrain_loss: 0.0012]\n"
     ]
    },
    {
     "name": "stderr",
     "output_type": "stream",
     "text": [
      "100%|██████████| 750/750 [00:02<00:00, 305.10it/s]\n",
      "100%|██████████| 187/187 [00:00<00:00, 1147.78it/s]\n"
     ]
    },
    {
     "name": "stdout",
     "output_type": "stream",
     "text": [
      "epoch: 101/1000\t[valid_acc: 0.9919\tvalid_loss: 0.0286\ttrain_loss: 0.0011]\n"
     ]
    },
    {
     "name": "stderr",
     "output_type": "stream",
     "text": [
      "100%|██████████| 750/750 [00:02<00:00, 299.08it/s]\n",
      "100%|██████████| 187/187 [00:00<00:00, 1202.93it/s]\n"
     ]
    },
    {
     "name": "stdout",
     "output_type": "stream",
     "text": [
      "epoch: 102/1000\t[valid_acc: 0.9919\tvalid_loss: 0.0286\ttrain_loss: 0.0011]\n"
     ]
    },
    {
     "name": "stderr",
     "output_type": "stream",
     "text": [
      "100%|██████████| 750/750 [00:02<00:00, 298.93it/s]\n",
      "100%|██████████| 187/187 [00:00<00:00, 1192.67it/s]\n"
     ]
    },
    {
     "name": "stdout",
     "output_type": "stream",
     "text": [
      "epoch: 103/1000\t[valid_acc: 0.9919\tvalid_loss: 0.0286\ttrain_loss: 0.0010]\n"
     ]
    },
    {
     "name": "stderr",
     "output_type": "stream",
     "text": [
      "100%|██████████| 750/750 [00:02<00:00, 312.54it/s]\n",
      "100%|██████████| 187/187 [00:00<00:00, 1145.93it/s]\n"
     ]
    },
    {
     "name": "stdout",
     "output_type": "stream",
     "text": [
      "epoch: 104/1000\t[valid_acc: 0.9917\tvalid_loss: 0.0287\ttrain_loss: 0.0009]\n"
     ]
    },
    {
     "name": "stderr",
     "output_type": "stream",
     "text": [
      "100%|██████████| 750/750 [00:02<00:00, 298.74it/s]\n",
      "100%|██████████| 187/187 [00:00<00:00, 1181.21it/s]\n"
     ]
    },
    {
     "name": "stdout",
     "output_type": "stream",
     "text": [
      "epoch: 105/1000\t[valid_acc: 0.9917\tvalid_loss: 0.0287\ttrain_loss: 0.0009]\n"
     ]
    },
    {
     "name": "stderr",
     "output_type": "stream",
     "text": [
      "100%|██████████| 750/750 [00:02<00:00, 297.33it/s]\n",
      "100%|██████████| 187/187 [00:00<00:00, 1108.27it/s]\n"
     ]
    },
    {
     "name": "stdout",
     "output_type": "stream",
     "text": [
      "epoch: 106/1000\t[valid_acc: 0.9918\tvalid_loss: 0.0287\ttrain_loss: 0.0008]\n"
     ]
    },
    {
     "name": "stderr",
     "output_type": "stream",
     "text": [
      "100%|██████████| 750/750 [00:02<00:00, 290.95it/s]\n",
      "100%|██████████| 187/187 [00:00<00:00, 1224.81it/s]\n"
     ]
    },
    {
     "name": "stdout",
     "output_type": "stream",
     "text": [
      "epoch: 107/1000\t[valid_acc: 0.9919\tvalid_loss: 0.0288\ttrain_loss: 0.0008]\n"
     ]
    },
    {
     "name": "stderr",
     "output_type": "stream",
     "text": [
      "100%|██████████| 750/750 [00:02<00:00, 301.65it/s]\n",
      "100%|██████████| 187/187 [00:00<00:00, 1167.75it/s]\n"
     ]
    },
    {
     "name": "stdout",
     "output_type": "stream",
     "text": [
      "epoch: 108/1000\t[valid_acc: 0.9920\tvalid_loss: 0.0288\ttrain_loss: 0.0007]\n"
     ]
    },
    {
     "name": "stderr",
     "output_type": "stream",
     "text": [
      "100%|██████████| 750/750 [00:02<00:00, 298.43it/s]\n",
      "100%|██████████| 187/187 [00:00<00:00, 1134.06it/s]\n"
     ]
    },
    {
     "name": "stdout",
     "output_type": "stream",
     "text": [
      "epoch: 109/1000\t[valid_acc: 0.9921\tvalid_loss: 0.0289\ttrain_loss: 0.0007]\n"
     ]
    },
    {
     "name": "stderr",
     "output_type": "stream",
     "text": [
      "100%|██████████| 750/750 [00:02<00:00, 300.61it/s]\n",
      "100%|██████████| 187/187 [00:00<00:00, 1206.31it/s]\n"
     ]
    },
    {
     "name": "stdout",
     "output_type": "stream",
     "text": [
      "epoch: 110/1000\t[valid_acc: 0.9920\tvalid_loss: 0.0289\ttrain_loss: 0.0007]\n"
     ]
    },
    {
     "name": "stderr",
     "output_type": "stream",
     "text": [
      "100%|██████████| 750/750 [00:02<00:00, 306.92it/s]\n",
      "100%|██████████| 187/187 [00:00<00:00, 1212.84it/s]\n"
     ]
    },
    {
     "name": "stdout",
     "output_type": "stream",
     "text": [
      "epoch: 111/1000\t[valid_acc: 0.9921\tvalid_loss: 0.0290\ttrain_loss: 0.0006]\n"
     ]
    },
    {
     "name": "stderr",
     "output_type": "stream",
     "text": [
      "100%|██████████| 750/750 [00:02<00:00, 304.20it/s]\n",
      "100%|██████████| 187/187 [00:00<00:00, 1181.31it/s]\n"
     ]
    },
    {
     "name": "stdout",
     "output_type": "stream",
     "text": [
      "epoch: 112/1000\t[valid_acc: 0.9921\tvalid_loss: 0.0290\ttrain_loss: 0.0006]\n"
     ]
    },
    {
     "name": "stderr",
     "output_type": "stream",
     "text": [
      "100%|██████████| 750/750 [00:02<00:00, 304.20it/s]\n",
      "100%|██████████| 187/187 [00:00<00:00, 1179.10it/s]\n"
     ]
    },
    {
     "name": "stdout",
     "output_type": "stream",
     "text": [
      "epoch: 113/1000\t[valid_acc: 0.9922\tvalid_loss: 0.0291\ttrain_loss: 0.0005]\n"
     ]
    },
    {
     "name": "stderr",
     "output_type": "stream",
     "text": [
      "100%|██████████| 750/750 [00:02<00:00, 298.08it/s]\n",
      "100%|██████████| 187/187 [00:00<00:00, 1083.21it/s]\n"
     ]
    },
    {
     "name": "stdout",
     "output_type": "stream",
     "text": [
      "epoch: 114/1000\t[valid_acc: 0.9923\tvalid_loss: 0.0291\ttrain_loss: 0.0005]\n"
     ]
    },
    {
     "name": "stderr",
     "output_type": "stream",
     "text": [
      "100%|██████████| 750/750 [00:02<00:00, 306.95it/s]\n",
      "100%|██████████| 187/187 [00:00<00:00, 1170.45it/s]\n"
     ]
    },
    {
     "name": "stdout",
     "output_type": "stream",
     "text": [
      "epoch: 115/1000\t[valid_acc: 0.9923\tvalid_loss: 0.0292\ttrain_loss: 0.0005]\n"
     ]
    },
    {
     "name": "stderr",
     "output_type": "stream",
     "text": [
      "100%|██████████| 750/750 [00:02<00:00, 299.71it/s]\n",
      "100%|██████████| 187/187 [00:00<00:00, 1169.44it/s]\n"
     ]
    },
    {
     "name": "stdout",
     "output_type": "stream",
     "text": [
      "epoch: 116/1000\t[valid_acc: 0.9924\tvalid_loss: 0.0293\ttrain_loss: 0.0004]\n"
     ]
    },
    {
     "name": "stderr",
     "output_type": "stream",
     "text": [
      "100%|██████████| 750/750 [00:02<00:00, 291.27it/s]\n",
      "100%|██████████| 187/187 [00:00<00:00, 1177.21it/s]\n"
     ]
    },
    {
     "name": "stdout",
     "output_type": "stream",
     "text": [
      "epoch: 117/1000\t[valid_acc: 0.9924\tvalid_loss: 0.0294\ttrain_loss: 0.0004]\n"
     ]
    },
    {
     "name": "stderr",
     "output_type": "stream",
     "text": [
      "100%|██████████| 750/750 [00:02<00:00, 305.52it/s]\n",
      "100%|██████████| 187/187 [00:00<00:00, 1069.62it/s]\n"
     ]
    },
    {
     "name": "stdout",
     "output_type": "stream",
     "text": [
      "epoch: 118/1000\t[valid_acc: 0.9924\tvalid_loss: 0.0294\ttrain_loss: 0.0004]\n"
     ]
    },
    {
     "name": "stderr",
     "output_type": "stream",
     "text": [
      "100%|██████████| 750/750 [00:02<00:00, 297.23it/s]\n",
      "100%|██████████| 187/187 [00:00<00:00, 1148.03it/s]\n"
     ]
    },
    {
     "name": "stdout",
     "output_type": "stream",
     "text": [
      "epoch: 119/1000\t[valid_acc: 0.9925\tvalid_loss: 0.0295\ttrain_loss: 0.0004]\n"
     ]
    },
    {
     "name": "stderr",
     "output_type": "stream",
     "text": [
      "100%|██████████| 750/750 [00:02<00:00, 296.74it/s]\n",
      "100%|██████████| 187/187 [00:00<00:00, 1197.97it/s]\n"
     ]
    },
    {
     "name": "stdout",
     "output_type": "stream",
     "text": [
      "epoch: 120/1000\t[valid_acc: 0.9924\tvalid_loss: 0.0296\ttrain_loss: 0.0003]\n"
     ]
    },
    {
     "name": "stderr",
     "output_type": "stream",
     "text": [
      "100%|██████████| 750/750 [00:02<00:00, 310.79it/s]\n",
      "100%|██████████| 187/187 [00:00<00:00, 1158.93it/s]\n"
     ]
    },
    {
     "name": "stdout",
     "output_type": "stream",
     "text": [
      "epoch: 121/1000\t[valid_acc: 0.9925\tvalid_loss: 0.0297\ttrain_loss: 0.0003]\n"
     ]
    },
    {
     "name": "stderr",
     "output_type": "stream",
     "text": [
      "100%|██████████| 750/750 [00:02<00:00, 303.69it/s]\n",
      "100%|██████████| 187/187 [00:00<00:00, 1201.86it/s]\n"
     ]
    },
    {
     "name": "stdout",
     "output_type": "stream",
     "text": [
      "epoch: 122/1000\t[valid_acc: 0.9926\tvalid_loss: 0.0298\ttrain_loss: 0.0003]\n"
     ]
    },
    {
     "name": "stderr",
     "output_type": "stream",
     "text": [
      "100%|██████████| 750/750 [00:02<00:00, 297.47it/s]\n",
      "100%|██████████| 187/187 [00:00<00:00, 1176.32it/s]\n"
     ]
    },
    {
     "name": "stdout",
     "output_type": "stream",
     "text": [
      "epoch: 123/1000\t[valid_acc: 0.9925\tvalid_loss: 0.0298\ttrain_loss: 0.0003]\n"
     ]
    },
    {
     "name": "stderr",
     "output_type": "stream",
     "text": [
      "100%|██████████| 750/750 [00:02<00:00, 299.70it/s]\n",
      "100%|██████████| 187/187 [00:00<00:00, 1227.28it/s]\n"
     ]
    },
    {
     "name": "stdout",
     "output_type": "stream",
     "text": [
      "epoch: 124/1000\t[valid_acc: 0.9926\tvalid_loss: 0.0299\ttrain_loss: 0.0003]\n"
     ]
    },
    {
     "name": "stderr",
     "output_type": "stream",
     "text": [
      "100%|██████████| 750/750 [00:02<00:00, 306.64it/s]\n",
      "100%|██████████| 187/187 [00:00<00:00, 1197.03it/s]\n"
     ]
    },
    {
     "name": "stdout",
     "output_type": "stream",
     "text": [
      "epoch: 125/1000\t[valid_acc: 0.9926\tvalid_loss: 0.0300\ttrain_loss: 0.0002]\n"
     ]
    },
    {
     "name": "stderr",
     "output_type": "stream",
     "text": [
      "100%|██████████| 750/750 [00:02<00:00, 308.89it/s]\n",
      "100%|██████████| 187/187 [00:00<00:00, 1170.54it/s]\n"
     ]
    },
    {
     "name": "stdout",
     "output_type": "stream",
     "text": [
      "epoch: 126/1000\t[valid_acc: 0.9926\tvalid_loss: 0.0301\ttrain_loss: 0.0002]\n"
     ]
    },
    {
     "name": "stderr",
     "output_type": "stream",
     "text": [
      "100%|██████████| 750/750 [00:02<00:00, 310.24it/s]\n",
      "100%|██████████| 187/187 [00:00<00:00, 1175.36it/s]\n"
     ]
    },
    {
     "name": "stdout",
     "output_type": "stream",
     "text": [
      "epoch: 127/1000\t[valid_acc: 0.9926\tvalid_loss: 0.0302\ttrain_loss: 0.0002]\n"
     ]
    },
    {
     "name": "stderr",
     "output_type": "stream",
     "text": [
      "100%|██████████| 750/750 [00:02<00:00, 292.60it/s]\n",
      "100%|██████████| 187/187 [00:00<00:00, 1194.01it/s]\n"
     ]
    },
    {
     "name": "stdout",
     "output_type": "stream",
     "text": [
      "epoch: 128/1000\t[valid_acc: 0.9926\tvalid_loss: 0.0303\ttrain_loss: 0.0002]\n"
     ]
    },
    {
     "name": "stderr",
     "output_type": "stream",
     "text": [
      "100%|██████████| 750/750 [00:02<00:00, 301.45it/s]\n",
      "100%|██████████| 187/187 [00:00<00:00, 1230.63it/s]\n"
     ]
    },
    {
     "name": "stdout",
     "output_type": "stream",
     "text": [
      "epoch: 129/1000\t[valid_acc: 0.9926\tvalid_loss: 0.0304\ttrain_loss: 0.0002]\n"
     ]
    },
    {
     "name": "stderr",
     "output_type": "stream",
     "text": [
      "100%|██████████| 750/750 [00:02<00:00, 307.24it/s]\n",
      "100%|██████████| 187/187 [00:00<00:00, 1239.38it/s]\n"
     ]
    },
    {
     "name": "stdout",
     "output_type": "stream",
     "text": [
      "epoch: 130/1000\t[valid_acc: 0.9926\tvalid_loss: 0.0306\ttrain_loss: 0.0002]\n"
     ]
    },
    {
     "name": "stderr",
     "output_type": "stream",
     "text": [
      "100%|██████████| 750/750 [00:02<00:00, 304.27it/s]\n",
      "100%|██████████| 187/187 [00:00<00:00, 1245.65it/s]\n"
     ]
    },
    {
     "name": "stdout",
     "output_type": "stream",
     "text": [
      "epoch: 131/1000\t[valid_acc: 0.9926\tvalid_loss: 0.0307\ttrain_loss: 0.0002]\n"
     ]
    },
    {
     "name": "stderr",
     "output_type": "stream",
     "text": [
      "100%|██████████| 750/750 [00:02<00:00, 306.95it/s]\n",
      "100%|██████████| 187/187 [00:00<00:00, 1225.35it/s]\n"
     ]
    },
    {
     "name": "stdout",
     "output_type": "stream",
     "text": [
      "epoch: 132/1000\t[valid_acc: 0.9926\tvalid_loss: 0.0308\ttrain_loss: 0.0001]\n"
     ]
    },
    {
     "name": "stderr",
     "output_type": "stream",
     "text": [
      "100%|██████████| 750/750 [00:02<00:00, 308.60it/s]\n",
      "100%|██████████| 187/187 [00:00<00:00, 1236.34it/s]\n"
     ]
    },
    {
     "name": "stdout",
     "output_type": "stream",
     "text": [
      "epoch: 133/1000\t[valid_acc: 0.9926\tvalid_loss: 0.0309\ttrain_loss: 0.0001]\n"
     ]
    },
    {
     "name": "stderr",
     "output_type": "stream",
     "text": [
      "100%|██████████| 750/750 [00:02<00:00, 307.22it/s]\n",
      "100%|██████████| 187/187 [00:00<00:00, 1232.74it/s]\n"
     ]
    },
    {
     "name": "stdout",
     "output_type": "stream",
     "text": [
      "epoch: 134/1000\t[valid_acc: 0.9926\tvalid_loss: 0.0310\ttrain_loss: 0.0001]\n"
     ]
    },
    {
     "name": "stderr",
     "output_type": "stream",
     "text": [
      "100%|██████████| 750/750 [00:02<00:00, 308.63it/s]\n",
      "100%|██████████| 187/187 [00:00<00:00, 905.97it/s] \n"
     ]
    },
    {
     "name": "stdout",
     "output_type": "stream",
     "text": [
      "epoch: 135/1000\t[valid_acc: 0.9926\tvalid_loss: 0.0311\ttrain_loss: 0.0001]\n"
     ]
    },
    {
     "name": "stderr",
     "output_type": "stream",
     "text": [
      "100%|██████████| 750/750 [00:02<00:00, 310.42it/s]\n",
      "100%|██████████| 187/187 [00:00<00:00, 1225.78it/s]\n"
     ]
    },
    {
     "name": "stdout",
     "output_type": "stream",
     "text": [
      "epoch: 136/1000\t[valid_acc: 0.9926\tvalid_loss: 0.0313\ttrain_loss: 0.0001]\n"
     ]
    },
    {
     "name": "stderr",
     "output_type": "stream",
     "text": [
      "100%|██████████| 750/750 [00:02<00:00, 309.83it/s]\n",
      "100%|██████████| 187/187 [00:00<00:00, 1165.54it/s]\n"
     ]
    },
    {
     "name": "stdout",
     "output_type": "stream",
     "text": [
      "epoch: 137/1000\t[valid_acc: 0.9926\tvalid_loss: 0.0313\ttrain_loss: 0.0001]\n"
     ]
    },
    {
     "name": "stderr",
     "output_type": "stream",
     "text": [
      "100%|██████████| 750/750 [00:02<00:00, 301.79it/s]\n",
      "100%|██████████| 187/187 [00:00<00:00, 1209.09it/s]\n"
     ]
    },
    {
     "name": "stdout",
     "output_type": "stream",
     "text": [
      "epoch: 138/1000\t[valid_acc: 0.9926\tvalid_loss: 0.0315\ttrain_loss: 0.0001]\n"
     ]
    },
    {
     "name": "stderr",
     "output_type": "stream",
     "text": [
      "100%|██████████| 750/750 [00:02<00:00, 306.90it/s]\n",
      "100%|██████████| 187/187 [00:00<00:00, 1222.17it/s]\n"
     ]
    },
    {
     "name": "stdout",
     "output_type": "stream",
     "text": [
      "epoch: 139/1000\t[valid_acc: 0.9926\tvalid_loss: 0.0316\ttrain_loss: 0.0001]\n"
     ]
    },
    {
     "name": "stderr",
     "output_type": "stream",
     "text": [
      "100%|██████████| 750/750 [00:02<00:00, 306.26it/s]\n",
      "100%|██████████| 187/187 [00:00<00:00, 1252.94it/s]\n"
     ]
    },
    {
     "name": "stdout",
     "output_type": "stream",
     "text": [
      "epoch: 140/1000\t[valid_acc: 0.9926\tvalid_loss: 0.0318\ttrain_loss: 0.0001]\n"
     ]
    },
    {
     "name": "stderr",
     "output_type": "stream",
     "text": [
      "100%|██████████| 750/750 [00:02<00:00, 306.50it/s]\n",
      "100%|██████████| 187/187 [00:00<00:00, 1182.69it/s]\n"
     ]
    },
    {
     "name": "stdout",
     "output_type": "stream",
     "text": [
      "epoch: 141/1000\t[valid_acc: 0.9926\tvalid_loss: 0.0319\ttrain_loss: 0.0001]\n"
     ]
    },
    {
     "name": "stderr",
     "output_type": "stream",
     "text": [
      "100%|██████████| 750/750 [00:02<00:00, 312.02it/s]\n",
      "100%|██████████| 187/187 [00:00<00:00, 1182.54it/s]\n"
     ]
    },
    {
     "name": "stdout",
     "output_type": "stream",
     "text": [
      "epoch: 142/1000\t[valid_acc: 0.9926\tvalid_loss: 0.0320\ttrain_loss: 0.0001]\n"
     ]
    },
    {
     "name": "stderr",
     "output_type": "stream",
     "text": [
      "100%|██████████| 750/750 [00:02<00:00, 303.49it/s]\n",
      "100%|██████████| 187/187 [00:00<00:00, 1217.65it/s]\n"
     ]
    },
    {
     "name": "stdout",
     "output_type": "stream",
     "text": [
      "epoch: 143/1000\t[valid_acc: 0.9926\tvalid_loss: 0.0322\ttrain_loss: 0.0001]\n"
     ]
    },
    {
     "name": "stderr",
     "output_type": "stream",
     "text": [
      "100%|██████████| 750/750 [00:02<00:00, 306.41it/s]\n",
      "100%|██████████| 187/187 [00:00<00:00, 1220.01it/s]\n"
     ]
    },
    {
     "name": "stdout",
     "output_type": "stream",
     "text": [
      "epoch: 144/1000\t[valid_acc: 0.9925\tvalid_loss: 0.0323\ttrain_loss: 0.0001]\n"
     ]
    },
    {
     "name": "stderr",
     "output_type": "stream",
     "text": [
      "100%|██████████| 750/750 [00:02<00:00, 311.37it/s]\n",
      "100%|██████████| 187/187 [00:00<00:00, 1181.44it/s]\n"
     ]
    },
    {
     "name": "stdout",
     "output_type": "stream",
     "text": [
      "epoch: 145/1000\t[valid_acc: 0.9924\tvalid_loss: 0.0325\ttrain_loss: 0.0001]\n"
     ]
    },
    {
     "name": "stderr",
     "output_type": "stream",
     "text": [
      "100%|██████████| 750/750 [00:02<00:00, 303.25it/s]\n",
      "100%|██████████| 187/187 [00:00<00:00, 1200.62it/s]\n"
     ]
    },
    {
     "name": "stdout",
     "output_type": "stream",
     "text": [
      "epoch: 146/1000\t[valid_acc: 0.9924\tvalid_loss: 0.0326\ttrain_loss: 0.0001]\n"
     ]
    },
    {
     "name": "stderr",
     "output_type": "stream",
     "text": [
      "100%|██████████| 750/750 [00:02<00:00, 300.71it/s]\n",
      "100%|██████████| 187/187 [00:00<00:00, 1149.04it/s]\n"
     ]
    },
    {
     "name": "stdout",
     "output_type": "stream",
     "text": [
      "epoch: 147/1000\t[valid_acc: 0.9925\tvalid_loss: 0.0328\ttrain_loss: 0.0000]\n"
     ]
    },
    {
     "name": "stderr",
     "output_type": "stream",
     "text": [
      "100%|██████████| 750/750 [00:02<00:00, 310.70it/s]\n",
      "100%|██████████| 187/187 [00:00<00:00, 1082.48it/s]\n"
     ]
    },
    {
     "name": "stdout",
     "output_type": "stream",
     "text": [
      "epoch: 148/1000\t[valid_acc: 0.9924\tvalid_loss: 0.0329\ttrain_loss: 0.0000]\n"
     ]
    },
    {
     "name": "stderr",
     "output_type": "stream",
     "text": [
      "100%|██████████| 750/750 [00:02<00:00, 303.07it/s]\n",
      "100%|██████████| 187/187 [00:00<00:00, 1210.23it/s]\n"
     ]
    },
    {
     "name": "stdout",
     "output_type": "stream",
     "text": [
      "epoch: 149/1000\t[valid_acc: 0.9925\tvalid_loss: 0.0331\ttrain_loss: 0.0000]\n"
     ]
    },
    {
     "name": "stderr",
     "output_type": "stream",
     "text": [
      "100%|██████████| 750/750 [00:02<00:00, 293.28it/s]\n",
      "100%|██████████| 187/187 [00:00<00:00, 1094.76it/s]\n"
     ]
    },
    {
     "name": "stdout",
     "output_type": "stream",
     "text": [
      "epoch: 150/1000\t[valid_acc: 0.9926\tvalid_loss: 0.0332\ttrain_loss: 0.0000]\n"
     ]
    },
    {
     "name": "stderr",
     "output_type": "stream",
     "text": [
      "100%|██████████| 750/750 [00:02<00:00, 303.36it/s]\n",
      "100%|██████████| 187/187 [00:00<00:00, 1176.17it/s]\n"
     ]
    },
    {
     "name": "stdout",
     "output_type": "stream",
     "text": [
      "epoch: 151/1000\t[valid_acc: 0.9926\tvalid_loss: 0.0334\ttrain_loss: 0.0000]\n"
     ]
    },
    {
     "name": "stderr",
     "output_type": "stream",
     "text": [
      "100%|██████████| 750/750 [00:02<00:00, 311.88it/s]\n",
      "100%|██████████| 187/187 [00:00<00:00, 1176.66it/s]\n"
     ]
    },
    {
     "name": "stdout",
     "output_type": "stream",
     "text": [
      "epoch: 152/1000\t[valid_acc: 0.9926\tvalid_loss: 0.0335\ttrain_loss: 0.0000]\n"
     ]
    },
    {
     "name": "stderr",
     "output_type": "stream",
     "text": [
      "100%|██████████| 750/750 [00:02<00:00, 301.29it/s]\n",
      "100%|██████████| 187/187 [00:00<00:00, 1148.36it/s]\n"
     ]
    },
    {
     "name": "stdout",
     "output_type": "stream",
     "text": [
      "epoch: 153/1000\t[valid_acc: 0.9926\tvalid_loss: 0.0337\ttrain_loss: 0.0000]\n"
     ]
    },
    {
     "name": "stderr",
     "output_type": "stream",
     "text": [
      "100%|██████████| 750/750 [00:02<00:00, 307.34it/s]\n",
      "100%|██████████| 187/187 [00:00<00:00, 1175.31it/s]\n"
     ]
    },
    {
     "name": "stdout",
     "output_type": "stream",
     "text": [
      "epoch: 154/1000\t[valid_acc: 0.9926\tvalid_loss: 0.0339\ttrain_loss: 0.0000]\n"
     ]
    },
    {
     "name": "stderr",
     "output_type": "stream",
     "text": [
      "100%|██████████| 750/750 [00:02<00:00, 315.31it/s]\n",
      "100%|██████████| 187/187 [00:00<00:00, 1244.28it/s]\n"
     ]
    },
    {
     "name": "stdout",
     "output_type": "stream",
     "text": [
      "epoch: 155/1000\t[valid_acc: 0.9926\tvalid_loss: 0.0341\ttrain_loss: 0.0000]\n"
     ]
    },
    {
     "name": "stderr",
     "output_type": "stream",
     "text": [
      "100%|██████████| 750/750 [00:02<00:00, 302.66it/s]\n",
      "100%|██████████| 187/187 [00:00<00:00, 1188.72it/s]\n"
     ]
    },
    {
     "name": "stdout",
     "output_type": "stream",
     "text": [
      "epoch: 156/1000\t[valid_acc: 0.9926\tvalid_loss: 0.0342\ttrain_loss: 0.0000]\n"
     ]
    },
    {
     "name": "stderr",
     "output_type": "stream",
     "text": [
      "100%|██████████| 750/750 [00:02<00:00, 301.10it/s]\n",
      "100%|██████████| 187/187 [00:00<00:00, 1114.42it/s]\n"
     ]
    },
    {
     "name": "stdout",
     "output_type": "stream",
     "text": [
      "epoch: 157/1000\t[valid_acc: 0.9926\tvalid_loss: 0.0344\ttrain_loss: 0.0000]\n"
     ]
    },
    {
     "name": "stderr",
     "output_type": "stream",
     "text": [
      "100%|██████████| 750/750 [00:02<00:00, 313.05it/s]\n",
      "100%|██████████| 187/187 [00:00<00:00, 1187.68it/s]\n"
     ]
    },
    {
     "name": "stdout",
     "output_type": "stream",
     "text": [
      "epoch: 158/1000\t[valid_acc: 0.9926\tvalid_loss: 0.0346\ttrain_loss: 0.0000]\n"
     ]
    },
    {
     "name": "stderr",
     "output_type": "stream",
     "text": [
      "100%|██████████| 750/750 [00:02<00:00, 293.91it/s]\n",
      "100%|██████████| 187/187 [00:00<00:00, 1225.70it/s]\n"
     ]
    },
    {
     "name": "stdout",
     "output_type": "stream",
     "text": [
      "epoch: 159/1000\t[valid_acc: 0.9926\tvalid_loss: 0.0348\ttrain_loss: 0.0000]\n"
     ]
    },
    {
     "name": "stderr",
     "output_type": "stream",
     "text": [
      "100%|██████████| 750/750 [00:02<00:00, 310.62it/s]\n",
      "100%|██████████| 187/187 [00:00<00:00, 1166.60it/s]\n"
     ]
    },
    {
     "name": "stdout",
     "output_type": "stream",
     "text": [
      "epoch: 160/1000\t[valid_acc: 0.9926\tvalid_loss: 0.0350\ttrain_loss: 0.0000]\n"
     ]
    },
    {
     "name": "stderr",
     "output_type": "stream",
     "text": [
      "100%|██████████| 750/750 [00:02<00:00, 295.71it/s]\n",
      "100%|██████████| 187/187 [00:00<00:00, 1201.18it/s]\n"
     ]
    },
    {
     "name": "stdout",
     "output_type": "stream",
     "text": [
      "epoch: 161/1000\t[valid_acc: 0.9926\tvalid_loss: 0.0351\ttrain_loss: 0.0000]\n"
     ]
    },
    {
     "name": "stderr",
     "output_type": "stream",
     "text": [
      "100%|██████████| 750/750 [00:02<00:00, 296.65it/s]\n",
      "100%|██████████| 187/187 [00:00<00:00, 1159.58it/s]\n"
     ]
    },
    {
     "name": "stdout",
     "output_type": "stream",
     "text": [
      "epoch: 162/1000\t[valid_acc: 0.9926\tvalid_loss: 0.0353\ttrain_loss: 0.0000]\n"
     ]
    },
    {
     "name": "stderr",
     "output_type": "stream",
     "text": [
      "100%|██████████| 750/750 [00:02<00:00, 308.60it/s]\n",
      "100%|██████████| 187/187 [00:00<00:00, 1234.24it/s]\n"
     ]
    },
    {
     "name": "stdout",
     "output_type": "stream",
     "text": [
      "epoch: 163/1000\t[valid_acc: 0.9926\tvalid_loss: 0.0355\ttrain_loss: 0.0000]\n"
     ]
    },
    {
     "name": "stderr",
     "output_type": "stream",
     "text": [
      "100%|██████████| 750/750 [00:02<00:00, 294.86it/s]\n",
      "100%|██████████| 187/187 [00:00<00:00, 1201.38it/s]\n"
     ]
    },
    {
     "name": "stdout",
     "output_type": "stream",
     "text": [
      "epoch: 164/1000\t[valid_acc: 0.9927\tvalid_loss: 0.0357\ttrain_loss: 0.0000]\n"
     ]
    },
    {
     "name": "stderr",
     "output_type": "stream",
     "text": [
      "100%|██████████| 750/750 [00:02<00:00, 308.70it/s]\n",
      "100%|██████████| 187/187 [00:00<00:00, 884.16it/s]\n"
     ]
    },
    {
     "name": "stdout",
     "output_type": "stream",
     "text": [
      "epoch: 165/1000\t[valid_acc: 0.9927\tvalid_loss: 0.0358\ttrain_loss: 0.0000]\n"
     ]
    },
    {
     "name": "stderr",
     "output_type": "stream",
     "text": [
      "100%|██████████| 750/750 [00:02<00:00, 299.91it/s]\n",
      "100%|██████████| 187/187 [00:00<00:00, 1171.34it/s]\n"
     ]
    },
    {
     "name": "stdout",
     "output_type": "stream",
     "text": [
      "epoch: 166/1000\t[valid_acc: 0.9927\tvalid_loss: 0.0360\ttrain_loss: 0.0000]\n"
     ]
    },
    {
     "name": "stderr",
     "output_type": "stream",
     "text": [
      "100%|██████████| 750/750 [00:02<00:00, 303.92it/s]\n",
      "100%|██████████| 187/187 [00:00<00:00, 1224.65it/s]\n"
     ]
    },
    {
     "name": "stdout",
     "output_type": "stream",
     "text": [
      "epoch: 167/1000\t[valid_acc: 0.9927\tvalid_loss: 0.0362\ttrain_loss: 0.0000]\n"
     ]
    },
    {
     "name": "stderr",
     "output_type": "stream",
     "text": [
      "100%|██████████| 750/750 [00:02<00:00, 308.25it/s]\n",
      "100%|██████████| 187/187 [00:00<00:00, 1220.98it/s]\n"
     ]
    },
    {
     "name": "stdout",
     "output_type": "stream",
     "text": [
      "epoch: 168/1000\t[valid_acc: 0.9927\tvalid_loss: 0.0364\ttrain_loss: 0.0000]\n"
     ]
    },
    {
     "name": "stderr",
     "output_type": "stream",
     "text": [
      "100%|██████████| 750/750 [00:02<00:00, 301.18it/s]\n",
      "100%|██████████| 187/187 [00:00<00:00, 1146.67it/s]\n"
     ]
    },
    {
     "name": "stdout",
     "output_type": "stream",
     "text": [
      "epoch: 169/1000\t[valid_acc: 0.9927\tvalid_loss: 0.0366\ttrain_loss: 0.0000]\n"
     ]
    },
    {
     "name": "stderr",
     "output_type": "stream",
     "text": [
      "100%|██████████| 750/750 [00:02<00:00, 313.55it/s]\n",
      "100%|██████████| 187/187 [00:00<00:00, 1187.10it/s]\n"
     ]
    },
    {
     "name": "stdout",
     "output_type": "stream",
     "text": [
      "epoch: 170/1000\t[valid_acc: 0.9928\tvalid_loss: 0.0368\ttrain_loss: 0.0000]\n"
     ]
    },
    {
     "name": "stderr",
     "output_type": "stream",
     "text": [
      "100%|██████████| 750/750 [00:02<00:00, 309.41it/s]\n",
      "100%|██████████| 187/187 [00:00<00:00, 962.59it/s] \n"
     ]
    },
    {
     "name": "stdout",
     "output_type": "stream",
     "text": [
      "epoch: 171/1000\t[valid_acc: 0.9927\tvalid_loss: 0.0370\ttrain_loss: 0.0000]\n"
     ]
    },
    {
     "name": "stderr",
     "output_type": "stream",
     "text": [
      "100%|██████████| 750/750 [00:02<00:00, 307.56it/s]\n",
      "100%|██████████| 187/187 [00:00<00:00, 1230.63it/s]\n"
     ]
    },
    {
     "name": "stdout",
     "output_type": "stream",
     "text": [
      "epoch: 172/1000\t[valid_acc: 0.9928\tvalid_loss: 0.0372\ttrain_loss: 0.0000]\n"
     ]
    },
    {
     "name": "stderr",
     "output_type": "stream",
     "text": [
      "100%|██████████| 750/750 [00:02<00:00, 304.88it/s]\n",
      "100%|██████████| 187/187 [00:00<00:00, 1194.29it/s]\n"
     ]
    },
    {
     "name": "stdout",
     "output_type": "stream",
     "text": [
      "epoch: 173/1000\t[valid_acc: 0.9928\tvalid_loss: 0.0374\ttrain_loss: 0.0000]\n"
     ]
    },
    {
     "name": "stderr",
     "output_type": "stream",
     "text": [
      "100%|██████████| 750/750 [00:02<00:00, 308.51it/s]\n",
      "100%|██████████| 187/187 [00:00<00:00, 1185.80it/s]\n"
     ]
    },
    {
     "name": "stdout",
     "output_type": "stream",
     "text": [
      "epoch: 174/1000\t[valid_acc: 0.9928\tvalid_loss: 0.0376\ttrain_loss: 0.0000]\n"
     ]
    },
    {
     "name": "stderr",
     "output_type": "stream",
     "text": [
      "100%|██████████| 750/750 [00:02<00:00, 300.31it/s]\n",
      "100%|██████████| 187/187 [00:00<00:00, 1218.06it/s]\n"
     ]
    },
    {
     "name": "stdout",
     "output_type": "stream",
     "text": [
      "epoch: 175/1000\t[valid_acc: 0.9928\tvalid_loss: 0.0378\ttrain_loss: 0.0000]\n"
     ]
    },
    {
     "name": "stderr",
     "output_type": "stream",
     "text": [
      "100%|██████████| 750/750 [00:02<00:00, 303.73it/s]\n",
      "100%|██████████| 187/187 [00:00<00:00, 1170.86it/s]\n"
     ]
    },
    {
     "name": "stdout",
     "output_type": "stream",
     "text": [
      "epoch: 176/1000\t[valid_acc: 0.9929\tvalid_loss: 0.0380\ttrain_loss: 0.0000]\n"
     ]
    },
    {
     "name": "stderr",
     "output_type": "stream",
     "text": [
      "100%|██████████| 750/750 [00:02<00:00, 308.46it/s]\n",
      "100%|██████████| 187/187 [00:00<00:00, 1128.61it/s]\n"
     ]
    },
    {
     "name": "stdout",
     "output_type": "stream",
     "text": [
      "epoch: 177/1000\t[valid_acc: 0.9930\tvalid_loss: 0.0382\ttrain_loss: 0.0000]\n"
     ]
    },
    {
     "name": "stderr",
     "output_type": "stream",
     "text": [
      "100%|██████████| 750/750 [00:02<00:00, 303.59it/s]\n",
      "100%|██████████| 187/187 [00:00<00:00, 1222.74it/s]\n"
     ]
    },
    {
     "name": "stdout",
     "output_type": "stream",
     "text": [
      "epoch: 178/1000\t[valid_acc: 0.9930\tvalid_loss: 0.0384\ttrain_loss: 0.0000]\n"
     ]
    },
    {
     "name": "stderr",
     "output_type": "stream",
     "text": [
      "100%|██████████| 750/750 [00:02<00:00, 308.46it/s]\n",
      "100%|██████████| 187/187 [00:00<00:00, 1200.95it/s]\n"
     ]
    },
    {
     "name": "stdout",
     "output_type": "stream",
     "text": [
      "epoch: 179/1000\t[valid_acc: 0.9931\tvalid_loss: 0.0386\ttrain_loss: 0.0000]\n"
     ]
    },
    {
     "name": "stderr",
     "output_type": "stream",
     "text": [
      "100%|██████████| 750/750 [00:02<00:00, 296.24it/s]\n",
      "100%|██████████| 187/187 [00:00<00:00, 1149.34it/s]\n"
     ]
    },
    {
     "name": "stdout",
     "output_type": "stream",
     "text": [
      "epoch: 180/1000\t[valid_acc: 0.9931\tvalid_loss: 0.0388\ttrain_loss: 0.0000]\n"
     ]
    },
    {
     "name": "stderr",
     "output_type": "stream",
     "text": [
      "100%|██████████| 750/750 [00:02<00:00, 302.88it/s]\n",
      "100%|██████████| 187/187 [00:00<00:00, 1084.76it/s]\n"
     ]
    },
    {
     "name": "stdout",
     "output_type": "stream",
     "text": [
      "epoch: 181/1000\t[valid_acc: 0.9931\tvalid_loss: 0.0390\ttrain_loss: 0.0000]\n"
     ]
    },
    {
     "name": "stderr",
     "output_type": "stream",
     "text": [
      "100%|██████████| 750/750 [00:02<00:00, 308.23it/s]\n",
      "100%|██████████| 187/187 [00:00<00:00, 1204.46it/s]\n"
     ]
    },
    {
     "name": "stdout",
     "output_type": "stream",
     "text": [
      "epoch: 182/1000\t[valid_acc: 0.9931\tvalid_loss: 0.0392\ttrain_loss: 0.0000]\n"
     ]
    },
    {
     "name": "stderr",
     "output_type": "stream",
     "text": [
      "100%|██████████| 750/750 [00:02<00:00, 301.26it/s]\n",
      "100%|██████████| 187/187 [00:00<00:00, 1166.67it/s]\n"
     ]
    },
    {
     "name": "stdout",
     "output_type": "stream",
     "text": [
      "epoch: 183/1000\t[valid_acc: 0.9930\tvalid_loss: 0.0394\ttrain_loss: 0.0000]\n"
     ]
    },
    {
     "name": "stderr",
     "output_type": "stream",
     "text": [
      "100%|██████████| 750/750 [00:02<00:00, 297.91it/s]\n",
      "100%|██████████| 187/187 [00:00<00:00, 1216.22it/s]\n"
     ]
    },
    {
     "name": "stdout",
     "output_type": "stream",
     "text": [
      "epoch: 184/1000\t[valid_acc: 0.9930\tvalid_loss: 0.0397\ttrain_loss: 0.0000]\n"
     ]
    },
    {
     "name": "stderr",
     "output_type": "stream",
     "text": [
      "100%|██████████| 750/750 [00:02<00:00, 310.51it/s]\n",
      "100%|██████████| 187/187 [00:00<00:00, 1216.02it/s]\n"
     ]
    },
    {
     "name": "stdout",
     "output_type": "stream",
     "text": [
      "epoch: 185/1000\t[valid_acc: 0.9930\tvalid_loss: 0.0399\ttrain_loss: 0.0000]\n"
     ]
    },
    {
     "name": "stderr",
     "output_type": "stream",
     "text": [
      "100%|██████████| 750/750 [00:02<00:00, 298.40it/s]\n",
      "100%|██████████| 187/187 [00:00<00:00, 1178.45it/s]\n"
     ]
    },
    {
     "name": "stdout",
     "output_type": "stream",
     "text": [
      "epoch: 186/1000\t[valid_acc: 0.9931\tvalid_loss: 0.0401\ttrain_loss: 0.0000]\n"
     ]
    },
    {
     "name": "stderr",
     "output_type": "stream",
     "text": [
      "100%|██████████| 750/750 [00:02<00:00, 296.97it/s]\n",
      "100%|██████████| 187/187 [00:00<00:00, 1192.86it/s]\n"
     ]
    },
    {
     "name": "stdout",
     "output_type": "stream",
     "text": [
      "epoch: 187/1000\t[valid_acc: 0.9930\tvalid_loss: 0.0404\ttrain_loss: 0.0000]\n"
     ]
    },
    {
     "name": "stderr",
     "output_type": "stream",
     "text": [
      "100%|██████████| 750/750 [00:02<00:00, 313.40it/s]\n",
      "100%|██████████| 187/187 [00:00<00:00, 1222.92it/s]\n"
     ]
    },
    {
     "name": "stdout",
     "output_type": "stream",
     "text": [
      "epoch: 188/1000\t[valid_acc: 0.9930\tvalid_loss: 0.0406\ttrain_loss: 0.0000]\n"
     ]
    },
    {
     "name": "stderr",
     "output_type": "stream",
     "text": [
      "100%|██████████| 750/750 [00:02<00:00, 299.06it/s]\n",
      "100%|██████████| 187/187 [00:00<00:00, 1194.11it/s]\n"
     ]
    },
    {
     "name": "stdout",
     "output_type": "stream",
     "text": [
      "epoch: 189/1000\t[valid_acc: 0.9928\tvalid_loss: 0.0408\ttrain_loss: 0.0000]\n"
     ]
    },
    {
     "name": "stderr",
     "output_type": "stream",
     "text": [
      "100%|██████████| 750/750 [00:02<00:00, 309.93it/s]\n",
      "100%|██████████| 187/187 [00:00<00:00, 792.82it/s]\n"
     ]
    },
    {
     "name": "stdout",
     "output_type": "stream",
     "text": [
      "epoch: 190/1000\t[valid_acc: 0.9928\tvalid_loss: 0.0411\ttrain_loss: 0.0000]\n"
     ]
    },
    {
     "name": "stderr",
     "output_type": "stream",
     "text": [
      "100%|██████████| 750/750 [00:02<00:00, 310.89it/s]\n",
      "100%|██████████| 187/187 [00:00<00:00, 1223.70it/s]\n"
     ]
    },
    {
     "name": "stdout",
     "output_type": "stream",
     "text": [
      "epoch: 191/1000\t[valid_acc: 0.9928\tvalid_loss: 0.0413\ttrain_loss: 0.0000]\n"
     ]
    },
    {
     "name": "stderr",
     "output_type": "stream",
     "text": [
      "100%|██████████| 750/750 [00:02<00:00, 300.89it/s]\n",
      "100%|██████████| 187/187 [00:00<00:00, 1207.00it/s]\n"
     ]
    },
    {
     "name": "stdout",
     "output_type": "stream",
     "text": [
      "epoch: 192/1000\t[valid_acc: 0.9928\tvalid_loss: 0.0416\ttrain_loss: 0.0000]\n"
     ]
    },
    {
     "name": "stderr",
     "output_type": "stream",
     "text": [
      "100%|██████████| 750/750 [00:02<00:00, 305.60it/s]\n",
      "100%|██████████| 187/187 [00:00<00:00, 1147.38it/s]\n"
     ]
    },
    {
     "name": "stdout",
     "output_type": "stream",
     "text": [
      "epoch: 193/1000\t[valid_acc: 0.9928\tvalid_loss: 0.0418\ttrain_loss: 0.0000]\n"
     ]
    },
    {
     "name": "stderr",
     "output_type": "stream",
     "text": [
      "100%|██████████| 750/750 [00:02<00:00, 301.53it/s]\n",
      "100%|██████████| 187/187 [00:00<00:00, 1128.41it/s]\n"
     ]
    },
    {
     "name": "stdout",
     "output_type": "stream",
     "text": [
      "epoch: 194/1000\t[valid_acc: 0.9928\tvalid_loss: 0.0420\ttrain_loss: 0.0000]\n"
     ]
    },
    {
     "name": "stderr",
     "output_type": "stream",
     "text": [
      "100%|██████████| 750/750 [00:02<00:00, 298.41it/s]\n",
      "100%|██████████| 187/187 [00:00<00:00, 1186.94it/s]\n"
     ]
    },
    {
     "name": "stdout",
     "output_type": "stream",
     "text": [
      "epoch: 195/1000\t[valid_acc: 0.9928\tvalid_loss: 0.0423\ttrain_loss: 0.0000]\n"
     ]
    },
    {
     "name": "stderr",
     "output_type": "stream",
     "text": [
      "100%|██████████| 750/750 [00:02<00:00, 307.06it/s]\n",
      "100%|██████████| 187/187 [00:00<00:00, 1246.16it/s]\n"
     ]
    },
    {
     "name": "stdout",
     "output_type": "stream",
     "text": [
      "epoch: 196/1000\t[valid_acc: 0.9928\tvalid_loss: 0.0425\ttrain_loss: 0.0000]\n"
     ]
    },
    {
     "name": "stderr",
     "output_type": "stream",
     "text": [
      "100%|██████████| 750/750 [00:02<00:00, 290.93it/s]\n",
      "100%|██████████| 187/187 [00:00<00:00, 1173.37it/s]\n"
     ]
    },
    {
     "name": "stdout",
     "output_type": "stream",
     "text": [
      "epoch: 197/1000\t[valid_acc: 0.9928\tvalid_loss: 0.0428\ttrain_loss: 0.0000]\n"
     ]
    },
    {
     "name": "stderr",
     "output_type": "stream",
     "text": [
      "100%|██████████| 750/750 [00:02<00:00, 306.67it/s]\n",
      "100%|██████████| 187/187 [00:00<00:00, 1173.84it/s]\n"
     ]
    },
    {
     "name": "stdout",
     "output_type": "stream",
     "text": [
      "epoch: 198/1000\t[valid_acc: 0.9928\tvalid_loss: 0.0430\ttrain_loss: 0.0000]\n"
     ]
    },
    {
     "name": "stderr",
     "output_type": "stream",
     "text": [
      "100%|██████████| 750/750 [00:02<00:00, 299.53it/s]\n",
      "100%|██████████| 187/187 [00:00<00:00, 1107.09it/s]\n"
     ]
    },
    {
     "name": "stdout",
     "output_type": "stream",
     "text": [
      "epoch: 199/1000\t[valid_acc: 0.9928\tvalid_loss: 0.0433\ttrain_loss: 0.0000]\n"
     ]
    },
    {
     "name": "stderr",
     "output_type": "stream",
     "text": [
      "100%|██████████| 750/750 [00:02<00:00, 298.54it/s]\n",
      "100%|██████████| 187/187 [00:00<00:00, 1221.70it/s]\n"
     ]
    },
    {
     "name": "stdout",
     "output_type": "stream",
     "text": [
      "epoch: 200/1000\t[valid_acc: 0.9928\tvalid_loss: 0.0435\ttrain_loss: 0.0000]\n"
     ]
    },
    {
     "name": "stderr",
     "output_type": "stream",
     "text": [
      "100%|██████████| 750/750 [00:02<00:00, 302.52it/s]\n",
      "100%|██████████| 187/187 [00:00<00:00, 1207.01it/s]\n"
     ]
    },
    {
     "name": "stdout",
     "output_type": "stream",
     "text": [
      "epoch: 201/1000\t[valid_acc: 0.9928\tvalid_loss: 0.0438\ttrain_loss: 0.0000]\n"
     ]
    },
    {
     "name": "stderr",
     "output_type": "stream",
     "text": [
      "100%|██████████| 750/750 [00:02<00:00, 310.62it/s]\n",
      "100%|██████████| 187/187 [00:00<00:00, 1226.25it/s]\n"
     ]
    },
    {
     "name": "stdout",
     "output_type": "stream",
     "text": [
      "epoch: 202/1000\t[valid_acc: 0.9928\tvalid_loss: 0.0440\ttrain_loss: 0.0000]\n"
     ]
    },
    {
     "name": "stderr",
     "output_type": "stream",
     "text": [
      "100%|██████████| 750/750 [00:02<00:00, 309.30it/s]\n",
      "100%|██████████| 187/187 [00:00<00:00, 1204.93it/s]\n"
     ]
    },
    {
     "name": "stdout",
     "output_type": "stream",
     "text": [
      "epoch: 203/1000\t[valid_acc: 0.9928\tvalid_loss: 0.0443\ttrain_loss: 0.0000]\n"
     ]
    },
    {
     "name": "stderr",
     "output_type": "stream",
     "text": [
      "100%|██████████| 750/750 [00:02<00:00, 302.28it/s]\n",
      "100%|██████████| 187/187 [00:00<00:00, 1181.28it/s]\n"
     ]
    },
    {
     "name": "stdout",
     "output_type": "stream",
     "text": [
      "epoch: 204/1000\t[valid_acc: 0.9928\tvalid_loss: 0.0445\ttrain_loss: 0.0000]\n"
     ]
    },
    {
     "name": "stderr",
     "output_type": "stream",
     "text": [
      "100%|██████████| 750/750 [00:02<00:00, 307.91it/s]\n",
      "100%|██████████| 187/187 [00:00<00:00, 1188.59it/s]\n"
     ]
    },
    {
     "name": "stdout",
     "output_type": "stream",
     "text": [
      "epoch: 205/1000\t[valid_acc: 0.9929\tvalid_loss: 0.0448\ttrain_loss: 0.0000]\n"
     ]
    },
    {
     "name": "stderr",
     "output_type": "stream",
     "text": [
      "100%|██████████| 750/750 [00:02<00:00, 303.96it/s]\n",
      "100%|██████████| 187/187 [00:00<00:00, 1177.14it/s]\n"
     ]
    },
    {
     "name": "stdout",
     "output_type": "stream",
     "text": [
      "epoch: 206/1000\t[valid_acc: 0.9929\tvalid_loss: 0.0450\ttrain_loss: 0.0000]\n"
     ]
    },
    {
     "name": "stderr",
     "output_type": "stream",
     "text": [
      "100%|██████████| 750/750 [00:02<00:00, 309.37it/s]\n",
      "100%|██████████| 187/187 [00:00<00:00, 1193.25it/s]\n"
     ]
    },
    {
     "name": "stdout",
     "output_type": "stream",
     "text": [
      "epoch: 207/1000\t[valid_acc: 0.9929\tvalid_loss: 0.0453\ttrain_loss: 0.0000]\n"
     ]
    },
    {
     "name": "stderr",
     "output_type": "stream",
     "text": [
      "100%|██████████| 750/750 [00:02<00:00, 307.43it/s]\n",
      "100%|██████████| 187/187 [00:00<00:00, 1166.07it/s]\n"
     ]
    },
    {
     "name": "stdout",
     "output_type": "stream",
     "text": [
      "epoch: 208/1000\t[valid_acc: 0.9930\tvalid_loss: 0.0455\ttrain_loss: 0.0000]\n"
     ]
    },
    {
     "name": "stderr",
     "output_type": "stream",
     "text": [
      "100%|██████████| 750/750 [00:02<00:00, 312.55it/s]\n",
      "100%|██████████| 187/187 [00:00<00:00, 1242.12it/s]\n"
     ]
    },
    {
     "name": "stdout",
     "output_type": "stream",
     "text": [
      "epoch: 209/1000\t[valid_acc: 0.9930\tvalid_loss: 0.0457\ttrain_loss: 0.0000]\n"
     ]
    },
    {
     "name": "stderr",
     "output_type": "stream",
     "text": [
      "100%|██████████| 750/750 [00:02<00:00, 298.65it/s]\n",
      "100%|██████████| 187/187 [00:00<00:00, 1098.14it/s]\n"
     ]
    },
    {
     "name": "stdout",
     "output_type": "stream",
     "text": [
      "epoch: 210/1000\t[valid_acc: 0.9931\tvalid_loss: 0.0460\ttrain_loss: 0.0000]\n"
     ]
    },
    {
     "name": "stderr",
     "output_type": "stream",
     "text": [
      "100%|██████████| 750/750 [00:02<00:00, 310.57it/s]\n",
      "100%|██████████| 187/187 [00:00<00:00, 1120.56it/s]\n"
     ]
    },
    {
     "name": "stdout",
     "output_type": "stream",
     "text": [
      "epoch: 211/1000\t[valid_acc: 0.9931\tvalid_loss: 0.0462\ttrain_loss: 0.0000]\n"
     ]
    },
    {
     "name": "stderr",
     "output_type": "stream",
     "text": [
      "100%|██████████| 750/750 [00:02<00:00, 294.41it/s]\n",
      "100%|██████████| 187/187 [00:00<00:00, 1243.82it/s]\n"
     ]
    },
    {
     "name": "stdout",
     "output_type": "stream",
     "text": [
      "epoch: 212/1000\t[valid_acc: 0.9930\tvalid_loss: 0.0464\ttrain_loss: 0.0000]\n"
     ]
    },
    {
     "name": "stderr",
     "output_type": "stream",
     "text": [
      "100%|██████████| 750/750 [00:02<00:00, 304.35it/s]\n",
      "100%|██████████| 187/187 [00:00<00:00, 1181.07it/s]\n"
     ]
    },
    {
     "name": "stdout",
     "output_type": "stream",
     "text": [
      "epoch: 213/1000\t[valid_acc: 0.9931\tvalid_loss: 0.0467\ttrain_loss: 0.0000]\n"
     ]
    },
    {
     "name": "stderr",
     "output_type": "stream",
     "text": [
      "100%|██████████| 750/750 [00:02<00:00, 307.12it/s]\n",
      "100%|██████████| 187/187 [00:00<00:00, 1165.39it/s]\n"
     ]
    },
    {
     "name": "stdout",
     "output_type": "stream",
     "text": [
      "epoch: 214/1000\t[valid_acc: 0.9931\tvalid_loss: 0.0469\ttrain_loss: 0.0000]\n"
     ]
    },
    {
     "name": "stderr",
     "output_type": "stream",
     "text": [
      "100%|██████████| 750/750 [00:02<00:00, 306.17it/s]\n",
      "100%|██████████| 187/187 [00:00<00:00, 1183.52it/s]\n"
     ]
    },
    {
     "name": "stdout",
     "output_type": "stream",
     "text": [
      "epoch: 215/1000\t[valid_acc: 0.9931\tvalid_loss: 0.0472\ttrain_loss: 0.0000]\n"
     ]
    },
    {
     "name": "stderr",
     "output_type": "stream",
     "text": [
      "100%|██████████| 750/750 [00:02<00:00, 297.60it/s]\n",
      "100%|██████████| 187/187 [00:00<00:00, 1219.12it/s]\n"
     ]
    },
    {
     "name": "stdout",
     "output_type": "stream",
     "text": [
      "epoch: 216/1000\t[valid_acc: 0.9931\tvalid_loss: 0.0474\ttrain_loss: 0.0000]\n"
     ]
    },
    {
     "name": "stderr",
     "output_type": "stream",
     "text": [
      "100%|██████████| 750/750 [00:02<00:00, 301.30it/s]\n",
      "100%|██████████| 187/187 [00:00<00:00, 1082.13it/s]\n"
     ]
    },
    {
     "name": "stdout",
     "output_type": "stream",
     "text": [
      "epoch: 217/1000\t[valid_acc: 0.9931\tvalid_loss: 0.0476\ttrain_loss: 0.0000]\n"
     ]
    },
    {
     "name": "stderr",
     "output_type": "stream",
     "text": [
      "100%|██████████| 750/750 [00:02<00:00, 297.56it/s]\n",
      "100%|██████████| 187/187 [00:00<00:00, 1144.33it/s]\n"
     ]
    },
    {
     "name": "stdout",
     "output_type": "stream",
     "text": [
      "epoch: 218/1000\t[valid_acc: 0.9931\tvalid_loss: 0.0479\ttrain_loss: 0.0000]\n"
     ]
    },
    {
     "name": "stderr",
     "output_type": "stream",
     "text": [
      "100%|██████████| 750/750 [00:02<00:00, 310.53it/s]\n",
      "100%|██████████| 187/187 [00:00<00:00, 1210.26it/s]\n"
     ]
    },
    {
     "name": "stdout",
     "output_type": "stream",
     "text": [
      "epoch: 219/1000\t[valid_acc: 0.9930\tvalid_loss: 0.0481\ttrain_loss: 0.0000]\n"
     ]
    },
    {
     "name": "stderr",
     "output_type": "stream",
     "text": [
      "100%|██████████| 750/750 [00:02<00:00, 308.39it/s]\n",
      "100%|██████████| 187/187 [00:00<00:00, 830.70it/s]\n"
     ]
    },
    {
     "name": "stdout",
     "output_type": "stream",
     "text": [
      "epoch: 220/1000\t[valid_acc: 0.9930\tvalid_loss: 0.0483\ttrain_loss: 0.0000]\n"
     ]
    },
    {
     "name": "stderr",
     "output_type": "stream",
     "text": [
      "100%|██████████| 750/750 [00:02<00:00, 305.37it/s]\n",
      "100%|██████████| 187/187 [00:00<00:00, 1176.61it/s]\n"
     ]
    },
    {
     "name": "stdout",
     "output_type": "stream",
     "text": [
      "epoch: 221/1000\t[valid_acc: 0.9931\tvalid_loss: 0.0485\ttrain_loss: 0.0000]\n"
     ]
    },
    {
     "name": "stderr",
     "output_type": "stream",
     "text": [
      "100%|██████████| 750/750 [00:02<00:00, 298.35it/s]\n",
      "100%|██████████| 187/187 [00:00<00:00, 1090.20it/s]\n"
     ]
    },
    {
     "name": "stdout",
     "output_type": "stream",
     "text": [
      "epoch: 222/1000\t[valid_acc: 0.9930\tvalid_loss: 0.0487\ttrain_loss: 0.0000]\n"
     ]
    },
    {
     "name": "stderr",
     "output_type": "stream",
     "text": [
      "100%|██████████| 750/750 [00:02<00:00, 310.86it/s]\n",
      "100%|██████████| 187/187 [00:00<00:00, 1194.42it/s]\n"
     ]
    },
    {
     "name": "stdout",
     "output_type": "stream",
     "text": [
      "epoch: 223/1000\t[valid_acc: 0.9931\tvalid_loss: 0.0490\ttrain_loss: 0.0000]\n"
     ]
    },
    {
     "name": "stderr",
     "output_type": "stream",
     "text": [
      "100%|██████████| 750/750 [00:02<00:00, 298.83it/s]\n",
      "100%|██████████| 187/187 [00:00<00:00, 1225.73it/s]\n"
     ]
    },
    {
     "name": "stdout",
     "output_type": "stream",
     "text": [
      "epoch: 224/1000\t[valid_acc: 0.9931\tvalid_loss: 0.0492\ttrain_loss: 0.0000]\n"
     ]
    },
    {
     "name": "stderr",
     "output_type": "stream",
     "text": [
      "100%|██████████| 750/750 [00:02<00:00, 297.50it/s]\n",
      "100%|██████████| 187/187 [00:00<00:00, 1186.96it/s]\n"
     ]
    },
    {
     "name": "stdout",
     "output_type": "stream",
     "text": [
      "epoch: 225/1000\t[valid_acc: 0.9931\tvalid_loss: 0.0493\ttrain_loss: 0.0000]\n"
     ]
    },
    {
     "name": "stderr",
     "output_type": "stream",
     "text": [
      "100%|██████████| 750/750 [00:02<00:00, 312.06it/s]\n",
      "100%|██████████| 187/187 [00:00<00:00, 1195.76it/s]\n"
     ]
    },
    {
     "name": "stdout",
     "output_type": "stream",
     "text": [
      "epoch: 226/1000\t[valid_acc: 0.9930\tvalid_loss: 0.0494\ttrain_loss: 0.0000]\n"
     ]
    },
    {
     "name": "stderr",
     "output_type": "stream",
     "text": [
      "100%|██████████| 750/750 [00:02<00:00, 307.89it/s]\n",
      "100%|██████████| 187/187 [00:00<00:00, 1227.77it/s]\n"
     ]
    },
    {
     "name": "stdout",
     "output_type": "stream",
     "text": [
      "epoch: 227/1000\t[valid_acc: 0.9930\tvalid_loss: 0.0497\ttrain_loss: 0.0000]\n"
     ]
    },
    {
     "name": "stderr",
     "output_type": "stream",
     "text": [
      "100%|██████████| 750/750 [00:02<00:00, 308.33it/s]\n",
      "100%|██████████| 187/187 [00:00<00:00, 1181.48it/s]\n"
     ]
    },
    {
     "name": "stdout",
     "output_type": "stream",
     "text": [
      "epoch: 228/1000\t[valid_acc: 0.9931\tvalid_loss: 0.0499\ttrain_loss: 0.0000]\n"
     ]
    },
    {
     "name": "stderr",
     "output_type": "stream",
     "text": [
      "100%|██████████| 750/750 [00:02<00:00, 310.40it/s]\n",
      "100%|██████████| 187/187 [00:00<00:00, 990.90it/s] \n"
     ]
    },
    {
     "name": "stdout",
     "output_type": "stream",
     "text": [
      "epoch: 229/1000\t[valid_acc: 0.9931\tvalid_loss: 0.0502\ttrain_loss: 0.0000]\n"
     ]
    },
    {
     "name": "stderr",
     "output_type": "stream",
     "text": [
      "100%|██████████| 750/750 [00:02<00:00, 304.91it/s]\n",
      "100%|██████████| 187/187 [00:00<00:00, 1198.02it/s]\n"
     ]
    },
    {
     "name": "stdout",
     "output_type": "stream",
     "text": [
      "epoch: 230/1000\t[valid_acc: 0.9931\tvalid_loss: 0.0503\ttrain_loss: 0.0000]\n"
     ]
    },
    {
     "name": "stderr",
     "output_type": "stream",
     "text": [
      "100%|██████████| 750/750 [00:02<00:00, 305.89it/s]\n",
      "100%|██████████| 187/187 [00:00<00:00, 1160.67it/s]\n"
     ]
    },
    {
     "name": "stdout",
     "output_type": "stream",
     "text": [
      "epoch: 231/1000\t[valid_acc: 0.9931\tvalid_loss: 0.0505\ttrain_loss: 0.0000]\n"
     ]
    },
    {
     "name": "stderr",
     "output_type": "stream",
     "text": [
      "100%|██████████| 750/750 [00:02<00:00, 309.49it/s]\n",
      "100%|██████████| 187/187 [00:00<00:00, 1156.98it/s]\n"
     ]
    },
    {
     "name": "stdout",
     "output_type": "stream",
     "text": [
      "epoch: 232/1000\t[valid_acc: 0.9929\tvalid_loss: 0.0506\ttrain_loss: 0.0000]\n"
     ]
    },
    {
     "name": "stderr",
     "output_type": "stream",
     "text": [
      "100%|██████████| 750/750 [00:02<00:00, 298.90it/s]\n",
      "100%|██████████| 187/187 [00:00<00:00, 1089.09it/s]\n"
     ]
    },
    {
     "name": "stdout",
     "output_type": "stream",
     "text": [
      "epoch: 233/1000\t[valid_acc: 0.9929\tvalid_loss: 0.0507\ttrain_loss: 0.0000]\n"
     ]
    },
    {
     "name": "stderr",
     "output_type": "stream",
     "text": [
      "100%|██████████| 750/750 [00:02<00:00, 301.55it/s]\n",
      "100%|██████████| 187/187 [00:00<00:00, 1103.33it/s]\n"
     ]
    },
    {
     "name": "stdout",
     "output_type": "stream",
     "text": [
      "epoch: 234/1000\t[valid_acc: 0.9930\tvalid_loss: 0.0509\ttrain_loss: 0.0000]\n"
     ]
    },
    {
     "name": "stderr",
     "output_type": "stream",
     "text": [
      "100%|██████████| 750/750 [00:02<00:00, 307.67it/s]\n",
      "100%|██████████| 187/187 [00:00<00:00, 1235.20it/s]\n"
     ]
    },
    {
     "name": "stdout",
     "output_type": "stream",
     "text": [
      "epoch: 235/1000\t[valid_acc: 0.9929\tvalid_loss: 0.0512\ttrain_loss: 0.0000]\n"
     ]
    },
    {
     "name": "stderr",
     "output_type": "stream",
     "text": [
      "100%|██████████| 750/750 [00:02<00:00, 304.96it/s]\n",
      "100%|██████████| 187/187 [00:00<00:00, 1227.69it/s]\n"
     ]
    },
    {
     "name": "stdout",
     "output_type": "stream",
     "text": [
      "epoch: 236/1000\t[valid_acc: 0.9929\tvalid_loss: 0.0512\ttrain_loss: 0.0000]\n"
     ]
    },
    {
     "name": "stderr",
     "output_type": "stream",
     "text": [
      "100%|██████████| 750/750 [00:02<00:00, 309.52it/s]\n",
      "100%|██████████| 187/187 [00:00<00:00, 1200.54it/s]\n"
     ]
    },
    {
     "name": "stdout",
     "output_type": "stream",
     "text": [
      "epoch: 237/1000\t[valid_acc: 0.9929\tvalid_loss: 0.0513\ttrain_loss: 0.0000]\n"
     ]
    },
    {
     "name": "stderr",
     "output_type": "stream",
     "text": [
      "100%|██████████| 750/750 [00:02<00:00, 305.79it/s]\n",
      "100%|██████████| 187/187 [00:00<00:00, 1183.44it/s]\n"
     ]
    },
    {
     "name": "stdout",
     "output_type": "stream",
     "text": [
      "epoch: 238/1000\t[valid_acc: 0.9929\tvalid_loss: 0.0515\ttrain_loss: 0.0000]\n"
     ]
    },
    {
     "name": "stderr",
     "output_type": "stream",
     "text": [
      "100%|██████████| 750/750 [00:02<00:00, 293.41it/s]\n",
      "100%|██████████| 187/187 [00:00<00:00, 1040.42it/s]\n"
     ]
    },
    {
     "name": "stdout",
     "output_type": "stream",
     "text": [
      "epoch: 239/1000\t[valid_acc: 0.9929\tvalid_loss: 0.0516\ttrain_loss: 0.0000]\n"
     ]
    },
    {
     "name": "stderr",
     "output_type": "stream",
     "text": [
      "100%|██████████| 750/750 [00:02<00:00, 305.85it/s]\n",
      "100%|██████████| 187/187 [00:00<00:00, 1135.93it/s]\n"
     ]
    },
    {
     "name": "stdout",
     "output_type": "stream",
     "text": [
      "epoch: 240/1000\t[valid_acc: 0.9929\tvalid_loss: 0.0517\ttrain_loss: 0.0000]\n"
     ]
    },
    {
     "name": "stderr",
     "output_type": "stream",
     "text": [
      "100%|██████████| 750/750 [00:02<00:00, 294.93it/s]\n",
      "100%|██████████| 187/187 [00:00<00:00, 1215.38it/s]\n"
     ]
    },
    {
     "name": "stdout",
     "output_type": "stream",
     "text": [
      "epoch: 241/1000\t[valid_acc: 0.9929\tvalid_loss: 0.0519\ttrain_loss: 0.0000]\n"
     ]
    },
    {
     "name": "stderr",
     "output_type": "stream",
     "text": [
      "100%|██████████| 750/750 [00:02<00:00, 301.38it/s]\n",
      "100%|██████████| 187/187 [00:00<00:00, 1193.78it/s]\n"
     ]
    },
    {
     "name": "stdout",
     "output_type": "stream",
     "text": [
      "epoch: 242/1000\t[valid_acc: 0.9929\tvalid_loss: 0.0517\ttrain_loss: 0.0000]\n"
     ]
    },
    {
     "name": "stderr",
     "output_type": "stream",
     "text": [
      "100%|██████████| 750/750 [00:02<00:00, 309.70it/s]\n",
      "100%|██████████| 187/187 [00:00<00:00, 1208.13it/s]\n"
     ]
    },
    {
     "name": "stdout",
     "output_type": "stream",
     "text": [
      "epoch: 243/1000\t[valid_acc: 0.9929\tvalid_loss: 0.0519\ttrain_loss: 0.0000]\n"
     ]
    },
    {
     "name": "stderr",
     "output_type": "stream",
     "text": [
      "100%|██████████| 750/750 [00:02<00:00, 298.61it/s]\n",
      "100%|██████████| 187/187 [00:00<00:00, 1217.37it/s]\n"
     ]
    },
    {
     "name": "stdout",
     "output_type": "stream",
     "text": [
      "epoch: 244/1000\t[valid_acc: 0.9929\tvalid_loss: 0.0520\ttrain_loss: 0.0000]\n"
     ]
    },
    {
     "name": "stderr",
     "output_type": "stream",
     "text": [
      "100%|██████████| 750/750 [00:02<00:00, 306.83it/s]\n",
      "100%|██████████| 187/187 [00:00<00:00, 1101.16it/s]\n"
     ]
    },
    {
     "name": "stdout",
     "output_type": "stream",
     "text": [
      "epoch: 245/1000\t[valid_acc: 0.9930\tvalid_loss: 0.0520\ttrain_loss: 0.0000]\n"
     ]
    },
    {
     "name": "stderr",
     "output_type": "stream",
     "text": [
      "100%|██████████| 750/750 [00:02<00:00, 310.11it/s]\n",
      "100%|██████████| 187/187 [00:00<00:00, 882.93it/s]\n"
     ]
    },
    {
     "name": "stdout",
     "output_type": "stream",
     "text": [
      "epoch: 246/1000\t[valid_acc: 0.9930\tvalid_loss: 0.0520\ttrain_loss: 0.0000]\n"
     ]
    },
    {
     "name": "stderr",
     "output_type": "stream",
     "text": [
      "100%|██████████| 750/750 [00:02<00:00, 306.09it/s]\n",
      "100%|██████████| 187/187 [00:00<00:00, 1114.43it/s]\n"
     ]
    },
    {
     "name": "stdout",
     "output_type": "stream",
     "text": [
      "epoch: 247/1000\t[valid_acc: 0.9930\tvalid_loss: 0.0521\ttrain_loss: 0.0000]\n"
     ]
    },
    {
     "name": "stderr",
     "output_type": "stream",
     "text": [
      "100%|██████████| 750/750 [00:02<00:00, 316.30it/s]\n",
      "100%|██████████| 187/187 [00:00<00:00, 1187.34it/s]\n"
     ]
    },
    {
     "name": "stdout",
     "output_type": "stream",
     "text": [
      "epoch: 248/1000\t[valid_acc: 0.9929\tvalid_loss: 0.0521\ttrain_loss: 0.0000]\n"
     ]
    },
    {
     "name": "stderr",
     "output_type": "stream",
     "text": [
      "100%|██████████| 750/750 [00:02<00:00, 310.99it/s]\n",
      "100%|██████████| 187/187 [00:00<00:00, 1095.60it/s]\n"
     ]
    },
    {
     "name": "stdout",
     "output_type": "stream",
     "text": [
      "epoch: 249/1000\t[valid_acc: 0.9930\tvalid_loss: 0.0521\ttrain_loss: 0.0000]\n"
     ]
    },
    {
     "name": "stderr",
     "output_type": "stream",
     "text": [
      "100%|██████████| 750/750 [00:02<00:00, 304.72it/s]\n",
      "100%|██████████| 187/187 [00:00<00:00, 1187.28it/s]\n"
     ]
    },
    {
     "name": "stdout",
     "output_type": "stream",
     "text": [
      "epoch: 250/1000\t[valid_acc: 0.9931\tvalid_loss: 0.0523\ttrain_loss: 0.0000]\n"
     ]
    },
    {
     "name": "stderr",
     "output_type": "stream",
     "text": [
      "100%|██████████| 750/750 [00:02<00:00, 298.63it/s]\n",
      "100%|██████████| 187/187 [00:00<00:00, 1208.44it/s]\n"
     ]
    },
    {
     "name": "stdout",
     "output_type": "stream",
     "text": [
      "epoch: 251/1000\t[valid_acc: 0.9930\tvalid_loss: 0.0522\ttrain_loss: 0.0000]\n"
     ]
    },
    {
     "name": "stderr",
     "output_type": "stream",
     "text": [
      "100%|██████████| 750/750 [00:02<00:00, 311.08it/s]\n",
      "100%|██████████| 187/187 [00:00<00:00, 1160.51it/s]\n"
     ]
    },
    {
     "name": "stdout",
     "output_type": "stream",
     "text": [
      "epoch: 252/1000\t[valid_acc: 0.9930\tvalid_loss: 0.0524\ttrain_loss: 0.0000]\n"
     ]
    },
    {
     "name": "stderr",
     "output_type": "stream",
     "text": [
      "100%|██████████| 750/750 [00:02<00:00, 301.15it/s]\n",
      "100%|██████████| 187/187 [00:00<00:00, 1170.83it/s]\n"
     ]
    },
    {
     "name": "stdout",
     "output_type": "stream",
     "text": [
      "epoch: 253/1000\t[valid_acc: 0.9928\tvalid_loss: 0.0523\ttrain_loss: 0.0000]\n"
     ]
    },
    {
     "name": "stderr",
     "output_type": "stream",
     "text": [
      "100%|██████████| 750/750 [00:02<00:00, 298.46it/s]\n",
      "100%|██████████| 187/187 [00:00<00:00, 1139.41it/s]\n"
     ]
    },
    {
     "name": "stdout",
     "output_type": "stream",
     "text": [
      "epoch: 254/1000\t[valid_acc: 0.9930\tvalid_loss: 0.0525\ttrain_loss: 0.0000]\n"
     ]
    },
    {
     "name": "stderr",
     "output_type": "stream",
     "text": [
      "100%|██████████| 750/750 [00:02<00:00, 309.13it/s]\n",
      "100%|██████████| 187/187 [00:00<00:00, 1191.65it/s]\n"
     ]
    },
    {
     "name": "stdout",
     "output_type": "stream",
     "text": [
      "epoch: 255/1000\t[valid_acc: 0.9931\tvalid_loss: 0.0522\ttrain_loss: 0.0000]\n"
     ]
    },
    {
     "name": "stderr",
     "output_type": "stream",
     "text": [
      "100%|██████████| 750/750 [00:02<00:00, 300.05it/s]\n",
      "100%|██████████| 187/187 [00:00<00:00, 1112.18it/s]\n"
     ]
    },
    {
     "name": "stdout",
     "output_type": "stream",
     "text": [
      "epoch: 256/1000\t[valid_acc: 0.9930\tvalid_loss: 0.0524\ttrain_loss: 0.0000]\n"
     ]
    },
    {
     "name": "stderr",
     "output_type": "stream",
     "text": [
      "100%|██████████| 750/750 [00:02<00:00, 304.83it/s]\n",
      "100%|██████████| 187/187 [00:00<00:00, 1028.08it/s]\n"
     ]
    },
    {
     "name": "stdout",
     "output_type": "stream",
     "text": [
      "epoch: 257/1000\t[valid_acc: 0.9929\tvalid_loss: 0.0525\ttrain_loss: 0.0000]\n"
     ]
    },
    {
     "name": "stderr",
     "output_type": "stream",
     "text": [
      "100%|██████████| 750/750 [00:02<00:00, 309.38it/s]\n",
      "100%|██████████| 187/187 [00:00<00:00, 1136.57it/s]\n"
     ]
    },
    {
     "name": "stdout",
     "output_type": "stream",
     "text": [
      "epoch: 258/1000\t[valid_acc: 0.9929\tvalid_loss: 0.0523\ttrain_loss: 0.0000]\n"
     ]
    },
    {
     "name": "stderr",
     "output_type": "stream",
     "text": [
      "100%|██████████| 750/750 [00:02<00:00, 297.58it/s]\n",
      "100%|██████████| 187/187 [00:00<00:00, 1223.05it/s]\n"
     ]
    },
    {
     "name": "stdout",
     "output_type": "stream",
     "text": [
      "epoch: 259/1000\t[valid_acc: 0.9929\tvalid_loss: 0.0527\ttrain_loss: 0.0000]\n"
     ]
    },
    {
     "name": "stderr",
     "output_type": "stream",
     "text": [
      "100%|██████████| 750/750 [00:02<00:00, 304.58it/s]\n",
      "100%|██████████| 187/187 [00:00<00:00, 1194.60it/s]\n"
     ]
    },
    {
     "name": "stdout",
     "output_type": "stream",
     "text": [
      "epoch: 260/1000\t[valid_acc: 0.9929\tvalid_loss: 0.0526\ttrain_loss: 0.0000]\n"
     ]
    },
    {
     "name": "stderr",
     "output_type": "stream",
     "text": [
      "100%|██████████| 750/750 [00:02<00:00, 305.06it/s]\n",
      "100%|██████████| 187/187 [00:00<00:00, 1176.62it/s]\n"
     ]
    },
    {
     "name": "stdout",
     "output_type": "stream",
     "text": [
      "epoch: 261/1000\t[valid_acc: 0.9929\tvalid_loss: 0.0526\ttrain_loss: 0.0000]\n"
     ]
    },
    {
     "name": "stderr",
     "output_type": "stream",
     "text": [
      "100%|██████████| 750/750 [00:02<00:00, 304.49it/s]\n",
      "100%|██████████| 187/187 [00:00<00:00, 892.42it/s]\n"
     ]
    },
    {
     "name": "stdout",
     "output_type": "stream",
     "text": [
      "epoch: 262/1000\t[valid_acc: 0.9929\tvalid_loss: 0.0527\ttrain_loss: 0.0000]\n"
     ]
    },
    {
     "name": "stderr",
     "output_type": "stream",
     "text": [
      "100%|██████████| 750/750 [00:02<00:00, 316.63it/s]\n",
      "100%|██████████| 187/187 [00:00<00:00, 1151.89it/s]\n"
     ]
    },
    {
     "name": "stdout",
     "output_type": "stream",
     "text": [
      "epoch: 263/1000\t[valid_acc: 0.9931\tvalid_loss: 0.0530\ttrain_loss: 0.0000]\n"
     ]
    },
    {
     "name": "stderr",
     "output_type": "stream",
     "text": [
      "100%|██████████| 750/750 [00:02<00:00, 303.23it/s]\n",
      "100%|██████████| 187/187 [00:00<00:00, 1208.87it/s]\n"
     ]
    },
    {
     "name": "stdout",
     "output_type": "stream",
     "text": [
      "epoch: 264/1000\t[valid_acc: 0.9931\tvalid_loss: 0.0528\ttrain_loss: 0.0000]\n"
     ]
    },
    {
     "name": "stderr",
     "output_type": "stream",
     "text": [
      "100%|██████████| 750/750 [00:02<00:00, 308.48it/s]\n",
      "100%|██████████| 187/187 [00:00<00:00, 1072.40it/s]\n"
     ]
    },
    {
     "name": "stdout",
     "output_type": "stream",
     "text": [
      "epoch: 265/1000\t[valid_acc: 0.9929\tvalid_loss: 0.0528\ttrain_loss: 0.0000]\n"
     ]
    },
    {
     "name": "stderr",
     "output_type": "stream",
     "text": [
      "100%|██████████| 750/750 [00:02<00:00, 313.61it/s]\n",
      "100%|██████████| 187/187 [00:00<00:00, 1214.10it/s]\n"
     ]
    },
    {
     "name": "stdout",
     "output_type": "stream",
     "text": [
      "epoch: 266/1000\t[valid_acc: 0.9928\tvalid_loss: 0.0530\ttrain_loss: 0.0000]\n"
     ]
    },
    {
     "name": "stderr",
     "output_type": "stream",
     "text": [
      "100%|██████████| 750/750 [00:02<00:00, 302.15it/s]\n",
      "100%|██████████| 187/187 [00:00<00:00, 1167.98it/s]\n"
     ]
    },
    {
     "name": "stdout",
     "output_type": "stream",
     "text": [
      "epoch: 267/1000\t[valid_acc: 0.9930\tvalid_loss: 0.0529\ttrain_loss: 0.0000]\n"
     ]
    },
    {
     "name": "stderr",
     "output_type": "stream",
     "text": [
      "100%|██████████| 750/750 [00:02<00:00, 303.88it/s]\n",
      "100%|██████████| 187/187 [00:00<00:00, 1207.00it/s]\n"
     ]
    },
    {
     "name": "stdout",
     "output_type": "stream",
     "text": [
      "epoch: 268/1000\t[valid_acc: 0.9929\tvalid_loss: 0.0529\ttrain_loss: 0.0000]\n"
     ]
    },
    {
     "name": "stderr",
     "output_type": "stream",
     "text": [
      "100%|██████████| 750/750 [00:02<00:00, 308.35it/s]\n",
      "100%|██████████| 187/187 [00:00<00:00, 1219.90it/s]\n"
     ]
    },
    {
     "name": "stdout",
     "output_type": "stream",
     "text": [
      "epoch: 269/1000\t[valid_acc: 0.9928\tvalid_loss: 0.0527\ttrain_loss: 0.0000]\n"
     ]
    },
    {
     "name": "stderr",
     "output_type": "stream",
     "text": [
      "100%|██████████| 750/750 [00:02<00:00, 296.57it/s]\n",
      "100%|██████████| 187/187 [00:00<00:00, 1159.84it/s]\n"
     ]
    },
    {
     "name": "stdout",
     "output_type": "stream",
     "text": [
      "epoch: 270/1000\t[valid_acc: 0.9928\tvalid_loss: 0.0529\ttrain_loss: 0.0000]\n"
     ]
    },
    {
     "name": "stderr",
     "output_type": "stream",
     "text": [
      "100%|██████████| 750/750 [00:02<00:00, 302.26it/s]\n",
      "100%|██████████| 187/187 [00:00<00:00, 1204.53it/s]\n"
     ]
    },
    {
     "name": "stdout",
     "output_type": "stream",
     "text": [
      "epoch: 271/1000\t[valid_acc: 0.9927\tvalid_loss: 0.0531\ttrain_loss: 0.0000]\n"
     ]
    },
    {
     "name": "stderr",
     "output_type": "stream",
     "text": [
      "100%|██████████| 750/750 [00:02<00:00, 310.30it/s]\n",
      "100%|██████████| 187/187 [00:00<00:00, 1136.60it/s]\n"
     ]
    },
    {
     "name": "stdout",
     "output_type": "stream",
     "text": [
      "epoch: 272/1000\t[valid_acc: 0.9926\tvalid_loss: 0.0530\ttrain_loss: 0.0000]\n"
     ]
    },
    {
     "name": "stderr",
     "output_type": "stream",
     "text": [
      "100%|██████████| 750/750 [00:02<00:00, 314.76it/s]\n",
      "100%|██████████| 187/187 [00:00<00:00, 1198.48it/s]\n"
     ]
    },
    {
     "name": "stdout",
     "output_type": "stream",
     "text": [
      "epoch: 273/1000\t[valid_acc: 0.9929\tvalid_loss: 0.0530\ttrain_loss: 0.0000]\n"
     ]
    },
    {
     "name": "stderr",
     "output_type": "stream",
     "text": [
      "100%|██████████| 750/750 [00:02<00:00, 299.50it/s]\n",
      "100%|██████████| 187/187 [00:00<00:00, 1142.45it/s]\n"
     ]
    },
    {
     "name": "stdout",
     "output_type": "stream",
     "text": [
      "epoch: 274/1000\t[valid_acc: 0.9927\tvalid_loss: 0.0530\ttrain_loss: 0.0000]\n"
     ]
    },
    {
     "name": "stderr",
     "output_type": "stream",
     "text": [
      "100%|██████████| 750/750 [00:02<00:00, 305.61it/s]\n",
      "100%|██████████| 187/187 [00:00<00:00, 1185.65it/s]\n"
     ]
    },
    {
     "name": "stdout",
     "output_type": "stream",
     "text": [
      "epoch: 275/1000\t[valid_acc: 0.9928\tvalid_loss: 0.0530\ttrain_loss: 0.0000]\n"
     ]
    },
    {
     "name": "stderr",
     "output_type": "stream",
     "text": [
      "100%|██████████| 750/750 [00:02<00:00, 308.65it/s]\n",
      "100%|██████████| 187/187 [00:00<00:00, 1019.05it/s]\n"
     ]
    },
    {
     "name": "stdout",
     "output_type": "stream",
     "text": [
      "epoch: 276/1000\t[valid_acc: 0.9929\tvalid_loss: 0.0530\ttrain_loss: 0.0000]\n"
     ]
    },
    {
     "name": "stderr",
     "output_type": "stream",
     "text": [
      "100%|██████████| 750/750 [00:02<00:00, 311.57it/s]\n",
      "100%|██████████| 187/187 [00:00<00:00, 1213.73it/s]\n"
     ]
    },
    {
     "name": "stdout",
     "output_type": "stream",
     "text": [
      "epoch: 277/1000\t[valid_acc: 0.9926\tvalid_loss: 0.0531\ttrain_loss: 0.0000]\n"
     ]
    },
    {
     "name": "stderr",
     "output_type": "stream",
     "text": [
      "100%|██████████| 750/750 [00:02<00:00, 294.80it/s]\n",
      "100%|██████████| 187/187 [00:00<00:00, 1129.48it/s]\n"
     ]
    },
    {
     "name": "stdout",
     "output_type": "stream",
     "text": [
      "epoch: 278/1000\t[valid_acc: 0.9928\tvalid_loss: 0.0530\ttrain_loss: 0.0000]\n"
     ]
    },
    {
     "name": "stderr",
     "output_type": "stream",
     "text": [
      "100%|██████████| 750/750 [00:02<00:00, 312.32it/s]\n",
      "100%|██████████| 187/187 [00:00<00:00, 1211.84it/s]\n"
     ]
    },
    {
     "name": "stdout",
     "output_type": "stream",
     "text": [
      "epoch: 279/1000\t[valid_acc: 0.9927\tvalid_loss: 0.0530\ttrain_loss: 0.0000]\n"
     ]
    },
    {
     "name": "stderr",
     "output_type": "stream",
     "text": [
      "100%|██████████| 750/750 [00:02<00:00, 302.53it/s]\n",
      "100%|██████████| 187/187 [00:00<00:00, 1240.22it/s]\n"
     ]
    },
    {
     "name": "stdout",
     "output_type": "stream",
     "text": [
      "epoch: 280/1000\t[valid_acc: 0.9928\tvalid_loss: 0.0529\ttrain_loss: 0.0000]\n"
     ]
    },
    {
     "name": "stderr",
     "output_type": "stream",
     "text": [
      "100%|██████████| 750/750 [00:02<00:00, 295.91it/s]\n",
      "100%|██████████| 187/187 [00:00<00:00, 1159.41it/s]\n"
     ]
    },
    {
     "name": "stdout",
     "output_type": "stream",
     "text": [
      "epoch: 281/1000\t[valid_acc: 0.9928\tvalid_loss: 0.0529\ttrain_loss: 0.0000]\n"
     ]
    },
    {
     "name": "stderr",
     "output_type": "stream",
     "text": [
      "100%|██████████| 750/750 [00:02<00:00, 314.18it/s]\n",
      "100%|██████████| 187/187 [00:00<00:00, 1238.56it/s]\n"
     ]
    },
    {
     "name": "stdout",
     "output_type": "stream",
     "text": [
      "epoch: 282/1000\t[valid_acc: 0.9927\tvalid_loss: 0.0526\ttrain_loss: 0.0000]\n"
     ]
    },
    {
     "name": "stderr",
     "output_type": "stream",
     "text": [
      "100%|██████████| 750/750 [00:02<00:00, 304.52it/s]\n",
      "100%|██████████| 187/187 [00:00<00:00, 1146.14it/s]\n"
     ]
    },
    {
     "name": "stdout",
     "output_type": "stream",
     "text": [
      "epoch: 283/1000\t[valid_acc: 0.9927\tvalid_loss: 0.0528\ttrain_loss: 0.0000]\n"
     ]
    },
    {
     "name": "stderr",
     "output_type": "stream",
     "text": [
      "100%|██████████| 750/750 [00:02<00:00, 307.58it/s]\n",
      "100%|██████████| 187/187 [00:00<00:00, 1227.73it/s]\n"
     ]
    },
    {
     "name": "stdout",
     "output_type": "stream",
     "text": [
      "epoch: 284/1000\t[valid_acc: 0.9927\tvalid_loss: 0.0526\ttrain_loss: 0.0000]\n"
     ]
    },
    {
     "name": "stderr",
     "output_type": "stream",
     "text": [
      "100%|██████████| 750/750 [00:02<00:00, 315.25it/s]\n",
      "100%|██████████| 187/187 [00:00<00:00, 1054.54it/s]\n"
     ]
    },
    {
     "name": "stdout",
     "output_type": "stream",
     "text": [
      "epoch: 285/1000\t[valid_acc: 0.9928\tvalid_loss: 0.0528\ttrain_loss: 0.0000]\n"
     ]
    },
    {
     "name": "stderr",
     "output_type": "stream",
     "text": [
      "100%|██████████| 750/750 [00:02<00:00, 302.80it/s]\n",
      "100%|██████████| 187/187 [00:00<00:00, 1122.55it/s]\n"
     ]
    },
    {
     "name": "stdout",
     "output_type": "stream",
     "text": [
      "epoch: 286/1000\t[valid_acc: 0.9926\tvalid_loss: 0.0528\ttrain_loss: 0.0000]\n"
     ]
    },
    {
     "name": "stderr",
     "output_type": "stream",
     "text": [
      "100%|██████████| 750/750 [00:02<00:00, 296.98it/s]\n",
      "100%|██████████| 187/187 [00:00<00:00, 1205.56it/s]\n"
     ]
    },
    {
     "name": "stdout",
     "output_type": "stream",
     "text": [
      "epoch: 287/1000\t[valid_acc: 0.9926\tvalid_loss: 0.0528\ttrain_loss: 0.0000]\n"
     ]
    },
    {
     "name": "stderr",
     "output_type": "stream",
     "text": [
      "100%|██████████| 750/750 [00:02<00:00, 306.73it/s]\n",
      "100%|██████████| 187/187 [00:00<00:00, 1166.29it/s]\n"
     ]
    },
    {
     "name": "stdout",
     "output_type": "stream",
     "text": [
      "epoch: 288/1000\t[valid_acc: 0.9927\tvalid_loss: 0.0527\ttrain_loss: 0.0000]\n"
     ]
    },
    {
     "name": "stderr",
     "output_type": "stream",
     "text": [
      "100%|██████████| 750/750 [00:02<00:00, 294.58it/s]\n",
      "100%|██████████| 187/187 [00:00<00:00, 1224.00it/s]\n"
     ]
    },
    {
     "name": "stdout",
     "output_type": "stream",
     "text": [
      "epoch: 289/1000\t[valid_acc: 0.9926\tvalid_loss: 0.0526\ttrain_loss: 0.0000]\n"
     ]
    },
    {
     "name": "stderr",
     "output_type": "stream",
     "text": [
      "100%|██████████| 750/750 [00:02<00:00, 304.60it/s]\n",
      "100%|██████████| 187/187 [00:00<00:00, 1068.27it/s]\n"
     ]
    },
    {
     "name": "stdout",
     "output_type": "stream",
     "text": [
      "epoch: 290/1000\t[valid_acc: 0.9926\tvalid_loss: 0.0527\ttrain_loss: 0.0000]\n"
     ]
    },
    {
     "name": "stderr",
     "output_type": "stream",
     "text": [
      "100%|██████████| 750/750 [00:02<00:00, 303.30it/s]\n",
      "100%|██████████| 187/187 [00:00<00:00, 1162.29it/s]\n"
     ]
    },
    {
     "name": "stdout",
     "output_type": "stream",
     "text": [
      "epoch: 291/1000\t[valid_acc: 0.9925\tvalid_loss: 0.0525\ttrain_loss: 0.0000]\n"
     ]
    },
    {
     "name": "stderr",
     "output_type": "stream",
     "text": [
      "100%|██████████| 750/750 [00:02<00:00, 305.29it/s]\n",
      "100%|██████████| 187/187 [00:00<00:00, 1124.35it/s]\n"
     ]
    },
    {
     "name": "stdout",
     "output_type": "stream",
     "text": [
      "epoch: 292/1000\t[valid_acc: 0.9926\tvalid_loss: 0.0527\ttrain_loss: 0.0000]\n"
     ]
    },
    {
     "name": "stderr",
     "output_type": "stream",
     "text": [
      "100%|██████████| 750/750 [00:02<00:00, 300.28it/s]\n",
      "100%|██████████| 187/187 [00:00<00:00, 1121.33it/s]\n"
     ]
    },
    {
     "name": "stdout",
     "output_type": "stream",
     "text": [
      "epoch: 293/1000\t[valid_acc: 0.9924\tvalid_loss: 0.0528\ttrain_loss: 0.0000]\n"
     ]
    },
    {
     "name": "stderr",
     "output_type": "stream",
     "text": [
      "100%|██████████| 750/750 [00:02<00:00, 299.05it/s]\n",
      "100%|██████████| 187/187 [00:00<00:00, 1017.18it/s]\n"
     ]
    },
    {
     "name": "stdout",
     "output_type": "stream",
     "text": [
      "epoch: 294/1000\t[valid_acc: 0.9926\tvalid_loss: 0.0527\ttrain_loss: 0.0000]\n"
     ]
    },
    {
     "name": "stderr",
     "output_type": "stream",
     "text": [
      "100%|██████████| 750/750 [00:02<00:00, 308.94it/s]\n",
      "100%|██████████| 187/187 [00:00<00:00, 1213.26it/s]\n"
     ]
    },
    {
     "name": "stdout",
     "output_type": "stream",
     "text": [
      "epoch: 295/1000\t[valid_acc: 0.9925\tvalid_loss: 0.0528\ttrain_loss: 0.0000]\n"
     ]
    },
    {
     "name": "stderr",
     "output_type": "stream",
     "text": [
      "100%|██████████| 750/750 [00:02<00:00, 304.21it/s]\n",
      "100%|██████████| 187/187 [00:00<00:00, 1199.99it/s]\n"
     ]
    },
    {
     "name": "stdout",
     "output_type": "stream",
     "text": [
      "epoch: 296/1000\t[valid_acc: 0.9925\tvalid_loss: 0.0527\ttrain_loss: 0.0000]\n"
     ]
    },
    {
     "name": "stderr",
     "output_type": "stream",
     "text": [
      "100%|██████████| 750/750 [00:02<00:00, 310.16it/s]\n",
      "100%|██████████| 187/187 [00:00<00:00, 1140.20it/s]\n"
     ]
    },
    {
     "name": "stdout",
     "output_type": "stream",
     "text": [
      "epoch: 297/1000\t[valid_acc: 0.9925\tvalid_loss: 0.0524\ttrain_loss: 0.0000]\n"
     ]
    },
    {
     "name": "stderr",
     "output_type": "stream",
     "text": [
      "100%|██████████| 750/750 [00:02<00:00, 305.82it/s]\n",
      "100%|██████████| 187/187 [00:00<00:00, 1163.89it/s]\n"
     ]
    },
    {
     "name": "stdout",
     "output_type": "stream",
     "text": [
      "epoch: 298/1000\t[valid_acc: 0.9926\tvalid_loss: 0.0526\ttrain_loss: 0.0000]\n"
     ]
    },
    {
     "name": "stderr",
     "output_type": "stream",
     "text": [
      "100%|██████████| 750/750 [00:02<00:00, 301.07it/s]\n",
      "100%|██████████| 187/187 [00:00<00:00, 1160.95it/s]\n"
     ]
    },
    {
     "name": "stdout",
     "output_type": "stream",
     "text": [
      "epoch: 299/1000\t[valid_acc: 0.9924\tvalid_loss: 0.0526\ttrain_loss: 0.0000]\n"
     ]
    },
    {
     "name": "stderr",
     "output_type": "stream",
     "text": [
      "100%|██████████| 750/750 [00:02<00:00, 312.52it/s]\n",
      "100%|██████████| 187/187 [00:00<00:00, 1201.79it/s]\n"
     ]
    },
    {
     "name": "stdout",
     "output_type": "stream",
     "text": [
      "epoch: 300/1000\t[valid_acc: 0.9925\tvalid_loss: 0.0526\ttrain_loss: 0.0000]\n"
     ]
    },
    {
     "name": "stderr",
     "output_type": "stream",
     "text": [
      "100%|██████████| 750/750 [00:02<00:00, 302.25it/s]\n",
      "100%|██████████| 187/187 [00:00<00:00, 1234.00it/s]\n"
     ]
    },
    {
     "name": "stdout",
     "output_type": "stream",
     "text": [
      "epoch: 301/1000\t[valid_acc: 0.9923\tvalid_loss: 0.0527\ttrain_loss: 0.0000]\n"
     ]
    },
    {
     "name": "stderr",
     "output_type": "stream",
     "text": [
      "100%|██████████| 750/750 [00:02<00:00, 305.34it/s]\n",
      "100%|██████████| 187/187 [00:00<00:00, 1223.33it/s]\n"
     ]
    },
    {
     "name": "stdout",
     "output_type": "stream",
     "text": [
      "epoch: 302/1000\t[valid_acc: 0.9924\tvalid_loss: 0.0527\ttrain_loss: 0.0000]\n"
     ]
    },
    {
     "name": "stderr",
     "output_type": "stream",
     "text": [
      "100%|██████████| 750/750 [00:02<00:00, 308.30it/s]\n",
      "100%|██████████| 187/187 [00:00<00:00, 1194.98it/s]\n"
     ]
    },
    {
     "name": "stdout",
     "output_type": "stream",
     "text": [
      "epoch: 303/1000\t[valid_acc: 0.9923\tvalid_loss: 0.0526\ttrain_loss: 0.0000]\n"
     ]
    },
    {
     "name": "stderr",
     "output_type": "stream",
     "text": [
      "100%|██████████| 750/750 [00:02<00:00, 300.48it/s]\n",
      "100%|██████████| 187/187 [00:00<00:00, 1111.43it/s]\n"
     ]
    },
    {
     "name": "stdout",
     "output_type": "stream",
     "text": [
      "epoch: 304/1000\t[valid_acc: 0.9924\tvalid_loss: 0.0528\ttrain_loss: 0.0000]\n"
     ]
    },
    {
     "name": "stderr",
     "output_type": "stream",
     "text": [
      "100%|██████████| 750/750 [00:02<00:00, 312.07it/s]\n",
      "100%|██████████| 187/187 [00:00<00:00, 1201.58it/s]\n"
     ]
    },
    {
     "name": "stdout",
     "output_type": "stream",
     "text": [
      "epoch: 305/1000\t[valid_acc: 0.9924\tvalid_loss: 0.0528\ttrain_loss: 0.0000]\n"
     ]
    },
    {
     "name": "stderr",
     "output_type": "stream",
     "text": [
      "100%|██████████| 750/750 [00:02<00:00, 298.68it/s]\n",
      "100%|██████████| 187/187 [00:00<00:00, 1094.37it/s]\n"
     ]
    },
    {
     "name": "stdout",
     "output_type": "stream",
     "text": [
      "epoch: 306/1000\t[valid_acc: 0.9922\tvalid_loss: 0.0529\ttrain_loss: 0.0000]\n"
     ]
    },
    {
     "name": "stderr",
     "output_type": "stream",
     "text": [
      "100%|██████████| 750/750 [00:02<00:00, 316.24it/s]\n",
      "100%|██████████| 187/187 [00:00<00:00, 1145.63it/s]\n"
     ]
    },
    {
     "name": "stdout",
     "output_type": "stream",
     "text": [
      "epoch: 307/1000\t[valid_acc: 0.9922\tvalid_loss: 0.0526\ttrain_loss: 0.0000]\n"
     ]
    },
    {
     "name": "stderr",
     "output_type": "stream",
     "text": [
      "100%|██████████| 750/750 [00:02<00:00, 297.77it/s]\n",
      "100%|██████████| 187/187 [00:00<00:00, 1151.23it/s]\n"
     ]
    },
    {
     "name": "stdout",
     "output_type": "stream",
     "text": [
      "epoch: 308/1000\t[valid_acc: 0.9923\tvalid_loss: 0.0525\ttrain_loss: 0.0000]\n"
     ]
    },
    {
     "name": "stderr",
     "output_type": "stream",
     "text": [
      "100%|██████████| 750/750 [00:02<00:00, 300.89it/s]\n",
      "100%|██████████| 187/187 [00:00<00:00, 1217.11it/s]\n"
     ]
    },
    {
     "name": "stdout",
     "output_type": "stream",
     "text": [
      "epoch: 309/1000\t[valid_acc: 0.9924\tvalid_loss: 0.0523\ttrain_loss: 0.0000]\n"
     ]
    },
    {
     "name": "stderr",
     "output_type": "stream",
     "text": [
      "100%|██████████| 750/750 [00:02<00:00, 307.86it/s]\n",
      "100%|██████████| 187/187 [00:00<00:00, 1226.15it/s]\n"
     ]
    },
    {
     "name": "stdout",
     "output_type": "stream",
     "text": [
      "epoch: 310/1000\t[valid_acc: 0.9924\tvalid_loss: 0.0526\ttrain_loss: 0.0000]\n"
     ]
    },
    {
     "name": "stderr",
     "output_type": "stream",
     "text": [
      "100%|██████████| 750/750 [00:02<00:00, 311.22it/s]\n",
      "100%|██████████| 187/187 [00:00<00:00, 1219.61it/s]\n"
     ]
    },
    {
     "name": "stdout",
     "output_type": "stream",
     "text": [
      "epoch: 311/1000\t[valid_acc: 0.9923\tvalid_loss: 0.0526\ttrain_loss: 0.0000]\n"
     ]
    },
    {
     "name": "stderr",
     "output_type": "stream",
     "text": [
      "100%|██████████| 750/750 [00:02<00:00, 301.82it/s]\n",
      "100%|██████████| 187/187 [00:00<00:00, 1152.07it/s]\n"
     ]
    },
    {
     "name": "stdout",
     "output_type": "stream",
     "text": [
      "epoch: 312/1000\t[valid_acc: 0.9921\tvalid_loss: 0.0527\ttrain_loss: 0.0000]\n"
     ]
    },
    {
     "name": "stderr",
     "output_type": "stream",
     "text": [
      "100%|██████████| 750/750 [00:02<00:00, 290.01it/s]\n",
      "100%|██████████| 187/187 [00:00<00:00, 1134.20it/s]\n"
     ]
    },
    {
     "name": "stdout",
     "output_type": "stream",
     "text": [
      "epoch: 313/1000\t[valid_acc: 0.9921\tvalid_loss: 0.0529\ttrain_loss: 0.0000]\n"
     ]
    },
    {
     "name": "stderr",
     "output_type": "stream",
     "text": [
      "100%|██████████| 750/750 [00:02<00:00, 305.71it/s]\n",
      "100%|██████████| 187/187 [00:00<00:00, 1169.02it/s]\n"
     ]
    },
    {
     "name": "stdout",
     "output_type": "stream",
     "text": [
      "epoch: 314/1000\t[valid_acc: 0.9922\tvalid_loss: 0.0525\ttrain_loss: 0.0000]\n"
     ]
    },
    {
     "name": "stderr",
     "output_type": "stream",
     "text": [
      "100%|██████████| 750/750 [00:02<00:00, 297.00it/s]\n",
      "100%|██████████| 187/187 [00:00<00:00, 1201.03it/s]\n"
     ]
    },
    {
     "name": "stdout",
     "output_type": "stream",
     "text": [
      "epoch: 315/1000\t[valid_acc: 0.9922\tvalid_loss: 0.0524\ttrain_loss: 0.0000]\n"
     ]
    },
    {
     "name": "stderr",
     "output_type": "stream",
     "text": [
      "100%|██████████| 750/750 [00:02<00:00, 312.73it/s]\n",
      "100%|██████████| 187/187 [00:00<00:00, 1269.46it/s]\n"
     ]
    },
    {
     "name": "stdout",
     "output_type": "stream",
     "text": [
      "epoch: 316/1000\t[valid_acc: 0.9922\tvalid_loss: 0.0526\ttrain_loss: 0.0000]\n"
     ]
    },
    {
     "name": "stderr",
     "output_type": "stream",
     "text": [
      "100%|██████████| 750/750 [00:02<00:00, 290.61it/s]\n",
      "100%|██████████| 187/187 [00:00<00:00, 1160.12it/s]\n"
     ]
    },
    {
     "name": "stdout",
     "output_type": "stream",
     "text": [
      "epoch: 317/1000\t[valid_acc: 0.9923\tvalid_loss: 0.0526\ttrain_loss: 0.0000]\n"
     ]
    },
    {
     "name": "stderr",
     "output_type": "stream",
     "text": [
      "100%|██████████| 750/750 [00:02<00:00, 298.08it/s]\n",
      "100%|██████████| 187/187 [00:00<00:00, 1159.83it/s]\n"
     ]
    },
    {
     "name": "stdout",
     "output_type": "stream",
     "text": [
      "epoch: 318/1000\t[valid_acc: 0.9923\tvalid_loss: 0.0523\ttrain_loss: 0.0000]\n"
     ]
    },
    {
     "name": "stderr",
     "output_type": "stream",
     "text": [
      "100%|██████████| 750/750 [00:02<00:00, 288.78it/s]\n",
      "100%|██████████| 187/187 [00:00<00:00, 1011.02it/s]\n"
     ]
    },
    {
     "name": "stdout",
     "output_type": "stream",
     "text": [
      "epoch: 319/1000\t[valid_acc: 0.9922\tvalid_loss: 0.0524\ttrain_loss: 0.0000]\n"
     ]
    },
    {
     "name": "stderr",
     "output_type": "stream",
     "text": [
      "100%|██████████| 750/750 [00:02<00:00, 303.86it/s]\n",
      "100%|██████████| 187/187 [00:00<00:00, 1162.11it/s]\n"
     ]
    },
    {
     "name": "stdout",
     "output_type": "stream",
     "text": [
      "epoch: 320/1000\t[valid_acc: 0.9921\tvalid_loss: 0.0522\ttrain_loss: 0.0000]\n"
     ]
    },
    {
     "name": "stderr",
     "output_type": "stream",
     "text": [
      "100%|██████████| 750/750 [00:02<00:00, 299.62it/s]\n",
      "100%|██████████| 187/187 [00:00<00:00, 1204.74it/s]\n"
     ]
    },
    {
     "name": "stdout",
     "output_type": "stream",
     "text": [
      "epoch: 321/1000\t[valid_acc: 0.9921\tvalid_loss: 0.0525\ttrain_loss: 0.0000]\n"
     ]
    },
    {
     "name": "stderr",
     "output_type": "stream",
     "text": [
      "100%|██████████| 750/750 [00:02<00:00, 302.26it/s]\n",
      "100%|██████████| 187/187 [00:00<00:00, 1221.01it/s]\n"
     ]
    },
    {
     "name": "stdout",
     "output_type": "stream",
     "text": [
      "epoch: 322/1000\t[valid_acc: 0.9922\tvalid_loss: 0.0524\ttrain_loss: 0.0000]\n"
     ]
    },
    {
     "name": "stderr",
     "output_type": "stream",
     "text": [
      "100%|██████████| 750/750 [00:02<00:00, 302.03it/s]\n",
      "100%|██████████| 187/187 [00:00<00:00, 1080.93it/s]\n"
     ]
    },
    {
     "name": "stdout",
     "output_type": "stream",
     "text": [
      "epoch: 323/1000\t[valid_acc: 0.9921\tvalid_loss: 0.0526\ttrain_loss: 0.0000]\n"
     ]
    },
    {
     "name": "stderr",
     "output_type": "stream",
     "text": [
      "100%|██████████| 750/750 [00:02<00:00, 312.02it/s]\n",
      "100%|██████████| 187/187 [00:00<00:00, 1137.36it/s]\n"
     ]
    },
    {
     "name": "stdout",
     "output_type": "stream",
     "text": [
      "epoch: 324/1000\t[valid_acc: 0.9921\tvalid_loss: 0.0526\ttrain_loss: 0.0000]\n"
     ]
    },
    {
     "name": "stderr",
     "output_type": "stream",
     "text": [
      "100%|██████████| 750/750 [00:02<00:00, 295.54it/s]\n",
      "100%|██████████| 187/187 [00:00<00:00, 1202.64it/s]\n"
     ]
    },
    {
     "name": "stdout",
     "output_type": "stream",
     "text": [
      "epoch: 325/1000\t[valid_acc: 0.9922\tvalid_loss: 0.0526\ttrain_loss: 0.0000]\n"
     ]
    },
    {
     "name": "stderr",
     "output_type": "stream",
     "text": [
      "100%|██████████| 750/750 [00:02<00:00, 311.68it/s]\n",
      "100%|██████████| 187/187 [00:00<00:00, 1236.12it/s]\n"
     ]
    },
    {
     "name": "stdout",
     "output_type": "stream",
     "text": [
      "epoch: 326/1000\t[valid_acc: 0.9922\tvalid_loss: 0.0524\ttrain_loss: 0.0000]\n"
     ]
    },
    {
     "name": "stderr",
     "output_type": "stream",
     "text": [
      "100%|██████████| 750/750 [00:02<00:00, 300.90it/s]\n",
      "100%|██████████| 187/187 [00:00<00:00, 1146.60it/s]\n"
     ]
    },
    {
     "name": "stdout",
     "output_type": "stream",
     "text": [
      "epoch: 327/1000\t[valid_acc: 0.9923\tvalid_loss: 0.0523\ttrain_loss: 0.0000]\n"
     ]
    },
    {
     "name": "stderr",
     "output_type": "stream",
     "text": [
      "100%|██████████| 750/750 [00:02<00:00, 307.37it/s]\n",
      "100%|██████████| 187/187 [00:00<00:00, 1228.97it/s]\n"
     ]
    },
    {
     "name": "stdout",
     "output_type": "stream",
     "text": [
      "epoch: 328/1000\t[valid_acc: 0.9921\tvalid_loss: 0.0525\ttrain_loss: 0.0000]\n"
     ]
    },
    {
     "name": "stderr",
     "output_type": "stream",
     "text": [
      "100%|██████████| 750/750 [00:02<00:00, 299.13it/s]\n",
      "100%|██████████| 187/187 [00:00<00:00, 1184.78it/s]\n"
     ]
    },
    {
     "name": "stdout",
     "output_type": "stream",
     "text": [
      "epoch: 329/1000\t[valid_acc: 0.9921\tvalid_loss: 0.0525\ttrain_loss: 0.0000]\n"
     ]
    },
    {
     "name": "stderr",
     "output_type": "stream",
     "text": [
      "100%|██████████| 750/750 [00:02<00:00, 301.44it/s]\n",
      "100%|██████████| 187/187 [00:00<00:00, 1183.74it/s]\n"
     ]
    },
    {
     "name": "stdout",
     "output_type": "stream",
     "text": [
      "epoch: 330/1000\t[valid_acc: 0.9921\tvalid_loss: 0.0523\ttrain_loss: 0.0000]\n"
     ]
    },
    {
     "name": "stderr",
     "output_type": "stream",
     "text": [
      "100%|██████████| 750/750 [00:02<00:00, 307.96it/s]\n",
      "100%|██████████| 187/187 [00:00<00:00, 1237.54it/s]\n"
     ]
    },
    {
     "name": "stdout",
     "output_type": "stream",
     "text": [
      "epoch: 331/1000\t[valid_acc: 0.9921\tvalid_loss: 0.0522\ttrain_loss: 0.0000]\n"
     ]
    },
    {
     "name": "stderr",
     "output_type": "stream",
     "text": [
      "100%|██████████| 750/750 [00:02<00:00, 313.08it/s]\n",
      "100%|██████████| 187/187 [00:00<00:00, 1157.03it/s]\n"
     ]
    },
    {
     "name": "stdout",
     "output_type": "stream",
     "text": [
      "epoch: 332/1000\t[valid_acc: 0.9921\tvalid_loss: 0.0524\ttrain_loss: 0.0000]\n"
     ]
    },
    {
     "name": "stderr",
     "output_type": "stream",
     "text": [
      "100%|██████████| 750/750 [00:02<00:00, 304.53it/s]\n",
      "100%|██████████| 187/187 [00:00<00:00, 1179.43it/s]\n"
     ]
    },
    {
     "name": "stdout",
     "output_type": "stream",
     "text": [
      "epoch: 333/1000\t[valid_acc: 0.9922\tvalid_loss: 0.0527\ttrain_loss: 0.0000]\n"
     ]
    },
    {
     "name": "stderr",
     "output_type": "stream",
     "text": [
      "100%|██████████| 750/750 [00:02<00:00, 310.06it/s]\n",
      "100%|██████████| 187/187 [00:00<00:00, 1130.42it/s]\n"
     ]
    },
    {
     "name": "stdout",
     "output_type": "stream",
     "text": [
      "epoch: 334/1000\t[valid_acc: 0.9919\tvalid_loss: 0.0524\ttrain_loss: 0.0000]\n"
     ]
    },
    {
     "name": "stderr",
     "output_type": "stream",
     "text": [
      "100%|██████████| 750/750 [00:02<00:00, 304.97it/s]\n",
      "100%|██████████| 187/187 [00:00<00:00, 1219.05it/s]\n"
     ]
    },
    {
     "name": "stdout",
     "output_type": "stream",
     "text": [
      "epoch: 335/1000\t[valid_acc: 0.9920\tvalid_loss: 0.0525\ttrain_loss: 0.0000]\n"
     ]
    },
    {
     "name": "stderr",
     "output_type": "stream",
     "text": [
      "100%|██████████| 750/750 [00:02<00:00, 303.36it/s]\n",
      "100%|██████████| 187/187 [00:00<00:00, 1209.66it/s]\n"
     ]
    },
    {
     "name": "stdout",
     "output_type": "stream",
     "text": [
      "epoch: 336/1000\t[valid_acc: 0.9920\tvalid_loss: 0.0524\ttrain_loss: 0.0000]\n"
     ]
    },
    {
     "name": "stderr",
     "output_type": "stream",
     "text": [
      "100%|██████████| 750/750 [00:02<00:00, 300.34it/s]\n",
      "100%|██████████| 187/187 [00:00<00:00, 1169.05it/s]\n"
     ]
    },
    {
     "name": "stdout",
     "output_type": "stream",
     "text": [
      "epoch: 337/1000\t[valid_acc: 0.9921\tvalid_loss: 0.0522\ttrain_loss: 0.0000]\n"
     ]
    },
    {
     "name": "stderr",
     "output_type": "stream",
     "text": [
      "100%|██████████| 750/750 [00:02<00:00, 308.65it/s]\n",
      "100%|██████████| 187/187 [00:00<00:00, 1223.95it/s]\n"
     ]
    },
    {
     "name": "stdout",
     "output_type": "stream",
     "text": [
      "epoch: 338/1000\t[valid_acc: 0.9921\tvalid_loss: 0.0524\ttrain_loss: 0.0000]\n"
     ]
    },
    {
     "name": "stderr",
     "output_type": "stream",
     "text": [
      "100%|██████████| 750/750 [00:02<00:00, 304.13it/s]\n",
      "100%|██████████| 187/187 [00:00<00:00, 1195.91it/s]\n"
     ]
    },
    {
     "name": "stdout",
     "output_type": "stream",
     "text": [
      "epoch: 339/1000\t[valid_acc: 0.9920\tvalid_loss: 0.0525\ttrain_loss: 0.0000]\n"
     ]
    },
    {
     "name": "stderr",
     "output_type": "stream",
     "text": [
      "100%|██████████| 750/750 [00:02<00:00, 304.57it/s]\n",
      "100%|██████████| 187/187 [00:00<00:00, 1226.48it/s]\n"
     ]
    },
    {
     "name": "stdout",
     "output_type": "stream",
     "text": [
      "epoch: 340/1000\t[valid_acc: 0.9920\tvalid_loss: 0.0523\ttrain_loss: 0.0000]\n"
     ]
    },
    {
     "name": "stderr",
     "output_type": "stream",
     "text": [
      "100%|██████████| 750/750 [00:02<00:00, 305.58it/s]\n",
      "100%|██████████| 187/187 [00:00<00:00, 1104.05it/s]\n"
     ]
    },
    {
     "name": "stdout",
     "output_type": "stream",
     "text": [
      "epoch: 341/1000\t[valid_acc: 0.9922\tvalid_loss: 0.0522\ttrain_loss: 0.0000]\n"
     ]
    },
    {
     "name": "stderr",
     "output_type": "stream",
     "text": [
      "100%|██████████| 750/750 [00:02<00:00, 310.88it/s]\n",
      "100%|██████████| 187/187 [00:00<00:00, 1210.98it/s]\n"
     ]
    },
    {
     "name": "stdout",
     "output_type": "stream",
     "text": [
      "epoch: 342/1000\t[valid_acc: 0.9921\tvalid_loss: 0.0526\ttrain_loss: 0.0000]\n"
     ]
    },
    {
     "name": "stderr",
     "output_type": "stream",
     "text": [
      "100%|██████████| 750/750 [00:02<00:00, 299.72it/s]\n",
      "100%|██████████| 187/187 [00:00<00:00, 1115.49it/s]\n"
     ]
    },
    {
     "name": "stdout",
     "output_type": "stream",
     "text": [
      "epoch: 343/1000\t[valid_acc: 0.9921\tvalid_loss: 0.0523\ttrain_loss: 0.0000]\n"
     ]
    },
    {
     "name": "stderr",
     "output_type": "stream",
     "text": [
      "100%|██████████| 750/750 [00:02<00:00, 302.42it/s]\n",
      "100%|██████████| 187/187 [00:00<00:00, 1143.14it/s]\n"
     ]
    },
    {
     "name": "stdout",
     "output_type": "stream",
     "text": [
      "epoch: 344/1000\t[valid_acc: 0.9920\tvalid_loss: 0.0523\ttrain_loss: 0.0000]\n"
     ]
    },
    {
     "name": "stderr",
     "output_type": "stream",
     "text": [
      "100%|██████████| 750/750 [00:02<00:00, 309.89it/s]\n",
      "100%|██████████| 187/187 [00:00<00:00, 1031.82it/s]\n"
     ]
    },
    {
     "name": "stdout",
     "output_type": "stream",
     "text": [
      "epoch: 345/1000\t[valid_acc: 0.9921\tvalid_loss: 0.0523\ttrain_loss: 0.0000]\n"
     ]
    },
    {
     "name": "stderr",
     "output_type": "stream",
     "text": [
      "100%|██████████| 750/750 [00:02<00:00, 310.00it/s]\n",
      "100%|██████████| 187/187 [00:00<00:00, 1149.92it/s]\n"
     ]
    },
    {
     "name": "stdout",
     "output_type": "stream",
     "text": [
      "epoch: 346/1000\t[valid_acc: 0.9921\tvalid_loss: 0.0522\ttrain_loss: 0.0000]\n"
     ]
    },
    {
     "name": "stderr",
     "output_type": "stream",
     "text": [
      "100%|██████████| 750/750 [00:02<00:00, 297.17it/s]\n",
      "100%|██████████| 187/187 [00:00<00:00, 1157.48it/s]\n"
     ]
    },
    {
     "name": "stdout",
     "output_type": "stream",
     "text": [
      "epoch: 347/1000\t[valid_acc: 0.9920\tvalid_loss: 0.0523\ttrain_loss: 0.0000]\n"
     ]
    },
    {
     "name": "stderr",
     "output_type": "stream",
     "text": [
      "100%|██████████| 750/750 [00:02<00:00, 293.61it/s]\n",
      "100%|██████████| 187/187 [00:00<00:00, 1154.85it/s]\n"
     ]
    },
    {
     "name": "stdout",
     "output_type": "stream",
     "text": [
      "epoch: 348/1000\t[valid_acc: 0.9921\tvalid_loss: 0.0521\ttrain_loss: 0.0000]\n"
     ]
    },
    {
     "name": "stderr",
     "output_type": "stream",
     "text": [
      "100%|██████████| 750/750 [00:02<00:00, 316.90it/s]\n",
      "100%|██████████| 187/187 [00:00<00:00, 1206.55it/s]\n"
     ]
    },
    {
     "name": "stdout",
     "output_type": "stream",
     "text": [
      "epoch: 349/1000\t[valid_acc: 0.9921\tvalid_loss: 0.0524\ttrain_loss: 0.0000]\n"
     ]
    },
    {
     "name": "stderr",
     "output_type": "stream",
     "text": [
      "100%|██████████| 750/750 [00:02<00:00, 299.46it/s]\n",
      "100%|██████████| 187/187 [00:00<00:00, 1133.55it/s]\n"
     ]
    },
    {
     "name": "stdout",
     "output_type": "stream",
     "text": [
      "epoch: 350/1000\t[valid_acc: 0.9921\tvalid_loss: 0.0524\ttrain_loss: 0.0000]\n"
     ]
    },
    {
     "name": "stderr",
     "output_type": "stream",
     "text": [
      "100%|██████████| 750/750 [00:02<00:00, 303.72it/s]\n",
      "100%|██████████| 187/187 [00:00<00:00, 1196.89it/s]\n"
     ]
    },
    {
     "name": "stdout",
     "output_type": "stream",
     "text": [
      "epoch: 351/1000\t[valid_acc: 0.9921\tvalid_loss: 0.0525\ttrain_loss: 0.0000]\n"
     ]
    },
    {
     "name": "stderr",
     "output_type": "stream",
     "text": [
      "100%|██████████| 750/750 [00:02<00:00, 297.03it/s]\n",
      "100%|██████████| 187/187 [00:00<00:00, 1234.77it/s]\n"
     ]
    },
    {
     "name": "stdout",
     "output_type": "stream",
     "text": [
      "epoch: 352/1000\t[valid_acc: 0.9922\tvalid_loss: 0.0528\ttrain_loss: 0.0000]\n"
     ]
    },
    {
     "name": "stderr",
     "output_type": "stream",
     "text": [
      "100%|██████████| 750/750 [00:02<00:00, 304.93it/s]\n",
      "100%|██████████| 187/187 [00:00<00:00, 1118.71it/s]\n"
     ]
    },
    {
     "name": "stdout",
     "output_type": "stream",
     "text": [
      "epoch: 353/1000\t[valid_acc: 0.9921\tvalid_loss: 0.0525\ttrain_loss: 0.0000]\n"
     ]
    },
    {
     "name": "stderr",
     "output_type": "stream",
     "text": [
      "100%|██████████| 750/750 [00:02<00:00, 304.30it/s]\n",
      "100%|██████████| 187/187 [00:00<00:00, 1224.00it/s]\n"
     ]
    },
    {
     "name": "stdout",
     "output_type": "stream",
     "text": [
      "epoch: 354/1000\t[valid_acc: 0.9921\tvalid_loss: 0.0528\ttrain_loss: 0.0000]\n"
     ]
    },
    {
     "name": "stderr",
     "output_type": "stream",
     "text": [
      "100%|██████████| 750/750 [00:02<00:00, 307.11it/s]\n",
      "100%|██████████| 187/187 [00:00<00:00, 1202.95it/s]\n"
     ]
    },
    {
     "name": "stdout",
     "output_type": "stream",
     "text": [
      "epoch: 355/1000\t[valid_acc: 0.9922\tvalid_loss: 0.0526\ttrain_loss: 0.0000]\n"
     ]
    },
    {
     "name": "stderr",
     "output_type": "stream",
     "text": [
      "100%|██████████| 750/750 [00:02<00:00, 301.39it/s]\n",
      "100%|██████████| 187/187 [00:00<00:00, 1147.36it/s]\n"
     ]
    },
    {
     "name": "stdout",
     "output_type": "stream",
     "text": [
      "epoch: 356/1000\t[valid_acc: 0.9922\tvalid_loss: 0.0526\ttrain_loss: 0.0000]\n"
     ]
    },
    {
     "name": "stderr",
     "output_type": "stream",
     "text": [
      "100%|██████████| 750/750 [00:02<00:00, 302.29it/s]\n",
      "100%|██████████| 187/187 [00:00<00:00, 1163.08it/s]\n"
     ]
    },
    {
     "name": "stdout",
     "output_type": "stream",
     "text": [
      "epoch: 357/1000\t[valid_acc: 0.9921\tvalid_loss: 0.0528\ttrain_loss: 0.0000]\n"
     ]
    },
    {
     "name": "stderr",
     "output_type": "stream",
     "text": [
      "100%|██████████| 750/750 [00:02<00:00, 308.71it/s]\n",
      "100%|██████████| 187/187 [00:00<00:00, 1210.85it/s]\n"
     ]
    },
    {
     "name": "stdout",
     "output_type": "stream",
     "text": [
      "epoch: 358/1000\t[valid_acc: 0.9922\tvalid_loss: 0.0526\ttrain_loss: 0.0000]\n"
     ]
    },
    {
     "name": "stderr",
     "output_type": "stream",
     "text": [
      "100%|██████████| 750/750 [00:02<00:00, 309.11it/s]\n",
      "100%|██████████| 187/187 [00:00<00:00, 1137.24it/s]\n"
     ]
    },
    {
     "name": "stdout",
     "output_type": "stream",
     "text": [
      "epoch: 359/1000\t[valid_acc: 0.9923\tvalid_loss: 0.0528\ttrain_loss: 0.0000]\n"
     ]
    },
    {
     "name": "stderr",
     "output_type": "stream",
     "text": [
      "100%|██████████| 750/750 [00:02<00:00, 304.41it/s]\n",
      "100%|██████████| 187/187 [00:00<00:00, 990.78it/s]\n"
     ]
    },
    {
     "name": "stdout",
     "output_type": "stream",
     "text": [
      "epoch: 360/1000\t[valid_acc: 0.9922\tvalid_loss: 0.0526\ttrain_loss: 0.0000]\n"
     ]
    },
    {
     "name": "stderr",
     "output_type": "stream",
     "text": [
      "100%|██████████| 750/750 [00:02<00:00, 310.72it/s]\n",
      "100%|██████████| 187/187 [00:00<00:00, 1210.02it/s]\n"
     ]
    },
    {
     "name": "stdout",
     "output_type": "stream",
     "text": [
      "epoch: 361/1000\t[valid_acc: 0.9922\tvalid_loss: 0.0525\ttrain_loss: 0.0000]\n"
     ]
    },
    {
     "name": "stderr",
     "output_type": "stream",
     "text": [
      "100%|██████████| 750/750 [00:02<00:00, 299.21it/s]\n",
      "100%|██████████| 187/187 [00:00<00:00, 1157.75it/s]\n"
     ]
    },
    {
     "name": "stdout",
     "output_type": "stream",
     "text": [
      "epoch: 362/1000\t[valid_acc: 0.9923\tvalid_loss: 0.0524\ttrain_loss: 0.0000]\n"
     ]
    },
    {
     "name": "stderr",
     "output_type": "stream",
     "text": [
      "100%|██████████| 750/750 [00:02<00:00, 304.00it/s]\n",
      "100%|██████████| 187/187 [00:00<00:00, 1230.43it/s]\n"
     ]
    },
    {
     "name": "stdout",
     "output_type": "stream",
     "text": [
      "epoch: 363/1000\t[valid_acc: 0.9922\tvalid_loss: 0.0525\ttrain_loss: 0.0000]\n"
     ]
    },
    {
     "name": "stderr",
     "output_type": "stream",
     "text": [
      "100%|██████████| 750/750 [00:02<00:00, 312.78it/s]\n",
      "100%|██████████| 187/187 [00:00<00:00, 1201.74it/s]\n"
     ]
    },
    {
     "name": "stdout",
     "output_type": "stream",
     "text": [
      "epoch: 364/1000\t[valid_acc: 0.9923\tvalid_loss: 0.0525\ttrain_loss: 0.0000]\n"
     ]
    },
    {
     "name": "stderr",
     "output_type": "stream",
     "text": [
      "100%|██████████| 750/750 [00:02<00:00, 296.94it/s]\n",
      "100%|██████████| 187/187 [00:00<00:00, 1138.01it/s]\n"
     ]
    },
    {
     "name": "stdout",
     "output_type": "stream",
     "text": [
      "epoch: 365/1000\t[valid_acc: 0.9922\tvalid_loss: 0.0525\ttrain_loss: 0.0000]\n"
     ]
    },
    {
     "name": "stderr",
     "output_type": "stream",
     "text": [
      "100%|██████████| 750/750 [00:02<00:00, 309.80it/s]\n",
      "100%|██████████| 187/187 [00:00<00:00, 1167.30it/s]\n"
     ]
    },
    {
     "name": "stdout",
     "output_type": "stream",
     "text": [
      "epoch: 366/1000\t[valid_acc: 0.9922\tvalid_loss: 0.0527\ttrain_loss: 0.0000]\n"
     ]
    },
    {
     "name": "stderr",
     "output_type": "stream",
     "text": [
      "100%|██████████| 750/750 [00:02<00:00, 308.83it/s]\n",
      "100%|██████████| 187/187 [00:00<00:00, 1221.22it/s]\n"
     ]
    },
    {
     "name": "stdout",
     "output_type": "stream",
     "text": [
      "epoch: 367/1000\t[valid_acc: 0.9923\tvalid_loss: 0.0525\ttrain_loss: 0.0000]\n"
     ]
    },
    {
     "name": "stderr",
     "output_type": "stream",
     "text": [
      "100%|██████████| 750/750 [00:02<00:00, 313.72it/s]\n",
      "100%|██████████| 187/187 [00:00<00:00, 1204.13it/s]\n"
     ]
    },
    {
     "name": "stdout",
     "output_type": "stream",
     "text": [
      "epoch: 368/1000\t[valid_acc: 0.9924\tvalid_loss: 0.0526\ttrain_loss: 0.0000]\n"
     ]
    },
    {
     "name": "stderr",
     "output_type": "stream",
     "text": [
      "100%|██████████| 750/750 [00:02<00:00, 299.18it/s]\n",
      "100%|██████████| 187/187 [00:00<00:00, 1160.74it/s]\n"
     ]
    },
    {
     "name": "stdout",
     "output_type": "stream",
     "text": [
      "epoch: 369/1000\t[valid_acc: 0.9925\tvalid_loss: 0.0528\ttrain_loss: 0.0000]\n"
     ]
    },
    {
     "name": "stderr",
     "output_type": "stream",
     "text": [
      "100%|██████████| 750/750 [00:02<00:00, 307.44it/s]\n",
      "100%|██████████| 187/187 [00:00<00:00, 1190.15it/s]\n"
     ]
    },
    {
     "name": "stdout",
     "output_type": "stream",
     "text": [
      "epoch: 370/1000\t[valid_acc: 0.9924\tvalid_loss: 0.0526\ttrain_loss: 0.0000]\n"
     ]
    },
    {
     "name": "stderr",
     "output_type": "stream",
     "text": [
      "100%|██████████| 750/750 [00:02<00:00, 304.54it/s]\n",
      "100%|██████████| 187/187 [00:00<00:00, 1061.88it/s]\n"
     ]
    },
    {
     "name": "stdout",
     "output_type": "stream",
     "text": [
      "epoch: 371/1000\t[valid_acc: 0.9924\tvalid_loss: 0.0525\ttrain_loss: 0.0000]\n"
     ]
    },
    {
     "name": "stderr",
     "output_type": "stream",
     "text": [
      "100%|██████████| 750/750 [00:02<00:00, 314.26it/s]\n",
      "100%|██████████| 187/187 [00:00<00:00, 1222.37it/s]\n"
     ]
    },
    {
     "name": "stdout",
     "output_type": "stream",
     "text": [
      "epoch: 372/1000\t[valid_acc: 0.9922\tvalid_loss: 0.0531\ttrain_loss: 0.0000]\n"
     ]
    },
    {
     "name": "stderr",
     "output_type": "stream",
     "text": [
      "100%|██████████| 750/750 [00:02<00:00, 300.77it/s]\n",
      "100%|██████████| 187/187 [00:00<00:00, 1154.57it/s]\n"
     ]
    },
    {
     "name": "stdout",
     "output_type": "stream",
     "text": [
      "epoch: 373/1000\t[valid_acc: 0.9924\tvalid_loss: 0.0527\ttrain_loss: 0.0000]\n"
     ]
    },
    {
     "name": "stderr",
     "output_type": "stream",
     "text": [
      "100%|██████████| 750/750 [00:02<00:00, 313.56it/s]\n",
      "100%|██████████| 187/187 [00:00<00:00, 1224.62it/s]\n"
     ]
    },
    {
     "name": "stdout",
     "output_type": "stream",
     "text": [
      "epoch: 374/1000\t[valid_acc: 0.9924\tvalid_loss: 0.0527\ttrain_loss: 0.0000]\n"
     ]
    },
    {
     "name": "stderr",
     "output_type": "stream",
     "text": [
      "100%|██████████| 750/750 [00:02<00:00, 299.40it/s]\n",
      "100%|██████████| 187/187 [00:00<00:00, 1107.51it/s]\n"
     ]
    },
    {
     "name": "stdout",
     "output_type": "stream",
     "text": [
      "epoch: 375/1000\t[valid_acc: 0.9924\tvalid_loss: 0.0529\ttrain_loss: 0.0000]\n"
     ]
    },
    {
     "name": "stderr",
     "output_type": "stream",
     "text": [
      "100%|██████████| 750/750 [00:02<00:00, 304.24it/s]\n",
      "100%|██████████| 187/187 [00:00<00:00, 1210.10it/s]\n"
     ]
    },
    {
     "name": "stdout",
     "output_type": "stream",
     "text": [
      "epoch: 376/1000\t[valid_acc: 0.9922\tvalid_loss: 0.0526\ttrain_loss: 0.0000]\n"
     ]
    },
    {
     "name": "stderr",
     "output_type": "stream",
     "text": [
      "100%|██████████| 750/750 [00:02<00:00, 311.44it/s]\n",
      "100%|██████████| 187/187 [00:00<00:00, 1159.59it/s]\n"
     ]
    },
    {
     "name": "stdout",
     "output_type": "stream",
     "text": [
      "epoch: 377/1000\t[valid_acc: 0.9923\tvalid_loss: 0.0529\ttrain_loss: 0.0000]\n"
     ]
    },
    {
     "name": "stderr",
     "output_type": "stream",
     "text": [
      "100%|██████████| 750/750 [00:02<00:00, 303.14it/s]\n",
      "100%|██████████| 187/187 [00:00<00:00, 1141.97it/s]\n"
     ]
    },
    {
     "name": "stdout",
     "output_type": "stream",
     "text": [
      "epoch: 378/1000\t[valid_acc: 0.9922\tvalid_loss: 0.0530\ttrain_loss: 0.0000]\n"
     ]
    },
    {
     "name": "stderr",
     "output_type": "stream",
     "text": [
      "100%|██████████| 750/750 [00:02<00:00, 303.13it/s]\n",
      "100%|██████████| 187/187 [00:00<00:00, 1151.22it/s]\n"
     ]
    },
    {
     "name": "stdout",
     "output_type": "stream",
     "text": [
      "epoch: 379/1000\t[valid_acc: 0.9923\tvalid_loss: 0.0529\ttrain_loss: 0.0000]\n"
     ]
    },
    {
     "name": "stderr",
     "output_type": "stream",
     "text": [
      "100%|██████████| 750/750 [00:02<00:00, 298.99it/s]\n",
      "100%|██████████| 187/187 [00:00<00:00, 1198.98it/s]\n"
     ]
    },
    {
     "name": "stdout",
     "output_type": "stream",
     "text": [
      "epoch: 380/1000\t[valid_acc: 0.9923\tvalid_loss: 0.0528\ttrain_loss: 0.0000]\n"
     ]
    },
    {
     "name": "stderr",
     "output_type": "stream",
     "text": [
      "100%|██████████| 750/750 [00:02<00:00, 308.64it/s]\n",
      "100%|██████████| 187/187 [00:00<00:00, 1144.16it/s]\n"
     ]
    },
    {
     "name": "stdout",
     "output_type": "stream",
     "text": [
      "epoch: 381/1000\t[valid_acc: 0.9924\tvalid_loss: 0.0532\ttrain_loss: 0.0000]\n"
     ]
    },
    {
     "name": "stderr",
     "output_type": "stream",
     "text": [
      "100%|██████████| 750/750 [00:02<00:00, 303.18it/s]\n",
      "100%|██████████| 187/187 [00:00<00:00, 1184.38it/s]\n"
     ]
    },
    {
     "name": "stdout",
     "output_type": "stream",
     "text": [
      "epoch: 382/1000\t[valid_acc: 0.9924\tvalid_loss: 0.0529\ttrain_loss: 0.0000]\n"
     ]
    },
    {
     "name": "stderr",
     "output_type": "stream",
     "text": [
      "100%|██████████| 750/750 [00:02<00:00, 306.37it/s]\n",
      "100%|██████████| 187/187 [00:00<00:00, 1183.74it/s]\n"
     ]
    },
    {
     "name": "stdout",
     "output_type": "stream",
     "text": [
      "epoch: 383/1000\t[valid_acc: 0.9922\tvalid_loss: 0.0528\ttrain_loss: 0.0000]\n"
     ]
    },
    {
     "name": "stderr",
     "output_type": "stream",
     "text": [
      "100%|██████████| 750/750 [00:02<00:00, 297.84it/s]\n",
      "100%|██████████| 187/187 [00:00<00:00, 1130.70it/s]\n"
     ]
    },
    {
     "name": "stdout",
     "output_type": "stream",
     "text": [
      "epoch: 384/1000\t[valid_acc: 0.9924\tvalid_loss: 0.0529\ttrain_loss: 0.0000]\n"
     ]
    },
    {
     "name": "stderr",
     "output_type": "stream",
     "text": [
      "100%|██████████| 750/750 [00:02<00:00, 311.20it/s]\n",
      "100%|██████████| 187/187 [00:00<00:00, 1107.64it/s]\n"
     ]
    },
    {
     "name": "stdout",
     "output_type": "stream",
     "text": [
      "epoch: 385/1000\t[valid_acc: 0.9924\tvalid_loss: 0.0531\ttrain_loss: 0.0000]\n"
     ]
    },
    {
     "name": "stderr",
     "output_type": "stream",
     "text": [
      "100%|██████████| 750/750 [00:02<00:00, 296.85it/s]\n",
      "100%|██████████| 187/187 [00:00<00:00, 1116.89it/s]\n"
     ]
    },
    {
     "name": "stdout",
     "output_type": "stream",
     "text": [
      "epoch: 386/1000\t[valid_acc: 0.9923\tvalid_loss: 0.0532\ttrain_loss: 0.0000]\n"
     ]
    },
    {
     "name": "stderr",
     "output_type": "stream",
     "text": [
      "100%|██████████| 750/750 [00:02<00:00, 305.20it/s]\n",
      "100%|██████████| 187/187 [00:00<00:00, 1199.11it/s]\n"
     ]
    },
    {
     "name": "stdout",
     "output_type": "stream",
     "text": [
      "epoch: 387/1000\t[valid_acc: 0.9924\tvalid_loss: 0.0531\ttrain_loss: 0.0000]\n"
     ]
    },
    {
     "name": "stderr",
     "output_type": "stream",
     "text": [
      "100%|██████████| 750/750 [00:02<00:00, 300.17it/s]\n",
      "100%|██████████| 187/187 [00:00<00:00, 1246.10it/s]\n"
     ]
    },
    {
     "name": "stdout",
     "output_type": "stream",
     "text": [
      "epoch: 388/1000\t[valid_acc: 0.9923\tvalid_loss: 0.0537\ttrain_loss: 0.0000]\n"
     ]
    },
    {
     "name": "stderr",
     "output_type": "stream",
     "text": [
      "100%|██████████| 750/750 [00:02<00:00, 303.93it/s]\n",
      "100%|██████████| 187/187 [00:00<00:00, 1162.04it/s]\n"
     ]
    },
    {
     "name": "stdout",
     "output_type": "stream",
     "text": [
      "epoch: 389/1000\t[valid_acc: 0.9924\tvalid_loss: 0.0533\ttrain_loss: 0.0000]\n"
     ]
    },
    {
     "name": "stderr",
     "output_type": "stream",
     "text": [
      "100%|██████████| 750/750 [00:02<00:00, 302.22it/s]\n",
      "100%|██████████| 187/187 [00:00<00:00, 1221.69it/s]\n"
     ]
    },
    {
     "name": "stdout",
     "output_type": "stream",
     "text": [
      "epoch: 390/1000\t[valid_acc: 0.9926\tvalid_loss: 0.0533\ttrain_loss: 0.0000]\n"
     ]
    },
    {
     "name": "stderr",
     "output_type": "stream",
     "text": [
      "100%|██████████| 750/750 [00:02<00:00, 314.42it/s]\n",
      "100%|██████████| 187/187 [00:00<00:00, 1106.35it/s]\n"
     ]
    },
    {
     "name": "stdout",
     "output_type": "stream",
     "text": [
      "epoch: 391/1000\t[valid_acc: 0.9922\tvalid_loss: 0.0534\ttrain_loss: 0.0000]\n"
     ]
    },
    {
     "name": "stderr",
     "output_type": "stream",
     "text": [
      "100%|██████████| 750/750 [00:02<00:00, 304.73it/s]\n",
      "100%|██████████| 187/187 [00:00<00:00, 1167.96it/s]\n"
     ]
    },
    {
     "name": "stdout",
     "output_type": "stream",
     "text": [
      "epoch: 392/1000\t[valid_acc: 0.9921\tvalid_loss: 0.0536\ttrain_loss: 0.0000]\n"
     ]
    },
    {
     "name": "stderr",
     "output_type": "stream",
     "text": [
      "100%|██████████| 750/750 [00:02<00:00, 294.26it/s]\n",
      "100%|██████████| 187/187 [00:00<00:00, 1166.90it/s]\n"
     ]
    },
    {
     "name": "stdout",
     "output_type": "stream",
     "text": [
      "epoch: 393/1000\t[valid_acc: 0.9921\tvalid_loss: 0.0534\ttrain_loss: 0.0000]\n"
     ]
    },
    {
     "name": "stderr",
     "output_type": "stream",
     "text": [
      "100%|██████████| 750/750 [00:02<00:00, 299.32it/s]\n",
      "100%|██████████| 187/187 [00:00<00:00, 1204.43it/s]\n"
     ]
    },
    {
     "name": "stdout",
     "output_type": "stream",
     "text": [
      "epoch: 394/1000\t[valid_acc: 0.9921\tvalid_loss: 0.0536\ttrain_loss: 0.0000]\n"
     ]
    },
    {
     "name": "stderr",
     "output_type": "stream",
     "text": [
      "100%|██████████| 750/750 [00:02<00:00, 303.23it/s]\n",
      "100%|██████████| 187/187 [00:00<00:00, 1216.65it/s]\n"
     ]
    },
    {
     "name": "stdout",
     "output_type": "stream",
     "text": [
      "epoch: 395/1000\t[valid_acc: 0.9924\tvalid_loss: 0.0538\ttrain_loss: 0.0000]\n"
     ]
    },
    {
     "name": "stderr",
     "output_type": "stream",
     "text": [
      "100%|██████████| 750/750 [00:02<00:00, 293.80it/s]\n",
      "100%|██████████| 187/187 [00:00<00:00, 1143.61it/s]\n"
     ]
    },
    {
     "name": "stdout",
     "output_type": "stream",
     "text": [
      "epoch: 396/1000\t[valid_acc: 0.9921\tvalid_loss: 0.0538\ttrain_loss: 0.0000]\n"
     ]
    },
    {
     "name": "stderr",
     "output_type": "stream",
     "text": [
      "100%|██████████| 750/750 [00:02<00:00, 311.85it/s]\n",
      "100%|██████████| 187/187 [00:00<00:00, 1226.09it/s]\n"
     ]
    },
    {
     "name": "stdout",
     "output_type": "stream",
     "text": [
      "epoch: 397/1000\t[valid_acc: 0.9924\tvalid_loss: 0.0537\ttrain_loss: 0.0000]\n"
     ]
    },
    {
     "name": "stderr",
     "output_type": "stream",
     "text": [
      "100%|██████████| 750/750 [00:02<00:00, 306.96it/s]\n",
      "100%|██████████| 187/187 [00:00<00:00, 1168.55it/s]\n"
     ]
    },
    {
     "name": "stdout",
     "output_type": "stream",
     "text": [
      "epoch: 398/1000\t[valid_acc: 0.9921\tvalid_loss: 0.0536\ttrain_loss: 0.0000]\n"
     ]
    },
    {
     "name": "stderr",
     "output_type": "stream",
     "text": [
      "100%|██████████| 750/750 [00:02<00:00, 303.00it/s]\n",
      "100%|██████████| 187/187 [00:00<00:00, 1183.63it/s]\n"
     ]
    },
    {
     "name": "stdout",
     "output_type": "stream",
     "text": [
      "epoch: 399/1000\t[valid_acc: 0.9921\tvalid_loss: 0.0536\ttrain_loss: 0.0000]\n"
     ]
    },
    {
     "name": "stderr",
     "output_type": "stream",
     "text": [
      "100%|██████████| 750/750 [00:02<00:00, 306.04it/s]\n",
      "100%|██████████| 187/187 [00:00<00:00, 1218.35it/s]\n"
     ]
    },
    {
     "name": "stdout",
     "output_type": "stream",
     "text": [
      "epoch: 400/1000\t[valid_acc: 0.9918\tvalid_loss: 0.0541\ttrain_loss: 0.0000]\n"
     ]
    },
    {
     "name": "stderr",
     "output_type": "stream",
     "text": [
      "100%|██████████| 750/750 [00:02<00:00, 305.21it/s]\n",
      "100%|██████████| 187/187 [00:00<00:00, 1236.55it/s]\n"
     ]
    },
    {
     "name": "stdout",
     "output_type": "stream",
     "text": [
      "epoch: 401/1000\t[valid_acc: 0.9920\tvalid_loss: 0.0538\ttrain_loss: 0.0000]\n"
     ]
    },
    {
     "name": "stderr",
     "output_type": "stream",
     "text": [
      "100%|██████████| 750/750 [00:02<00:00, 312.79it/s]\n",
      "100%|██████████| 187/187 [00:00<00:00, 1199.97it/s]\n"
     ]
    },
    {
     "name": "stdout",
     "output_type": "stream",
     "text": [
      "epoch: 402/1000\t[valid_acc: 0.9919\tvalid_loss: 0.0544\ttrain_loss: 0.0000]\n"
     ]
    },
    {
     "name": "stderr",
     "output_type": "stream",
     "text": [
      "100%|██████████| 750/750 [00:02<00:00, 315.49it/s]\n",
      "100%|██████████| 187/187 [00:00<00:00, 1192.11it/s]\n"
     ]
    },
    {
     "name": "stdout",
     "output_type": "stream",
     "text": [
      "epoch: 403/1000\t[valid_acc: 0.9917\tvalid_loss: 0.0542\ttrain_loss: 0.0000]\n"
     ]
    },
    {
     "name": "stderr",
     "output_type": "stream",
     "text": [
      "100%|██████████| 750/750 [00:02<00:00, 301.95it/s]\n",
      "100%|██████████| 187/187 [00:00<00:00, 1208.37it/s]\n"
     ]
    },
    {
     "name": "stdout",
     "output_type": "stream",
     "text": [
      "epoch: 404/1000\t[valid_acc: 0.9917\tvalid_loss: 0.0539\ttrain_loss: 0.0000]\n"
     ]
    },
    {
     "name": "stderr",
     "output_type": "stream",
     "text": [
      "100%|██████████| 750/750 [00:02<00:00, 304.64it/s]\n",
      "100%|██████████| 187/187 [00:00<00:00, 1232.79it/s]\n"
     ]
    },
    {
     "name": "stdout",
     "output_type": "stream",
     "text": [
      "epoch: 405/1000\t[valid_acc: 0.9920\tvalid_loss: 0.0540\ttrain_loss: 0.0000]\n"
     ]
    },
    {
     "name": "stderr",
     "output_type": "stream",
     "text": [
      "100%|██████████| 750/750 [00:02<00:00, 312.74it/s]\n",
      "100%|██████████| 187/187 [00:00<00:00, 1176.70it/s]\n"
     ]
    },
    {
     "name": "stdout",
     "output_type": "stream",
     "text": [
      "epoch: 406/1000\t[valid_acc: 0.9920\tvalid_loss: 0.0540\ttrain_loss: 0.0000]\n"
     ]
    },
    {
     "name": "stderr",
     "output_type": "stream",
     "text": [
      "100%|██████████| 750/750 [00:02<00:00, 303.18it/s]\n",
      "100%|██████████| 187/187 [00:00<00:00, 1204.42it/s]\n"
     ]
    },
    {
     "name": "stdout",
     "output_type": "stream",
     "text": [
      "epoch: 407/1000\t[valid_acc: 0.9921\tvalid_loss: 0.0542\ttrain_loss: 0.0000]\n"
     ]
    },
    {
     "name": "stderr",
     "output_type": "stream",
     "text": [
      "100%|██████████| 750/750 [00:02<00:00, 311.95it/s]\n",
      "100%|██████████| 187/187 [00:00<00:00, 815.62it/s]\n"
     ]
    },
    {
     "name": "stdout",
     "output_type": "stream",
     "text": [
      "epoch: 408/1000\t[valid_acc: 0.9918\tvalid_loss: 0.0540\ttrain_loss: 0.0000]\n"
     ]
    },
    {
     "name": "stderr",
     "output_type": "stream",
     "text": [
      "100%|██████████| 750/750 [00:02<00:00, 312.15it/s]\n",
      "100%|██████████| 187/187 [00:00<00:00, 1135.98it/s]\n"
     ]
    },
    {
     "name": "stdout",
     "output_type": "stream",
     "text": [
      "epoch: 409/1000\t[valid_acc: 0.9920\tvalid_loss: 0.0540\ttrain_loss: 0.0000]\n"
     ]
    },
    {
     "name": "stderr",
     "output_type": "stream",
     "text": [
      "100%|██████████| 750/750 [00:02<00:00, 306.10it/s]\n",
      "100%|██████████| 187/187 [00:00<00:00, 1181.54it/s]\n"
     ]
    },
    {
     "name": "stdout",
     "output_type": "stream",
     "text": [
      "epoch: 410/1000\t[valid_acc: 0.9921\tvalid_loss: 0.0541\ttrain_loss: 0.0000]\n"
     ]
    },
    {
     "name": "stderr",
     "output_type": "stream",
     "text": [
      "100%|██████████| 750/750 [00:02<00:00, 300.78it/s]\n",
      "100%|██████████| 187/187 [00:00<00:00, 1174.28it/s]\n"
     ]
    },
    {
     "name": "stdout",
     "output_type": "stream",
     "text": [
      "epoch: 411/1000\t[valid_acc: 0.9918\tvalid_loss: 0.0544\ttrain_loss: 0.0000]\n"
     ]
    },
    {
     "name": "stderr",
     "output_type": "stream",
     "text": [
      "100%|██████████| 750/750 [00:02<00:00, 312.16it/s]\n",
      "100%|██████████| 187/187 [00:00<00:00, 1168.07it/s]\n"
     ]
    },
    {
     "name": "stdout",
     "output_type": "stream",
     "text": [
      "epoch: 412/1000\t[valid_acc: 0.9918\tvalid_loss: 0.0545\ttrain_loss: 0.0000]\n"
     ]
    },
    {
     "name": "stderr",
     "output_type": "stream",
     "text": [
      "100%|██████████| 750/750 [00:02<00:00, 295.89it/s]\n",
      "100%|██████████| 187/187 [00:00<00:00, 1217.71it/s]\n"
     ]
    },
    {
     "name": "stdout",
     "output_type": "stream",
     "text": [
      "epoch: 413/1000\t[valid_acc: 0.9918\tvalid_loss: 0.0544\ttrain_loss: 0.0000]\n"
     ]
    },
    {
     "name": "stderr",
     "output_type": "stream",
     "text": [
      "100%|██████████| 750/750 [00:02<00:00, 300.87it/s]\n",
      "100%|██████████| 187/187 [00:00<00:00, 1144.21it/s]\n"
     ]
    },
    {
     "name": "stdout",
     "output_type": "stream",
     "text": [
      "epoch: 414/1000\t[valid_acc: 0.9919\tvalid_loss: 0.0545\ttrain_loss: 0.0000]\n"
     ]
    },
    {
     "name": "stderr",
     "output_type": "stream",
     "text": [
      "100%|██████████| 750/750 [00:02<00:00, 304.41it/s]\n",
      "100%|██████████| 187/187 [00:00<00:00, 1203.42it/s]\n"
     ]
    },
    {
     "name": "stdout",
     "output_type": "stream",
     "text": [
      "epoch: 415/1000\t[valid_acc: 0.9919\tvalid_loss: 0.0540\ttrain_loss: 0.0000]\n"
     ]
    },
    {
     "name": "stderr",
     "output_type": "stream",
     "text": [
      "100%|██████████| 750/750 [00:02<00:00, 307.61it/s]\n",
      "100%|██████████| 187/187 [00:00<00:00, 1196.33it/s]\n"
     ]
    },
    {
     "name": "stdout",
     "output_type": "stream",
     "text": [
      "epoch: 416/1000\t[valid_acc: 0.9920\tvalid_loss: 0.0545\ttrain_loss: 0.0000]\n"
     ]
    },
    {
     "name": "stderr",
     "output_type": "stream",
     "text": [
      "100%|██████████| 750/750 [00:02<00:00, 298.46it/s]\n",
      "100%|██████████| 187/187 [00:00<00:00, 1182.72it/s]\n"
     ]
    },
    {
     "name": "stdout",
     "output_type": "stream",
     "text": [
      "epoch: 417/1000\t[valid_acc: 0.9919\tvalid_loss: 0.0545\ttrain_loss: 0.0000]\n"
     ]
    },
    {
     "name": "stderr",
     "output_type": "stream",
     "text": [
      "100%|██████████| 750/750 [00:02<00:00, 304.61it/s]\n",
      "100%|██████████| 187/187 [00:00<00:00, 1174.53it/s]\n"
     ]
    },
    {
     "name": "stdout",
     "output_type": "stream",
     "text": [
      "epoch: 418/1000\t[valid_acc: 0.9920\tvalid_loss: 0.0543\ttrain_loss: 0.0000]\n"
     ]
    },
    {
     "name": "stderr",
     "output_type": "stream",
     "text": [
      "100%|██████████| 750/750 [00:02<00:00, 314.01it/s]\n",
      "100%|██████████| 187/187 [00:00<00:00, 1223.57it/s]\n"
     ]
    },
    {
     "name": "stdout",
     "output_type": "stream",
     "text": [
      "epoch: 419/1000\t[valid_acc: 0.9920\tvalid_loss: 0.0541\ttrain_loss: 0.0000]\n"
     ]
    },
    {
     "name": "stderr",
     "output_type": "stream",
     "text": [
      "100%|██████████| 750/750 [00:02<00:00, 311.11it/s]\n",
      "100%|██████████| 187/187 [00:00<00:00, 1139.03it/s]\n"
     ]
    },
    {
     "name": "stdout",
     "output_type": "stream",
     "text": [
      "epoch: 420/1000\t[valid_acc: 0.9919\tvalid_loss: 0.0546\ttrain_loss: 0.0000]\n"
     ]
    },
    {
     "name": "stderr",
     "output_type": "stream",
     "text": [
      "100%|██████████| 750/750 [00:02<00:00, 305.13it/s]\n",
      "100%|██████████| 187/187 [00:00<00:00, 1206.82it/s]\n"
     ]
    },
    {
     "name": "stdout",
     "output_type": "stream",
     "text": [
      "epoch: 421/1000\t[valid_acc: 0.9920\tvalid_loss: 0.0544\ttrain_loss: 0.0000]\n"
     ]
    },
    {
     "name": "stderr",
     "output_type": "stream",
     "text": [
      "100%|██████████| 750/750 [00:02<00:00, 301.52it/s]\n",
      "100%|██████████| 187/187 [00:00<00:00, 1218.17it/s]\n"
     ]
    },
    {
     "name": "stdout",
     "output_type": "stream",
     "text": [
      "epoch: 422/1000\t[valid_acc: 0.9920\tvalid_loss: 0.0546\ttrain_loss: 0.0000]\n"
     ]
    },
    {
     "name": "stderr",
     "output_type": "stream",
     "text": [
      "100%|██████████| 750/750 [00:02<00:00, 308.46it/s]\n",
      "100%|██████████| 187/187 [00:00<00:00, 1165.51it/s]\n"
     ]
    },
    {
     "name": "stdout",
     "output_type": "stream",
     "text": [
      "epoch: 423/1000\t[valid_acc: 0.9921\tvalid_loss: 0.0548\ttrain_loss: 0.0000]\n"
     ]
    },
    {
     "name": "stderr",
     "output_type": "stream",
     "text": [
      "100%|██████████| 750/750 [00:02<00:00, 300.22it/s]\n",
      "100%|██████████| 187/187 [00:00<00:00, 1226.07it/s]\n"
     ]
    },
    {
     "name": "stdout",
     "output_type": "stream",
     "text": [
      "epoch: 424/1000\t[valid_acc: 0.9919\tvalid_loss: 0.0547\ttrain_loss: 0.0000]\n"
     ]
    },
    {
     "name": "stderr",
     "output_type": "stream",
     "text": [
      "100%|██████████| 750/750 [00:02<00:00, 305.80it/s]\n",
      "100%|██████████| 187/187 [00:00<00:00, 1203.59it/s]\n"
     ]
    },
    {
     "name": "stdout",
     "output_type": "stream",
     "text": [
      "epoch: 425/1000\t[valid_acc: 0.9920\tvalid_loss: 0.0543\ttrain_loss: 0.0000]\n"
     ]
    },
    {
     "name": "stderr",
     "output_type": "stream",
     "text": [
      "100%|██████████| 750/750 [00:02<00:00, 298.37it/s]\n",
      "100%|██████████| 187/187 [00:00<00:00, 1150.00it/s]\n"
     ]
    },
    {
     "name": "stdout",
     "output_type": "stream",
     "text": [
      "epoch: 426/1000\t[valid_acc: 0.9919\tvalid_loss: 0.0545\ttrain_loss: 0.0000]\n"
     ]
    },
    {
     "name": "stderr",
     "output_type": "stream",
     "text": [
      "100%|██████████| 750/750 [00:02<00:00, 307.91it/s]\n",
      "100%|██████████| 187/187 [00:00<00:00, 1169.32it/s]\n"
     ]
    },
    {
     "name": "stdout",
     "output_type": "stream",
     "text": [
      "epoch: 427/1000\t[valid_acc: 0.9919\tvalid_loss: 0.0549\ttrain_loss: 0.0000]\n"
     ]
    },
    {
     "name": "stderr",
     "output_type": "stream",
     "text": [
      "100%|██████████| 750/750 [00:02<00:00, 292.43it/s]\n",
      "100%|██████████| 187/187 [00:00<00:00, 1218.80it/s]\n"
     ]
    },
    {
     "name": "stdout",
     "output_type": "stream",
     "text": [
      "epoch: 428/1000\t[valid_acc: 0.9921\tvalid_loss: 0.0542\ttrain_loss: 0.0000]\n"
     ]
    },
    {
     "name": "stderr",
     "output_type": "stream",
     "text": [
      "100%|██████████| 750/750 [00:02<00:00, 300.49it/s]\n",
      "100%|██████████| 187/187 [00:00<00:00, 1168.52it/s]\n"
     ]
    },
    {
     "name": "stdout",
     "output_type": "stream",
     "text": [
      "epoch: 429/1000\t[valid_acc: 0.9919\tvalid_loss: 0.0546\ttrain_loss: 0.0000]\n"
     ]
    },
    {
     "name": "stderr",
     "output_type": "stream",
     "text": [
      "100%|██████████| 750/750 [00:02<00:00, 298.75it/s]\n",
      "100%|██████████| 187/187 [00:00<00:00, 1198.34it/s]\n"
     ]
    },
    {
     "name": "stdout",
     "output_type": "stream",
     "text": [
      "epoch: 430/1000\t[valid_acc: 0.9918\tvalid_loss: 0.0546\ttrain_loss: 0.0000]\n"
     ]
    },
    {
     "name": "stderr",
     "output_type": "stream",
     "text": [
      "100%|██████████| 750/750 [00:02<00:00, 300.23it/s]\n",
      "100%|██████████| 187/187 [00:00<00:00, 1163.39it/s]\n"
     ]
    },
    {
     "name": "stdout",
     "output_type": "stream",
     "text": [
      "epoch: 431/1000\t[valid_acc: 0.9923\tvalid_loss: 0.0546\ttrain_loss: 0.0000]\n"
     ]
    },
    {
     "name": "stderr",
     "output_type": "stream",
     "text": [
      "100%|██████████| 750/750 [00:02<00:00, 301.89it/s]\n",
      "100%|██████████| 187/187 [00:00<00:00, 1184.91it/s]\n"
     ]
    },
    {
     "name": "stdout",
     "output_type": "stream",
     "text": [
      "epoch: 432/1000\t[valid_acc: 0.9920\tvalid_loss: 0.0545\ttrain_loss: 0.0000]\n"
     ]
    },
    {
     "name": "stderr",
     "output_type": "stream",
     "text": [
      "100%|██████████| 750/750 [00:02<00:00, 296.83it/s]\n",
      "100%|██████████| 187/187 [00:00<00:00, 1073.34it/s]\n"
     ]
    },
    {
     "name": "stdout",
     "output_type": "stream",
     "text": [
      "epoch: 433/1000\t[valid_acc: 0.9920\tvalid_loss: 0.0547\ttrain_loss: 0.0000]\n"
     ]
    },
    {
     "name": "stderr",
     "output_type": "stream",
     "text": [
      "100%|██████████| 750/750 [00:02<00:00, 301.47it/s]\n",
      "100%|██████████| 187/187 [00:00<00:00, 1174.26it/s]\n"
     ]
    },
    {
     "name": "stdout",
     "output_type": "stream",
     "text": [
      "epoch: 434/1000\t[valid_acc: 0.9918\tvalid_loss: 0.0543\ttrain_loss: 0.0000]\n"
     ]
    },
    {
     "name": "stderr",
     "output_type": "stream",
     "text": [
      "100%|██████████| 750/750 [00:02<00:00, 302.72it/s]\n",
      "100%|██████████| 187/187 [00:00<00:00, 1184.30it/s]\n"
     ]
    },
    {
     "name": "stdout",
     "output_type": "stream",
     "text": [
      "epoch: 435/1000\t[valid_acc: 0.9921\tvalid_loss: 0.0544\ttrain_loss: 0.0000]\n"
     ]
    },
    {
     "name": "stderr",
     "output_type": "stream",
     "text": [
      "100%|██████████| 750/750 [00:02<00:00, 299.37it/s]\n",
      "100%|██████████| 187/187 [00:00<00:00, 1151.11it/s]\n"
     ]
    },
    {
     "name": "stdout",
     "output_type": "stream",
     "text": [
      "epoch: 436/1000\t[valid_acc: 0.9919\tvalid_loss: 0.0545\ttrain_loss: 0.0000]\n"
     ]
    },
    {
     "name": "stderr",
     "output_type": "stream",
     "text": [
      "100%|██████████| 750/750 [00:02<00:00, 312.04it/s]\n",
      "100%|██████████| 187/187 [00:00<00:00, 1134.77it/s]\n"
     ]
    },
    {
     "name": "stdout",
     "output_type": "stream",
     "text": [
      "epoch: 437/1000\t[valid_acc: 0.9918\tvalid_loss: 0.0545\ttrain_loss: 0.0000]\n"
     ]
    },
    {
     "name": "stderr",
     "output_type": "stream",
     "text": [
      "100%|██████████| 750/750 [00:02<00:00, 294.60it/s]\n",
      "100%|██████████| 187/187 [00:00<00:00, 1222.14it/s]\n"
     ]
    },
    {
     "name": "stdout",
     "output_type": "stream",
     "text": [
      "epoch: 438/1000\t[valid_acc: 0.9919\tvalid_loss: 0.0546\ttrain_loss: 0.0000]\n"
     ]
    },
    {
     "name": "stderr",
     "output_type": "stream",
     "text": [
      "100%|██████████| 750/750 [00:02<00:00, 300.68it/s]\n",
      "100%|██████████| 187/187 [00:00<00:00, 1213.94it/s]\n"
     ]
    },
    {
     "name": "stdout",
     "output_type": "stream",
     "text": [
      "epoch: 439/1000\t[valid_acc: 0.9919\tvalid_loss: 0.0545\ttrain_loss: 0.0000]\n"
     ]
    },
    {
     "name": "stderr",
     "output_type": "stream",
     "text": [
      "100%|██████████| 750/750 [00:02<00:00, 309.64it/s]\n",
      "100%|██████████| 187/187 [00:00<00:00, 1228.93it/s]\n"
     ]
    },
    {
     "name": "stdout",
     "output_type": "stream",
     "text": [
      "epoch: 440/1000\t[valid_acc: 0.9919\tvalid_loss: 0.0546\ttrain_loss: 0.0000]\n"
     ]
    },
    {
     "name": "stderr",
     "output_type": "stream",
     "text": [
      "100%|██████████| 750/750 [00:02<00:00, 300.95it/s]\n",
      "100%|██████████| 187/187 [00:00<00:00, 1171.56it/s]\n"
     ]
    },
    {
     "name": "stdout",
     "output_type": "stream",
     "text": [
      "epoch: 441/1000\t[valid_acc: 0.9919\tvalid_loss: 0.0545\ttrain_loss: 0.0000]\n"
     ]
    },
    {
     "name": "stderr",
     "output_type": "stream",
     "text": [
      "100%|██████████| 750/750 [00:02<00:00, 295.02it/s]\n",
      "100%|██████████| 187/187 [00:00<00:00, 1080.97it/s]\n"
     ]
    },
    {
     "name": "stdout",
     "output_type": "stream",
     "text": [
      "epoch: 442/1000\t[valid_acc: 0.9917\tvalid_loss: 0.0545\ttrain_loss: 0.0000]\n"
     ]
    },
    {
     "name": "stderr",
     "output_type": "stream",
     "text": [
      "100%|██████████| 750/750 [00:02<00:00, 305.97it/s]\n",
      "100%|██████████| 187/187 [00:00<00:00, 1222.99it/s]\n"
     ]
    },
    {
     "name": "stdout",
     "output_type": "stream",
     "text": [
      "epoch: 443/1000\t[valid_acc: 0.9918\tvalid_loss: 0.0545\ttrain_loss: 0.0000]\n"
     ]
    },
    {
     "name": "stderr",
     "output_type": "stream",
     "text": [
      "100%|██████████| 750/750 [00:02<00:00, 300.89it/s]\n",
      "100%|██████████| 187/187 [00:00<00:00, 1136.24it/s]\n"
     ]
    },
    {
     "name": "stdout",
     "output_type": "stream",
     "text": [
      "epoch: 444/1000\t[valid_acc: 0.9917\tvalid_loss: 0.0549\ttrain_loss: 0.0000]\n"
     ]
    },
    {
     "name": "stderr",
     "output_type": "stream",
     "text": [
      "100%|██████████| 750/750 [00:02<00:00, 297.13it/s]\n",
      "100%|██████████| 187/187 [00:00<00:00, 1215.41it/s]\n"
     ]
    },
    {
     "name": "stdout",
     "output_type": "stream",
     "text": [
      "epoch: 445/1000\t[valid_acc: 0.9916\tvalid_loss: 0.0547\ttrain_loss: 0.0000]\n"
     ]
    },
    {
     "name": "stderr",
     "output_type": "stream",
     "text": [
      "100%|██████████| 750/750 [00:02<00:00, 304.02it/s]\n",
      "100%|██████████| 187/187 [00:00<00:00, 1178.18it/s]\n"
     ]
    },
    {
     "name": "stdout",
     "output_type": "stream",
     "text": [
      "epoch: 446/1000\t[valid_acc: 0.9919\tvalid_loss: 0.0548\ttrain_loss: 0.0000]\n"
     ]
    },
    {
     "name": "stderr",
     "output_type": "stream",
     "text": [
      "100%|██████████| 750/750 [00:02<00:00, 294.07it/s]\n",
      "100%|██████████| 187/187 [00:00<00:00, 1187.79it/s]\n"
     ]
    },
    {
     "name": "stdout",
     "output_type": "stream",
     "text": [
      "epoch: 447/1000\t[valid_acc: 0.9920\tvalid_loss: 0.0547\ttrain_loss: 0.0000]\n"
     ]
    },
    {
     "name": "stderr",
     "output_type": "stream",
     "text": [
      "100%|██████████| 750/750 [00:02<00:00, 297.44it/s]\n",
      "100%|██████████| 187/187 [00:00<00:00, 1154.84it/s]\n"
     ]
    },
    {
     "name": "stdout",
     "output_type": "stream",
     "text": [
      "epoch: 448/1000\t[valid_acc: 0.9920\tvalid_loss: 0.0547\ttrain_loss: 0.0000]\n"
     ]
    },
    {
     "name": "stderr",
     "output_type": "stream",
     "text": [
      "100%|██████████| 750/750 [00:02<00:00, 306.67it/s]\n",
      "100%|██████████| 187/187 [00:00<00:00, 1142.51it/s]\n"
     ]
    },
    {
     "name": "stdout",
     "output_type": "stream",
     "text": [
      "epoch: 449/1000\t[valid_acc: 0.9919\tvalid_loss: 0.0548\ttrain_loss: 0.0000]\n"
     ]
    },
    {
     "name": "stderr",
     "output_type": "stream",
     "text": [
      "100%|██████████| 750/750 [00:02<00:00, 300.02it/s]\n",
      "100%|██████████| 187/187 [00:00<00:00, 1162.29it/s]\n"
     ]
    },
    {
     "name": "stdout",
     "output_type": "stream",
     "text": [
      "epoch: 450/1000\t[valid_acc: 0.9918\tvalid_loss: 0.0547\ttrain_loss: 0.0000]\n"
     ]
    },
    {
     "name": "stderr",
     "output_type": "stream",
     "text": [
      "100%|██████████| 750/750 [00:02<00:00, 301.54it/s]\n",
      "100%|██████████| 187/187 [00:00<00:00, 1215.71it/s]\n"
     ]
    },
    {
     "name": "stdout",
     "output_type": "stream",
     "text": [
      "epoch: 451/1000\t[valid_acc: 0.9916\tvalid_loss: 0.0552\ttrain_loss: 0.0000]\n"
     ]
    },
    {
     "name": "stderr",
     "output_type": "stream",
     "text": [
      "100%|██████████| 750/750 [00:02<00:00, 310.74it/s]\n",
      "100%|██████████| 187/187 [00:00<00:00, 1254.16it/s]\n"
     ]
    },
    {
     "name": "stdout",
     "output_type": "stream",
     "text": [
      "epoch: 452/1000\t[valid_acc: 0.9918\tvalid_loss: 0.0551\ttrain_loss: 0.0000]\n"
     ]
    },
    {
     "name": "stderr",
     "output_type": "stream",
     "text": [
      "100%|██████████| 750/750 [00:02<00:00, 305.35it/s]\n",
      "100%|██████████| 187/187 [00:00<00:00, 1187.90it/s]\n"
     ]
    },
    {
     "name": "stdout",
     "output_type": "stream",
     "text": [
      "epoch: 453/1000\t[valid_acc: 0.9917\tvalid_loss: 0.0550\ttrain_loss: 0.0000]\n"
     ]
    },
    {
     "name": "stderr",
     "output_type": "stream",
     "text": [
      "100%|██████████| 750/750 [00:02<00:00, 305.82it/s]\n",
      "100%|██████████| 187/187 [00:00<00:00, 1217.86it/s]\n"
     ]
    },
    {
     "name": "stdout",
     "output_type": "stream",
     "text": [
      "epoch: 454/1000\t[valid_acc: 0.9917\tvalid_loss: 0.0549\ttrain_loss: 0.0000]\n"
     ]
    },
    {
     "name": "stderr",
     "output_type": "stream",
     "text": [
      "100%|██████████| 750/750 [00:02<00:00, 297.90it/s]\n",
      "100%|██████████| 187/187 [00:00<00:00, 1163.43it/s]\n"
     ]
    },
    {
     "name": "stdout",
     "output_type": "stream",
     "text": [
      "epoch: 455/1000\t[valid_acc: 0.9917\tvalid_loss: 0.0550\ttrain_loss: 0.0000]\n"
     ]
    },
    {
     "name": "stderr",
     "output_type": "stream",
     "text": [
      "100%|██████████| 750/750 [00:02<00:00, 313.29it/s]\n",
      "100%|██████████| 187/187 [00:00<00:00, 1131.14it/s]\n"
     ]
    },
    {
     "name": "stdout",
     "output_type": "stream",
     "text": [
      "epoch: 456/1000\t[valid_acc: 0.9916\tvalid_loss: 0.0551\ttrain_loss: 0.0000]\n"
     ]
    },
    {
     "name": "stderr",
     "output_type": "stream",
     "text": [
      "100%|██████████| 750/750 [00:02<00:00, 299.14it/s]\n",
      "100%|██████████| 187/187 [00:00<00:00, 1215.75it/s]\n"
     ]
    },
    {
     "name": "stdout",
     "output_type": "stream",
     "text": [
      "epoch: 457/1000\t[valid_acc: 0.9919\tvalid_loss: 0.0552\ttrain_loss: 0.0000]\n"
     ]
    },
    {
     "name": "stderr",
     "output_type": "stream",
     "text": [
      "100%|██████████| 750/750 [00:02<00:00, 311.07it/s]\n",
      "100%|██████████| 187/187 [00:00<00:00, 1049.15it/s]\n"
     ]
    },
    {
     "name": "stdout",
     "output_type": "stream",
     "text": [
      "epoch: 458/1000\t[valid_acc: 0.9918\tvalid_loss: 0.0554\ttrain_loss: 0.0000]\n"
     ]
    },
    {
     "name": "stderr",
     "output_type": "stream",
     "text": [
      "100%|██████████| 750/750 [00:02<00:00, 299.67it/s]\n",
      "100%|██████████| 187/187 [00:00<00:00, 1231.90it/s]\n"
     ]
    },
    {
     "name": "stdout",
     "output_type": "stream",
     "text": [
      "epoch: 459/1000\t[valid_acc: 0.9916\tvalid_loss: 0.0554\ttrain_loss: 0.0000]\n"
     ]
    },
    {
     "name": "stderr",
     "output_type": "stream",
     "text": [
      "100%|██████████| 750/750 [00:02<00:00, 304.31it/s]\n",
      "100%|██████████| 187/187 [00:00<00:00, 1193.23it/s]\n"
     ]
    },
    {
     "name": "stdout",
     "output_type": "stream",
     "text": [
      "epoch: 460/1000\t[valid_acc: 0.9915\tvalid_loss: 0.0553\ttrain_loss: 0.0000]\n"
     ]
    },
    {
     "name": "stderr",
     "output_type": "stream",
     "text": [
      "100%|██████████| 750/750 [00:02<00:00, 310.38it/s]\n",
      "100%|██████████| 187/187 [00:00<00:00, 1223.26it/s]\n"
     ]
    },
    {
     "name": "stdout",
     "output_type": "stream",
     "text": [
      "epoch: 461/1000\t[valid_acc: 0.9916\tvalid_loss: 0.0551\ttrain_loss: 0.0000]\n"
     ]
    },
    {
     "name": "stderr",
     "output_type": "stream",
     "text": [
      "100%|██████████| 750/750 [00:02<00:00, 303.33it/s]\n",
      "100%|██████████| 187/187 [00:00<00:00, 1242.18it/s]\n"
     ]
    },
    {
     "name": "stdout",
     "output_type": "stream",
     "text": [
      "epoch: 462/1000\t[valid_acc: 0.9916\tvalid_loss: 0.0554\ttrain_loss: 0.0000]\n"
     ]
    },
    {
     "name": "stderr",
     "output_type": "stream",
     "text": [
      "100%|██████████| 750/750 [00:02<00:00, 299.25it/s]\n",
      "100%|██████████| 187/187 [00:00<00:00, 1169.62it/s]\n"
     ]
    },
    {
     "name": "stdout",
     "output_type": "stream",
     "text": [
      "epoch: 463/1000\t[valid_acc: 0.9915\tvalid_loss: 0.0551\ttrain_loss: 0.0000]\n"
     ]
    },
    {
     "name": "stderr",
     "output_type": "stream",
     "text": [
      "100%|██████████| 750/750 [00:02<00:00, 308.08it/s]\n",
      "100%|██████████| 187/187 [00:00<00:00, 1204.43it/s]\n"
     ]
    },
    {
     "name": "stdout",
     "output_type": "stream",
     "text": [
      "epoch: 464/1000\t[valid_acc: 0.9914\tvalid_loss: 0.0553\ttrain_loss: 0.0000]\n"
     ]
    },
    {
     "name": "stderr",
     "output_type": "stream",
     "text": [
      "100%|██████████| 750/750 [00:02<00:00, 295.10it/s]\n",
      "100%|██████████| 187/187 [00:00<00:00, 1170.13it/s]\n"
     ]
    },
    {
     "name": "stdout",
     "output_type": "stream",
     "text": [
      "epoch: 465/1000\t[valid_acc: 0.9914\tvalid_loss: 0.0556\ttrain_loss: 0.0000]\n"
     ]
    },
    {
     "name": "stderr",
     "output_type": "stream",
     "text": [
      "100%|██████████| 750/750 [00:02<00:00, 298.19it/s]\n",
      "100%|██████████| 187/187 [00:00<00:00, 1223.02it/s]\n"
     ]
    },
    {
     "name": "stdout",
     "output_type": "stream",
     "text": [
      "epoch: 466/1000\t[valid_acc: 0.9914\tvalid_loss: 0.0555\ttrain_loss: 0.0000]\n"
     ]
    },
    {
     "name": "stderr",
     "output_type": "stream",
     "text": [
      "100%|██████████| 750/750 [00:02<00:00, 309.51it/s]\n",
      "100%|██████████| 187/187 [00:00<00:00, 1165.72it/s]\n"
     ]
    },
    {
     "name": "stdout",
     "output_type": "stream",
     "text": [
      "epoch: 467/1000\t[valid_acc: 0.9916\tvalid_loss: 0.0559\ttrain_loss: 0.0000]\n"
     ]
    },
    {
     "name": "stderr",
     "output_type": "stream",
     "text": [
      "100%|██████████| 750/750 [00:02<00:00, 304.05it/s]\n",
      "100%|██████████| 187/187 [00:00<00:00, 1211.29it/s]\n"
     ]
    },
    {
     "name": "stdout",
     "output_type": "stream",
     "text": [
      "epoch: 468/1000\t[valid_acc: 0.9915\tvalid_loss: 0.0561\ttrain_loss: 0.0000]\n"
     ]
    },
    {
     "name": "stderr",
     "output_type": "stream",
     "text": [
      "100%|██████████| 750/750 [00:02<00:00, 294.33it/s]\n",
      "100%|██████████| 187/187 [00:00<00:00, 1196.47it/s]\n"
     ]
    },
    {
     "name": "stdout",
     "output_type": "stream",
     "text": [
      "epoch: 469/1000\t[valid_acc: 0.9916\tvalid_loss: 0.0558\ttrain_loss: 0.0000]\n"
     ]
    },
    {
     "name": "stderr",
     "output_type": "stream",
     "text": [
      "100%|██████████| 750/750 [00:02<00:00, 304.76it/s]\n",
      "100%|██████████| 187/187 [00:00<00:00, 1013.71it/s]\n"
     ]
    },
    {
     "name": "stdout",
     "output_type": "stream",
     "text": [
      "epoch: 470/1000\t[valid_acc: 0.9914\tvalid_loss: 0.0557\ttrain_loss: 0.0000]\n"
     ]
    },
    {
     "name": "stderr",
     "output_type": "stream",
     "text": [
      "100%|██████████| 750/750 [00:02<00:00, 304.87it/s]\n",
      "100%|██████████| 187/187 [00:00<00:00, 1221.46it/s]\n"
     ]
    },
    {
     "name": "stdout",
     "output_type": "stream",
     "text": [
      "epoch: 471/1000\t[valid_acc: 0.9915\tvalid_loss: 0.0559\ttrain_loss: 0.0000]\n"
     ]
    },
    {
     "name": "stderr",
     "output_type": "stream",
     "text": [
      "100%|██████████| 750/750 [00:02<00:00, 296.23it/s]\n",
      "100%|██████████| 187/187 [00:00<00:00, 1204.99it/s]\n"
     ]
    },
    {
     "name": "stdout",
     "output_type": "stream",
     "text": [
      "epoch: 472/1000\t[valid_acc: 0.9916\tvalid_loss: 0.0557\ttrain_loss: 0.0000]\n"
     ]
    },
    {
     "name": "stderr",
     "output_type": "stream",
     "text": [
      "100%|██████████| 750/750 [00:02<00:00, 304.86it/s]\n",
      "100%|██████████| 187/187 [00:00<00:00, 1115.15it/s]\n"
     ]
    },
    {
     "name": "stdout",
     "output_type": "stream",
     "text": [
      "epoch: 473/1000\t[valid_acc: 0.9914\tvalid_loss: 0.0559\ttrain_loss: 0.0000]\n"
     ]
    },
    {
     "name": "stderr",
     "output_type": "stream",
     "text": [
      "100%|██████████| 750/750 [00:02<00:00, 300.10it/s]\n",
      "100%|██████████| 187/187 [00:00<00:00, 1212.92it/s]\n"
     ]
    },
    {
     "name": "stdout",
     "output_type": "stream",
     "text": [
      "epoch: 474/1000\t[valid_acc: 0.9914\tvalid_loss: 0.0560\ttrain_loss: 0.0000]\n"
     ]
    },
    {
     "name": "stderr",
     "output_type": "stream",
     "text": [
      "100%|██████████| 750/750 [00:02<00:00, 307.49it/s]\n",
      "100%|██████████| 187/187 [00:00<00:00, 1242.17it/s]\n"
     ]
    },
    {
     "name": "stdout",
     "output_type": "stream",
     "text": [
      "epoch: 475/1000\t[valid_acc: 0.9915\tvalid_loss: 0.0564\ttrain_loss: 0.0000]\n"
     ]
    },
    {
     "name": "stderr",
     "output_type": "stream",
     "text": [
      "100%|██████████| 750/750 [00:02<00:00, 307.92it/s]\n",
      "100%|██████████| 187/187 [00:00<00:00, 1140.45it/s]\n"
     ]
    },
    {
     "name": "stdout",
     "output_type": "stream",
     "text": [
      "epoch: 476/1000\t[valid_acc: 0.9916\tvalid_loss: 0.0561\ttrain_loss: 0.0000]\n"
     ]
    },
    {
     "name": "stderr",
     "output_type": "stream",
     "text": [
      "100%|██████████| 750/750 [00:02<00:00, 312.50it/s]\n",
      "100%|██████████| 187/187 [00:00<00:00, 1185.70it/s]\n"
     ]
    },
    {
     "name": "stdout",
     "output_type": "stream",
     "text": [
      "epoch: 477/1000\t[valid_acc: 0.9916\tvalid_loss: 0.0561\ttrain_loss: 0.0000]\n"
     ]
    },
    {
     "name": "stderr",
     "output_type": "stream",
     "text": [
      "100%|██████████| 750/750 [00:02<00:00, 300.63it/s]\n",
      "100%|██████████| 187/187 [00:00<00:00, 1213.41it/s]\n"
     ]
    },
    {
     "name": "stdout",
     "output_type": "stream",
     "text": [
      "epoch: 478/1000\t[valid_acc: 0.9916\tvalid_loss: 0.0566\ttrain_loss: 0.0000]\n"
     ]
    },
    {
     "name": "stderr",
     "output_type": "stream",
     "text": [
      "100%|██████████| 750/750 [00:02<00:00, 305.93it/s]\n",
      "100%|██████████| 187/187 [00:00<00:00, 1112.31it/s]\n"
     ]
    },
    {
     "name": "stdout",
     "output_type": "stream",
     "text": [
      "epoch: 479/1000\t[valid_acc: 0.9916\tvalid_loss: 0.0566\ttrain_loss: 0.0000]\n"
     ]
    },
    {
     "name": "stderr",
     "output_type": "stream",
     "text": [
      "100%|██████████| 750/750 [00:02<00:00, 310.71it/s]\n",
      "100%|██████████| 187/187 [00:00<00:00, 1193.39it/s]\n"
     ]
    },
    {
     "name": "stdout",
     "output_type": "stream",
     "text": [
      "epoch: 480/1000\t[valid_acc: 0.9915\tvalid_loss: 0.0564\ttrain_loss: 0.0000]\n"
     ]
    },
    {
     "name": "stderr",
     "output_type": "stream",
     "text": [
      "100%|██████████| 750/750 [00:02<00:00, 301.51it/s]\n",
      "100%|██████████| 187/187 [00:00<00:00, 1171.33it/s]\n"
     ]
    },
    {
     "name": "stdout",
     "output_type": "stream",
     "text": [
      "epoch: 481/1000\t[valid_acc: 0.9915\tvalid_loss: 0.0565\ttrain_loss: 0.0000]\n"
     ]
    },
    {
     "name": "stderr",
     "output_type": "stream",
     "text": [
      "100%|██████████| 750/750 [00:02<00:00, 301.14it/s]\n",
      "100%|██████████| 187/187 [00:00<00:00, 1195.12it/s]\n"
     ]
    },
    {
     "name": "stdout",
     "output_type": "stream",
     "text": [
      "epoch: 482/1000\t[valid_acc: 0.9916\tvalid_loss: 0.0567\ttrain_loss: 0.0000]\n"
     ]
    },
    {
     "name": "stderr",
     "output_type": "stream",
     "text": [
      "100%|██████████| 750/750 [00:02<00:00, 312.20it/s]\n",
      "100%|██████████| 187/187 [00:00<00:00, 1215.43it/s]\n"
     ]
    },
    {
     "name": "stdout",
     "output_type": "stream",
     "text": [
      "epoch: 483/1000\t[valid_acc: 0.9914\tvalid_loss: 0.0567\ttrain_loss: 0.0000]\n"
     ]
    },
    {
     "name": "stderr",
     "output_type": "stream",
     "text": [
      "100%|██████████| 750/750 [00:02<00:00, 303.03it/s]\n",
      "100%|██████████| 187/187 [00:00<00:00, 1180.09it/s]\n"
     ]
    },
    {
     "name": "stdout",
     "output_type": "stream",
     "text": [
      "epoch: 484/1000\t[valid_acc: 0.9913\tvalid_loss: 0.0568\ttrain_loss: 0.0000]\n"
     ]
    },
    {
     "name": "stderr",
     "output_type": "stream",
     "text": [
      "100%|██████████| 750/750 [00:02<00:00, 294.45it/s]\n",
      "100%|██████████| 187/187 [00:00<00:00, 1200.31it/s]\n"
     ]
    },
    {
     "name": "stdout",
     "output_type": "stream",
     "text": [
      "epoch: 485/1000\t[valid_acc: 0.9915\tvalid_loss: 0.0568\ttrain_loss: 0.0000]\n"
     ]
    },
    {
     "name": "stderr",
     "output_type": "stream",
     "text": [
      "100%|██████████| 750/750 [00:02<00:00, 310.70it/s]\n",
      "100%|██████████| 187/187 [00:00<00:00, 1169.04it/s]\n"
     ]
    },
    {
     "name": "stdout",
     "output_type": "stream",
     "text": [
      "epoch: 486/1000\t[valid_acc: 0.9914\tvalid_loss: 0.0569\ttrain_loss: 0.0000]\n"
     ]
    },
    {
     "name": "stderr",
     "output_type": "stream",
     "text": [
      "100%|██████████| 750/750 [00:02<00:00, 302.36it/s]\n",
      "100%|██████████| 187/187 [00:00<00:00, 1228.31it/s]\n"
     ]
    },
    {
     "name": "stdout",
     "output_type": "stream",
     "text": [
      "epoch: 487/1000\t[valid_acc: 0.9914\tvalid_loss: 0.0570\ttrain_loss: 0.0000]\n"
     ]
    },
    {
     "name": "stderr",
     "output_type": "stream",
     "text": [
      "100%|██████████| 750/750 [00:02<00:00, 300.87it/s]\n",
      "100%|██████████| 187/187 [00:00<00:00, 1173.68it/s]\n"
     ]
    },
    {
     "name": "stdout",
     "output_type": "stream",
     "text": [
      "epoch: 488/1000\t[valid_acc: 0.9914\tvalid_loss: 0.0565\ttrain_loss: 0.0000]\n"
     ]
    },
    {
     "name": "stderr",
     "output_type": "stream",
     "text": [
      "100%|██████████| 750/750 [00:02<00:00, 306.85it/s]\n",
      "100%|██████████| 187/187 [00:00<00:00, 1145.35it/s]\n"
     ]
    },
    {
     "name": "stdout",
     "output_type": "stream",
     "text": [
      "epoch: 489/1000\t[valid_acc: 0.9911\tvalid_loss: 0.0569\ttrain_loss: 0.0000]\n"
     ]
    },
    {
     "name": "stderr",
     "output_type": "stream",
     "text": [
      "100%|██████████| 750/750 [00:02<00:00, 296.24it/s]\n",
      "100%|██████████| 187/187 [00:00<00:00, 1218.13it/s]\n"
     ]
    },
    {
     "name": "stdout",
     "output_type": "stream",
     "text": [
      "epoch: 490/1000\t[valid_acc: 0.9914\tvalid_loss: 0.0571\ttrain_loss: 0.0000]\n"
     ]
    },
    {
     "name": "stderr",
     "output_type": "stream",
     "text": [
      "100%|██████████| 750/750 [00:02<00:00, 305.69it/s]\n",
      "100%|██████████| 187/187 [00:00<00:00, 1063.22it/s]\n"
     ]
    },
    {
     "name": "stdout",
     "output_type": "stream",
     "text": [
      "epoch: 491/1000\t[valid_acc: 0.9914\tvalid_loss: 0.0572\ttrain_loss: 0.0000]\n"
     ]
    },
    {
     "name": "stderr",
     "output_type": "stream",
     "text": [
      "100%|██████████| 750/750 [00:02<00:00, 309.63it/s]\n",
      "100%|██████████| 187/187 [00:00<00:00, 1233.12it/s]\n"
     ]
    },
    {
     "name": "stdout",
     "output_type": "stream",
     "text": [
      "epoch: 492/1000\t[valid_acc: 0.9915\tvalid_loss: 0.0569\ttrain_loss: 0.0000]\n"
     ]
    },
    {
     "name": "stderr",
     "output_type": "stream",
     "text": [
      "100%|██████████| 750/750 [00:02<00:00, 292.59it/s]\n",
      "100%|██████████| 187/187 [00:00<00:00, 1115.22it/s]\n"
     ]
    },
    {
     "name": "stdout",
     "output_type": "stream",
     "text": [
      "epoch: 493/1000\t[valid_acc: 0.9912\tvalid_loss: 0.0572\ttrain_loss: 0.0000]\n"
     ]
    },
    {
     "name": "stderr",
     "output_type": "stream",
     "text": [
      "100%|██████████| 750/750 [00:02<00:00, 307.37it/s]\n",
      "100%|██████████| 187/187 [00:00<00:00, 1203.40it/s]\n"
     ]
    },
    {
     "name": "stdout",
     "output_type": "stream",
     "text": [
      "epoch: 494/1000\t[valid_acc: 0.9913\tvalid_loss: 0.0573\ttrain_loss: 0.0000]\n"
     ]
    },
    {
     "name": "stderr",
     "output_type": "stream",
     "text": [
      "100%|██████████| 750/750 [00:02<00:00, 302.88it/s]\n",
      "100%|██████████| 187/187 [00:00<00:00, 1186.84it/s]\n"
     ]
    },
    {
     "name": "stdout",
     "output_type": "stream",
     "text": [
      "epoch: 495/1000\t[valid_acc: 0.9913\tvalid_loss: 0.0574\ttrain_loss: 0.0000]\n"
     ]
    },
    {
     "name": "stderr",
     "output_type": "stream",
     "text": [
      "100%|██████████| 750/750 [00:02<00:00, 304.90it/s]\n",
      "100%|██████████| 187/187 [00:00<00:00, 1184.55it/s]\n"
     ]
    },
    {
     "name": "stdout",
     "output_type": "stream",
     "text": [
      "epoch: 496/1000\t[valid_acc: 0.9913\tvalid_loss: 0.0575\ttrain_loss: 0.0000]\n"
     ]
    },
    {
     "name": "stderr",
     "output_type": "stream",
     "text": [
      "100%|██████████| 750/750 [00:02<00:00, 303.87it/s]\n",
      "100%|██████████| 187/187 [00:00<00:00, 1184.77it/s]\n"
     ]
    },
    {
     "name": "stdout",
     "output_type": "stream",
     "text": [
      "epoch: 497/1000\t[valid_acc: 0.9914\tvalid_loss: 0.0579\ttrain_loss: 0.0000]\n"
     ]
    },
    {
     "name": "stderr",
     "output_type": "stream",
     "text": [
      "100%|██████████| 750/750 [00:02<00:00, 299.06it/s]\n",
      "100%|██████████| 187/187 [00:00<00:00, 995.53it/s]\n"
     ]
    },
    {
     "name": "stdout",
     "output_type": "stream",
     "text": [
      "epoch: 498/1000\t[valid_acc: 0.9913\tvalid_loss: 0.0574\ttrain_loss: 0.0000]\n"
     ]
    },
    {
     "name": "stderr",
     "output_type": "stream",
     "text": [
      "100%|██████████| 750/750 [00:02<00:00, 310.91it/s]\n",
      "100%|██████████| 187/187 [00:00<00:00, 1240.25it/s]\n"
     ]
    },
    {
     "name": "stdout",
     "output_type": "stream",
     "text": [
      "epoch: 499/1000\t[valid_acc: 0.9914\tvalid_loss: 0.0570\ttrain_loss: 0.0000]\n"
     ]
    },
    {
     "name": "stderr",
     "output_type": "stream",
     "text": [
      "100%|██████████| 750/750 [00:02<00:00, 302.50it/s]\n",
      "100%|██████████| 187/187 [00:00<00:00, 1080.23it/s]\n"
     ]
    },
    {
     "name": "stdout",
     "output_type": "stream",
     "text": [
      "epoch: 500/1000\t[valid_acc: 0.9911\tvalid_loss: 0.0575\ttrain_loss: 0.0000]\n"
     ]
    },
    {
     "name": "stderr",
     "output_type": "stream",
     "text": [
      "100%|██████████| 750/750 [00:02<00:00, 297.66it/s]\n",
      "100%|██████████| 187/187 [00:00<00:00, 1196.55it/s]\n"
     ]
    },
    {
     "name": "stdout",
     "output_type": "stream",
     "text": [
      "epoch: 501/1000\t[valid_acc: 0.9915\tvalid_loss: 0.0573\ttrain_loss: 0.0000]\n"
     ]
    },
    {
     "name": "stderr",
     "output_type": "stream",
     "text": [
      "100%|██████████| 750/750 [00:02<00:00, 306.81it/s]\n",
      "100%|██████████| 187/187 [00:00<00:00, 1210.60it/s]\n"
     ]
    },
    {
     "name": "stdout",
     "output_type": "stream",
     "text": [
      "epoch: 502/1000\t[valid_acc: 0.9912\tvalid_loss: 0.0574\ttrain_loss: 0.0000]\n"
     ]
    },
    {
     "name": "stderr",
     "output_type": "stream",
     "text": [
      "100%|██████████| 750/750 [00:02<00:00, 305.69it/s]\n",
      "100%|██████████| 187/187 [00:00<00:00, 1168.68it/s]\n"
     ]
    },
    {
     "name": "stdout",
     "output_type": "stream",
     "text": [
      "epoch: 503/1000\t[valid_acc: 0.9914\tvalid_loss: 0.0574\ttrain_loss: 0.0000]\n"
     ]
    },
    {
     "name": "stderr",
     "output_type": "stream",
     "text": [
      "100%|██████████| 750/750 [00:02<00:00, 298.30it/s]\n",
      "100%|██████████| 187/187 [00:00<00:00, 1203.50it/s]\n"
     ]
    },
    {
     "name": "stdout",
     "output_type": "stream",
     "text": [
      "epoch: 504/1000\t[valid_acc: 0.9914\tvalid_loss: 0.0573\ttrain_loss: 0.0000]\n"
     ]
    },
    {
     "name": "stderr",
     "output_type": "stream",
     "text": [
      "100%|██████████| 750/750 [00:02<00:00, 303.73it/s]\n",
      "100%|██████████| 187/187 [00:00<00:00, 1192.43it/s]\n"
     ]
    },
    {
     "name": "stdout",
     "output_type": "stream",
     "text": [
      "epoch: 505/1000\t[valid_acc: 0.9912\tvalid_loss: 0.0578\ttrain_loss: 0.0000]\n"
     ]
    },
    {
     "name": "stderr",
     "output_type": "stream",
     "text": [
      "100%|██████████| 750/750 [00:02<00:00, 294.69it/s]\n",
      "100%|██████████| 187/187 [00:00<00:00, 1186.28it/s]\n"
     ]
    },
    {
     "name": "stdout",
     "output_type": "stream",
     "text": [
      "epoch: 506/1000\t[valid_acc: 0.9914\tvalid_loss: 0.0577\ttrain_loss: 0.0000]\n"
     ]
    },
    {
     "name": "stderr",
     "output_type": "stream",
     "text": [
      "100%|██████████| 750/750 [00:02<00:00, 299.37it/s]\n",
      "100%|██████████| 187/187 [00:00<00:00, 1115.82it/s]\n"
     ]
    },
    {
     "name": "stdout",
     "output_type": "stream",
     "text": [
      "epoch: 507/1000\t[valid_acc: 0.9913\tvalid_loss: 0.0574\ttrain_loss: 0.0000]\n"
     ]
    },
    {
     "name": "stderr",
     "output_type": "stream",
     "text": [
      "100%|██████████| 750/750 [00:02<00:00, 308.67it/s]\n",
      "100%|██████████| 187/187 [00:00<00:00, 1201.35it/s]\n"
     ]
    },
    {
     "name": "stdout",
     "output_type": "stream",
     "text": [
      "epoch: 508/1000\t[valid_acc: 0.9914\tvalid_loss: 0.0573\ttrain_loss: 0.0000]\n"
     ]
    },
    {
     "name": "stderr",
     "output_type": "stream",
     "text": [
      "100%|██████████| 750/750 [00:02<00:00, 304.16it/s]\n",
      "100%|██████████| 187/187 [00:00<00:00, 1217.13it/s]\n"
     ]
    },
    {
     "name": "stdout",
     "output_type": "stream",
     "text": [
      "epoch: 509/1000\t[valid_acc: 0.9914\tvalid_loss: 0.0578\ttrain_loss: 0.0000]\n"
     ]
    },
    {
     "name": "stderr",
     "output_type": "stream",
     "text": [
      "100%|██████████| 750/750 [00:02<00:00, 305.87it/s]\n",
      "100%|██████████| 187/187 [00:00<00:00, 1199.43it/s]\n"
     ]
    },
    {
     "name": "stdout",
     "output_type": "stream",
     "text": [
      "epoch: 510/1000\t[valid_acc: 0.9913\tvalid_loss: 0.0574\ttrain_loss: 0.0000]\n"
     ]
    },
    {
     "name": "stderr",
     "output_type": "stream",
     "text": [
      "100%|██████████| 750/750 [00:02<00:00, 301.87it/s]\n",
      "100%|██████████| 187/187 [00:00<00:00, 1182.32it/s]\n"
     ]
    },
    {
     "name": "stdout",
     "output_type": "stream",
     "text": [
      "epoch: 511/1000\t[valid_acc: 0.9916\tvalid_loss: 0.0573\ttrain_loss: 0.0000]\n"
     ]
    },
    {
     "name": "stderr",
     "output_type": "stream",
     "text": [
      "100%|██████████| 750/750 [00:02<00:00, 306.06it/s]\n",
      "100%|██████████| 187/187 [00:00<00:00, 1214.00it/s]\n"
     ]
    },
    {
     "name": "stdout",
     "output_type": "stream",
     "text": [
      "epoch: 512/1000\t[valid_acc: 0.9912\tvalid_loss: 0.0581\ttrain_loss: 0.0000]\n"
     ]
    },
    {
     "name": "stderr",
     "output_type": "stream",
     "text": [
      "100%|██████████| 750/750 [00:02<00:00, 303.45it/s]\n",
      "100%|██████████| 187/187 [00:00<00:00, 1194.45it/s]\n"
     ]
    },
    {
     "name": "stdout",
     "output_type": "stream",
     "text": [
      "epoch: 513/1000\t[valid_acc: 0.9914\tvalid_loss: 0.0577\ttrain_loss: 0.0000]\n"
     ]
    },
    {
     "name": "stderr",
     "output_type": "stream",
     "text": [
      "100%|██████████| 750/750 [00:02<00:00, 302.34it/s]\n",
      "100%|██████████| 187/187 [00:00<00:00, 1121.98it/s]\n"
     ]
    },
    {
     "name": "stdout",
     "output_type": "stream",
     "text": [
      "epoch: 514/1000\t[valid_acc: 0.9914\tvalid_loss: 0.0577\ttrain_loss: 0.0000]\n"
     ]
    },
    {
     "name": "stderr",
     "output_type": "stream",
     "text": [
      "100%|██████████| 750/750 [00:02<00:00, 296.50it/s]\n",
      "100%|██████████| 187/187 [00:00<00:00, 1171.62it/s]\n"
     ]
    },
    {
     "name": "stdout",
     "output_type": "stream",
     "text": [
      "epoch: 515/1000\t[valid_acc: 0.9916\tvalid_loss: 0.0572\ttrain_loss: 0.0000]\n"
     ]
    },
    {
     "name": "stderr",
     "output_type": "stream",
     "text": [
      "100%|██████████| 750/750 [00:02<00:00, 305.85it/s]\n",
      "100%|██████████| 187/187 [00:00<00:00, 1146.59it/s]\n"
     ]
    },
    {
     "name": "stdout",
     "output_type": "stream",
     "text": [
      "epoch: 516/1000\t[valid_acc: 0.9916\tvalid_loss: 0.0573\ttrain_loss: 0.0000]\n"
     ]
    },
    {
     "name": "stderr",
     "output_type": "stream",
     "text": [
      "100%|██████████| 750/750 [00:02<00:00, 308.77it/s]\n",
      "100%|██████████| 187/187 [00:00<00:00, 802.94it/s]\n"
     ]
    },
    {
     "name": "stdout",
     "output_type": "stream",
     "text": [
      "epoch: 517/1000\t[valid_acc: 0.9916\tvalid_loss: 0.0571\ttrain_loss: 0.0000]\n"
     ]
    },
    {
     "name": "stderr",
     "output_type": "stream",
     "text": [
      "100%|██████████| 750/750 [00:02<00:00, 312.41it/s]\n",
      "100%|██████████| 187/187 [00:00<00:00, 1183.14it/s]\n"
     ]
    },
    {
     "name": "stdout",
     "output_type": "stream",
     "text": [
      "epoch: 518/1000\t[valid_acc: 0.9915\tvalid_loss: 0.0570\ttrain_loss: 0.0000]\n"
     ]
    },
    {
     "name": "stderr",
     "output_type": "stream",
     "text": [
      "100%|██████████| 750/750 [00:02<00:00, 301.54it/s]\n",
      "100%|██████████| 187/187 [00:00<00:00, 1229.51it/s]\n"
     ]
    },
    {
     "name": "stdout",
     "output_type": "stream",
     "text": [
      "epoch: 519/1000\t[valid_acc: 0.9915\tvalid_loss: 0.0572\ttrain_loss: 0.0000]\n"
     ]
    },
    {
     "name": "stderr",
     "output_type": "stream",
     "text": [
      "100%|██████████| 750/750 [00:02<00:00, 299.48it/s]\n",
      "100%|██████████| 187/187 [00:00<00:00, 1208.84it/s]\n"
     ]
    },
    {
     "name": "stdout",
     "output_type": "stream",
     "text": [
      "epoch: 520/1000\t[valid_acc: 0.9914\tvalid_loss: 0.0575\ttrain_loss: 0.0000]\n"
     ]
    },
    {
     "name": "stderr",
     "output_type": "stream",
     "text": [
      "100%|██████████| 750/750 [00:02<00:00, 311.44it/s]\n",
      "100%|██████████| 187/187 [00:00<00:00, 995.29it/s] \n"
     ]
    },
    {
     "name": "stdout",
     "output_type": "stream",
     "text": [
      "epoch: 521/1000\t[valid_acc: 0.9914\tvalid_loss: 0.0578\ttrain_loss: 0.0000]\n"
     ]
    },
    {
     "name": "stderr",
     "output_type": "stream",
     "text": [
      "100%|██████████| 750/750 [00:02<00:00, 297.49it/s]\n",
      "100%|██████████| 187/187 [00:00<00:00, 1174.76it/s]\n"
     ]
    },
    {
     "name": "stdout",
     "output_type": "stream",
     "text": [
      "epoch: 522/1000\t[valid_acc: 0.9913\tvalid_loss: 0.0572\ttrain_loss: 0.0000]\n"
     ]
    },
    {
     "name": "stderr",
     "output_type": "stream",
     "text": [
      "100%|██████████| 750/750 [00:02<00:00, 287.60it/s]\n",
      "100%|██████████| 187/187 [00:00<00:00, 1118.31it/s]\n"
     ]
    },
    {
     "name": "stdout",
     "output_type": "stream",
     "text": [
      "epoch: 523/1000\t[valid_acc: 0.9915\tvalid_loss: 0.0574\ttrain_loss: 0.0000]\n"
     ]
    },
    {
     "name": "stderr",
     "output_type": "stream",
     "text": [
      "100%|██████████| 750/750 [00:02<00:00, 310.79it/s]\n",
      "100%|██████████| 187/187 [00:00<00:00, 1208.85it/s]\n"
     ]
    },
    {
     "name": "stdout",
     "output_type": "stream",
     "text": [
      "epoch: 524/1000\t[valid_acc: 0.9913\tvalid_loss: 0.0571\ttrain_loss: 0.0000]\n"
     ]
    },
    {
     "name": "stderr",
     "output_type": "stream",
     "text": [
      "100%|██████████| 750/750 [00:02<00:00, 301.72it/s]\n",
      "100%|██████████| 187/187 [00:00<00:00, 1204.55it/s]\n"
     ]
    },
    {
     "name": "stdout",
     "output_type": "stream",
     "text": [
      "epoch: 525/1000\t[valid_acc: 0.9912\tvalid_loss: 0.0576\ttrain_loss: 0.0000]\n"
     ]
    },
    {
     "name": "stderr",
     "output_type": "stream",
     "text": [
      "100%|██████████| 750/750 [00:02<00:00, 295.70it/s]\n",
      "100%|██████████| 187/187 [00:00<00:00, 1012.82it/s]\n"
     ]
    },
    {
     "name": "stdout",
     "output_type": "stream",
     "text": [
      "epoch: 526/1000\t[valid_acc: 0.9915\tvalid_loss: 0.0576\ttrain_loss: 0.0000]\n"
     ]
    },
    {
     "name": "stderr",
     "output_type": "stream",
     "text": [
      "100%|██████████| 750/750 [00:02<00:00, 310.52it/s]\n",
      "100%|██████████| 187/187 [00:00<00:00, 1177.62it/s]\n"
     ]
    },
    {
     "name": "stdout",
     "output_type": "stream",
     "text": [
      "epoch: 527/1000\t[valid_acc: 0.9914\tvalid_loss: 0.0572\ttrain_loss: 0.0000]\n"
     ]
    },
    {
     "name": "stderr",
     "output_type": "stream",
     "text": [
      "100%|██████████| 750/750 [00:02<00:00, 295.31it/s]\n",
      "100%|██████████| 187/187 [00:00<00:00, 1192.13it/s]\n"
     ]
    },
    {
     "name": "stdout",
     "output_type": "stream",
     "text": [
      "epoch: 528/1000\t[valid_acc: 0.9914\tvalid_loss: 0.0577\ttrain_loss: 0.0000]\n"
     ]
    },
    {
     "name": "stderr",
     "output_type": "stream",
     "text": [
      "100%|██████████| 750/750 [00:02<00:00, 297.66it/s]\n",
      "100%|██████████| 187/187 [00:00<00:00, 1225.00it/s]\n"
     ]
    },
    {
     "name": "stdout",
     "output_type": "stream",
     "text": [
      "epoch: 529/1000\t[valid_acc: 0.9914\tvalid_loss: 0.0573\ttrain_loss: 0.0000]\n"
     ]
    },
    {
     "name": "stderr",
     "output_type": "stream",
     "text": [
      "100%|██████████| 750/750 [00:02<00:00, 304.73it/s]\n",
      "100%|██████████| 187/187 [00:00<00:00, 1130.13it/s]\n"
     ]
    },
    {
     "name": "stdout",
     "output_type": "stream",
     "text": [
      "epoch: 530/1000\t[valid_acc: 0.9912\tvalid_loss: 0.0576\ttrain_loss: 0.0000]\n"
     ]
    },
    {
     "name": "stderr",
     "output_type": "stream",
     "text": [
      "100%|██████████| 750/750 [00:02<00:00, 302.03it/s]\n",
      "100%|██████████| 187/187 [00:00<00:00, 1158.47it/s]\n"
     ]
    },
    {
     "name": "stdout",
     "output_type": "stream",
     "text": [
      "epoch: 531/1000\t[valid_acc: 0.9915\tvalid_loss: 0.0571\ttrain_loss: 0.0000]\n"
     ]
    },
    {
     "name": "stderr",
     "output_type": "stream",
     "text": [
      "100%|██████████| 750/750 [00:02<00:00, 307.72it/s]\n",
      "100%|██████████| 187/187 [00:00<00:00, 1204.58it/s]\n"
     ]
    },
    {
     "name": "stdout",
     "output_type": "stream",
     "text": [
      "epoch: 532/1000\t[valid_acc: 0.9913\tvalid_loss: 0.0573\ttrain_loss: 0.0000]\n"
     ]
    },
    {
     "name": "stderr",
     "output_type": "stream",
     "text": [
      "100%|██████████| 750/750 [00:02<00:00, 298.15it/s]\n",
      "100%|██████████| 187/187 [00:00<00:00, 1193.62it/s]\n"
     ]
    },
    {
     "name": "stdout",
     "output_type": "stream",
     "text": [
      "epoch: 533/1000\t[valid_acc: 0.9913\tvalid_loss: 0.0578\ttrain_loss: 0.0000]\n"
     ]
    },
    {
     "name": "stderr",
     "output_type": "stream",
     "text": [
      "100%|██████████| 750/750 [00:02<00:00, 305.21it/s]\n",
      "100%|██████████| 187/187 [00:00<00:00, 1252.01it/s]\n"
     ]
    },
    {
     "name": "stdout",
     "output_type": "stream",
     "text": [
      "epoch: 534/1000\t[valid_acc: 0.9913\tvalid_loss: 0.0573\ttrain_loss: 0.0000]\n"
     ]
    },
    {
     "name": "stderr",
     "output_type": "stream",
     "text": [
      "100%|██████████| 750/750 [00:02<00:00, 294.02it/s]\n",
      "100%|██████████| 187/187 [00:00<00:00, 1203.90it/s]\n"
     ]
    },
    {
     "name": "stdout",
     "output_type": "stream",
     "text": [
      "epoch: 535/1000\t[valid_acc: 0.9914\tvalid_loss: 0.0576\ttrain_loss: 0.0000]\n"
     ]
    },
    {
     "name": "stderr",
     "output_type": "stream",
     "text": [
      "100%|██████████| 750/750 [00:02<00:00, 293.51it/s]\n",
      "100%|██████████| 187/187 [00:00<00:00, 1154.19it/s]\n"
     ]
    },
    {
     "name": "stdout",
     "output_type": "stream",
     "text": [
      "epoch: 536/1000\t[valid_acc: 0.9912\tvalid_loss: 0.0572\ttrain_loss: 0.0000]\n"
     ]
    },
    {
     "name": "stderr",
     "output_type": "stream",
     "text": [
      "100%|██████████| 750/750 [00:02<00:00, 287.02it/s]\n",
      "100%|██████████| 187/187 [00:00<00:00, 1177.96it/s]\n"
     ]
    },
    {
     "name": "stdout",
     "output_type": "stream",
     "text": [
      "epoch: 537/1000\t[valid_acc: 0.9911\tvalid_loss: 0.0575\ttrain_loss: 0.0000]\n"
     ]
    },
    {
     "name": "stderr",
     "output_type": "stream",
     "text": [
      "100%|██████████| 750/750 [00:02<00:00, 303.35it/s]\n",
      "100%|██████████| 187/187 [00:00<00:00, 1197.45it/s]\n"
     ]
    },
    {
     "name": "stdout",
     "output_type": "stream",
     "text": [
      "epoch: 538/1000\t[valid_acc: 0.9914\tvalid_loss: 0.0578\ttrain_loss: 0.0000]\n"
     ]
    },
    {
     "name": "stderr",
     "output_type": "stream",
     "text": [
      "100%|██████████| 750/750 [00:02<00:00, 296.31it/s]\n",
      "100%|██████████| 187/187 [00:00<00:00, 1188.88it/s]\n"
     ]
    },
    {
     "name": "stdout",
     "output_type": "stream",
     "text": [
      "epoch: 539/1000\t[valid_acc: 0.9913\tvalid_loss: 0.0579\ttrain_loss: 0.0000]\n"
     ]
    },
    {
     "name": "stderr",
     "output_type": "stream",
     "text": [
      "100%|██████████| 750/750 [00:02<00:00, 294.93it/s]\n",
      "100%|██████████| 187/187 [00:00<00:00, 1169.05it/s]\n"
     ]
    },
    {
     "name": "stdout",
     "output_type": "stream",
     "text": [
      "epoch: 540/1000\t[valid_acc: 0.9913\tvalid_loss: 0.0578\ttrain_loss: 0.0000]\n"
     ]
    },
    {
     "name": "stderr",
     "output_type": "stream",
     "text": [
      "100%|██████████| 750/750 [00:02<00:00, 303.21it/s]\n",
      "100%|██████████| 187/187 [00:00<00:00, 1107.67it/s]\n"
     ]
    },
    {
     "name": "stdout",
     "output_type": "stream",
     "text": [
      "epoch: 541/1000\t[valid_acc: 0.9913\tvalid_loss: 0.0577\ttrain_loss: 0.0000]\n"
     ]
    },
    {
     "name": "stderr",
     "output_type": "stream",
     "text": [
      "100%|██████████| 750/750 [00:02<00:00, 298.80it/s]\n",
      "100%|██████████| 187/187 [00:00<00:00, 1188.37it/s]\n"
     ]
    },
    {
     "name": "stdout",
     "output_type": "stream",
     "text": [
      "epoch: 542/1000\t[valid_acc: 0.9913\tvalid_loss: 0.0576\ttrain_loss: 0.0000]\n"
     ]
    },
    {
     "name": "stderr",
     "output_type": "stream",
     "text": [
      "100%|██████████| 750/750 [00:02<00:00, 305.82it/s]\n",
      "100%|██████████| 187/187 [00:00<00:00, 1159.85it/s]\n"
     ]
    },
    {
     "name": "stdout",
     "output_type": "stream",
     "text": [
      "epoch: 543/1000\t[valid_acc: 0.9913\tvalid_loss: 0.0576\ttrain_loss: 0.0000]\n"
     ]
    },
    {
     "name": "stderr",
     "output_type": "stream",
     "text": [
      " 21%|██        | 156/750 [00:00<00:02, 263.73it/s]\n"
     ]
    },
    {
     "ename": "KeyboardInterrupt",
     "evalue": "",
     "output_type": "error",
     "traceback": [
      "\u001b[0;31m---------------------------------------------------------------------------\u001b[0m",
      "\u001b[0;31mKeyboardInterrupt\u001b[0m                         Traceback (most recent call last)",
      "\u001b[0;32m/tmp/ipykernel_9829/593527893.py\u001b[0m in \u001b[0;36m<module>\u001b[0;34m\u001b[0m\n\u001b[1;32m      9\u001b[0m \u001b[0mtrain_dl\u001b[0m\u001b[0;34m,\u001b[0m \u001b[0mtest_dl\u001b[0m \u001b[0;34m=\u001b[0m \u001b[0mDataLoader\u001b[0m\u001b[0;34m(\u001b[0m\u001b[0mtrain_ds\u001b[0m\u001b[0;34m,\u001b[0m \u001b[0mbs\u001b[0m\u001b[0;34m)\u001b[0m\u001b[0;34m,\u001b[0m \u001b[0mDataLoader\u001b[0m\u001b[0;34m(\u001b[0m\u001b[0mtest_ds\u001b[0m\u001b[0;34m,\u001b[0m \u001b[0mbs\u001b[0m\u001b[0;34m)\u001b[0m\u001b[0;34m\u001b[0m\u001b[0m\n\u001b[1;32m     10\u001b[0m \u001b[0mlearn\u001b[0m \u001b[0;34m=\u001b[0m \u001b[0mLearner\u001b[0m\u001b[0;34m(\u001b[0m\u001b[0mtrain_ds\u001b[0m\u001b[0;34m,\u001b[0m \u001b[0msetup_config\u001b[0m\u001b[0;34m)\u001b[0m\u001b[0;34m\u001b[0m\u001b[0m\n\u001b[0;32m---> 11\u001b[0;31m \u001b[0mlearn\u001b[0m\u001b[0;34m.\u001b[0m\u001b[0mfit\u001b[0m\u001b[0;34m(\u001b[0m\u001b[0;36m1000\u001b[0m\u001b[0;34m)\u001b[0m\u001b[0;34m\u001b[0m\u001b[0m\n\u001b[0m",
      "\u001b[0;32m/content/Template_Project/core/dl_framework/learner.py\u001b[0m in \u001b[0;36mfit\u001b[0;34m(self, epochs)\u001b[0m\n\u001b[1;32m     35\u001b[0m             \u001b[0mself\u001b[0m\u001b[0;34m.\u001b[0m\u001b[0mcbh\u001b[0m\u001b[0;34m.\u001b[0m\u001b[0mon_epoch_begin\u001b[0m\u001b[0;34m(\u001b[0m\u001b[0mepoch\u001b[0m\u001b[0;34m)\u001b[0m\u001b[0;34m\u001b[0m\u001b[0m\n\u001b[1;32m     36\u001b[0m             \u001b[0;32mif\u001b[0m \u001b[0mself\u001b[0m\u001b[0;34m.\u001b[0m\u001b[0mlearn\u001b[0m\u001b[0;34m.\u001b[0m\u001b[0mdo_stop\u001b[0m\u001b[0;34m:\u001b[0m \u001b[0;32mbreak\u001b[0m\u001b[0;34m\u001b[0m\u001b[0m\n\u001b[0;32m---> 37\u001b[0;31m             \u001b[0mself\u001b[0m\u001b[0;34m.\u001b[0m\u001b[0mall_batches\u001b[0m\u001b[0;34m(\u001b[0m\u001b[0mself\u001b[0m\u001b[0;34m.\u001b[0m\u001b[0mlearn\u001b[0m\u001b[0;34m.\u001b[0m\u001b[0mdata\u001b[0m\u001b[0;34m.\u001b[0m\u001b[0mtrain_dl\u001b[0m\u001b[0;34m)\u001b[0m\u001b[0;34m\u001b[0m\u001b[0m\n\u001b[0m\u001b[1;32m     38\u001b[0m \u001b[0;34m\u001b[0m\u001b[0m\n\u001b[1;32m     39\u001b[0m             \u001b[0mself\u001b[0m\u001b[0;34m.\u001b[0m\u001b[0mcbh\u001b[0m\u001b[0;34m.\u001b[0m\u001b[0mon_validate_begin\u001b[0m\u001b[0;34m(\u001b[0m\u001b[0;34m)\u001b[0m\u001b[0;34m\u001b[0m\u001b[0m\n",
      "\u001b[0;32m/content/Template_Project/core/dl_framework/learner.py\u001b[0m in \u001b[0;36mall_batches\u001b[0;34m(self, data)\u001b[0m\n\u001b[1;32m     46\u001b[0m         \u001b[0mpbar\u001b[0m \u001b[0;34m=\u001b[0m \u001b[0mtqdm\u001b[0m\u001b[0;34m(\u001b[0m\u001b[0mdata\u001b[0m\u001b[0;34m,\u001b[0m \u001b[0mtotal\u001b[0m\u001b[0;34m=\u001b[0m\u001b[0mlen\u001b[0m\u001b[0;34m(\u001b[0m\u001b[0mdata\u001b[0m\u001b[0;34m)\u001b[0m\u001b[0;34m)\u001b[0m\u001b[0;34m\u001b[0m\u001b[0m\n\u001b[1;32m     47\u001b[0m         \u001b[0;32mfor\u001b[0m \u001b[0mbatch\u001b[0m \u001b[0;32min\u001b[0m \u001b[0mpbar\u001b[0m\u001b[0;34m:\u001b[0m\u001b[0;34m\u001b[0m\u001b[0m\n\u001b[0;32m---> 48\u001b[0;31m             \u001b[0mself\u001b[0m\u001b[0;34m.\u001b[0m\u001b[0mone_batch\u001b[0m\u001b[0;34m(\u001b[0m\u001b[0mbatch\u001b[0m\u001b[0;34m)\u001b[0m\u001b[0;34m\u001b[0m\u001b[0m\n\u001b[0m\u001b[1;32m     49\u001b[0m             \u001b[0mself\u001b[0m\u001b[0;34m.\u001b[0m\u001b[0mcbh\u001b[0m\u001b[0;34m.\u001b[0m\u001b[0mon_batch_end\u001b[0m\u001b[0;34m(\u001b[0m\u001b[0;34m)\u001b[0m\u001b[0;34m\u001b[0m\u001b[0m\n\u001b[1;32m     50\u001b[0m         \u001b[0;31m# pbar.set_description(f\"self.learn.history\")\u001b[0m\u001b[0;34m\u001b[0m\u001b[0;34m\u001b[0m\u001b[0m\n",
      "\u001b[0;32m/content/Template_Project/core/dl_framework/learner.py\u001b[0m in \u001b[0;36mone_batch\u001b[0;34m(self, batch)\u001b[0m\n\u001b[1;32m     57\u001b[0m         \u001b[0;32mif\u001b[0m \u001b[0;32mnot\u001b[0m \u001b[0mself\u001b[0m\u001b[0;34m.\u001b[0m\u001b[0mcbh\u001b[0m\u001b[0;34m.\u001b[0m\u001b[0mon_loss_end\u001b[0m\u001b[0;34m(\u001b[0m\u001b[0mloss\u001b[0m\u001b[0;34m,\u001b[0m \u001b[0mout\u001b[0m\u001b[0;34m,\u001b[0m \u001b[0myb\u001b[0m\u001b[0;34m)\u001b[0m\u001b[0;34m:\u001b[0m \u001b[0;32mreturn\u001b[0m\u001b[0;34m\u001b[0m\u001b[0m\n\u001b[1;32m     58\u001b[0m         \u001b[0mloss\u001b[0m\u001b[0;34m.\u001b[0m\u001b[0mbackward\u001b[0m\u001b[0;34m(\u001b[0m\u001b[0;34m)\u001b[0m\u001b[0;34m\u001b[0m\u001b[0m\n\u001b[0;32m---> 59\u001b[0;31m         \u001b[0mself\u001b[0m\u001b[0;34m.\u001b[0m\u001b[0mlearn\u001b[0m\u001b[0;34m.\u001b[0m\u001b[0mopt\u001b[0m\u001b[0;34m.\u001b[0m\u001b[0mstep\u001b[0m\u001b[0;34m(\u001b[0m\u001b[0;34m)\u001b[0m\u001b[0;34m\u001b[0m\u001b[0m\n\u001b[0m\u001b[1;32m     60\u001b[0m         \u001b[0mself\u001b[0m\u001b[0;34m.\u001b[0m\u001b[0mlearn\u001b[0m\u001b[0;34m.\u001b[0m\u001b[0mopt\u001b[0m\u001b[0;34m.\u001b[0m\u001b[0mzero_grad\u001b[0m\u001b[0;34m(\u001b[0m\u001b[0;34m)\u001b[0m\u001b[0;34m\u001b[0m\u001b[0m\n\u001b[1;32m     61\u001b[0m \u001b[0;34m\u001b[0m\u001b[0m\n",
      "\u001b[0;32m/content/Pkg_Path/torch/optim/optimizer.py\u001b[0m in \u001b[0;36mwrapper\u001b[0;34m(*args, **kwargs)\u001b[0m\n\u001b[1;32m     86\u001b[0m                 \u001b[0mprofile_name\u001b[0m \u001b[0;34m=\u001b[0m \u001b[0;34m\"Optimizer.step#{}.step\"\u001b[0m\u001b[0;34m.\u001b[0m\u001b[0mformat\u001b[0m\u001b[0;34m(\u001b[0m\u001b[0mobj\u001b[0m\u001b[0;34m.\u001b[0m\u001b[0m__class__\u001b[0m\u001b[0;34m.\u001b[0m\u001b[0m__name__\u001b[0m\u001b[0;34m)\u001b[0m\u001b[0;34m\u001b[0m\u001b[0m\n\u001b[1;32m     87\u001b[0m                 \u001b[0;32mwith\u001b[0m \u001b[0mtorch\u001b[0m\u001b[0;34m.\u001b[0m\u001b[0mautograd\u001b[0m\u001b[0;34m.\u001b[0m\u001b[0mprofiler\u001b[0m\u001b[0;34m.\u001b[0m\u001b[0mrecord_function\u001b[0m\u001b[0;34m(\u001b[0m\u001b[0mprofile_name\u001b[0m\u001b[0;34m)\u001b[0m\u001b[0;34m:\u001b[0m\u001b[0;34m\u001b[0m\u001b[0m\n\u001b[0;32m---> 88\u001b[0;31m                     \u001b[0;32mreturn\u001b[0m \u001b[0mfunc\u001b[0m\u001b[0;34m(\u001b[0m\u001b[0;34m*\u001b[0m\u001b[0margs\u001b[0m\u001b[0;34m,\u001b[0m \u001b[0;34m**\u001b[0m\u001b[0mkwargs\u001b[0m\u001b[0;34m)\u001b[0m\u001b[0;34m\u001b[0m\u001b[0m\n\u001b[0m\u001b[1;32m     89\u001b[0m             \u001b[0;32mreturn\u001b[0m \u001b[0mwrapper\u001b[0m\u001b[0;34m\u001b[0m\u001b[0m\n\u001b[1;32m     90\u001b[0m \u001b[0;34m\u001b[0m\u001b[0m\n",
      "\u001b[0;32m/content/Pkg_Path/torch/autograd/grad_mode.py\u001b[0m in \u001b[0;36mdecorate_context\u001b[0;34m(*args, **kwargs)\u001b[0m\n\u001b[1;32m     25\u001b[0m         \u001b[0;32mdef\u001b[0m \u001b[0mdecorate_context\u001b[0m\u001b[0;34m(\u001b[0m\u001b[0;34m*\u001b[0m\u001b[0margs\u001b[0m\u001b[0;34m,\u001b[0m \u001b[0;34m**\u001b[0m\u001b[0mkwargs\u001b[0m\u001b[0;34m)\u001b[0m\u001b[0;34m:\u001b[0m\u001b[0;34m\u001b[0m\u001b[0m\n\u001b[1;32m     26\u001b[0m             \u001b[0;32mwith\u001b[0m \u001b[0mself\u001b[0m\u001b[0;34m.\u001b[0m\u001b[0mclone\u001b[0m\u001b[0;34m(\u001b[0m\u001b[0;34m)\u001b[0m\u001b[0;34m:\u001b[0m\u001b[0;34m\u001b[0m\u001b[0m\n\u001b[0;32m---> 27\u001b[0;31m                 \u001b[0;32mreturn\u001b[0m \u001b[0mfunc\u001b[0m\u001b[0;34m(\u001b[0m\u001b[0;34m*\u001b[0m\u001b[0margs\u001b[0m\u001b[0;34m,\u001b[0m \u001b[0;34m**\u001b[0m\u001b[0mkwargs\u001b[0m\u001b[0;34m)\u001b[0m\u001b[0;34m\u001b[0m\u001b[0m\n\u001b[0m\u001b[1;32m     28\u001b[0m         \u001b[0;32mreturn\u001b[0m \u001b[0mcast\u001b[0m\u001b[0;34m(\u001b[0m\u001b[0mF\u001b[0m\u001b[0;34m,\u001b[0m \u001b[0mdecorate_context\u001b[0m\u001b[0;34m)\u001b[0m\u001b[0;34m\u001b[0m\u001b[0m\n\u001b[1;32m     29\u001b[0m \u001b[0;34m\u001b[0m\u001b[0m\n",
      "\u001b[0;32m/content/Pkg_Path/torch/optim/adam.py\u001b[0m in \u001b[0;36mstep\u001b[0;34m(self, closure)\u001b[0m\n\u001b[1;32m    151\u001b[0m                    \u001b[0mweight_decay\u001b[0m\u001b[0;34m=\u001b[0m\u001b[0mgroup\u001b[0m\u001b[0;34m[\u001b[0m\u001b[0;34m'weight_decay'\u001b[0m\u001b[0;34m]\u001b[0m\u001b[0;34m,\u001b[0m\u001b[0;34m\u001b[0m\u001b[0m\n\u001b[1;32m    152\u001b[0m                    \u001b[0meps\u001b[0m\u001b[0;34m=\u001b[0m\u001b[0mgroup\u001b[0m\u001b[0;34m[\u001b[0m\u001b[0;34m'eps'\u001b[0m\u001b[0;34m]\u001b[0m\u001b[0;34m,\u001b[0m\u001b[0;34m\u001b[0m\u001b[0m\n\u001b[0;32m--> 153\u001b[0;31m                    maximize=group['maximize'])\n\u001b[0m\u001b[1;32m    154\u001b[0m         \u001b[0;32mreturn\u001b[0m \u001b[0mloss\u001b[0m\u001b[0;34m\u001b[0m\u001b[0m\n",
      "\u001b[0;32m/content/Pkg_Path/torch/optim/_functional.py\u001b[0m in \u001b[0;36madam\u001b[0;34m(params, grads, exp_avgs, exp_avg_sqs, max_exp_avg_sqs, state_steps, amsgrad, beta1, beta2, lr, weight_decay, eps, maximize)\u001b[0m\n\u001b[1;32m    108\u001b[0m \u001b[0;34m\u001b[0m\u001b[0m\n\u001b[1;32m    109\u001b[0m         \u001b[0mstep_size\u001b[0m \u001b[0;34m=\u001b[0m \u001b[0mlr\u001b[0m \u001b[0;34m/\u001b[0m \u001b[0mbias_correction1\u001b[0m\u001b[0;34m\u001b[0m\u001b[0m\n\u001b[0;32m--> 110\u001b[0;31m         \u001b[0mparam\u001b[0m\u001b[0;34m.\u001b[0m\u001b[0maddcdiv_\u001b[0m\u001b[0;34m(\u001b[0m\u001b[0mexp_avg\u001b[0m\u001b[0;34m,\u001b[0m \u001b[0mdenom\u001b[0m\u001b[0;34m,\u001b[0m \u001b[0mvalue\u001b[0m\u001b[0;34m=\u001b[0m\u001b[0;34m-\u001b[0m\u001b[0mstep_size\u001b[0m\u001b[0;34m)\u001b[0m\u001b[0;34m\u001b[0m\u001b[0m\n\u001b[0m\u001b[1;32m    111\u001b[0m \u001b[0;34m\u001b[0m\u001b[0m\n\u001b[1;32m    112\u001b[0m def adamw(params: List[Tensor],\n",
      "\u001b[0;31mKeyboardInterrupt\u001b[0m: "
     ]
    }
   ],
   "source": [
    "from core.dl_framework.learner import Learner\n",
    "from core.dl_framework.callbacks import Recorder, Monitor\n",
    "from core.dl_framework.data import get_dataset, Dataset, DataLoader, split_data\n",
    "from torchvision import transforms\n",
    "bs = setup_config[\"h_batch_size\"]\n",
    "x_train, y_train, x_test, y_test = get_dataset(setup_config[\"s_source\"], setup_config[\"s_set\"], setup_config[\"p_tmp_data_path\"], CNN=True)\n",
    "\n",
    "train_ds, test_ds =  Dataset(x_train, y_train), Dataset(x_test, y_test)\n",
    "train_dl, test_dl = DataLoader(train_ds, bs), DataLoader(test_ds, bs)\n",
    "learn = Learner(train_ds, setup_config)\n",
    "learn.fit(1000)\n"
   ]
  },
  {
   "cell_type": "code",
   "execution_count": 169,
   "metadata": {},
   "outputs": [],
   "source": [
    "sample = next(iter(test_dl))\n",
    "imgs, targets = sample"
   ]
  },
  {
   "cell_type": "code",
   "execution_count": 170,
   "metadata": {},
   "outputs": [
    {
     "name": "stdout",
     "output_type": "stream",
     "text": [
      "tensor(64, device='cuda:0')\n"
     ]
    }
   ],
   "source": [
    "_, pred = torch.max(learn.learn.model(imgs.unsqueeze(1).to(\"cuda\")).data, 1)\n",
    "print(sum(pred == targets.to(\"cuda\")))\n"
   ]
  },
  {
   "cell_type": "code",
   "execution_count": 168,
   "metadata": {},
   "outputs": [
    {
     "data": {
      "text/html": [
       "<div>                            <div id=\"305f2562-6c4b-4d35-b974-b65597529776\" class=\"plotly-graph-div\" style=\"height:525px; width:100%;\"></div>            <script type=\"text/javascript\">                require([\"plotly\"], function(Plotly) {                    window.PLOTLYENV=window.PLOTLYENV || {};                                    if (document.getElementById(\"305f2562-6c4b-4d35-b974-b65597529776\")) {                    Plotly.newPlot(                        \"305f2562-6c4b-4d35-b974-b65597529776\",                        [{\"name\":\"valid_acc\",\"x\":[1,2,3,4,5,6,7,8,9,10,11,12,13,14,15,16,17,18,19,20,21,22,23,24,25,26,27,28,29,30,31,32,33,34,35,36,37,38,39,40,41,42,43,44,45,46,47,48,49,50,51,52,53,54,55,56,57,58,59,60,61,62,63,64,65,66,67,68,69,70,71,72,73,74,75,76,77,78,79,80,81,82,83,84,85,86,87,88,89,90,91,92,93,94,95,96,97,98,99,100,101,102,103,104,105,106,107,108,109,110,111,112,113,114,115,116,117,118,119,120,121,122,123,124,125,126,127,128,129,130,131,132,133,134,135,136,137,138,139,140,141,142,143,144,145,146,147,148,149,150,151,152,153,154,155,156,157,158,159,160,161,162,163,164,165,166,167,168,169,170,171,172,173,174,175,176,177,178,179,180,181,182,183,184,185,186,187,188,189,190,191,192,193,194,195,196,197,198,199,200,201,202,203,204,205,206,207,208,209,210,211,212,213,214,215,216,217,218,219,220,221,222,223,224,225,226,227,228,229,230,231,232,233,234,235,236,237,238,239,240,241,242,243,244,245,246,247,248,249,250,251,252,253,254,255,256,257,258,259,260,261,262,263,264,265,266,267,268,269,270,271,272,273,274,275,276,277,278,279,280,281,282,283,284,285,286,287,288,289,290,291,292,293,294,295,296,297,298,299,300,301,302,303,304,305,306,307,308,309,310,311,312,313,314,315,316,317,318,319,320,321,322,323,324,325,326,327,328,329,330,331,332,333,334,335,336,337,338,339,340,341,342,343,344,345,346,347,348,349,350,351,352,353,354,355,356,357,358,359,360,361,362,363,364,365,366,367,368,369,370,371,372,373,374,375,376,377,378,379,380,381,382,383,384,385,386,387,388,389,390,391,392,393,394,395,396,397,398,399,400,401,402,403,404,405,406,407,408,409,410,411,412,413,414,415,416,417,418,419,420,421,422,423,424,425,426,427,428,429,430,431,432,433,434,435,436,437,438,439,440,441,442,443,444,445,446,447,448,449,450,451,452,453,454,455,456,457,458,459,460,461,462,463,464,465,466,467,468,469,470,471,472,473,474,475,476,477,478,479,480,481,482,483,484,485,486,487,488,489,490,491,492,493,494,495,496,497,498,499,500,501,502,503,504,505,506,507,508,509,510,511,512,513,514,515,516,517,518,519,520,521,522,523,524,525,526,527,528,529,530,531,532,533,534,535,536,537,538,539,540,541,542,543],\"y\":[0.8869485294117647,0.9318181818181818,0.9496991978609626,0.9592245989304813,0.9656584224598931,0.9708389037433155,0.973596256684492,0.9758522727272727,0.9781082887700535,0.9799465240641712,0.9806985294117647,0.9817012032085561,0.982620320855615,0.9836229946524064,0.9841243315508021,0.9847092245989305,0.9852941176470589,0.9857954545454546,0.9866310160427807,0.986798128342246,0.9872159090909091,0.9876336898395722,0.9878843582887701,0.9878843582887701,0.9882185828877005,0.9882185828877005,0.988552807486631,0.9888034759358288,0.9889705882352942,0.9891377005347594,0.9894719251336899,0.9897225935828877,0.9898061497326203,0.9899732620320856,0.9898897058823529,0.9899732620320856,0.9900568181818182,0.9901403743315508,0.9901403743315508,0.9902239304812834,0.9902239304812834,0.9903074866310161,0.9901403743315508,0.9901403743315508,0.9901403743315508,0.9903074866310161,0.9903074866310161,0.9903910427807486,0.9903910427807486,0.9903910427807486,0.9903910427807486,0.9904745989304813,0.9904745989304813,0.9904745989304813,0.9903910427807486,0.9904745989304813,0.9904745989304813,0.9906417112299465,0.9906417112299465,0.9905581550802139,0.9905581550802139,0.9906417112299465,0.9906417112299465,0.9907252673796791,0.9908088235294118,0.990975935828877,0.990975935828877,0.990975935828877,0.9910594919786097,0.990975935828877,0.990975935828877,0.990975935828877,0.9910594919786097,0.9911430481283422,0.9911430481283422,0.9910594919786097,0.9911430481283422,0.9910594919786097,0.9911430481283422,0.9912266042780749,0.9912266042780749,0.9912266042780749,0.9913101604278075,0.9913101604278075,0.9914772727272727,0.9914772727272727,0.9914772727272727,0.9915608288770054,0.9915608288770054,0.9918114973262032,0.9918114973262032,0.9918114973262032,0.9918114973262032,0.9918114973262032,0.9918950534759359,0.9918950534759359,0.9918950534759359,0.9919786096256684,0.9919786096256684,0.9919786096256684,0.9918950534759359,0.9918950534759359,0.9918950534759359,0.9917279411764706,0.9917279411764706,0.9918114973262032,0.9918950534759359,0.9919786096256684,0.9920621657754011,0.9919786096256684,0.9920621657754011,0.9921457219251337,0.9922292780748663,0.9923128342245989,0.9923128342245989,0.9923963903743316,0.9923963903743316,0.9923963903743316,0.9924799465240641,0.9923963903743316,0.9924799465240641,0.9925635026737968,0.9924799465240641,0.9925635026737968,0.9925635026737968,0.9925635026737968,0.9925635026737968,0.9925635026737968,0.9926470588235294,0.9926470588235294,0.9925635026737968,0.9926470588235294,0.9926470588235294,0.9926470588235294,0.9926470588235294,0.9925635026737968,0.9925635026737968,0.9926470588235294,0.9925635026737968,0.9926470588235294,0.9925635026737968,0.9925635026737968,0.9925635026737968,0.9924799465240641,0.9923963903743316,0.9923963903743316,0.9924799465240641,0.9923963903743316,0.9924799465240641,0.9925635026737968,0.9925635026737968,0.9925635026737968,0.9926470588235294,0.9925635026737968,0.9925635026737968,0.9925635026737968,0.9925635026737968,0.9925635026737968,0.9926470588235294,0.9926470588235294,0.9926470588235294,0.9926470588235294,0.9926470588235294,0.992730614973262,0.992730614973262,0.992730614973262,0.992730614973262,0.992730614973262,0.992730614973262,0.9928141711229946,0.992730614973262,0.9928141711229946,0.9928141711229946,0.9928141711229946,0.9928141711229946,0.9928977272727273,0.99298128342246,0.99298128342246,0.9930648395721925,0.9930648395721925,0.9931483957219251,0.9931483957219251,0.99298128342246,0.99298128342246,0.99298128342246,0.9930648395721925,0.99298128342246,0.99298128342246,0.9928141711229946,0.9928141711229946,0.9928141711229946,0.9928141711229946,0.9928141711229946,0.9928141711229946,0.9928141711229946,0.9928141711229946,0.9928141711229946,0.9928141711229946,0.9928141711229946,0.9928141711229946,0.9928141711229946,0.9928141711229946,0.9928141711229946,0.9928141711229946,0.9928977272727273,0.9928977272727273,0.9928977272727273,0.99298128342246,0.99298128342246,0.9930648395721925,0.9930648395721925,0.99298128342246,0.9930648395721925,0.9930648395721925,0.9930648395721925,0.9930648395721925,0.9930648395721925,0.9930648395721925,0.99298128342246,0.99298128342246,0.9930648395721925,0.99298128342246,0.9930648395721925,0.9930648395721925,0.9930648395721925,0.99298128342246,0.99298128342246,0.9930648395721925,0.9930648395721925,0.9930648395721925,0.9930648395721925,0.9928977272727273,0.9928977272727273,0.99298128342246,0.9928977272727273,0.9928977272727273,0.9928977272727273,0.9928977272727273,0.9928977272727273,0.9928977272727273,0.9928977272727273,0.9928977272727273,0.9928977272727273,0.9928977272727273,0.99298128342246,0.99298128342246,0.99298128342246,0.9928977272727273,0.99298128342246,0.9930648395721925,0.99298128342246,0.99298128342246,0.9928141711229946,0.99298128342246,0.9930648395721925,0.99298128342246,0.9928977272727273,0.9928977272727273,0.9928977272727273,0.9928977272727273,0.9928977272727273,0.9928977272727273,0.9930648395721925,0.9930648395721925,0.9928977272727273,0.9928141711229946,0.99298128342246,0.9928977272727273,0.9928141711229946,0.9928141711229946,0.992730614973262,0.9926470588235294,0.9928977272727273,0.992730614973262,0.9928141711229946,0.9928977272727273,0.9926470588235294,0.9928141711229946,0.992730614973262,0.9928141711229946,0.9928141711229946,0.992730614973262,0.992730614973262,0.992730614973262,0.9928141711229946,0.9925635026737968,0.9926470588235294,0.992730614973262,0.9925635026737968,0.9926470588235294,0.9924799465240641,0.9925635026737968,0.9923963903743316,0.9925635026737968,0.9924799465240641,0.9924799465240641,0.9924799465240641,0.9925635026737968,0.9923963903743316,0.9924799465240641,0.9923128342245989,0.9923963903743316,0.9923128342245989,0.9923963903743316,0.9923963903743316,0.9922292780748663,0.9922292780748663,0.9923128342245989,0.9923963903743316,0.9923963903743316,0.9923128342245989,0.9921457219251337,0.9921457219251337,0.9922292780748663,0.9922292780748663,0.9922292780748663,0.9923128342245989,0.9923128342245989,0.9922292780748663,0.9921457219251337,0.9920621657754011,0.9922292780748663,0.9920621657754011,0.9921457219251337,0.9922292780748663,0.9922292780748663,0.9923128342245989,0.9921457219251337,0.9921457219251337,0.9921457219251337,0.9921457219251337,0.9921457219251337,0.9922292780748663,0.9918950534759359,0.9919786096256684,0.9919786096256684,0.9920621657754011,0.9920621657754011,0.9919786096256684,0.9919786096256684,0.9922292780748663,0.9920621657754011,0.9920621657754011,0.9919786096256684,0.9920621657754011,0.9920621657754011,0.9919786096256684,0.9920621657754011,0.9920621657754011,0.9921457219251337,0.9921457219251337,0.9922292780748663,0.9921457219251337,0.9921457219251337,0.9922292780748663,0.9922292780748663,0.9921457219251337,0.9922292780748663,0.9923128342245989,0.9922292780748663,0.9922292780748663,0.9923128342245989,0.9922292780748663,0.9923128342245989,0.9922292780748663,0.9922292780748663,0.9923128342245989,0.9923963903743316,0.9924799465240641,0.9923963903743316,0.9923963903743316,0.9922292780748663,0.9923963903743316,0.9923963903743316,0.9923963903743316,0.9922292780748663,0.9923128342245989,0.9922292780748663,0.9923128342245989,0.9923128342245989,0.9923963903743316,0.9923963903743316,0.9922292780748663,0.9923963903743316,0.9923963903743316,0.9923128342245989,0.9923963903743316,0.9923128342245989,0.9923963903743316,0.9925635026737968,0.9922292780748663,0.9921457219251337,0.9921457219251337,0.9921457219251337,0.9923963903743316,0.9921457219251337,0.9923963903743316,0.9921457219251337,0.9921457219251337,0.9918114973262032,0.9919786096256684,0.9918950534759359,0.9917279411764706,0.9917279411764706,0.9919786096256684,0.9919786096256684,0.9920621657754011,0.9918114973262032,0.9919786096256684,0.9920621657754011,0.9918114973262032,0.9918114973262032,0.9918114973262032,0.9918950534759359,0.9918950534759359,0.9919786096256684,0.9918950534759359,0.9919786096256684,0.9919786096256684,0.9918950534759359,0.9919786096256684,0.9919786096256684,0.9920621657754011,0.9918950534759359,0.9919786096256684,0.9918950534759359,0.9918950534759359,0.9920621657754011,0.9918950534759359,0.9918114973262032,0.9923128342245989,0.9919786096256684,0.9919786096256684,0.9918114973262032,0.9920621657754011,0.9918950534759359,0.9918114973262032,0.9918950534759359,0.9918950534759359,0.9918950534759359,0.9918950534759359,0.9917279411764706,0.9918114973262032,0.9917279411764706,0.991644385026738,0.9918950534759359,0.9919786096256684,0.9919786096256684,0.9918950534759359,0.9918114973262032,0.991644385026738,0.9918114973262032,0.9917279411764706,0.9917279411764706,0.9917279411764706,0.9915608288770054,0.9918950534759359,0.9918114973262032,0.991644385026738,0.9914772727272727,0.991644385026738,0.991644385026738,0.9914772727272727,0.99139371657754,0.99139371657754,0.99139371657754,0.9915608288770054,0.9914772727272727,0.9915608288770054,0.99139371657754,0.9914772727272727,0.9915608288770054,0.99139371657754,0.99139371657754,0.9914772727272727,0.9915608288770054,0.9915608288770054,0.9915608288770054,0.991644385026738,0.9914772727272727,0.9914772727272727,0.9915608288770054,0.99139371657754,0.9913101604278075,0.9914772727272727,0.99139371657754,0.99139371657754,0.99139371657754,0.9911430481283422,0.99139371657754,0.99139371657754,0.9914772727272727,0.9912266042780749,0.9913101604278075,0.9913101604278075,0.9913101604278075,0.99139371657754,0.9913101604278075,0.99139371657754,0.9911430481283422,0.9914772727272727,0.9912266042780749,0.99139371657754,0.99139371657754,0.9912266042780749,0.99139371657754,0.9913101604278075,0.99139371657754,0.99139371657754,0.9913101604278075,0.9915608288770054,0.9912266042780749,0.99139371657754,0.99139371657754,0.991644385026738,0.9915608288770054,0.9915608288770054,0.9914772727272727,0.9914772727272727,0.99139371657754,0.99139371657754,0.9913101604278075,0.9914772727272727,0.9913101604278075,0.9912266042780749,0.9914772727272727,0.99139371657754,0.99139371657754,0.99139371657754,0.9912266042780749,0.9914772727272727,0.9913101604278075,0.9913101604278075,0.9913101604278075,0.99139371657754,0.9912266042780749,0.9911430481283422,0.99139371657754,0.9913101604278075,0.9913101604278075,0.9913101604278075,0.9913101604278075,0.9913101604278075],\"type\":\"scatter\",\"xaxis\":\"x\",\"yaxis\":\"y\"},{\"name\":\"valid_loss\",\"x\":[1,2,3,4,5,6,7,8,9,10,11,12,13,14,15,16,17,18,19,20,21,22,23,24,25,26,27,28,29,30,31,32,33,34,35,36,37,38,39,40,41,42,43,44,45,46,47,48,49,50,51,52,53,54,55,56,57,58,59,60,61,62,63,64,65,66,67,68,69,70,71,72,73,74,75,76,77,78,79,80,81,82,83,84,85,86,87,88,89,90,91,92,93,94,95,96,97,98,99,100,101,102,103,104,105,106,107,108,109,110,111,112,113,114,115,116,117,118,119,120,121,122,123,124,125,126,127,128,129,130,131,132,133,134,135,136,137,138,139,140,141,142,143,144,145,146,147,148,149,150,151,152,153,154,155,156,157,158,159,160,161,162,163,164,165,166,167,168,169,170,171,172,173,174,175,176,177,178,179,180,181,182,183,184,185,186,187,188,189,190,191,192,193,194,195,196,197,198,199,200,201,202,203,204,205,206,207,208,209,210,211,212,213,214,215,216,217,218,219,220,221,222,223,224,225,226,227,228,229,230,231,232,233,234,235,236,237,238,239,240,241,242,243,244,245,246,247,248,249,250,251,252,253,254,255,256,257,258,259,260,261,262,263,264,265,266,267,268,269,270,271,272,273,274,275,276,277,278,279,280,281,282,283,284,285,286,287,288,289,290,291,292,293,294,295,296,297,298,299,300,301,302,303,304,305,306,307,308,309,310,311,312,313,314,315,316,317,318,319,320,321,322,323,324,325,326,327,328,329,330,331,332,333,334,335,336,337,338,339,340,341,342,343,344,345,346,347,348,349,350,351,352,353,354,355,356,357,358,359,360,361,362,363,364,365,366,367,368,369,370,371,372,373,374,375,376,377,378,379,380,381,382,383,384,385,386,387,388,389,390,391,392,393,394,395,396,397,398,399,400,401,402,403,404,405,406,407,408,409,410,411,412,413,414,415,416,417,418,419,420,421,422,423,424,425,426,427,428,429,430,431,432,433,434,435,436,437,438,439,440,441,442,443,444,445,446,447,448,449,450,451,452,453,454,455,456,457,458,459,460,461,462,463,464,465,466,467,468,469,470,471,472,473,474,475,476,477,478,479,480,481,482,483,484,485,486,487,488,489,490,491,492,493,494,495,496,497,498,499,500,501,502,503,504,505,506,507,508,509,510,511,512,513,514,515,516,517,518,519,520,521,522,523,524,525,526,527,528,529,530,531,532,533,534,535,536,537,538,539,540,541,542,543],\"y\":[0.7509430433339613,0.40125878466004355,0.27512471075045236,0.21008296984242883,0.17033427690758424,0.14378191431097806,0.12479643256747149,0.1106597024369686,0.09978419271382419,0.09120127787803584,0.08427065903729296,0.07855685978609929,0.07379312647934903,0.06978642279132802,0.06629562259397724,0.06327362960194521,0.06061146580639051,0.05825970450386325,0.05616922822985101,0.05428345080086573,0.05256595244920031,0.05102216540014043,0.04961941324991179,0.048331172793187244,0.04713651740096789,0.04604734915662258,0.0450352350807684,0.044114638448638076,0.04322138497914701,0.042399431389562266,0.041633005475595515,0.04091094630735523,0.04025540033474883,0.039636090465069294,0.03903958991040441,0.03850221202614154,0.03798204886024808,0.037479603605813046,0.03701688747673749,0.036570351416454275,0.036148190742388446,0.03574384837087622,0.035357170295030035,0.03499428221188924,0.03465447391079549,0.03433500675927788,0.0340246728989968,0.033723461535076965,0.033441227005376294,0.03318226628657928,0.032923737650408465,0.03268389303715312,0.03243085051224353,0.032207288013591885,0.03197245926964769,0.03177013630694884,0.03157484530904554,0.03138100127141703,0.031216673023829408,0.031037414726616943,0.030899765078267232,0.030745352380585303,0.030601220448217527,0.03046577859154459,0.030330501654917463,0.03020322560905454,0.030082092572496655,0.029971536308686365,0.02985553351793697,0.029758559564815806,0.029649135008588793,0.029551449523152994,0.029460875141275,0.029385204494178772,0.029292956664461026,0.029223972620233334,0.02913623141936639,0.029067639070363804,0.02899280831561409,0.028929723685054497,0.028872007625501225,0.028812500186585748,0.028777244591706976,0.02874438465668765,0.02870104462063976,0.028684774390670825,0.02865220552975222,0.028612097712821343,0.028595334455248884,0.028583226261042895,0.028570165808491886,0.0285706061376184,0.028561070479233477,0.028557303295605244,0.028545040101401836,0.028552837702377206,0.028554287615679155,0.02855506750153014,0.0285680780497275,0.028584453894695726,0.028602437875239816,0.02860962819459943,0.028649586022683336,0.02868074904486069,0.028713661957722666,0.028745981358971575,0.028778733978985515,0.02882409970069685,0.028869488873558845,0.028904868195513213,0.028966933550010558,0.0290199701297956,0.029094561486163198,0.029148143072370417,0.029214949574773472,0.02928579991753711,0.029366175226490873,0.029436224031515475,0.02951626096373389,0.029589499081514543,0.029676107729892223,0.029753426293843116,0.029837823049705364,0.02994300627176411,0.03003229796188419,0.030127474536382648,0.03022379513146629,0.03034173762288821,0.030448377823281567,0.03056505179300921,0.030672727867713936,0.03078224265918056,0.030881683890929417,0.03098297166975183,0.03112954557405235,0.03125064677225507,0.03134583268011461,0.031487855529977585,0.03162678783062189,0.031767696195725524,0.03189720812248868,0.032038345268144204,0.03219501895602691,0.032319900626129903,0.03247185873604462,0.03261889030610889,0.03275558132313344,0.032917459278711335,0.03307082738522204,0.03321702754625406,0.03337248110780339,0.033547648150036066,0.033715479713571445,0.0338829568733361,0.034056679919587704,0.03423539549517702,0.03442190775801566,0.03459362995171466,0.03477536362254402,0.03495086360737118,0.03510972563516744,0.03529610501144826,0.03545629993061113,0.03565897421721552,0.03584003068879776,0.03602969976130245,0.036222293614453054,0.0364083878491151,0.036596346197358465,0.036796875287389556,0.03699880641332623,0.03719414445459128,0.037404161248699656,0.037586753512864855,0.03780108092196181,0.03795084032784893,0.03819986364617532,0.038395405076203024,0.03858957967319576,0.038815625142025786,0.03901512571578927,0.03922903325967533,0.03944903599976909,0.03968372903700571,0.039905146281780574,0.04011924375031896,0.04036262321468551,0.04057892824331299,0.040840643407346104,0.0410978641782552,0.0413129719684414,0.041552862975464525,0.041801837945816614,0.04203083597253288,0.04227222495360277,0.04250869906573713,0.04275762509933184,0.04302365221032008,0.04325925149755618,0.04353151152046776,0.043767815413033796,0.04399775084352779,0.04425197305614585,0.04449821781139816,0.04477921116280333,0.04499165967081277,0.0452768838559732,0.04549516935295251,0.04572371617618843,0.04595737046412674,0.04622205183752375,0.04643318868318567,0.04667748686414776,0.046934605147465815,0.04722672218693667,0.047429245015374176,0.047614839285576874,0.047854378548737905,0.04814802097916824,0.04833173414338746,0.04851948071229282,0.04873995429486254,0.04902431878761355,0.049178361712591614,0.049277508688432635,0.04942622777803474,0.04973054956011643,0.049926759893448774,0.050162946885593494,0.050339953399519424,0.050455431144313764,0.050623815271318116,0.05071673150306517,0.05093493787925331,0.05115987439436695,0.05122025082045163,0.05128683565719262,0.05149085698149233,0.05161689683132605,0.05165449671244251,0.051881004480250834,0.05174111038552001,0.05189113894111658,0.05203290271917103,0.051989730190137695,0.05200428917535425,0.05212845902253869,0.05209387695733411,0.05214811840113003,0.0522841550378757,0.052223961731102504,0.052393267736610544,0.05230909360968024,0.052474205289209486,0.05215649919518493,0.052435116668339915,0.052471383122232554,0.05233477954421963,0.05268395550464165,0.052596370286947504,0.052643346411830626,0.0526825359510428,0.05296485847204747,0.052839678047286794,0.052812590859656165,0.05299901174837743,0.052940729800241886,0.05294587363060485,0.05272116033407726,0.05291578757466336,0.05305918513768777,0.05295301256268876,0.05302265401718744,0.0529897911847979,0.05295866892814708,0.052980723280307465,0.053071499715855994,0.052984819170873866,0.05297139043402305,0.052948959025400914,0.05290072524718819,0.05263871349182546,0.05277820702451785,0.052648063199058986,0.05281666658269119,0.05280335928619258,0.05277397931134738,0.05272171634088289,0.052604805187586146,0.05269860767751913,0.052504340622202834,0.052668807117776266,0.05281706317694395,0.052704509497007175,0.052753548665253246,0.05271973718297463,0.05236042317778489,0.052636513280261164,0.05260209693677892,0.052624987857112344,0.052670880844249764,0.05271418184793001,0.05260980065129988,0.05279243426160174,0.05280253221142807,0.052875129636088834,0.05258118642797499,0.05252721938593994,0.052260564500320975,0.05260569882271381,0.05261461897513153,0.052705764218057304,0.05285261007495206,0.052460617516406016,0.052409211547859644,0.0526414403904792,0.05258201677847338,0.05228148306174481,0.0524167636251934,0.052217578581402024,0.05248175449126034,0.052416096196534694,0.05262831864651118,0.05262077093969214,0.05259266699663202,0.05241262142592659,0.05233552477371588,0.0524747748175178,0.05247572258335591,0.05232797359301499,0.05216371596846265,0.0524481571252327,0.05270526826615196,0.052368617626702106,0.05248685824501508,0.052379741159449864,0.05223486962883892,0.05240720748707715,0.05246569261810146,0.052265975238621754,0.05219872478494223,0.05255455536785766,0.05233489820969417,0.05232825626308913,0.052288390743860776,0.05218513212804504,0.05232470924789992,0.05206709160262837,0.05240906652134457,0.052384729600599055,0.052536894960861454,0.05278851027817932,0.0525388836674102,0.052845203378895526,0.05258271435162748,0.05259725936884855,0.05276804355859543,0.05257909227230723,0.05275658230518534,0.05262219358967718,0.05253975091188025,0.05236395893490852,0.05251198561530232,0.052514655236777404,0.05246858228771878,0.05270785056977905,0.052456699375708994,0.0526032708235145,0.05277201245490407,0.0526448652478143,0.0524796982088482,0.05305527090193692,0.05266632298780181,0.052688144855109816,0.05286685764160021,0.05260926627565272,0.05293145561370643,0.053033674322942474,0.052892090369215654,0.05278829549640439,0.053161010626875956,0.05290372890798397,0.05283743806089154,0.05289917123882371,0.05312577871959642,0.05318273920784998,0.05312331732942285,0.053705757140412265,0.05334581070976338,0.05333641761096752,0.05339762489653884,0.0535994814566846,0.053402221415218054,0.05357480322962162,0.053787401532009685,0.05375640026604952,0.05369008908774297,0.05363619475220529,0.05360984148619007,0.05408236459983383,0.05375007589621655,0.05438672664532787,0.05421189503572488,0.05394885047801529,0.054037486914321496,0.05395297659162925,0.0541733732351968,0.05395062327416663,0.05399970416315588,0.05406666612969592,0.05442401673380117,0.05447922344270791,0.05437314412989035,0.05453875558970344,0.054017661165403866,0.05452309154040503,0.054543424998850266,0.0543482861892623,0.0540719860920705,0.05458054232700565,0.05442474773365554,0.05460489247303211,0.05477593246861097,0.054671051706705956,0.05428985731975482,0.054470028505747184,0.05485261949707381,0.05420919408804168,0.054632052343426545,0.05459937142922978,0.054608448298343486,0.0544963731011428,0.054743414454766,0.054348599250651185,0.05444434645381202,0.054480389728053254,0.054474043583412825,0.05462585263001146,0.05445684286825252,0.05460175788645691,0.054524603857155116,0.05448709811138448,0.05452825081185358,0.05488460261476033,0.05472095153237304,0.054835265768771055,0.05474626153785907,0.054701018162534684,0.05481401774717205,0.054666615386763165,0.055189073721162864,0.055123009171139714,0.05502342344013733,0.0548971641563559,0.0550073296511606,0.055065528935174864,0.055208357018479565,0.05544675178420057,0.05544560230563714,0.05530540488973459,0.05512448275670608,0.05535563989266506,0.05513939787091153,0.055286911063755294,0.05561111084739811,0.055488542452714396,0.05585278362207495,0.05609653736648796,0.055763296427520016,0.055721665191712004,0.05592752844372146,0.05574945631766208,0.055860766186033486,0.05600119625060567,0.05637854839805644,0.05613937459932572,0.05610182879171875,0.056628232391289654,0.056558601555783655,0.05636135194145616,0.056517103729941204,0.056717128621771626,0.05673610607130188,0.0568013611321192,0.056766234748667564,0.05686469566730851,0.057019596752454695,0.05650511885553258,0.0569006053720908,0.05710748787851945,0.057237792012567706,0.056931695278145664,0.05723424922953426,0.05733584637369147,0.057382588316563385,0.05752520830556064,0.05786334550735105,0.05739223287588459,0.057000123199202335,0.05745256953069661,0.05727548763649511,0.05740992088007666,0.057400928776603646,0.057294247170792206,0.05776572200238167,0.057661896255196056,0.057388590291891084,0.05730225731996853,0.057756267584593124,0.057361139295603554,0.05727644259299446,0.058116211431909204,0.05767070679956212,0.05773488626769038,0.057189119869623495,0.05729170642276272,0.05712066884404376,0.05701522034421772,0.057191287946333456,0.057450596683179915,0.057769188913887944,0.05716495658618082,0.05740359292804481,0.05711125247872646,0.057570189891202043,0.05763647821942034,0.05718606421562556,0.05773665416755599,0.0573271321826386,0.05763146960273836,0.05710133099173658,0.057294092786560925,0.05777362200069915,0.057287160376783115,0.057601862849781665,0.057163430011581064,0.05748097327417123,0.05782801803303049,0.057866176026966636,0.057824246236205905,0.057698296363408785,0.0576394504635258,0.05761594331574795],\"type\":\"scatter\",\"xaxis\":\"x2\",\"yaxis\":\"y2\"},{\"name\":\"train_loss\",\"x\":[1,2,3,4,5,6,7,8,9,10,11,12,13,14,15,16,17,18,19,20,21,22,23,24,25,26,27,28,29,30,31,32,33,34,35,36,37,38,39,40,41,42,43,44,45,46,47,48,49,50,51,52,53,54,55,56,57,58,59,60,61,62,63,64,65,66,67,68,69,70,71,72,73,74,75,76,77,78,79,80,81,82,83,84,85,86,87,88,89,90,91,92,93,94,95,96,97,98,99,100,101,102,103,104,105,106,107,108,109,110,111,112,113,114,115,116,117,118,119,120,121,122,123,124,125,126,127,128,129,130,131,132,133,134,135,136,137,138,139,140,141,142,143,144,145,146,147,148,149,150,151,152,153,154,155,156,157,158,159,160,161,162,163,164,165,166,167,168,169,170,171,172,173,174,175,176,177,178,179,180,181,182,183,184,185,186,187,188,189,190,191,192,193,194,195,196,197,198,199,200,201,202,203,204,205,206,207,208,209,210,211,212,213,214,215,216,217,218,219,220,221,222,223,224,225,226,227,228,229,230,231,232,233,234,235,236,237,238,239,240,241,242,243,244,245,246,247,248,249,250,251,252,253,254,255,256,257,258,259,260,261,262,263,264,265,266,267,268,269,270,271,272,273,274,275,276,277,278,279,280,281,282,283,284,285,286,287,288,289,290,291,292,293,294,295,296,297,298,299,300,301,302,303,304,305,306,307,308,309,310,311,312,313,314,315,316,317,318,319,320,321,322,323,324,325,326,327,328,329,330,331,332,333,334,335,336,337,338,339,340,341,342,343,344,345,346,347,348,349,350,351,352,353,354,355,356,357,358,359,360,361,362,363,364,365,366,367,368,369,370,371,372,373,374,375,376,377,378,379,380,381,382,383,384,385,386,387,388,389,390,391,392,393,394,395,396,397,398,399,400,401,402,403,404,405,406,407,408,409,410,411,412,413,414,415,416,417,418,419,420,421,422,423,424,425,426,427,428,429,430,431,432,433,434,435,436,437,438,439,440,441,442,443,444,445,446,447,448,449,450,451,452,453,454,455,456,457,458,459,460,461,462,463,464,465,466,467,468,469,470,471,472,473,474,475,476,477,478,479,480,481,482,483,484,485,486,487,488,489,490,491,492,493,494,495,496,497,498,499,500,501,502,503,504,505,506,507,508,509,510,511,512,513,514,515,516,517,518,519,520,521,522,523,524,525,526,527,528,529,530,531,532,533,534,535,536,537,538,539,540,541,542,543],\"y\":[1.3934609910647073,0.5445024625062943,0.3337895779013634,0.24249628555774688,0.19088376076022784,0.15763035016755264,0.13445498405396938,0.11739144639174144,0.10430442797889312,0.09396029718716939,0.08557874051481486,0.07862747964759667,0.07274845729519923,0.06770477485905091,0.06332245829328895,0.059480264248947305,0.05607634856303533,0.05301164949312806,0.05023276313083867,0.047696647917230925,0.04537319421954453,0.04322834818375607,0.041242200223108136,0.03939563899859786,0.03767493136040866,0.0360671667928497,0.03455245467244337,0.03312916334935775,0.03178392457092802,0.03050711070901404,0.029288599555691082,0.02813469354870419,0.027034022740398844,0.025987162416490416,0.024984702475058535,0.024030652300609898,0.02311139525519684,0.022227316450017194,0.02138247272185981,0.020565814182007064,0.019784832598796737,0.019034654767873388,0.018308159327910592,0.017606076205770173,0.016933480442346382,0.016282687886618078,0.01565536162769422,0.015043716948168973,0.014457362186551715,0.013892677177597458,0.01334471516031772,0.01281665678267988,0.012303871808806434,0.01181387410328413,0.011335611412301659,0.010877879337562868,0.010432601953002935,0.010005089002894237,0.009591722588520497,0.00919206095393747,0.008803585047911231,0.008429391987699394,0.00806755869940389,0.007719371170115967,0.0073838705748009185,0.0070622184057720005,0.006749984989175573,0.006449598950333893,0.006160720189839291,0.005880203702913907,0.005612476631222913,0.005352390948915854,0.005104781719041057,0.004864793769743604,0.004634407654385238,0.00441295221381976,0.0042013997775502505,0.003999341731755218,0.0038040846067791184,0.003615230421962527,0.0034366605652030556,0.0032654835320815134,0.003099007433396764,0.0029424829719937404,0.0027915373757714406,0.002647562983077175,0.002509322430608639,0.0023781627166026735,0.0022520992069427546,0.0021319042368074105,0.0020183288360907077,0.0019090869350378247,0.0018047118876420426,0.0017058864791179077,0.001612329784373287,0.0015223973973188549,0.0014379011621737541,0.0013562626281782286,0.00127932838347139,0.0012060106863694576,0.0011373620643571486,0.0010715506417764119,0.0010087484380686268,0.0009497243804507889,0.0008931211194624969,0.0008401790007386201,0.0007895902904904991,0.0007421936367124241,0.0006969146153351176,0.0006545421230839566,0.0006143367060212768,0.000576093693964746,0.000540255499346434,0.0005059971313433683,0.00047426902729300004,0.00044392945181850034,0.000415579273882031,0.0003888875048821016,0.0003635002080760993,0.000339719121663317,0.0003174450036046134,0.00029648623468043903,0.0002766819153439428,0.0002582172089484326,0.0002407085382195267,0.0002245134721949095,0.0002091437493994211,0.00019487820058141855,0.00018144712453128402,0.00016881017260432903,0.0001569574364360354,0.00014596941026078032,0.00013565233234051751,0.00012601711610113852,0.00011702671464505936,0.0001086377703686594,0.00010074487734042729,9.347474809631724e-05,8.660796622219399e-05,8.023879552608075e-05,7.433506851399821e-05,6.879123195479527e-05,6.36642264683663e-05,5.885441646023537e-05,5.4415043058118804e-05,5.026793790511874e-05,4.641365422624707e-05,4.287303422976644e-05,3.953695968448301e-05,3.6472273520606296e-05,3.361982233188125e-05,3.098351843088191e-05,2.8545051891342154e-05,2.6255338626394102e-05,2.4158525303694963e-05,2.2227336392764602e-05,2.042724480702418e-05,1.876941191850771e-05,1.723729149398423e-05,1.5816170842830008e-05,1.4517976639884486e-05,1.3318010834685386e-05,1.2205173344341347e-05,1.1181315617704967e-05,1.0238669281458594e-05,9.373806104652735e-06,8.573285256602503e-06,7.842270701075903e-06,7.165381456123517e-06,6.549652652741619e-06,5.985085454464449e-06,5.461150196197196e-06,4.982608624838273e-06,4.543946241218085e-06,4.144280241803244e-06,3.7749451516333465e-06,3.4355542382608442e-06,3.1279899622518315e-06,2.8463006712797777e-06,2.5893467167558507e-06,2.3542108331184864e-06,2.1380818187045254e-06,1.9419037314776233e-06,1.7635931571836257e-06,1.601235625391458e-06,1.451523337128909e-06,1.3166194601268443e-06,1.1930298463719662e-06,1.0809682344425178e-06,9.792699241207478e-07,8.864622552096079e-07,8.029550692256748e-07,7.261904324759409e-07,6.569208679773435e-07,5.941976925214476e-07,5.370523865551036e-07,4.857780084132439e-07,4.387652789112906e-07,3.96731932748177e-07,3.582201705055373e-07,3.2380617101779306e-07,2.92367393993113e-07,2.641522002881184e-07,2.3866637403754016e-07,2.1560196312838306e-07,1.9457899374912085e-07,1.7597496119344433e-07,1.5896285858415146e-07,1.438754776099671e-07,1.3020369838834257e-07,1.1769172108759088e-07,1.0651339068716107e-07,9.666871004698763e-08,8.76733911693665e-08,7.957213989081188e-08,7.216379027748706e-08,6.556755184394802e-08,5.979832612042676e-08,5.436189153436762e-08,4.956868964593279e-08,4.529454377773708e-08,4.1308486558773915e-08,3.796069489014897e-08,3.48264860277799e-08,3.1967948488513066e-08,2.9385082123578598e-08,2.7194612541562673e-08,2.500414292342749e-08,2.2947783524666457e-08,2.123415064373783e-08,1.9714232753968258e-08,1.830855701120034e-08,1.705934337984753e-08,1.5949207186357247e-08,1.4955796677244375e-08,1.4059243676811661e-08,1.319000950713208e-08,1.2350577600628299e-08,1.163283850491581e-08,1.0942418148029986e-08,1.033395418037486e-08,9.767710143678462e-09,9.25610369299316e-09,8.769332502526576e-09,8.362034170428245e-09,8.019307508414878e-09,7.602075058491901e-09,7.346271821084826e-09,7.0184463208574265e-09,6.725390173952424e-09,6.549059798614346e-09,6.315608295744587e-09,6.072222691481481e-09,5.8859582003911725e-09,5.751847758380298e-09,5.54074799138012e-09,5.376835239119989e-09,5.282461227995583e-09,5.123515523693574e-09,5.03907561633099e-09,4.942218087074697e-09,4.818041755783043e-09,4.726151268415653e-09,4.661579573313664e-09,4.589557307976832e-09,4.554787920903654e-09,4.423161022337751e-09,4.415710437447965e-09,4.3287870063283645e-09,4.2989846874933826e-09,4.244347099557899e-09,4.231929470558764e-09,4.199643619084981e-09,4.132588402298391e-09,4.135071932716746e-09,4.110236665096541e-09,4.100302554081263e-09,4.043181446385565e-09,4.06553318033076e-09,4.035730863272135e-09,4.005928543845035e-09,3.976126219236893e-09,3.978609750839487e-09,3.9463239041026554e-09,3.933906275843668e-09,3.928939215154988e-09,3.941356856292562e-09,3.9363897973802394e-09,3.864367520349059e-09,3.8792686885003035e-09,3.906587477657079e-09,3.889202786044876e-09,3.837048735189086e-09,3.7997958311682585e-09,3.8370487343009074e-09,3.802279356997692e-09,3.8196640469815676e-09,3.817180523076521e-09,3.819664047129597e-09,3.7824111420725615e-09,3.817180518487599e-09,3.779927618019485e-09,3.794828780249541e-09,3.782411147253602e-09,3.7923452519036025e-09,3.7526088226454605e-09,3.782411144293008e-09,3.7625429312922635e-09,3.767509987243993e-09,3.760059402058147e-09,3.777444091745963e-09,3.7327406105328955e-09,3.77496056562047e-09,3.794828783062106e-09,3.760059402798295e-09,3.7029382884412597e-09,3.752608824717877e-09,3.740191195718741e-09,3.7501253002207115e-09,3.745158247525637e-09,3.747641771726743e-09,3.750125298444355e-09,3.7054218157509904e-09,3.784894680188463e-09,3.67313597404717e-09,3.7501252982963255e-09,3.702938296138806e-09,3.7352241405071615e-09,3.742674717551372e-09,3.787378202465182e-09,3.7302570848514926e-09,3.727773561538565e-09,3.730257087812087e-09,3.750125296964058e-09,3.737707664856297e-09,3.757575882742022e-09,3.772477040975275e-09,3.792345257676762e-09,3.7277735650912785e-09,3.7401911923140574e-09,3.745158242492626e-09,3.732740609348657e-09,3.760059404870712e-09,3.77744409307823e-09,3.794828777140916e-09,3.79482878113772e-09,3.755092359281065e-09,3.842015787736131e-09,3.745158243676864e-09,3.817180521004104e-09,3.765026459490173e-09,3.822147571478732e-09,3.732740615861966e-09,3.7997958336847644e-09,3.797312306523063e-09,3.774960569321213e-09,3.782411145477245e-09,3.819664043576883e-09,3.78489467604363e-09,3.859400472390936e-09,3.7724770378666506e-09,3.797312306523063e-09,3.829598156812608e-09,3.832081675684643e-09,3.8395322617586675e-09,3.814696994434523e-09,3.794828781581809e-09,3.839532263238965e-09,3.87926868509562e-09,3.844499314009653e-09,3.9041039510874975e-09,3.812213472157803e-09,3.856916943304848e-09,3.8743016349170504e-09,3.8693345811857684e-09,3.861883999848696e-09,3.869334582518036e-09,3.909071008223464e-09,3.851949891497952e-09,3.866851053283919e-09,3.856916949374068e-09,3.874301632548575e-09,3.911554533016688e-09,3.864367531007199e-09,3.936389798860536e-09,3.9140380603264194e-09,3.9488074346690405e-09,3.948807431116326e-09,3.943840378273222e-09,3.956258011269161e-09,4.005928547249719e-09,3.938873323949821e-09,3.9860603275876376e-09,3.968675646041457e-09,4.0133791259222565e-09,3.966192119915964e-09,4.033247337738762e-09,3.966192118139607e-09,4.013379125774227e-09,4.015862646274589e-09,3.995994434754143e-09,4.072983762259952e-09,4.025796759954403e-09,4.045664974583474e-09,4.023313231756494e-09,4.05808260343458e-09,4.063049657757981e-09,4.038214388805509e-09,4.077950819988037e-09,4.0978190335809e-09,4.048148499228669e-09,4.082917869130398e-09,4.1152037177916156e-09,4.120170772559107e-09,4.097819025883354e-09,4.077950822504543e-09,4.092851973484339e-09,4.1201707746315226e-09,4.125137828066746e-09,4.127621349011197e-09,4.1276213513796734e-09,4.212061255189544e-09,4.110236668057136e-09,4.159907192787434e-09,4.100302558818214e-09,4.194676562541133e-09,4.197160095179934e-09,4.231929463897425e-09,4.135071926499497e-09,4.25428120346775e-09,4.162390724390027e-09,4.259248260603717e-09,4.197160098584618e-09,4.246830627607778e-09,4.174808352500984e-09,4.219511833121933e-09,4.219511842299776e-09,4.266698839572314e-09,4.197160092219339e-09,4.192193039968354e-09,4.2617317895417744e-09,4.214544781315037e-09,4.326303481979229e-09,4.221995362356049e-09,4.323819948748309e-09,4.306435271198931e-09,4.294017638647082e-09,4.306435267350158e-09,4.333754061687974e-09,4.415710441296738e-09,4.2766329485151765e-09,4.395842230072352e-09,4.346171701345251e-09,4.373490487245372e-09,4.356105794596961e-09,4.333754056506933e-09,4.358589324867287e-09,4.311402322413708e-09,4.3933586963973424e-09,4.447996286109183e-09,4.450479813122854e-09,4.455446863745512e-09,4.4852491859851775e-09,4.477798600651302e-09,4.472831550768793e-09,4.455446857824322e-09,4.505117393212761e-09,4.505117395729267e-09,4.534919716784695e-09,4.497666814244165e-09,4.5672055650018235e-09,4.564722037692092e-09,4.606941984490002e-09,4.547337351260931e-09,4.512567978694666e-09,4.569689093939881e-09,4.542370304635076e-09,4.549820870132967e-09,4.592040825220541e-09,4.644194887178562e-09,4.599491409814268e-09,4.597007879988032e-09,4.604458455403915e-09,4.5994914081859405e-09,4.619359621186684e-09,4.6243266758061455e-09,4.527469129822492e-09,4.664063093073878e-09,4.636744306285578e-09,4.6392278355196955e-09,4.577139670984091e-09,4.621843143167344e-09,4.6764807311028275e-09,4.728634794245087e-09,4.609425510171406e-09,4.701315997834854e-09,4.6193596152654945e-09,4.67151367470701e-09,4.728634789064046e-09,4.584590245807855e-09,4.68889836217438e-09,4.597007874658961e-09,4.629293717843079e-09,4.686414842414166e-09,4.676480728438293e-09,4.681447785870319e-09,4.634260774979045e-09,4.683931319397298e-09,4.646678408715132e-09,4.693865413981276e-09,4.6491619447586175e-09,4.5870737695648716e-09,4.788239430434752e-09,4.80314059133254e-09,4.6665466282291844e-09,4.726151261606285e-09,4.681447787794705e-09,4.765887686127476e-09,4.763404166515291e-09,4.788239428510366e-09,4.758437102717986e-09,4.83790995501702e-09,4.80314058570741e-09,4.746019475643237e-09,4.723667730595812e-09,4.7932064800212026e-09,4.785755902532903e-09,4.7087665735467965e-09,4.7981735362689905e-09,4.718700679677094e-09,4.773338265392132e-09,4.775821787816881e-09,4.840393478626007e-09,4.818041743792634e-09,4.750986531891025e-09,4.832942907206927e-09,4.880129904479465e-09,4.768371210032522e-09,4.7534700546118336e-09,4.89751459490743e-09,4.805624106355803e-09,4.93725101942862e-09,4.758437099757392e-09],\"type\":\"scatter\",\"xaxis\":\"x2\",\"yaxis\":\"y2\"}],                        {\"template\":{\"data\":{\"histogram2dcontour\":[{\"type\":\"histogram2dcontour\",\"colorbar\":{\"outlinewidth\":0,\"ticks\":\"\"},\"colorscale\":[[0.0,\"#0d0887\"],[0.1111111111111111,\"#46039f\"],[0.2222222222222222,\"#7201a8\"],[0.3333333333333333,\"#9c179e\"],[0.4444444444444444,\"#bd3786\"],[0.5555555555555556,\"#d8576b\"],[0.6666666666666666,\"#ed7953\"],[0.7777777777777778,\"#fb9f3a\"],[0.8888888888888888,\"#fdca26\"],[1.0,\"#f0f921\"]]}],\"choropleth\":[{\"type\":\"choropleth\",\"colorbar\":{\"outlinewidth\":0,\"ticks\":\"\"}}],\"histogram2d\":[{\"type\":\"histogram2d\",\"colorbar\":{\"outlinewidth\":0,\"ticks\":\"\"},\"colorscale\":[[0.0,\"#0d0887\"],[0.1111111111111111,\"#46039f\"],[0.2222222222222222,\"#7201a8\"],[0.3333333333333333,\"#9c179e\"],[0.4444444444444444,\"#bd3786\"],[0.5555555555555556,\"#d8576b\"],[0.6666666666666666,\"#ed7953\"],[0.7777777777777778,\"#fb9f3a\"],[0.8888888888888888,\"#fdca26\"],[1.0,\"#f0f921\"]]}],\"heatmap\":[{\"type\":\"heatmap\",\"colorbar\":{\"outlinewidth\":0,\"ticks\":\"\"},\"colorscale\":[[0.0,\"#0d0887\"],[0.1111111111111111,\"#46039f\"],[0.2222222222222222,\"#7201a8\"],[0.3333333333333333,\"#9c179e\"],[0.4444444444444444,\"#bd3786\"],[0.5555555555555556,\"#d8576b\"],[0.6666666666666666,\"#ed7953\"],[0.7777777777777778,\"#fb9f3a\"],[0.8888888888888888,\"#fdca26\"],[1.0,\"#f0f921\"]]}],\"heatmapgl\":[{\"type\":\"heatmapgl\",\"colorbar\":{\"outlinewidth\":0,\"ticks\":\"\"},\"colorscale\":[[0.0,\"#0d0887\"],[0.1111111111111111,\"#46039f\"],[0.2222222222222222,\"#7201a8\"],[0.3333333333333333,\"#9c179e\"],[0.4444444444444444,\"#bd3786\"],[0.5555555555555556,\"#d8576b\"],[0.6666666666666666,\"#ed7953\"],[0.7777777777777778,\"#fb9f3a\"],[0.8888888888888888,\"#fdca26\"],[1.0,\"#f0f921\"]]}],\"contourcarpet\":[{\"type\":\"contourcarpet\",\"colorbar\":{\"outlinewidth\":0,\"ticks\":\"\"}}],\"contour\":[{\"type\":\"contour\",\"colorbar\":{\"outlinewidth\":0,\"ticks\":\"\"},\"colorscale\":[[0.0,\"#0d0887\"],[0.1111111111111111,\"#46039f\"],[0.2222222222222222,\"#7201a8\"],[0.3333333333333333,\"#9c179e\"],[0.4444444444444444,\"#bd3786\"],[0.5555555555555556,\"#d8576b\"],[0.6666666666666666,\"#ed7953\"],[0.7777777777777778,\"#fb9f3a\"],[0.8888888888888888,\"#fdca26\"],[1.0,\"#f0f921\"]]}],\"surface\":[{\"type\":\"surface\",\"colorbar\":{\"outlinewidth\":0,\"ticks\":\"\"},\"colorscale\":[[0.0,\"#0d0887\"],[0.1111111111111111,\"#46039f\"],[0.2222222222222222,\"#7201a8\"],[0.3333333333333333,\"#9c179e\"],[0.4444444444444444,\"#bd3786\"],[0.5555555555555556,\"#d8576b\"],[0.6666666666666666,\"#ed7953\"],[0.7777777777777778,\"#fb9f3a\"],[0.8888888888888888,\"#fdca26\"],[1.0,\"#f0f921\"]]}],\"mesh3d\":[{\"type\":\"mesh3d\",\"colorbar\":{\"outlinewidth\":0,\"ticks\":\"\"}}],\"scatter\":[{\"fillpattern\":{\"fillmode\":\"overlay\",\"size\":10,\"solidity\":0.2},\"type\":\"scatter\"}],\"parcoords\":[{\"type\":\"parcoords\",\"line\":{\"colorbar\":{\"outlinewidth\":0,\"ticks\":\"\"}}}],\"scatterpolargl\":[{\"type\":\"scatterpolargl\",\"marker\":{\"colorbar\":{\"outlinewidth\":0,\"ticks\":\"\"}}}],\"bar\":[{\"error_x\":{\"color\":\"#2a3f5f\"},\"error_y\":{\"color\":\"#2a3f5f\"},\"marker\":{\"line\":{\"color\":\"#E5ECF6\",\"width\":0.5},\"pattern\":{\"fillmode\":\"overlay\",\"size\":10,\"solidity\":0.2}},\"type\":\"bar\"}],\"scattergeo\":[{\"type\":\"scattergeo\",\"marker\":{\"colorbar\":{\"outlinewidth\":0,\"ticks\":\"\"}}}],\"scatterpolar\":[{\"type\":\"scatterpolar\",\"marker\":{\"colorbar\":{\"outlinewidth\":0,\"ticks\":\"\"}}}],\"histogram\":[{\"marker\":{\"pattern\":{\"fillmode\":\"overlay\",\"size\":10,\"solidity\":0.2}},\"type\":\"histogram\"}],\"scattergl\":[{\"type\":\"scattergl\",\"marker\":{\"colorbar\":{\"outlinewidth\":0,\"ticks\":\"\"}}}],\"scatter3d\":[{\"type\":\"scatter3d\",\"line\":{\"colorbar\":{\"outlinewidth\":0,\"ticks\":\"\"}},\"marker\":{\"colorbar\":{\"outlinewidth\":0,\"ticks\":\"\"}}}],\"scattermapbox\":[{\"type\":\"scattermapbox\",\"marker\":{\"colorbar\":{\"outlinewidth\":0,\"ticks\":\"\"}}}],\"scatterternary\":[{\"type\":\"scatterternary\",\"marker\":{\"colorbar\":{\"outlinewidth\":0,\"ticks\":\"\"}}}],\"scattercarpet\":[{\"type\":\"scattercarpet\",\"marker\":{\"colorbar\":{\"outlinewidth\":0,\"ticks\":\"\"}}}],\"carpet\":[{\"aaxis\":{\"endlinecolor\":\"#2a3f5f\",\"gridcolor\":\"white\",\"linecolor\":\"white\",\"minorgridcolor\":\"white\",\"startlinecolor\":\"#2a3f5f\"},\"baxis\":{\"endlinecolor\":\"#2a3f5f\",\"gridcolor\":\"white\",\"linecolor\":\"white\",\"minorgridcolor\":\"white\",\"startlinecolor\":\"#2a3f5f\"},\"type\":\"carpet\"}],\"table\":[{\"cells\":{\"fill\":{\"color\":\"#EBF0F8\"},\"line\":{\"color\":\"white\"}},\"header\":{\"fill\":{\"color\":\"#C8D4E3\"},\"line\":{\"color\":\"white\"}},\"type\":\"table\"}],\"barpolar\":[{\"marker\":{\"line\":{\"color\":\"#E5ECF6\",\"width\":0.5},\"pattern\":{\"fillmode\":\"overlay\",\"size\":10,\"solidity\":0.2}},\"type\":\"barpolar\"}],\"pie\":[{\"automargin\":true,\"type\":\"pie\"}]},\"layout\":{\"autotypenumbers\":\"strict\",\"colorway\":[\"#636efa\",\"#EF553B\",\"#00cc96\",\"#ab63fa\",\"#FFA15A\",\"#19d3f3\",\"#FF6692\",\"#B6E880\",\"#FF97FF\",\"#FECB52\"],\"font\":{\"color\":\"#2a3f5f\"},\"hovermode\":\"closest\",\"hoverlabel\":{\"align\":\"left\"},\"paper_bgcolor\":\"white\",\"plot_bgcolor\":\"#E5ECF6\",\"polar\":{\"bgcolor\":\"#E5ECF6\",\"angularaxis\":{\"gridcolor\":\"white\",\"linecolor\":\"white\",\"ticks\":\"\"},\"radialaxis\":{\"gridcolor\":\"white\",\"linecolor\":\"white\",\"ticks\":\"\"}},\"ternary\":{\"bgcolor\":\"#E5ECF6\",\"aaxis\":{\"gridcolor\":\"white\",\"linecolor\":\"white\",\"ticks\":\"\"},\"baxis\":{\"gridcolor\":\"white\",\"linecolor\":\"white\",\"ticks\":\"\"},\"caxis\":{\"gridcolor\":\"white\",\"linecolor\":\"white\",\"ticks\":\"\"}},\"coloraxis\":{\"colorbar\":{\"outlinewidth\":0,\"ticks\":\"\"}},\"colorscale\":{\"sequential\":[[0.0,\"#0d0887\"],[0.1111111111111111,\"#46039f\"],[0.2222222222222222,\"#7201a8\"],[0.3333333333333333,\"#9c179e\"],[0.4444444444444444,\"#bd3786\"],[0.5555555555555556,\"#d8576b\"],[0.6666666666666666,\"#ed7953\"],[0.7777777777777778,\"#fb9f3a\"],[0.8888888888888888,\"#fdca26\"],[1.0,\"#f0f921\"]],\"sequentialminus\":[[0.0,\"#0d0887\"],[0.1111111111111111,\"#46039f\"],[0.2222222222222222,\"#7201a8\"],[0.3333333333333333,\"#9c179e\"],[0.4444444444444444,\"#bd3786\"],[0.5555555555555556,\"#d8576b\"],[0.6666666666666666,\"#ed7953\"],[0.7777777777777778,\"#fb9f3a\"],[0.8888888888888888,\"#fdca26\"],[1.0,\"#f0f921\"]],\"diverging\":[[0,\"#8e0152\"],[0.1,\"#c51b7d\"],[0.2,\"#de77ae\"],[0.3,\"#f1b6da\"],[0.4,\"#fde0ef\"],[0.5,\"#f7f7f7\"],[0.6,\"#e6f5d0\"],[0.7,\"#b8e186\"],[0.8,\"#7fbc41\"],[0.9,\"#4d9221\"],[1,\"#276419\"]]},\"xaxis\":{\"gridcolor\":\"white\",\"linecolor\":\"white\",\"ticks\":\"\",\"title\":{\"standoff\":15},\"zerolinecolor\":\"white\",\"automargin\":true,\"zerolinewidth\":2},\"yaxis\":{\"gridcolor\":\"white\",\"linecolor\":\"white\",\"ticks\":\"\",\"title\":{\"standoff\":15},\"zerolinecolor\":\"white\",\"automargin\":true,\"zerolinewidth\":2},\"scene\":{\"xaxis\":{\"backgroundcolor\":\"#E5ECF6\",\"gridcolor\":\"white\",\"linecolor\":\"white\",\"showbackground\":true,\"ticks\":\"\",\"zerolinecolor\":\"white\",\"gridwidth\":2},\"yaxis\":{\"backgroundcolor\":\"#E5ECF6\",\"gridcolor\":\"white\",\"linecolor\":\"white\",\"showbackground\":true,\"ticks\":\"\",\"zerolinecolor\":\"white\",\"gridwidth\":2},\"zaxis\":{\"backgroundcolor\":\"#E5ECF6\",\"gridcolor\":\"white\",\"linecolor\":\"white\",\"showbackground\":true,\"ticks\":\"\",\"zerolinecolor\":\"white\",\"gridwidth\":2}},\"shapedefaults\":{\"line\":{\"color\":\"#2a3f5f\"}},\"annotationdefaults\":{\"arrowcolor\":\"#2a3f5f\",\"arrowhead\":0,\"arrowwidth\":1},\"geo\":{\"bgcolor\":\"white\",\"landcolor\":\"#E5ECF6\",\"subunitcolor\":\"white\",\"showland\":true,\"showlakes\":true,\"lakecolor\":\"white\"},\"title\":{\"x\":0.05},\"mapbox\":{\"style\":\"light\"}}},\"xaxis\":{\"anchor\":\"y\",\"domain\":[0.0,0.45]},\"yaxis\":{\"anchor\":\"x\",\"domain\":[0.0,1.0]},\"xaxis2\":{\"anchor\":\"y2\",\"domain\":[0.55,1.0]},\"yaxis2\":{\"anchor\":\"x2\",\"domain\":[0.0,1.0]},\"annotations\":[{\"font\":{\"size\":16},\"showarrow\":false,\"text\":\"acc\",\"x\":0.225,\"xanchor\":\"center\",\"xref\":\"paper\",\"y\":1.0,\"yanchor\":\"bottom\",\"yref\":\"paper\"},{\"font\":{\"size\":16},\"showarrow\":false,\"text\":\"loss\",\"x\":0.775,\"xanchor\":\"center\",\"xref\":\"paper\",\"y\":1.0,\"yanchor\":\"bottom\",\"yref\":\"paper\"}]},                        {\"responsive\": true}                    ).then(function(){\n",
       "                            \n",
       "var gd = document.getElementById('305f2562-6c4b-4d35-b974-b65597529776');\n",
       "var x = new MutationObserver(function (mutations, observer) {{\n",
       "        var display = window.getComputedStyle(gd).display;\n",
       "        if (!display || display === 'none') {{\n",
       "            console.log([gd, 'removed!']);\n",
       "            Plotly.purge(gd);\n",
       "            observer.disconnect();\n",
       "        }}\n",
       "}});\n",
       "\n",
       "// Listen for the removal of the full notebook cells\n",
       "var notebookContainer = gd.closest('#notebook-container');\n",
       "if (notebookContainer) {{\n",
       "    x.observe(notebookContainer, {childList: true});\n",
       "}}\n",
       "\n",
       "// Listen for the clearing of the current output cell\n",
       "var outputEl = gd.closest('.output');\n",
       "if (outputEl) {{\n",
       "    x.observe(outputEl, {childList: true});\n",
       "}}\n",
       "\n",
       "                        })                };                });            </script>        </div>"
      ]
     },
     "metadata": {},
     "output_type": "display_data"
    }
   ],
   "source": [
    "from core.dl_framework.utils import plot_history\n",
    "plot_history(learn.history)"
   ]
  },
  {
   "cell_type": "code",
   "execution_count": 18,
   "metadata": {},
   "outputs": [
    {
     "data": {
      "text/html": [
       "        <script type=\"text/javascript\">\n",
       "        window.PlotlyConfig = {MathJaxConfig: 'local'};\n",
       "        if (window.MathJax) {MathJax.Hub.Config({SVG: {font: \"STIX-Web\"}});}\n",
       "        if (typeof require !== 'undefined') {\n",
       "        require.undef(\"plotly\");\n",
       "        requirejs.config({\n",
       "            paths: {\n",
       "                'plotly': ['https://cdn.plot.ly/plotly-2.11.1.min']\n",
       "            }\n",
       "        });\n",
       "        require(['plotly'], function(Plotly) {\n",
       "            window._Plotly = Plotly;\n",
       "        });\n",
       "        }\n",
       "        </script>\n",
       "        "
      ]
     },
     "metadata": {},
     "output_type": "display_data"
    },
    {
     "data": {
      "text/html": [
       "<div>                            <div id=\"d5d0c9cc-3761-4791-a922-5528b5214b47\" class=\"plotly-graph-div\" style=\"height:525px; width:100%;\"></div>            <script type=\"text/javascript\">                require([\"plotly\"], function(Plotly) {                    window.PLOTLYENV=window.PLOTLYENV || {};                                    if (document.getElementById(\"d5d0c9cc-3761-4791-a922-5528b5214b47\")) {                    Plotly.newPlot(                        \"d5d0c9cc-3761-4791-a922-5528b5214b47\",                        [{\"name\":\"valid_acc\",\"x\":[1,2,3,4,5,6,7,8,9,10,11,12,13,14,15,16,17,18,19,20,21,22,23,24,25,26,27,28,29,30,31,32,33,34,35,36,37,38,39,40,41,42,43,44,45,46,47,48,49,50,51,52,53,54,55,56,57,58,59,60,61,62,63,64,65,66,67,68,69,70,71,72,73,74,75,76,77,78,79,80,81,82,83,84,85,86,87,88,89,90,91,92,93,94,95,96,97,98,99,100],\"y\":[0.26796457219251335,0.4138536096256685,0.4883856951871658,0.5521390374331551,0.5984291443850267,0.6345254010695187,0.6754679144385026,0.7171624331550802,0.7535929144385026,0.7815842245989305,0.8021390374331551,0.8172627005347594,0.8276236631016043,0.8355614973262032,0.8416610962566845,0.8466744652406417,0.851019385026738,0.8537767379679144,0.8574532085561497,0.8606283422459893,0.8628008021390374,0.8652239304812834,0.8673963903743316,0.8696524064171123,0.8719919786096256,0.8741644385026738,0.875417780748663,0.8769217914438503,0.8783422459893048,0.8790942513368984,0.8800969251336899,0.8813502673796791,0.8824364973262032,0.8835227272727273,0.8851102941176471,0.8863636363636364,0.8871991978609626,0.8882854278074866,0.8896223262032086,0.890625,0.8913770053475936,0.8922125668449198,0.8934659090909091,0.8935494652406417,0.8941343582887701,0.8950534759358288,0.8956383689839572,0.8960561497326203,0.8963068181818182,0.8970588235294118,0.8974766042780749,0.8978108288770054,0.897894385026738,0.8983957219251337,0.8993983957219251,0.8998997326203209,0.9004846256684492,0.9009859625668449,0.901403743315508,0.9022393048128342,0.9023228609625669,0.9027406417112299,0.9033255347593583,0.9037433155080213,0.9041610962566845,0.9045788770053476,0.9049966577540107,0.9054979946524064,0.9055815508021391,0.9061664438502673,0.9063335561497327,0.9063335561497327,0.9065006684491979,0.9069184491978609,0.9069184491978609,0.9071691176470589,0.9075033422459893,0.9078375668449198,0.9078375668449198,0.9080882352941176,0.9083389037433155,0.9085895721925134,0.9088402406417112,0.9088402406417112,0.9090073529411765,0.9089237967914439,0.9091744652406417,0.9094251336898396,0.9093415775401069,0.9092580213903744,0.9094251336898396,0.9098429144385026,0.9102606951871658,0.9106784759358288,0.9109291443850267,0.9111798128342246,0.9115140374331551,0.9118482620320856,0.9120989304812834,0.9125167112299465],\"type\":\"scatter\",\"xaxis\":\"x\",\"yaxis\":\"y\"},{\"name\":\"valid_loss\",\"x\":[1,2,3,4,5,6,7,8,9,10,11,12,13,14,15,16,17,18,19,20,21,22,23,24,25,26,27,28,29,30,31,32,33,34,35,36,37,38,39,40,41,42,43,44,45,46,47,48,49,50,51,52,53,54,55,56,57,58,59,60,61,62,63,64,65,66,67,68,69,70,71,72,73,74,75,76,77,78,79,80,81,82,83,84,85,86,87,88,89,90,91,92,93,94,95,96,97,98,99,100],\"y\":[2.2245191660794346,2.0971651051771194,1.981145826253024,1.852193597803779,1.7294614550901606,1.6109056893516989,1.496186856917519,1.386475102149229,1.283151339082157,1.1875606437417912,1.1007013872345501,1.022955914550924,0.9540737009940938,0.8934405140060792,0.8402010750643072,0.7934516824502996,0.7523462192260008,0.7161255102744077,0.684127865787496,0.6557790860135287,0.630576164964686,0.6080946264101222,0.5879695947794991,0.5698870801351925,0.5535905737290407,0.538847505090071,0.5254693742104393,0.5132866076288376,0.5021568093707854,0.49195735100756355,0.4825793970077433,0.47393385069893007,0.4659381043464742,0.4585219699749972,0.45162556308476043,0.44519736597882237,0.43919114370078327,0.4335690242721435,0.42829332751705046,0.42333103676530764,0.4186558827837521,0.41424567742462465,0.4100745596828308,0.40612640092398394,0.4023842640260962,0.3988257746964215,0.3954355971698455,0.39220458739262853,0.38912188186046276,0.38617434739110307,0.3833513923666694,0.3806413403328727,0.37804134261799366,0.3755466425641973,0.37315022786033347,0.3708459333302503,0.3686264669672053,0.36648502770592184,0.3644153518791505,0.3624152857511439,0.3604840696814226,0.3586192466517821,0.3568194200967085,0.35507444224574347,0.3533851240567345,0.3517454041038605,0.3501501317648964,0.3486015418952799,0.3471005758180975,0.34564149507226793,0.34422558585908963,0.342846578614597,0.34150242582361967,0.3401904757169479,0.3389154657482463,0.3376712220556596,0.33645669502370495,0.3352758743386855,0.3341260224102653,0.3330026008387938,0.3319069253091506,0.3308351577762614,0.3297891071773468,0.32876527134109945,0.3277647593282761,0.3267849585748611,0.3258258662918672,0.32488624950781225,0.32396562301857584,0.3230626791078139,0.3221778687946299,0.32131150396749936,0.32046212678287117,0.3196278734003159,0.3188107901397236,0.3180109726235191,0.31722346713198696,0.3164499162591715,0.31569112012571193,0.314945042173174],\"type\":\"scatter\",\"xaxis\":\"x2\",\"yaxis\":\"y2\"},{\"name\":\"train_loss\",\"x\":[1,2,3,4,5,6,7,8,9,10,11,12,13,14,15,16,17,18,19,20,21,22,23,24,25,26,27,28,29,30,31,32,33,34,35,36,37,38,39,40,41,42,43,44,45,46,47,48,49,50,51,52,53,54,55,56,57,58,59,60,61,62,63,64,65,66,67,68,69,70,71,72,73,74,75,76,77,78,79,80,81,82,83,84,85,86,87,88,89,90,91,92,93,94,95,96,97,98,99,100],\"y\":[2.2760289176305135,2.156747061729431,2.0330536770820617,1.911867619673411,1.7840716818173727,1.6632393137613932,1.5462165271441142,1.4336267800331115,1.3267543218930562,1.226950566848119,1.1354215470949809,1.0528470436731974,0.9792778038978577,0.9142558121681214,0.8570167849063873,0.806678021589915,0.7623890726566315,0.7233553468386332,0.6888755424022674,0.6583357282479604,0.6312019296884537,0.607013436516126,0.5853761217196782,0.5659496706326802,0.5484524083534876,0.532638448437055,0.5182978796164195,0.5052519617875417,0.49334326791763305,0.4824381982088089,0.47241814744472505,0.46318470587333044,0.45465122650067014,0.4467409104506175,0.43938834687074024,0.43253542774915693,0.42613300947348276,0.42013591128587724,0.41451041847467424,0.4092187665303548,0.4042321656147639,0.39952297721306484,0.39506994889179864,0.3908488511840502,0.38684167903661726,0.38303213129440944,0.3794021463394165,0.37594218375285465,0.372641541659832,0.3694877342780431,0.36646999514102935,0.36357682367165883,0.36079878054062525,0.35812965482473375,0.355565411289533,0.35309684268633523,0.35071849973996483,0.34842533403635023,0.3462139722506205,0.3440765503048897,0.3420089441736539,0.3400078299840291,0.3380711482365926,0.3361941946744919,0.3343756123483181,0.3326136530836423,0.3309002027014891,0.32923461761077244,0.3276171856323878,0.32604322730501495,0.32451230626304944,0.32302182564139365,0.3215708221892516,0.3201570657392343,0.3187784023483594,0.31743337332208954,0.3161199900706609,0.31483930845061936,0.31359016023079556,0.31237040491898854,0.31117878400286036,0.31001371568441394,0.3088744082848231,0.30775801519552864,0.30666607336203255,0.30559768175085383,0.30455131937066715,0.3035263188878695,0.3025220137735208,0.3015366988281409,0.3005690841972828,0.2996196232040723,0.29868941579262415,0.29777604938546814,0.2968783215979735,0.29599710762500764,0.2951319335103035,0.2942808095216751,0.29344411490360894,0.2926217301487923],\"type\":\"scatter\",\"xaxis\":\"x2\",\"yaxis\":\"y2\"}],                        {\"template\":{\"data\":{\"histogram2dcontour\":[{\"type\":\"histogram2dcontour\",\"colorbar\":{\"outlinewidth\":0,\"ticks\":\"\"},\"colorscale\":[[0.0,\"#0d0887\"],[0.1111111111111111,\"#46039f\"],[0.2222222222222222,\"#7201a8\"],[0.3333333333333333,\"#9c179e\"],[0.4444444444444444,\"#bd3786\"],[0.5555555555555556,\"#d8576b\"],[0.6666666666666666,\"#ed7953\"],[0.7777777777777778,\"#fb9f3a\"],[0.8888888888888888,\"#fdca26\"],[1.0,\"#f0f921\"]]}],\"choropleth\":[{\"type\":\"choropleth\",\"colorbar\":{\"outlinewidth\":0,\"ticks\":\"\"}}],\"histogram2d\":[{\"type\":\"histogram2d\",\"colorbar\":{\"outlinewidth\":0,\"ticks\":\"\"},\"colorscale\":[[0.0,\"#0d0887\"],[0.1111111111111111,\"#46039f\"],[0.2222222222222222,\"#7201a8\"],[0.3333333333333333,\"#9c179e\"],[0.4444444444444444,\"#bd3786\"],[0.5555555555555556,\"#d8576b\"],[0.6666666666666666,\"#ed7953\"],[0.7777777777777778,\"#fb9f3a\"],[0.8888888888888888,\"#fdca26\"],[1.0,\"#f0f921\"]]}],\"heatmap\":[{\"type\":\"heatmap\",\"colorbar\":{\"outlinewidth\":0,\"ticks\":\"\"},\"colorscale\":[[0.0,\"#0d0887\"],[0.1111111111111111,\"#46039f\"],[0.2222222222222222,\"#7201a8\"],[0.3333333333333333,\"#9c179e\"],[0.4444444444444444,\"#bd3786\"],[0.5555555555555556,\"#d8576b\"],[0.6666666666666666,\"#ed7953\"],[0.7777777777777778,\"#fb9f3a\"],[0.8888888888888888,\"#fdca26\"],[1.0,\"#f0f921\"]]}],\"heatmapgl\":[{\"type\":\"heatmapgl\",\"colorbar\":{\"outlinewidth\":0,\"ticks\":\"\"},\"colorscale\":[[0.0,\"#0d0887\"],[0.1111111111111111,\"#46039f\"],[0.2222222222222222,\"#7201a8\"],[0.3333333333333333,\"#9c179e\"],[0.4444444444444444,\"#bd3786\"],[0.5555555555555556,\"#d8576b\"],[0.6666666666666666,\"#ed7953\"],[0.7777777777777778,\"#fb9f3a\"],[0.8888888888888888,\"#fdca26\"],[1.0,\"#f0f921\"]]}],\"contourcarpet\":[{\"type\":\"contourcarpet\",\"colorbar\":{\"outlinewidth\":0,\"ticks\":\"\"}}],\"contour\":[{\"type\":\"contour\",\"colorbar\":{\"outlinewidth\":0,\"ticks\":\"\"},\"colorscale\":[[0.0,\"#0d0887\"],[0.1111111111111111,\"#46039f\"],[0.2222222222222222,\"#7201a8\"],[0.3333333333333333,\"#9c179e\"],[0.4444444444444444,\"#bd3786\"],[0.5555555555555556,\"#d8576b\"],[0.6666666666666666,\"#ed7953\"],[0.7777777777777778,\"#fb9f3a\"],[0.8888888888888888,\"#fdca26\"],[1.0,\"#f0f921\"]]}],\"surface\":[{\"type\":\"surface\",\"colorbar\":{\"outlinewidth\":0,\"ticks\":\"\"},\"colorscale\":[[0.0,\"#0d0887\"],[0.1111111111111111,\"#46039f\"],[0.2222222222222222,\"#7201a8\"],[0.3333333333333333,\"#9c179e\"],[0.4444444444444444,\"#bd3786\"],[0.5555555555555556,\"#d8576b\"],[0.6666666666666666,\"#ed7953\"],[0.7777777777777778,\"#fb9f3a\"],[0.8888888888888888,\"#fdca26\"],[1.0,\"#f0f921\"]]}],\"mesh3d\":[{\"type\":\"mesh3d\",\"colorbar\":{\"outlinewidth\":0,\"ticks\":\"\"}}],\"scatter\":[{\"fillpattern\":{\"fillmode\":\"overlay\",\"size\":10,\"solidity\":0.2},\"type\":\"scatter\"}],\"parcoords\":[{\"type\":\"parcoords\",\"line\":{\"colorbar\":{\"outlinewidth\":0,\"ticks\":\"\"}}}],\"scatterpolargl\":[{\"type\":\"scatterpolargl\",\"marker\":{\"colorbar\":{\"outlinewidth\":0,\"ticks\":\"\"}}}],\"bar\":[{\"error_x\":{\"color\":\"#2a3f5f\"},\"error_y\":{\"color\":\"#2a3f5f\"},\"marker\":{\"line\":{\"color\":\"#E5ECF6\",\"width\":0.5},\"pattern\":{\"fillmode\":\"overlay\",\"size\":10,\"solidity\":0.2}},\"type\":\"bar\"}],\"scattergeo\":[{\"type\":\"scattergeo\",\"marker\":{\"colorbar\":{\"outlinewidth\":0,\"ticks\":\"\"}}}],\"scatterpolar\":[{\"type\":\"scatterpolar\",\"marker\":{\"colorbar\":{\"outlinewidth\":0,\"ticks\":\"\"}}}],\"histogram\":[{\"marker\":{\"pattern\":{\"fillmode\":\"overlay\",\"size\":10,\"solidity\":0.2}},\"type\":\"histogram\"}],\"scattergl\":[{\"type\":\"scattergl\",\"marker\":{\"colorbar\":{\"outlinewidth\":0,\"ticks\":\"\"}}}],\"scatter3d\":[{\"type\":\"scatter3d\",\"line\":{\"colorbar\":{\"outlinewidth\":0,\"ticks\":\"\"}},\"marker\":{\"colorbar\":{\"outlinewidth\":0,\"ticks\":\"\"}}}],\"scattermapbox\":[{\"type\":\"scattermapbox\",\"marker\":{\"colorbar\":{\"outlinewidth\":0,\"ticks\":\"\"}}}],\"scatterternary\":[{\"type\":\"scatterternary\",\"marker\":{\"colorbar\":{\"outlinewidth\":0,\"ticks\":\"\"}}}],\"scattercarpet\":[{\"type\":\"scattercarpet\",\"marker\":{\"colorbar\":{\"outlinewidth\":0,\"ticks\":\"\"}}}],\"carpet\":[{\"aaxis\":{\"endlinecolor\":\"#2a3f5f\",\"gridcolor\":\"white\",\"linecolor\":\"white\",\"minorgridcolor\":\"white\",\"startlinecolor\":\"#2a3f5f\"},\"baxis\":{\"endlinecolor\":\"#2a3f5f\",\"gridcolor\":\"white\",\"linecolor\":\"white\",\"minorgridcolor\":\"white\",\"startlinecolor\":\"#2a3f5f\"},\"type\":\"carpet\"}],\"table\":[{\"cells\":{\"fill\":{\"color\":\"#EBF0F8\"},\"line\":{\"color\":\"white\"}},\"header\":{\"fill\":{\"color\":\"#C8D4E3\"},\"line\":{\"color\":\"white\"}},\"type\":\"table\"}],\"barpolar\":[{\"marker\":{\"line\":{\"color\":\"#E5ECF6\",\"width\":0.5},\"pattern\":{\"fillmode\":\"overlay\",\"size\":10,\"solidity\":0.2}},\"type\":\"barpolar\"}],\"pie\":[{\"automargin\":true,\"type\":\"pie\"}]},\"layout\":{\"autotypenumbers\":\"strict\",\"colorway\":[\"#636efa\",\"#EF553B\",\"#00cc96\",\"#ab63fa\",\"#FFA15A\",\"#19d3f3\",\"#FF6692\",\"#B6E880\",\"#FF97FF\",\"#FECB52\"],\"font\":{\"color\":\"#2a3f5f\"},\"hovermode\":\"closest\",\"hoverlabel\":{\"align\":\"left\"},\"paper_bgcolor\":\"white\",\"plot_bgcolor\":\"#E5ECF6\",\"polar\":{\"bgcolor\":\"#E5ECF6\",\"angularaxis\":{\"gridcolor\":\"white\",\"linecolor\":\"white\",\"ticks\":\"\"},\"radialaxis\":{\"gridcolor\":\"white\",\"linecolor\":\"white\",\"ticks\":\"\"}},\"ternary\":{\"bgcolor\":\"#E5ECF6\",\"aaxis\":{\"gridcolor\":\"white\",\"linecolor\":\"white\",\"ticks\":\"\"},\"baxis\":{\"gridcolor\":\"white\",\"linecolor\":\"white\",\"ticks\":\"\"},\"caxis\":{\"gridcolor\":\"white\",\"linecolor\":\"white\",\"ticks\":\"\"}},\"coloraxis\":{\"colorbar\":{\"outlinewidth\":0,\"ticks\":\"\"}},\"colorscale\":{\"sequential\":[[0.0,\"#0d0887\"],[0.1111111111111111,\"#46039f\"],[0.2222222222222222,\"#7201a8\"],[0.3333333333333333,\"#9c179e\"],[0.4444444444444444,\"#bd3786\"],[0.5555555555555556,\"#d8576b\"],[0.6666666666666666,\"#ed7953\"],[0.7777777777777778,\"#fb9f3a\"],[0.8888888888888888,\"#fdca26\"],[1.0,\"#f0f921\"]],\"sequentialminus\":[[0.0,\"#0d0887\"],[0.1111111111111111,\"#46039f\"],[0.2222222222222222,\"#7201a8\"],[0.3333333333333333,\"#9c179e\"],[0.4444444444444444,\"#bd3786\"],[0.5555555555555556,\"#d8576b\"],[0.6666666666666666,\"#ed7953\"],[0.7777777777777778,\"#fb9f3a\"],[0.8888888888888888,\"#fdca26\"],[1.0,\"#f0f921\"]],\"diverging\":[[0,\"#8e0152\"],[0.1,\"#c51b7d\"],[0.2,\"#de77ae\"],[0.3,\"#f1b6da\"],[0.4,\"#fde0ef\"],[0.5,\"#f7f7f7\"],[0.6,\"#e6f5d0\"],[0.7,\"#b8e186\"],[0.8,\"#7fbc41\"],[0.9,\"#4d9221\"],[1,\"#276419\"]]},\"xaxis\":{\"gridcolor\":\"white\",\"linecolor\":\"white\",\"ticks\":\"\",\"title\":{\"standoff\":15},\"zerolinecolor\":\"white\",\"automargin\":true,\"zerolinewidth\":2},\"yaxis\":{\"gridcolor\":\"white\",\"linecolor\":\"white\",\"ticks\":\"\",\"title\":{\"standoff\":15},\"zerolinecolor\":\"white\",\"automargin\":true,\"zerolinewidth\":2},\"scene\":{\"xaxis\":{\"backgroundcolor\":\"#E5ECF6\",\"gridcolor\":\"white\",\"linecolor\":\"white\",\"showbackground\":true,\"ticks\":\"\",\"zerolinecolor\":\"white\",\"gridwidth\":2},\"yaxis\":{\"backgroundcolor\":\"#E5ECF6\",\"gridcolor\":\"white\",\"linecolor\":\"white\",\"showbackground\":true,\"ticks\":\"\",\"zerolinecolor\":\"white\",\"gridwidth\":2},\"zaxis\":{\"backgroundcolor\":\"#E5ECF6\",\"gridcolor\":\"white\",\"linecolor\":\"white\",\"showbackground\":true,\"ticks\":\"\",\"zerolinecolor\":\"white\",\"gridwidth\":2}},\"shapedefaults\":{\"line\":{\"color\":\"#2a3f5f\"}},\"annotationdefaults\":{\"arrowcolor\":\"#2a3f5f\",\"arrowhead\":0,\"arrowwidth\":1},\"geo\":{\"bgcolor\":\"white\",\"landcolor\":\"#E5ECF6\",\"subunitcolor\":\"white\",\"showland\":true,\"showlakes\":true,\"lakecolor\":\"white\"},\"title\":{\"x\":0.05},\"mapbox\":{\"style\":\"light\"}}},\"xaxis\":{\"anchor\":\"y\",\"domain\":[0.0,0.45]},\"yaxis\":{\"anchor\":\"x\",\"domain\":[0.0,1.0]},\"xaxis2\":{\"anchor\":\"y2\",\"domain\":[0.55,1.0]},\"yaxis2\":{\"anchor\":\"x2\",\"domain\":[0.0,1.0]},\"annotations\":[{\"font\":{\"size\":16},\"showarrow\":false,\"text\":\"acc\",\"x\":0.225,\"xanchor\":\"center\",\"xref\":\"paper\",\"y\":1.0,\"yanchor\":\"bottom\",\"yref\":\"paper\"},{\"font\":{\"size\":16},\"showarrow\":false,\"text\":\"loss\",\"x\":0.775,\"xanchor\":\"center\",\"xref\":\"paper\",\"y\":1.0,\"yanchor\":\"bottom\",\"yref\":\"paper\"}]},                        {\"responsive\": true}                    ).then(function(){\n",
       "                            \n",
       "var gd = document.getElementById('d5d0c9cc-3761-4791-a922-5528b5214b47');\n",
       "var x = new MutationObserver(function (mutations, observer) {{\n",
       "        var display = window.getComputedStyle(gd).display;\n",
       "        if (!display || display === 'none') {{\n",
       "            console.log([gd, 'removed!']);\n",
       "            Plotly.purge(gd);\n",
       "            observer.disconnect();\n",
       "        }}\n",
       "}});\n",
       "\n",
       "// Listen for the removal of the full notebook cells\n",
       "var notebookContainer = gd.closest('#notebook-container');\n",
       "if (notebookContainer) {{\n",
       "    x.observe(notebookContainer, {childList: true});\n",
       "}}\n",
       "\n",
       "// Listen for the clearing of the current output cell\n",
       "var outputEl = gd.closest('.output');\n",
       "if (outputEl) {{\n",
       "    x.observe(outputEl, {childList: true});\n",
       "}}\n",
       "\n",
       "                        })                };                });            </script>        </div>"
      ]
     },
     "metadata": {},
     "output_type": "display_data"
    }
   ],
   "source": [
    "# !pip install plotly\n",
    "import plotly.io as pio\n",
    "pio.renderers.default = \"notebook_connected\"\n",
    "import pandas as pd\n",
    "import plotly.express as px\n",
    "from plotly.subplots import make_subplots\n",
    "import plotly.graph_objects as go\n",
    "# def print_history(history):\n",
    "history = learn.history\n",
    "\n",
    "implemented_metric = [\"acc\", \"loss\"]\n",
    "plot_dict = {}\n",
    "for met in implemented_metric:\n",
    "    plot_dict[met] = [s for s in history if met in s]\n",
    "\n",
    "fig = make_subplots(rows=1, cols=len(plot_dict), subplot_titles=list(plot_dict.keys()))\n",
    "\n",
    "for idx, (met, mets) in enumerate(plot_dict.items()):\n",
    "    for key in mets:\n",
    "        fig.add_trace(go.Scatter(x=history.index, y=history[key].values, name=key), row=1, col=idx+1 )\n",
    "    # break\n",
    "# learn.history.keys()[0]\n",
    "# fig.update_layout(title_text=\"test\")\n",
    "fig.show()"
   ]
  },
  {
   "cell_type": "code",
   "execution_count": 17,
   "metadata": {},
   "outputs": [
    {
     "data": {
      "text/plain": [
       "['acc', 'loss']"
      ]
     },
     "execution_count": 17,
     "metadata": {},
     "output_type": "execute_result"
    }
   ],
   "source": [
    "list(plot_dict.keys())"
   ]
  },
  {
   "cell_type": "code",
   "execution_count": null,
   "metadata": {},
   "outputs": [],
   "source": []
  },
  {
   "cell_type": "code",
   "execution_count": 22,
   "metadata": {},
   "outputs": [
    {
     "data": {
      "text/plain": [
       "__main__.test_class"
      ]
     },
     "execution_count": 22,
     "metadata": {},
     "output_type": "execute_result"
    }
   ],
   "source": [
    "globals()[\"test_class\"]\n"
   ]
  },
  {
   "cell_type": "code",
   "execution_count": 29,
   "metadata": {},
   "outputs": [
    {
     "name": "stdout",
     "output_type": "stream",
     "text": [
      "1.57 µs ± 284 ns per loop (mean ± std. dev. of 7 runs, 100000 loops each)\n"
     ]
    }
   ],
   "source": [
    "%%timeit\n",
    "test_num.max()"
   ]
  },
  {
   "cell_type": "code",
   "execution_count": 41,
   "metadata": {},
   "outputs": [
    {
     "name": "stdout",
     "output_type": "stream",
     "text": [
      "281 ns ± 10.7 ns per loop (mean ± std. dev. of 7 runs, 1000000 loops each)\n"
     ]
    }
   ],
   "source": [
    "%%timeit\n",
    "max(test_dict[\"test\"])\n"
   ]
  },
  {
   "cell_type": "code",
   "execution_count": 47,
   "metadata": {},
   "outputs": [
    {
     "data": {
      "text/plain": [
       "<function __main__.test_class.attr(self)>"
      ]
     },
     "execution_count": 47,
     "metadata": {},
     "output_type": "execute_result"
    }
   ],
   "source": [
    "import types\n",
    "class test_class():\n",
    "    def __init__(self, a):\n",
    "        self.attr = a\n",
    "    \n",
    "    def attr(self):\n",
    "        pass\n",
    "\n",
    "test = test_class(1)\n",
    "\n",
    "getattr(test_class, \"attr\")"
   ]
  },
  {
   "cell_type": "code",
   "execution_count": 35,
   "metadata": {},
   "outputs": [
    {
     "name": "stdout",
     "output_type": "stream",
     "text": [
      "2.09 µs ± 52.2 ns per loop (mean ± std. dev. of 7 runs, 100000 loops each)\n"
     ]
    }
   ],
   "source": [
    "%%timeit\n",
    "test1.sum()"
   ]
  },
  {
   "cell_type": "code",
   "execution_count": 32,
   "metadata": {},
   "outputs": [],
   "source": [
    "import numpy as np"
   ]
  },
  {
   "cell_type": "code",
   "execution_count": 16,
   "metadata": {},
   "outputs": [
    {
     "data": {
      "text/plain": [
       "{'a': 1, 's': 123}"
      ]
     },
     "execution_count": 16,
     "metadata": {},
     "output_type": "execute_result"
    }
   ],
   "source": [
    "class test1:\n",
    "    def __init__(self, a):\n",
    "        self.a = a\n",
    "    def test_func(self):\n",
    "        return self.a\n",
    "a = test1(1)\n",
    "setattr(a, \"s\", 123)\n",
    "vars(a)"
   ]
  },
  {
   "cell_type": "code",
   "execution_count": 17,
   "metadata": {},
   "outputs": [
    {
     "ename": "NameError",
     "evalue": "name 'Monitor_Cb' is not defined",
     "output_type": "error",
     "traceback": [
      "\u001b[0;31m---------------------------------------------------------------------------\u001b[0m",
      "\u001b[0;31mNameError\u001b[0m                                 Traceback (most recent call last)",
      "\u001b[0;32m/tmp/ipykernel_8033/1156614540.py\u001b[0m in \u001b[0;36m<module>\u001b[0;34m\u001b[0m\n\u001b[0;32m----> 1\u001b[0;31m \u001b[0mmonitor\u001b[0m \u001b[0;34m=\u001b[0m \u001b[0mMonitor_Cb\u001b[0m\u001b[0;34m(\u001b[0m\u001b[0;34m[\u001b[0m\u001b[0;34m\"val_acc\"\u001b[0m\u001b[0;34m]\u001b[0m\u001b[0;34m)\u001b[0m\u001b[0;34m\u001b[0m\u001b[0m\n\u001b[0m\u001b[1;32m      2\u001b[0m \u001b[0mearly\u001b[0m \u001b[0;34m=\u001b[0m \u001b[0mEarlyStopping_Cb\u001b[0m\u001b[0;34m(\u001b[0m\u001b[0mmonitor\u001b[0m\u001b[0;34m=\u001b[0m\u001b[0;34m\"val_loss\"\u001b[0m\u001b[0;34m)\u001b[0m\u001b[0;34m\u001b[0m\u001b[0m\n\u001b[1;32m      3\u001b[0m \u001b[0mrecorder\u001b[0m \u001b[0;34m=\u001b[0m \u001b[0mRecorder_Cb\u001b[0m\u001b[0;34m(\u001b[0m\u001b[0;34m\"hi\"\u001b[0m\u001b[0;34m)\u001b[0m\u001b[0;34m\u001b[0m\u001b[0m\n\u001b[1;32m      4\u001b[0m \u001b[0mcbh\u001b[0m \u001b[0;34m=\u001b[0m \u001b[0mCallbackHandler\u001b[0m\u001b[0;34m(\u001b[0m\u001b[0;34m[\u001b[0m\u001b[0mmonitor\u001b[0m\u001b[0;34m,\u001b[0m \u001b[0mearly\u001b[0m\u001b[0;34m,\u001b[0m \u001b[0mrecorder\u001b[0m\u001b[0;34m]\u001b[0m\u001b[0;34m)\u001b[0m\u001b[0;34m\u001b[0m\u001b[0m\n\u001b[1;32m      5\u001b[0m \u001b[0mcbh\u001b[0m\u001b[0;34m.\u001b[0m\u001b[0mMonitor_Cb\u001b[0m\u001b[0;34m.\u001b[0m\u001b[0mlearn\u001b[0m\u001b[0;34m\u001b[0m\u001b[0m\n",
      "\u001b[0;31mNameError\u001b[0m: name 'Monitor_Cb' is not defined"
     ]
    }
   ],
   "source": [
    "monitor = Monitor_Cb([\"val_acc\"])\n",
    "early = EarlyStopping_Cb(monitor=\"val_loss\")\n",
    "recorder = Recorder_Cb(\"hi\")\n",
    "cbh = CallbackHandler([monitor, early, recorder])\n",
    "cbh.Monitor_Cb.learn\n"
   ]
  },
  {
   "cell_type": "code",
   "execution_count": 9,
   "metadata": {},
   "outputs": [
    {
     "name": "stdout",
     "output_type": "stream",
     "text": [
      "a\n"
     ]
    }
   ],
   "source": [
    "a = [\"a\"]\n",
    "for i in a[:4]:\n",
    "    print(i)"
   ]
  }
 ],
 "metadata": {
  "interpreter": {
   "hash": "fd69f43f58546b570e94fd7eba7b65e6bcc7a5bbc4eab0408017d18902915d69"
  },
  "kernelspec": {
   "display_name": "Python 3.7.13 64-bit",
   "language": "python",
   "name": "python3"
  },
  "language_info": {
   "codemirror_mode": {
    "name": "ipython",
    "version": 3
   },
   "file_extension": ".py",
   "mimetype": "text/x-python",
   "name": "python",
   "nbconvert_exporter": "python",
   "pygments_lexer": "ipython3",
   "version": "3.7.0"
  },
  "orig_nbformat": 4
 },
 "nbformat": 4,
 "nbformat_minor": 2
}
