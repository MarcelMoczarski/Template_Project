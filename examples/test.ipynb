{
 "cells": [
  {
   "cell_type": "code",
   "execution_count": null,
   "metadata": {},
   "outputs": [],
   "source": [
    "%%bash\n",
    "pip install plotly\n",
    "pip install fastparquet\n",
    "pip install pyarrow"
   ]
  },
  {
   "cell_type": "code",
   "execution_count": 1,
   "metadata": {},
   "outputs": [
    {
     "name": "stderr",
     "output_type": "stream",
     "text": [
      "/usr/local/lib/python3.7/site-packages/tqdm/auto.py:22: TqdmWarning: IProgress not found. Please update jupyter and ipywidgets. See https://ipywidgets.readthedocs.io/en/stable/user_install.html\n",
      "  from .autonotebook import tqdm as notebook_tqdm\n"
     ]
    }
   ],
   "source": [
    "%reload_ext autoreload\n",
    "%autoreload 2\n",
    "os.chdir(\"..\")\n",
    "import toml\n",
    "from core.dl_framework.utils import read_config"
   ]
  },
  {
   "cell_type": "code",
   "execution_count": 2,
   "metadata": {},
   "outputs": [
    {
     "name": "stdout",
     "output_type": "stream",
     "text": [
      "/content/Template_Project\n"
     ]
    }
   ],
   "source": [
    "%%bash \n",
    "pwd"
   ]
  },
  {
   "cell_type": "code",
   "execution_count": 3,
   "metadata": {},
   "outputs": [],
   "source": [
    "config_file = toml.load(\"configs/default_train_config.toml\")\n",
    "setup_config = read_config(config_file)"
   ]
  },
  {
   "cell_type": "code",
   "execution_count": 5,
   "metadata": {},
   "outputs": [
    {
     "name": "stderr",
     "output_type": "stream",
     "text": [
      "100%|██████████| 750/750 [00:02<00:00, 297.07it/s]\n",
      "100%|██████████| 187/187 [00:00<00:00, 1171.62it/s]\n"
     ]
    },
    {
     "name": "stdout",
     "output_type": "stream",
     "text": [
      "epoch: 1/2\t[valid_acc: 0.8958\tvalid_loss: 0.6926\ttrain_loss: 1.2775]\n",
      "new best: valid_loss 0.6926330876222906\n",
      "new checkpoint\n"
     ]
    },
    {
     "name": "stderr",
     "output_type": "stream",
     "text": [
      "100%|██████████| 750/750 [00:02<00:00, 288.10it/s]\n",
      "100%|██████████| 187/187 [00:00<00:00, 1180.10it/s]"
     ]
    },
    {
     "name": "stdout",
     "output_type": "stream",
     "text": [
      "epoch: 2/2\t[valid_acc: 0.9357\tvalid_loss: 0.3742\ttrain_loss: 0.4922]\n",
      "new best: valid_loss 0.3742092729092919\n",
      "new checkpoint\n"
     ]
    },
    {
     "name": "stderr",
     "output_type": "stream",
     "text": [
      "\n"
     ]
    }
   ],
   "source": [
    "from core.dl_framework.learner import Learner\n",
    "from core.dl_framework.callbacks import Recorder, Monitor, EarlyStopping, Checkpoints\n",
    "from core.dl_framework.data import get_dataset, Dataset, DataLoader, split_data\n",
    "from torchvision import transforms\n",
    "bs = setup_config[\"h_batch_size\"]\n",
    "x_train, y_train, x_test, y_test = get_dataset(setup_config[\"s_source\"], setup_config[\"s_set\"], setup_config[\"p_tmp_data_path\"], CNN=True)\n",
    "\n",
    "train_ds, test_ds =  Dataset(x_train, y_train), Dataset(x_test, y_test)\n",
    "train_dl, test_dl = DataLoader(train_ds, bs), DataLoader(test_ds, bs)\n",
    "learn = Learner(train_ds, setup_config)\n",
    "learn.fit(2)\n"
   ]
  },
  {
   "cell_type": "code",
   "execution_count": 4,
   "metadata": {},
   "outputs": [],
   "source": [
    "from pathlib import Path\n",
    "from datetime import datetime\n",
    "ckp_path = \"/content/gdrive/MyDrive/Marcel_Moczarski/Data_Science/Google_Services/Local_Drive_Storage/Conda_Envs/Template_Project/checkpoints\""
   ]
  },
  {
   "cell_type": "code",
   "execution_count": 169,
   "metadata": {},
   "outputs": [],
   "source": [
    "sample = next(iter(test_dl))\n",
    "imgs, targets = sample"
   ]
  },
  {
   "cell_type": "code",
   "execution_count": 65,
   "metadata": {},
   "outputs": [
    {
     "data": {
      "text/plain": [
       "PosixPath('/content/gdrive/MyDrive/Marcel_Moczarski/Data_Science/Google_Services/Local_Drive_Storage/Conda_Envs/Template_Project')"
      ]
     },
     "execution_count": 65,
     "metadata": {},
     "output_type": "execute_result"
    }
   ],
   "source": [
    "ckp_path\n",
    "project_name = Path(os.getcwd()).name\n",
    "for i, path in enumerate(ckp_path.parts):\n",
    "    length = len(ckp_path.parts)\n",
    "    if (path == project_name) and (i+1 != length):\n",
    "        project_path = ckp_path.parents[length-i-2]\n",
    "project_path"
   ]
  },
  {
   "cell_type": "code",
   "execution_count": 90,
   "metadata": {},
   "outputs": [
    {
     "data": {
      "text/html": [
       "<div>\n",
       "<style scoped>\n",
       "    .dataframe tbody tr th:only-of-type {\n",
       "        vertical-align: middle;\n",
       "    }\n",
       "\n",
       "    .dataframe tbody tr th {\n",
       "        vertical-align: top;\n",
       "    }\n",
       "\n",
       "    .dataframe thead th {\n",
       "        text-align: right;\n",
       "    }\n",
       "</style>\n",
       "<table border=\"1\" class=\"dataframe\">\n",
       "  <thead>\n",
       "    <tr style=\"text-align: right;\">\n",
       "      <th></th>\n",
       "      <th>valid_acc</th>\n",
       "      <th>valid_loss</th>\n",
       "      <th>train_loss</th>\n",
       "    </tr>\n",
       "    <tr>\n",
       "      <th>epochs</th>\n",
       "      <th></th>\n",
       "      <th></th>\n",
       "      <th></th>\n",
       "    </tr>\n",
       "  </thead>\n",
       "  <tbody>\n",
       "    <tr>\n",
       "      <th>1</th>\n",
       "      <td>0.892463</td>\n",
       "      <td>0.694473</td>\n",
       "      <td>1.296461</td>\n",
       "    </tr>\n",
       "    <tr>\n",
       "      <th>2</th>\n",
       "      <td>0.935244</td>\n",
       "      <td>0.377675</td>\n",
       "      <td>0.496537</td>\n",
       "    </tr>\n",
       "    <tr>\n",
       "      <th>3</th>\n",
       "      <td>0.951454</td>\n",
       "      <td>0.260701</td>\n",
       "      <td>0.304477</td>\n",
       "    </tr>\n",
       "    <tr>\n",
       "      <th>4</th>\n",
       "      <td>0.958640</td>\n",
       "      <td>0.199920</td>\n",
       "      <td>0.221037</td>\n",
       "    </tr>\n",
       "    <tr>\n",
       "      <th>5</th>\n",
       "      <td>0.964238</td>\n",
       "      <td>0.162641</td>\n",
       "      <td>0.174001</td>\n",
       "    </tr>\n",
       "    <tr>\n",
       "      <th>...</th>\n",
       "      <td>...</td>\n",
       "      <td>...</td>\n",
       "      <td>...</td>\n",
       "    </tr>\n",
       "    <tr>\n",
       "      <th>97</th>\n",
       "      <td>0.991143</td>\n",
       "      <td>0.031304</td>\n",
       "      <td>0.001217</td>\n",
       "    </tr>\n",
       "    <tr>\n",
       "      <th>98</th>\n",
       "      <td>0.991143</td>\n",
       "      <td>0.031336</td>\n",
       "      <td>0.001146</td>\n",
       "    </tr>\n",
       "    <tr>\n",
       "      <th>99</th>\n",
       "      <td>0.991143</td>\n",
       "      <td>0.031410</td>\n",
       "      <td>0.001079</td>\n",
       "    </tr>\n",
       "    <tr>\n",
       "      <th>100</th>\n",
       "      <td>0.991059</td>\n",
       "      <td>0.031484</td>\n",
       "      <td>0.001016</td>\n",
       "    </tr>\n",
       "    <tr>\n",
       "      <th>101</th>\n",
       "      <td>0.991310</td>\n",
       "      <td>0.031547</td>\n",
       "      <td>0.000956</td>\n",
       "    </tr>\n",
       "  </tbody>\n",
       "</table>\n",
       "<p>101 rows × 3 columns</p>\n",
       "</div>"
      ],
      "text/plain": [
       "        valid_acc  valid_loss  train_loss\n",
       "epochs                                   \n",
       "1        0.892463    0.694473    1.296461\n",
       "2        0.935244    0.377675    0.496537\n",
       "3        0.951454    0.260701    0.304477\n",
       "4        0.958640    0.199920    0.221037\n",
       "5        0.964238    0.162641    0.174001\n",
       "...           ...         ...         ...\n",
       "97       0.991143    0.031304    0.001217\n",
       "98       0.991143    0.031336    0.001146\n",
       "99       0.991143    0.031410    0.001079\n",
       "100      0.991059    0.031484    0.001016\n",
       "101      0.991310    0.031547    0.000956\n",
       "\n",
       "[101 rows x 3 columns]"
      ]
     },
     "execution_count": 90,
     "metadata": {},
     "output_type": "execute_result"
    }
   ],
   "source": [
    "from pathlib import Path\n",
    "import os\n",
    "ckp_path = Path(setup_config[\"c_c_ckp_path\"])\n",
    "\n",
    "def get_history(ckp_path, monitor, fileformat=[\"csv\"]):\n",
    "    project_name = Path(os.getcwd()).name\n",
    "    for i, path in enumerate(ckp_path.parts):\n",
    "        length = len(ckp_path.parts)\n",
    "        if (path == project_name) and (i+1 != length):\n",
    "            project_path = ckp_path.parents[length-i-2]\n",
    "\n",
    "    files = [] \n",
    "    if type(fileformat) != list: \n",
    "        fileformat = [fileformat]\n",
    "    for fmt in fileformat:\n",
    "        for rel_path in ckp_path.rglob(\"*.\"+fmt):\n",
    "            # files.append(rel_path.relative_to(project_path))\n",
    "            files.append(rel_path)\n",
    "        metric_files = []\n",
    "        for metric in files:\n",
    "            if monitor in metric.name:\n",
    "                metric_files.append(metric)\n",
    "            \n",
    "    return metric_files\n",
    "\n",
    "def get_specific_history(ckp_path, monitor, fileformat=[\"csv\"], specific=\"best\"):\n",
    "    files = get_history(ckp_path, monitor, fileformat)\n",
    "\n",
    "    if specific == \"best\":\n",
    "        best_vals = []\n",
    "        for idx, hist in enumerate(files):\n",
    "            get_func = getattr(pd, \"read_\" + hist.suffix[1:])\n",
    "            tmp_df = get_func(hist)\n",
    "            best_vals.append(tmp_df[monitor].max())\n",
    "        best_idx = best_vals.index(max(best_vals))\n",
    "        # best_hist = \n",
    "        return getattr(pd, \"read_\" + files[best_idx].suffix[1:])(files[best_idx])\n",
    "\n",
    "best_hist = get_specific_history(ckp_path, \"valid_acc\", [\"parquet\", \"csv\"], \"best\")\n",
    "best_hist"
   ]
  },
  {
   "cell_type": "code",
   "execution_count": 59,
   "metadata": {},
   "outputs": [
    {
     "data": {
      "text/plain": [
       "PosixPath('/content/Template_Project/checkpoints/2022-04-13/run_001/history_Arch-Model_CNN_bs-64_valid_acc_2022-04-13T14_09_39T+0200.csv')"
      ]
     },
     "execution_count": 59,
     "metadata": {},
     "output_type": "execute_result"
    }
   ],
   "source": [
    "files[0].resolve()"
   ]
  },
  {
   "cell_type": "code",
   "execution_count": 45,
   "metadata": {},
   "outputs": [],
   "source": [
    "import pandas as pd\n",
    "import numpy as np\n",
    "\n",
    "arr_size = 1e2\n",
    "arr_cols = \"ABCD\"\n",
    "tmp_dict = {}\n",
    "\n",
    "fileformat = \"parquet\"\n",
    "arr = np.arange(arr_size)\n",
    "\n",
    "for letter in arr_cols:\n",
    "    tmp_dict[letter] = arr\n",
    "\n",
    "df = pd.DataFrame(tmp_dict)\n",
    "\n",
    "to_func = getattr(df, \"to_\"+fileformat)\n",
    "to_func(ckp_path / Path(f\"test.{fileformat}\"))\n"
   ]
  },
  {
   "cell_type": "code",
   "execution_count": 43,
   "metadata": {},
   "outputs": [
    {
     "data": {
      "text/plain": [
       "100.0"
      ]
     },
     "execution_count": 43,
     "metadata": {},
     "output_type": "execute_result"
    }
   ],
   "source": [
    "# import plotly.io as pio\n",
    "# pio.reanderers.default = \"notebook_connected\"\n"
   ]
  },
  {
   "cell_type": "code",
   "execution_count": 92,
   "metadata": {},
   "outputs": [
    {
     "name": "stdout",
     "output_type": "stream",
     "text": [
      "acc\n",
      "loss\n",
      "loss\n"
     ]
    }
   ],
   "source": [
    "# !pip install plotly\n",
    "import plotly.io as pio\n",
    "pio.renderers.default = \"notebook_connected\"\n",
    "import pandas as pd\n",
    "import plotly.express as px\n",
    "from plotly.subplots import make_subplots\n",
    "import plotly.graph_objects as go\n",
    "# def print_history(history):\n",
    "history = best_hist\n",
    "\n",
    "implemented_metric = [\"acc\", \"loss\"]\n",
    "plot_dict = {}\n",
    "for met in implemented_metric:\n",
    "    plot_dict[met] = [s for s in history if met in s]\n",
    "\n",
    "fig = make_subplots(rows=1, cols=len(plot_dict), subplot_titles=list(plot_dict.keys()))\n",
    "\n",
    "for idx, (met, mets) in enumerate(plot_dict.items()):\n",
    "    for key in mets:\n",
    "        fig.add_trace(go.Scatter(x=history.index, y=history[key].values, name=key), row=1, col=idx+1 )\n",
    "        if\n",
    "    # break\n",
    "# learn.history.keys()[0]\n",
    "# fig.update_layout(title_text=\"test\")\n",
    "# fig.show()"
   ]
  },
  {
   "cell_type": "code",
   "execution_count": 17,
   "metadata": {},
   "outputs": [
    {
     "data": {
      "text/plain": [
       "['acc', 'loss']"
      ]
     },
     "execution_count": 17,
     "metadata": {},
     "output_type": "execute_result"
    }
   ],
   "source": [
    "list(plot_dict.keys())"
   ]
  },
  {
   "cell_type": "code",
   "execution_count": null,
   "metadata": {},
   "outputs": [],
   "source": []
  },
  {
   "cell_type": "code",
   "execution_count": 22,
   "metadata": {},
   "outputs": [
    {
     "data": {
      "text/plain": [
       "__main__.test_class"
      ]
     },
     "execution_count": 22,
     "metadata": {},
     "output_type": "execute_result"
    }
   ],
   "source": [
    "globals()[\"test_class\"]\n"
   ]
  },
  {
   "cell_type": "code",
   "execution_count": 29,
   "metadata": {},
   "outputs": [
    {
     "name": "stdout",
     "output_type": "stream",
     "text": [
      "1.57 µs ± 284 ns per loop (mean ± std. dev. of 7 runs, 100000 loops each)\n"
     ]
    }
   ],
   "source": [
    "%%timeit\n",
    "test_num.max()"
   ]
  },
  {
   "cell_type": "code",
   "execution_count": 41,
   "metadata": {},
   "outputs": [
    {
     "name": "stdout",
     "output_type": "stream",
     "text": [
      "281 ns ± 10.7 ns per loop (mean ± std. dev. of 7 runs, 1000000 loops each)\n"
     ]
    }
   ],
   "source": [
    "%%timeit\n",
    "max(test_dict[\"test\"])\n"
   ]
  },
  {
   "cell_type": "code",
   "execution_count": 47,
   "metadata": {},
   "outputs": [
    {
     "data": {
      "text/plain": [
       "<function __main__.test_class.attr(self)>"
      ]
     },
     "execution_count": 47,
     "metadata": {},
     "output_type": "execute_result"
    }
   ],
   "source": [
    "import types\n",
    "class test_class():\n",
    "    def __init__(self, a):\n",
    "        self.attr = a\n",
    "    \n",
    "    def attr(self):\n",
    "        pass\n",
    "\n",
    "test = test_class(1)\n",
    "\n",
    "getattr(test_class, \"attr\")"
   ]
  },
  {
   "cell_type": "code",
   "execution_count": 35,
   "metadata": {},
   "outputs": [
    {
     "name": "stdout",
     "output_type": "stream",
     "text": [
      "2.09 µs ± 52.2 ns per loop (mean ± std. dev. of 7 runs, 100000 loops each)\n"
     ]
    }
   ],
   "source": [
    "%%timeit\n",
    "test1.sum()"
   ]
  },
  {
   "cell_type": "code",
   "execution_count": 32,
   "metadata": {},
   "outputs": [],
   "source": [
    "import numpy as np"
   ]
  },
  {
   "cell_type": "code",
   "execution_count": 16,
   "metadata": {},
   "outputs": [
    {
     "data": {
      "text/plain": [
       "{'a': 1, 's': 123}"
      ]
     },
     "execution_count": 16,
     "metadata": {},
     "output_type": "execute_result"
    }
   ],
   "source": [
    "class test1:\n",
    "    def __init__(self, a):\n",
    "        self.a = a\n",
    "    def test_func(self):\n",
    "        return self.a\n",
    "a = test1(1)\n",
    "setattr(a, \"s\", 123)\n",
    "vars(a)"
   ]
  },
  {
   "cell_type": "code",
   "execution_count": 17,
   "metadata": {},
   "outputs": [
    {
     "ename": "NameError",
     "evalue": "name 'Monitor_Cb' is not defined",
     "output_type": "error",
     "traceback": [
      "\u001b[0;31m---------------------------------------------------------------------------\u001b[0m",
      "\u001b[0;31mNameError\u001b[0m                                 Traceback (most recent call last)",
      "\u001b[0;32m/tmp/ipykernel_8033/1156614540.py\u001b[0m in \u001b[0;36m<module>\u001b[0;34m\u001b[0m\n\u001b[0;32m----> 1\u001b[0;31m \u001b[0mmonitor\u001b[0m \u001b[0;34m=\u001b[0m \u001b[0mMonitor_Cb\u001b[0m\u001b[0;34m(\u001b[0m\u001b[0;34m[\u001b[0m\u001b[0;34m\"val_acc\"\u001b[0m\u001b[0;34m]\u001b[0m\u001b[0;34m)\u001b[0m\u001b[0;34m\u001b[0m\u001b[0m\n\u001b[0m\u001b[1;32m      2\u001b[0m \u001b[0mearly\u001b[0m \u001b[0;34m=\u001b[0m \u001b[0mEarlyStopping_Cb\u001b[0m\u001b[0;34m(\u001b[0m\u001b[0mmonitor\u001b[0m\u001b[0;34m=\u001b[0m\u001b[0;34m\"val_loss\"\u001b[0m\u001b[0;34m)\u001b[0m\u001b[0;34m\u001b[0m\u001b[0m\n\u001b[1;32m      3\u001b[0m \u001b[0mrecorder\u001b[0m \u001b[0;34m=\u001b[0m \u001b[0mRecorder_Cb\u001b[0m\u001b[0;34m(\u001b[0m\u001b[0;34m\"hi\"\u001b[0m\u001b[0;34m)\u001b[0m\u001b[0;34m\u001b[0m\u001b[0m\n\u001b[1;32m      4\u001b[0m \u001b[0mcbh\u001b[0m \u001b[0;34m=\u001b[0m \u001b[0mCallbackHandler\u001b[0m\u001b[0;34m(\u001b[0m\u001b[0;34m[\u001b[0m\u001b[0mmonitor\u001b[0m\u001b[0;34m,\u001b[0m \u001b[0mearly\u001b[0m\u001b[0;34m,\u001b[0m \u001b[0mrecorder\u001b[0m\u001b[0;34m]\u001b[0m\u001b[0;34m)\u001b[0m\u001b[0;34m\u001b[0m\u001b[0m\n\u001b[1;32m      5\u001b[0m \u001b[0mcbh\u001b[0m\u001b[0;34m.\u001b[0m\u001b[0mMonitor_Cb\u001b[0m\u001b[0;34m.\u001b[0m\u001b[0mlearn\u001b[0m\u001b[0;34m\u001b[0m\u001b[0m\n",
      "\u001b[0;31mNameError\u001b[0m: name 'Monitor_Cb' is not defined"
     ]
    }
   ],
   "source": [
    "monitor = Monitor_Cb([\"val_acc\"])\n",
    "early = EarlyStopping_Cb(monitor=\"val_loss\")\n",
    "recorder = Recorder_Cb(\"hi\")\n",
    "cbh = CallbackHandler([monitor, early, recorder])\n",
    "cbh.Monitor_Cb.learn\n"
   ]
  },
  {
   "cell_type": "code",
   "execution_count": 9,
   "metadata": {},
   "outputs": [
    {
     "name": "stdout",
     "output_type": "stream",
     "text": [
      "a\n"
     ]
    }
   ],
   "source": [
    "a = [\"a\"]\n",
    "for i in a[:4]:\n",
    "    print(i)"
   ]
  }
 ],
 "metadata": {
  "interpreter": {
   "hash": "fd69f43f58546b570e94fd7eba7b65e6bcc7a5bbc4eab0408017d18902915d69"
  },
  "kernelspec": {
   "display_name": "Python 3.7.13 64-bit",
   "language": "python",
   "name": "python3"
  },
  "language_info": {
   "codemirror_mode": {
    "name": "ipython",
    "version": 3
   },
   "file_extension": ".py",
   "mimetype": "text/x-python",
   "name": "python",
   "nbconvert_exporter": "python",
   "pygments_lexer": "ipython3",
   "version": "3.7.0"
  },
  "orig_nbformat": 4
 },
 "nbformat": 4,
 "nbformat_minor": 2
}
