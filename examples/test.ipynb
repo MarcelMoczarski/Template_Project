{
 "cells": [
  {
   "cell_type": "code",
   "execution_count": 2,
   "metadata": {},
   "outputs": [],
   "source": [
    "%reload_ext autoreload\n",
    "%autoreload 2\n",
    "os.chdir(\"..\")\n",
    "import toml\n",
    "from core.dl_framework.utils import read_config\n",
    "%%bash \n",
    "pwd"
   ]
  },
  {
   "cell_type": "code",
   "execution_count": 11,
   "metadata": {},
   "outputs": [],
   "source": [
    "config_file = toml.load(\"configs/default_train_config.toml\")\n",
    "setup_config = read_config(config_file)"
   ]
  },
  {
   "cell_type": "code",
   "execution_count": 58,
   "metadata": {},
   "outputs": [],
   "source": [
    "from core.dl_framework.learner import Learner\n",
    "from core.dl_framework.data import get_dataset, Dataset, DataLoader, split_trainset_ds\n",
    "bs = setup_config[\"h_batch_size\"]\n",
    "x_train, y_train, x_test, y_test = get_dataset(setup_config[\"s_source\"], setup_config[\"s_set\"], setup_config[\"p_tmp_data_path\"])\n",
    "train_ds, test_ds =  Dataset(x_train, y_train), Dataset(x_test, y_test)\n",
    "# train_dl, valid_dl = DataLoader(train_ds, bs), DataLoader(valid_ds, bs)"
   ]
  },
  {
   "cell_type": "code",
   "execution_count": 66,
   "metadata": {},
   "outputs": [
    {
     "data": {
      "text/plain": [
       "{'model': 'Model_2',\n",
       " 'opt': 'adam',\n",
       " 'loss': 'cross_entropy',\n",
       " 'bs': 64,\n",
       " 'data': <core.dl_framework.learner.Learner at 0x7fd88d892128>,\n",
       " 'cbh': <core.dl_framework.callbacks.CallbackHandler at 0x7fd88d892470>,\n",
       " 'recorder': core.dl_framework.callbacks.Recorder_Cb}"
      ]
     },
     "execution_count": 66,
     "metadata": {},
     "output_type": "execute_result"
    }
   ],
   "source": [
    "learn = Learner(x_train, setup_config)\n",
    "vars(learn)\n",
    "# import matplotlib.pyplot as plt\n",
    "# plt.imshow(learn.data.train_ds[0][0].float().reshape(28, -1))\n",
    "#train_ds, valid_s = split_trainset_ds(train_ds, 0.2)\n",
    "#len(train_ds)"
   ]
  },
  {
   "cell_type": "code",
   "execution_count": 57,
   "metadata": {},
   "outputs": [
    {
     "name": "stdout",
     "output_type": "stream",
     "text": [
      "not hi\n"
     ]
    }
   ],
   "source": [
    "from core.dl_framework.data import split_trainset_ds\n",
    "split_trainset_ds()\n"
   ]
  }
 ],
 "metadata": {
  "interpreter": {
   "hash": "fd69f43f58546b570e94fd7eba7b65e6bcc7a5bbc4eab0408017d18902915d69"
  },
  "kernelspec": {
   "display_name": "Python 3.7.13 64-bit",
   "language": "python",
   "name": "python3"
  },
  "language_info": {
   "codemirror_mode": {
    "name": "ipython",
    "version": 3
   },
   "file_extension": ".py",
   "mimetype": "text/x-python",
   "name": "python",
   "nbconvert_exporter": "python",
   "pygments_lexer": "ipython3",
   "version": "3.7.0"
  },
  "orig_nbformat": 4
 },
 "nbformat": 4,
 "nbformat_minor": 2
}
